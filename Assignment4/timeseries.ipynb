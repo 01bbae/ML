{
 "cells": [
  {
   "cell_type": "code",
   "execution_count": 1,
   "metadata": {},
   "outputs": [
    {
     "data": {
      "image/png": "[encoded data removed]",
      "text/plain": [
       "<Figure size 432x288 with 1 Axes>"
      ]
     },
     "metadata": {
      "needs_background": "light"
     },
     "output_type": "display_data"
    }
   ],
   "source": [
    "import pandas\n",
    "import matplotlib.pyplot as plt\n",
    "dataset = pandas.read_csv('./datasets/airline-passengers.csv', usecols=[1], engine='python')\n",
    "plt.plot(dataset)\n",
    "plt.show()"
   ]
  },
  {
   "cell_type": "code",
   "execution_count": 2,
   "metadata": {},
   "outputs": [],
   "source": [
    "import numpy as np\n",
    "import matplotlib.pyplot as plt\n",
    "import pandas as pd\n",
    "import tensorflow as tf\n",
    "from tensorflow.keras.models import Sequential\n",
    "from tensorflow.keras.layers import Dense\n",
    "from tensorflow.keras.layers import LSTM\n",
    "from sklearn.preprocessing import MinMaxScaler\n",
    "from sklearn.metrics import mean_squared_error"
   ]
  },
  {
   "cell_type": "code",
   "execution_count": 3,
   "metadata": {},
   "outputs": [],
   "source": [
    "# fix random seed for reproducibility\n",
    "tf.random.set_seed(7)"
   ]
  },
  {
   "cell_type": "code",
   "execution_count": 4,
   "metadata": {},
   "outputs": [],
   "source": [
    "# load the dataset\n",
    "dataframe = pd.read_csv('./datasets/airline-passengers.csv', usecols=[1], engine='python')\n",
    "dataset = dataframe.values\n",
    "dataset = dataset.astype('float32')"
   ]
  },
  {
   "cell_type": "code",
   "execution_count": 5,
   "metadata": {},
   "outputs": [],
   "source": [
    "# normalize the dataset\n",
    "scaler = MinMaxScaler(feature_range=(0, 1))\n",
    "dataset = scaler.fit_transform(dataset)"
   ]
  },
  {
   "cell_type": "code",
   "execution_count": 6,
   "metadata": {},
   "outputs": [
    {
     "name": "stdout",
     "output_type": "stream",
     "text": [
      "96 48\n"
     ]
    }
   ],
   "source": [
    "# split into train and test sets\n",
    "train_size = int(len(dataset) * 0.67)\n",
    "test_size = len(dataset) - train_size\n",
    "train, test = dataset[0:train_size,:], dataset[train_size:len(dataset),:]\n",
    "print(len(train), len(test))"
   ]
  },
  {
   "cell_type": "code",
   "execution_count": 7,
   "metadata": {},
   "outputs": [],
   "source": [
    "# convert an array of values into a dataset matrix\n",
    "def create_dataset(dataset, look_back=1):\n",
    "\tdataX, dataY = [], []\n",
    "\tfor i in range(len(dataset)-look_back-1):\n",
    "\t\ta = dataset[i:(i+look_back), 0]\n",
    "\t\tdataX.append(a)\n",
    "\t\tdataY.append(dataset[i + look_back, 0])\n",
    "\treturn np.array(dataX), np.array(dataY)"
   ]
  },
  {
   "cell_type": "code",
   "execution_count": 8,
   "metadata": {},
   "outputs": [],
   "source": [
    "# reshape into X=t and Y=t+1\n",
    "look_back = 1\n",
    "trainX, trainY = create_dataset(train, look_back)\n",
    "testX, testY = create_dataset(test, look_back)"
   ]
  },
  {
   "cell_type": "code",
   "execution_count": 9,
   "metadata": {},
   "outputs": [],
   "source": [
    "# reshape input to be [samples, time steps, features]\n",
    "trainX = np.reshape(trainX, (trainX.shape[0], 1, trainX.shape[1]))\n",
    "testX = np.reshape(testX, (testX.shape[0], 1, testX.shape[1]))"
   ]
  },
  {
   "cell_type": "code",
   "execution_count": 10,
   "metadata": {},
   "outputs": [
    {
     "name": "stdout",
     "output_type": "stream",
     "text": [
      "Epoch 1/100\n",
      "94/94 - 1s - loss: 0.0470 - 884ms/epoch - 9ms/step\n",
      "Epoch 2/100\n",
      "94/94 - 0s - loss: 0.0233 - 69ms/epoch - 732us/step\n",
      "Epoch 3/100\n",
      "94/94 - 0s - loss: 0.0165 - 67ms/epoch - 715us/step\n",
      "Epoch 4/100\n",
      "94/94 - 0s - loss: 0.0151 - 66ms/epoch - 704us/step\n",
      "Epoch 5/100\n",
      "94/94 - 0s - loss: 0.0141 - 62ms/epoch - 660us/step\n",
      "Epoch 6/100\n",
      "94/94 - 0s - loss: 0.0131 - 70ms/epoch - 747us/step\n",
      "Epoch 7/100\n",
      "94/94 - 0s - loss: 0.0122 - 63ms/epoch - 673us/step\n",
      "Epoch 8/100\n",
      "94/94 - 0s - loss: 0.0112 - 61ms/epoch - 647us/step\n",
      "Epoch 9/100\n",
      "94/94 - 0s - loss: 0.0105 - 61ms/epoch - 650us/step\n",
      "Epoch 10/100\n",
      "94/94 - 0s - loss: 0.0094 - 63ms/epoch - 669us/step\n",
      "Epoch 11/100\n",
      "94/94 - 0s - loss: 0.0086 - 63ms/epoch - 671us/step\n",
      "Epoch 12/100\n",
      "94/94 - 0s - loss: 0.0076 - 63ms/epoch - 668us/step\n",
      "Epoch 13/100\n",
      "94/94 - 0s - loss: 0.0068 - 61ms/epoch - 651us/step\n",
      "Epoch 14/100\n",
      "94/94 - 0s - loss: 0.0061 - 62ms/epoch - 657us/step\n",
      "Epoch 15/100\n",
      "94/94 - 0s - loss: 0.0053 - 62ms/epoch - 659us/step\n",
      "Epoch 16/100\n",
      "94/94 - 0s - loss: 0.0047 - 62ms/epoch - 659us/step\n",
      "Epoch 17/100\n",
      "94/94 - 0s - loss: 0.0041 - 65ms/epoch - 692us/step\n",
      "Epoch 18/100\n",
      "94/94 - 0s - loss: 0.0036 - 64ms/epoch - 679us/step\n",
      "Epoch 19/100\n",
      "94/94 - 0s - loss: 0.0033 - 66ms/epoch - 699us/step\n",
      "Epoch 20/100\n",
      "94/94 - 0s - loss: 0.0029 - 68ms/epoch - 728us/step\n",
      "Epoch 21/100\n",
      "94/94 - 0s - loss: 0.0027 - 65ms/epoch - 694us/step\n",
      "Epoch 22/100\n",
      "94/94 - 0s - loss: 0.0025 - 65ms/epoch - 690us/step\n",
      "Epoch 23/100\n",
      "94/94 - 0s - loss: 0.0023 - 66ms/epoch - 698us/step\n",
      "Epoch 24/100\n",
      "94/94 - 0s - loss: 0.0022 - 61ms/epoch - 648us/step\n",
      "Epoch 25/100\n",
      "94/94 - 0s - loss: 0.0023 - 62ms/epoch - 657us/step\n",
      "Epoch 26/100\n",
      "94/94 - 0s - loss: 0.0022 - 61ms/epoch - 653us/step\n",
      "Epoch 27/100\n",
      "94/94 - 0s - loss: 0.0022 - 63ms/epoch - 668us/step\n",
      "Epoch 28/100\n",
      "94/94 - 0s - loss: 0.0021 - 60ms/epoch - 634us/step\n",
      "Epoch 29/100\n",
      "94/94 - 0s - loss: 0.0022 - 60ms/epoch - 642us/step\n",
      "Epoch 30/100\n",
      "94/94 - 0s - loss: 0.0021 - 60ms/epoch - 634us/step\n",
      "Epoch 31/100\n",
      "94/94 - 0s - loss: 0.0021 - 60ms/epoch - 637us/step\n",
      "Epoch 32/100\n",
      "94/94 - 0s - loss: 0.0022 - 60ms/epoch - 637us/step\n",
      "Epoch 33/100\n",
      "94/94 - 0s - loss: 0.0022 - 65ms/epoch - 688us/step\n",
      "Epoch 34/100\n",
      "94/94 - 0s - loss: 0.0021 - 61ms/epoch - 653us/step\n",
      "Epoch 35/100\n",
      "94/94 - 0s - loss: 0.0022 - 62ms/epoch - 656us/step\n",
      "Epoch 36/100\n",
      "94/94 - 0s - loss: 0.0022 - 62ms/epoch - 661us/step\n",
      "Epoch 37/100\n",
      "94/94 - 0s - loss: 0.0022 - 60ms/epoch - 643us/step\n",
      "Epoch 38/100\n",
      "94/94 - 0s - loss: 0.0021 - 63ms/epoch - 668us/step\n",
      "Epoch 39/100\n",
      "94/94 - 0s - loss: 0.0021 - 61ms/epoch - 654us/step\n",
      "Epoch 40/100\n",
      "94/94 - 0s - loss: 0.0021 - 89ms/epoch - 946us/step\n",
      "Epoch 41/100\n",
      "94/94 - 0s - loss: 0.0021 - 73ms/epoch - 772us/step\n",
      "Epoch 42/100\n",
      "94/94 - 0s - loss: 0.0021 - 70ms/epoch - 750us/step\n",
      "Epoch 43/100\n",
      "94/94 - 0s - loss: 0.0021 - 68ms/epoch - 721us/step\n",
      "Epoch 44/100\n",
      "94/94 - 0s - loss: 0.0021 - 67ms/epoch - 712us/step\n",
      "Epoch 45/100\n",
      "94/94 - 0s - loss: 0.0022 - 65ms/epoch - 695us/step\n",
      "Epoch 46/100\n",
      "94/94 - 0s - loss: 0.0020 - 64ms/epoch - 680us/step\n",
      "Epoch 47/100\n",
      "94/94 - 0s - loss: 0.0021 - 64ms/epoch - 680us/step\n",
      "Epoch 48/100\n",
      "94/94 - 0s - loss: 0.0021 - 63ms/epoch - 669us/step\n",
      "Epoch 49/100\n",
      "94/94 - 0s - loss: 0.0021 - 66ms/epoch - 698us/step\n",
      "Epoch 50/100\n",
      "94/94 - 0s - loss: 0.0021 - 64ms/epoch - 684us/step\n",
      "Epoch 51/100\n",
      "94/94 - 0s - loss: 0.0021 - 76ms/epoch - 806us/step\n",
      "Epoch 52/100\n",
      "94/94 - 0s - loss: 0.0021 - 64ms/epoch - 676us/step\n",
      "Epoch 53/100\n",
      "94/94 - 0s - loss: 0.0021 - 65ms/epoch - 691us/step\n",
      "Epoch 54/100\n",
      "94/94 - 0s - loss: 0.0021 - 65ms/epoch - 692us/step\n",
      "Epoch 55/100\n",
      "94/94 - 0s - loss: 0.0021 - 65ms/epoch - 687us/step\n",
      "Epoch 56/100\n",
      "94/94 - 0s - loss: 0.0021 - 61ms/epoch - 651us/step\n",
      "Epoch 57/100\n",
      "94/94 - 0s - loss: 0.0021 - 65ms/epoch - 688us/step\n",
      "Epoch 58/100\n",
      "94/94 - 0s - loss: 0.0021 - 69ms/epoch - 735us/step\n",
      "Epoch 59/100\n",
      "94/94 - 0s - loss: 0.0021 - 73ms/epoch - 780us/step\n",
      "Epoch 60/100\n",
      "94/94 - 0s - loss: 0.0021 - 74ms/epoch - 787us/step\n",
      "Epoch 61/100\n",
      "94/94 - 0s - loss: 0.0021 - 66ms/epoch - 705us/step\n",
      "Epoch 62/100\n",
      "94/94 - 0s - loss: 0.0021 - 68ms/epoch - 722us/step\n",
      "Epoch 63/100\n",
      "94/94 - 0s - loss: 0.0021 - 66ms/epoch - 698us/step\n",
      "Epoch 64/100\n",
      "94/94 - 0s - loss: 0.0021 - 62ms/epoch - 663us/step\n",
      "Epoch 65/100\n",
      "94/94 - 0s - loss: 0.0021 - 66ms/epoch - 701us/step\n",
      "Epoch 66/100\n",
      "94/94 - 0s - loss: 0.0021 - 64ms/epoch - 682us/step\n",
      "Epoch 67/100\n",
      "94/94 - 0s - loss: 0.0022 - 66ms/epoch - 702us/step\n",
      "Epoch 68/100\n",
      "94/94 - 0s - loss: 0.0021 - 68ms/epoch - 720us/step\n",
      "Epoch 69/100\n",
      "94/94 - 0s - loss: 0.0021 - 65ms/epoch - 691us/step\n",
      "Epoch 70/100\n",
      "94/94 - 0s - loss: 0.0020 - 66ms/epoch - 704us/step\n",
      "Epoch 71/100\n",
      "94/94 - 0s - loss: 0.0021 - 65ms/epoch - 690us/step\n",
      "Epoch 72/100\n",
      "94/94 - 0s - loss: 0.0021 - 63ms/epoch - 674us/step\n",
      "Epoch 73/100\n",
      "94/94 - 0s - loss: 0.0021 - 64ms/epoch - 676us/step\n",
      "Epoch 74/100\n",
      "94/94 - 0s - loss: 0.0021 - 65ms/epoch - 694us/step\n",
      "Epoch 75/100\n",
      "94/94 - 0s - loss: 0.0021 - 63ms/epoch - 670us/step\n",
      "Epoch 76/100\n",
      "94/94 - 0s - loss: 0.0021 - 64ms/epoch - 678us/step\n",
      "Epoch 77/100\n",
      "94/94 - 0s - loss: 0.0020 - 67ms/epoch - 713us/step\n",
      "Epoch 78/100\n",
      "94/94 - 0s - loss: 0.0021 - 65ms/epoch - 691us/step\n",
      "Epoch 79/100\n",
      "94/94 - 0s - loss: 0.0021 - 63ms/epoch - 674us/step\n",
      "Epoch 80/100\n",
      "94/94 - 0s - loss: 0.0021 - 65ms/epoch - 689us/step\n",
      "Epoch 81/100\n",
      "94/94 - 0s - loss: 0.0020 - 68ms/epoch - 727us/step\n",
      "Epoch 82/100\n",
      "94/94 - 0s - loss: 0.0022 - 64ms/epoch - 677us/step\n",
      "Epoch 83/100\n",
      "94/94 - 0s - loss: 0.0021 - 60ms/epoch - 634us/step\n",
      "Epoch 84/100\n",
      "94/94 - 0s - loss: 0.0020 - 60ms/epoch - 636us/step\n",
      "Epoch 85/100\n",
      "94/94 - 0s - loss: 0.0021 - 61ms/epoch - 653us/step\n",
      "Epoch 86/100\n",
      "94/94 - 0s - loss: 0.0020 - 66ms/epoch - 702us/step\n",
      "Epoch 87/100\n",
      "94/94 - 0s - loss: 0.0021 - 64ms/epoch - 685us/step\n",
      "Epoch 88/100\n",
      "94/94 - 0s - loss: 0.0021 - 64ms/epoch - 680us/step\n",
      "Epoch 89/100\n",
      "94/94 - 0s - loss: 0.0021 - 62ms/epoch - 663us/step\n",
      "Epoch 90/100\n",
      "94/94 - 0s - loss: 0.0020 - 63ms/epoch - 667us/step\n",
      "Epoch 91/100\n",
      "94/94 - 0s - loss: 0.0021 - 62ms/epoch - 656us/step\n",
      "Epoch 92/100\n",
      "94/94 - 0s - loss: 0.0021 - 66ms/epoch - 703us/step\n",
      "Epoch 93/100\n",
      "94/94 - 0s - loss: 0.0021 - 65ms/epoch - 691us/step\n",
      "Epoch 94/100\n",
      "94/94 - 0s - loss: 0.0021 - 64ms/epoch - 682us/step\n",
      "Epoch 95/100\n",
      "94/94 - 0s - loss: 0.0022 - 64ms/epoch - 677us/step\n",
      "Epoch 96/100\n",
      "94/94 - 0s - loss: 0.0021 - 63ms/epoch - 672us/step\n",
      "Epoch 97/100\n",
      "94/94 - 0s - loss: 0.0021 - 62ms/epoch - 658us/step\n",
      "Epoch 98/100\n",
      "94/94 - 0s - loss: 0.0020 - 64ms/epoch - 677us/step\n",
      "Epoch 99/100\n",
      "94/94 - 0s - loss: 0.0020 - 61ms/epoch - 654us/step\n",
      "Epoch 100/100\n",
      "94/94 - 0s - loss: 0.0020 - 62ms/epoch - 660us/step\n"
     ]
    },
    {
     "data": {
      "text/plain": [
       "<keras.callbacks.History at 0x27fcbc6f760>"
      ]
     },
     "execution_count": 10,
     "metadata": {},
     "output_type": "execute_result"
    }
   ],
   "source": [
    "# create and fit the LSTM network\n",
    "model = Sequential()\n",
    "model.add(LSTM(4, input_shape=(1, look_back)))\n",
    "model.add(Dense(1))\n",
    "model.compile(loss='mean_squared_error', optimizer='adam')\n",
    "model.fit(trainX, trainY, epochs=100, batch_size=1, verbose=2)"
   ]
  },
  {
   "cell_type": "code",
   "execution_count": 11,
   "metadata": {},
   "outputs": [
    {
     "name": "stdout",
     "output_type": "stream",
     "text": [
      "3/3 [==============================] - 0s 2ms/step\n",
      "2/2 [==============================] - 0s 2ms/step\n",
      "Train Score: 23.01 RMSE\n",
      "Test Score: 48.25 RMSE\n"
     ]
    }
   ],
   "source": [
    "# make predictions\n",
    "trainPredict = model.predict(trainX)\n",
    "testPredict = model.predict(testX)\n",
    "# invert predictions\n",
    "trainPredict = scaler.inverse_transform(trainPredict)\n",
    "trainY = scaler.inverse_transform([trainY])\n",
    "testPredict = scaler.inverse_transform(testPredict)\n",
    "testY = scaler.inverse_transform([testY])\n",
    "# calculate root mean squared error\n",
    "trainScore = np.sqrt(mean_squared_error(trainY[0], trainPredict[:,0]))\n",
    "print('Train Score: %.2f RMSE' % (trainScore))\n",
    "testScore = np.sqrt(mean_squared_error(testY[0], testPredict[:,0]))\n",
    "print('Test Score: %.2f RMSE' % (testScore))"
   ]
  },
  {
   "cell_type": "code",
   "execution_count": 12,
   "metadata": {},
   "outputs": [
    {
     "data": {
      "image/png": "[encoded data removed]",
      "text/plain": [
       "<Figure size 432x288 with 1 Axes>"
      ]
     },
     "metadata": {
      "needs_background": "light"
     },
     "output_type": "display_data"
    }
   ],
   "source": [
    "# shift train predictions for plotting\n",
    "trainPredictPlot = np.empty_like(dataset)\n",
    "trainPredictPlot[:, :] = np.nan\n",
    "trainPredictPlot[look_back:len(trainPredict)+look_back, :] = trainPredict\n",
    "# shift test predictions for plotting\n",
    "testPredictPlot = np.empty_like(dataset)\n",
    "testPredictPlot[:, :] = np.nan\n",
    "testPredictPlot[len(trainPredict)+(look_back*2)+1:len(dataset)-1, :] = testPredict\n",
    "# plot baseline and predictions\n",
    "plt.plot(scaler.inverse_transform(dataset))\n",
    "plt.plot(trainPredictPlot)\n",
    "plt.plot(testPredictPlot)\n",
    "plt.show()"
   ]
  },
  {
   "cell_type": "code",
   "execution_count": null,
   "metadata": {},
   "outputs": [],
   "source": []
  }
 ],
 "metadata": {
  "kernelspec": {
   "display_name": "Python 3",
   "language": "python",
   "name": "python3"
  },
  "language_info": {
   "codemirror_mode": {
    "name": "ipython",
    "version": 3
   },
   "file_extension": ".py",
   "mimetype": "text/x-python",
   "name": "python",
   "nbconvert_exporter": "python",
   "pygments_lexer": "ipython3",
   "version": "3.10.2"
  },
  "orig_nbformat": 4
 },
 "nbformat": 4,
 "nbformat_minor": 2
}
