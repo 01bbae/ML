{
 "cells": [
  {
   "cell_type": "code",
   "execution_count": 2,
   "id": "30cd014c",
   "metadata": {},
   "outputs": [
    {
     "name": "stdout",
     "output_type": "stream",
     "text": [
      "Num GPUs Available:  1\n"
     ]
    }
   ],
   "source": [
    "import numpy as np\n",
    "import pandas as pd\n",
    "from keras import layers\n",
    "from keras import models\n",
    "import tensorflow as tf\n",
    "import tensorboard\n",
    "from sklearn.model_selection import train_test_split\n",
    "from sklearn.preprocessing import StandardScaler\n",
    "from sklearn.compose import ColumnTransformer\n",
    "from matplotlib import pyplot as plt\n",
    "\n",
    "print(\"Num GPUs Available: \", len(tf.config.list_physical_devices('GPU')))"
   ]
  },
  {
   "cell_type": "code",
   "execution_count": 4,
   "id": "b8a72f63",
   "metadata": {},
   "outputs": [],
   "source": [
    "# encoding error with degrees symbol in utf-8\n",
    "df = pd.read_csv(\"./SeoulBikeData.csv\",\n",
    "                 encoding_errors=\"ignore\")\n",
    "rename_dict = {}\n",
    "rename_dict[\"Temperature(C)\"] = \"Temperature\"\n",
    "rename_dict[\"Humidity(%)\"] = \"Humidity\"\n",
    "rename_dict[\"Wind speed (m/s)\"] = \"Wind speed\"\n",
    "rename_dict[\"Visibility (10m)\"] = \"Visibility\"\n",
    "rename_dict[\"Dew point temperature(C)\"] = \"Dew point temperature\"\n",
    "rename_dict[\"Solar Radiation (MJ/m2)\"] = \"Solar Radiation\"\n",
    "rename_dict[\"Rainfall(mm)\"] = \"Rainfall\"\n",
    "rename_dict[\"Snowfall (cm)\"] = \"Snowfall\"\n",
    "df.rename(columns=rename_dict, inplace=True)"
   ]
  },
  {
   "cell_type": "code",
   "execution_count": 5,
   "id": "e0623a5e",
   "metadata": {},
   "outputs": [],
   "source": [
    "# Predict Rented Bike Count\n",
    "# Predictors Hour, Temp, Hum, Solar Rad, Rain, Snow, Seasons, Holiday\n",
    "# Filter Functional Day (Times where bike sharing was unavailible)\n",
    "\n",
    "# print(df.columns)\n",
    "# print(df.describe())\n",
    "# print(df[\"Functioning Day\"].describe())\n",
    "# print(df.shape)\n",
    "\n",
    "# df_EDA = df.loc[df[\"Functioning Day\"] != \"Yes\", :]\n",
    "# print(df_EDA)"
   ]
  },
  {
   "cell_type": "code",
   "execution_count": 7,
   "id": "2aa6d839",
   "metadata": {},
   "outputs": [
    {
     "name": "stdout",
     "output_type": "stream",
     "text": [
      "Index(['Temperature', 'Humidity', 'Wind speed', 'Visibility',\n",
      "       'Dew point temperature', 'Solar Radiation', 'Rainfall', 'Snowfall',\n",
      "       'Seasons_Spring', 'Seasons_Summer', 'Seasons_Winter', 'Hour_1',\n",
      "       'Hour_2', 'Hour_3', 'Hour_4', 'Hour_5', 'Hour_6', 'Hour_7', 'Hour_8',\n",
      "       'Hour_9', 'Hour_10', 'Hour_11', 'Hour_12', 'Hour_13', 'Hour_14',\n",
      "       'Hour_15', 'Hour_16', 'Hour_17', 'Hour_18', 'Hour_19', 'Hour_20',\n",
      "       'Hour_21', 'Hour_22', 'Hour_23'],\n",
      "      dtype='object')\n"
     ]
    }
   ],
   "source": [
    "# First filter valid rows\n",
    "df_filtered = df.loc[df[\"Functioning Day\"] == \"Yes\", :]\n",
    "\n",
    "X = df_filtered.iloc[:, 2:12]\n",
    "y = df_filtered.loc[:, \"Rented Bike Count\"]\n",
    "\n",
    "# Encode values in X\n",
    "X = pd.get_dummies(X, drop_first=True)\n",
    "X = pd.get_dummies(X, columns=[\"Hour\"], drop_first=True)\n",
    "print(X.columns)\n",
    "# print(X.describe())"
   ]
  },
  {
   "cell_type": "code",
   "execution_count": 9,
   "id": "ff6482f2",
   "metadata": {},
   "outputs": [
    {
     "name": "stdout",
     "output_type": "stream",
     "text": [
      "      Temperature  Humidity  Wind speed  Visibility  Dew point temperature  \\\n",
      "1275         -8.6        68         3.3        2000                  -13.4   \n",
      "5532         31.7        42         2.6        1868                   17.2   \n",
      "5848         39.4        39         2.5        1897                   22.8   \n",
      "5329         24.6        96         0.5         443                   23.9   \n",
      "2157          2.4        95         2.5        1349                    1.6   \n",
      "\n",
      "      Solar Radiation  Rainfall  Snowfall  Seasons_Spring  Seasons_Summer  \\\n",
      "1275             0.00       0.0       1.0               0               0   \n",
      "5532             3.23       0.0       0.0               0               1   \n",
      "5848             2.42       0.0       0.0               0               1   \n",
      "5329             0.00       0.5       0.0               0               1   \n",
      "2157             0.00       9.0       0.0               0               0   \n",
      "\n",
      "      ...  Hour_14  Hour_15  Hour_16  Hour_17  Hour_18  Hour_19  Hour_20  \\\n",
      "1275  ...        0        0        0        0        0        0        0   \n",
      "5532  ...        0        0        0        0        0        0        0   \n",
      "5848  ...        0        0        1        0        0        0        0   \n",
      "5329  ...        0        0        0        0        0        0        0   \n",
      "2157  ...        0        0        0        0        0        0        0   \n",
      "\n",
      "      Hour_21  Hour_22  Hour_23  \n",
      "1275        0        0        0  \n",
      "5532        0        0        0  \n",
      "5848        0        0        0  \n",
      "5329        0        0        0  \n",
      "2157        1        0        0  \n",
      "\n",
      "[5 rows x 34 columns]\n",
      "       Temperature     Humidity   Wind speed   Visibility  \\\n",
      "count  4536.000000  4536.000000  4536.000000  4536.000000   \n",
      "mean     12.788183    57.781305     1.741689  1441.121473   \n",
      "std      12.140920    20.412327     1.031522   600.162000   \n",
      "min     -17.500000     0.000000     0.000000    27.000000   \n",
      "25%       3.075000    42.000000     1.000000   959.750000   \n",
      "50%      13.400000    57.000000     1.500000  1693.500000   \n",
      "75%      22.800000    73.250000     2.400000  2000.000000   \n",
      "max      39.400000    98.000000     6.900000  2000.000000   \n",
      "\n",
      "       Dew point temperature  Solar Radiation     Rainfall     Snowfall  \\\n",
      "count            4536.000000       4536.00000  4536.000000  4536.000000   \n",
      "mean                3.859744          0.58248     0.146098     0.072972   \n",
      "std                13.287599          0.87663     1.173610     0.421690   \n",
      "min               -30.500000          0.00000     0.000000     0.000000   \n",
      "25%                -5.200000          0.00000     0.000000     0.000000   \n",
      "50%                 4.500000          0.01000     0.000000     0.000000   \n",
      "75%                15.200000          0.96000     0.000000     0.000000   \n",
      "max                26.800000          3.52000    35.000000     7.000000   \n",
      "\n",
      "       Seasons_Spring  Seasons_Summer  ...      Hour_14      Hour_15  \\\n",
      "count     4536.000000     4536.000000  ...  4536.000000  4536.000000   \n",
      "mean         0.248236        0.268519  ...     0.041446     0.041446   \n",
      "std          0.432037        0.443238  ...     0.199342     0.199342   \n",
      "min          0.000000        0.000000  ...     0.000000     0.000000   \n",
      "25%          0.000000        0.000000  ...     0.000000     0.000000   \n",
      "50%          0.000000        0.000000  ...     0.000000     0.000000   \n",
      "75%          0.000000        1.000000  ...     0.000000     0.000000   \n",
      "max          1.000000        1.000000  ...     1.000000     1.000000   \n",
      "\n",
      "           Hour_16      Hour_17      Hour_18      Hour_19      Hour_20  \\\n",
      "count  4536.000000  4536.000000  4536.000000  4536.000000  4536.000000   \n",
      "mean      0.039683     0.039903     0.042549     0.041887     0.042549   \n",
      "std       0.195234     0.195753     0.201859     0.200353     0.201859   \n",
      "min       0.000000     0.000000     0.000000     0.000000     0.000000   \n",
      "25%       0.000000     0.000000     0.000000     0.000000     0.000000   \n",
      "50%       0.000000     0.000000     0.000000     0.000000     0.000000   \n",
      "75%       0.000000     0.000000     0.000000     0.000000     0.000000   \n",
      "max       1.000000     1.000000     1.000000     1.000000     1.000000   \n",
      "\n",
      "           Hour_21      Hour_22      Hour_23  \n",
      "count  4536.000000  4536.000000  4536.000000  \n",
      "mean      0.039903     0.041667     0.039903  \n",
      "std       0.195753     0.199848     0.195753  \n",
      "min       0.000000     0.000000     0.000000  \n",
      "25%       0.000000     0.000000     0.000000  \n",
      "50%       0.000000     0.000000     0.000000  \n",
      "75%       0.000000     0.000000     0.000000  \n",
      "max       1.000000     1.000000     1.000000  \n",
      "\n",
      "[8 rows x 34 columns]\n"
     ]
    }
   ],
   "source": [
    "# train test split\n",
    "X_train, X_test, y_train, y_test = train_test_split(\n",
    "    X, y, test_size=0.33, random_state=22)\n",
    "\n",
    "# validation split\n",
    "X_train, X_val, y_train, y_val = train_test_split(\n",
    "    X_train, y_train, test_size=0.2, random_state=22)\n",
    "\n",
    "std = StandardScaler()\n",
    "ct = ColumnTransformer([\n",
    "    ('std', StandardScaler(), list(rename_dict.values()))\n",
    "], remainder='passthrough')\n",
    "ct.fit_transform(X_train, y_test)\n",
    "ct.transform(X_val)\n",
    "ct.transform(X_test)\n",
    "print(X_train.head())\n",
    "print(X_train.describe())\n",
    "\n",
    "# print(X_train.shape)\n",
    "# print(y_train.shape)\n",
    "# print(X_val.shape)\n",
    "# print(y_val.shape)\n",
    "# print(X_test.shape)\n",
    "# print(y_test.shape)"
   ]
  },
  {
   "cell_type": "code",
   "execution_count": 10,
   "id": "67ad776a",
   "metadata": {},
   "outputs": [],
   "source": [
    "# Create the model\n",
    "\n",
    "def build_model():\n",
    "    model = models.Sequential()\n",
    "    model.add(layers.Dense(6, input_shape=(X_train.shape[1],)))\n",
    "    model.add(layers.Dropout(0.2, seed=22))\n",
    "    model.add(layers.Dense(3, activation='relu'))\n",
    "    model.add(layers.Dropout(0.2, seed=22))\n",
    "    model.add(layers.Dense(1))\n",
    "    model.summary()\n",
    "    model.compile(optimizer='adam', loss='mse', metrics=['mae'])\n",
    "    return model\n"
   ]
  },
  {
   "cell_type": "code",
   "execution_count": null,
   "id": "73f5d015",
   "metadata": {},
   "outputs": [],
   "source": [
    "num_epochs = 20\n",
    "\n",
    "tensorboard_callback = tf.keras.callbacks.TensorBoard(log_dir=\"./logs\")\n",
    "model = build_model()\n",
    "history = model.fit(X_train, y_train, epochs=num_epochs, validation_data=(\n",
    "    X_test, y_test), batch_size=1, verbose=True, callbacks=[tensorboard_callback])\n",
    "model.evaluate(X_test, y_test)"
   ]
  },
  {
   "cell_type": "code",
   "execution_count": 12,
   "id": "79a9e585",
   "metadata": {},
   "outputs": [
    {
     "data": {
      "image/png": "[encoded data removed]",
      "text/plain": [
       "<Figure size 640x480 with 1 Axes>"
      ]
     },
     "metadata": {},
     "output_type": "display_data"
    },
    {
     "data": {
      "text/plain": [
       "<Figure size 640x480 with 0 Axes>"
      ]
     },
     "metadata": {},
     "output_type": "display_data"
    }
   ],
   "source": [
    "loss = history.history['loss']\n",
    "val_loss = history.history['val_loss']\n",
    "\n",
    "epochs = range(1, len(loss) + 1)\n",
    "\n",
    "plt.plot(epochs, loss, 'bo', label='Training loss')\n",
    "plt.plot(epochs, val_loss, 'b', label='Validation loss')\n",
    "plt.title('Training and validation loss')\n",
    "plt.xlabel('Epochs')\n",
    "plt.ylabel('Loss')\n",
    "plt.legend()\n",
    "\n",
    "plt.show()\n",
    "\n",
    "plt.clf()   # clear figure"
   ]
  }
 ],
 "metadata": {
  "kernelspec": {
   "display_name": "Python 3 (ipykernel)",
   "language": "python",
   "name": "python3"
  },
  "language_info": {
   "codemirror_mode": {
    "name": "ipython",
    "version": 3
   },
   "file_extension": ".py",
   "mimetype": "text/x-python",
   "name": "python",
   "nbconvert_exporter": "python",
   "pygments_lexer": "ipython3",
   "version": "3.9.16"
  }
 },
 "nbformat": 4,
 "nbformat_minor": 5
}
