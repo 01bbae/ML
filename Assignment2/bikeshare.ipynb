{
 "cells": [
  {
   "cell_type": "code",
   "execution_count": 1,
   "id": "8b7d4139",
   "metadata": {},
   "outputs": [
    {
     "name": "stderr",
     "output_type": "stream",
     "text": [
      "2023-03-08 03:02:06.598057: I tensorflow/core/platform/cpu_feature_guard.cc:193] This TensorFlow binary is optimized with oneAPI Deep Neural Network Library (oneDNN) to use the following CPU instructions in performance-critical operations:  AVX2 AVX_VNNI FMA\n",
      "To enable them in other operations, rebuild TensorFlow with the appropriate compiler flags.\n",
      "2023-03-08 03:02:06.714399: I tensorflow/core/util/port.cc:104] oneDNN custom operations are on. You may see slightly different numerical results due to floating-point round-off errors from different computation orders. To turn them off, set the environment variable `TF_ENABLE_ONEDNN_OPTS=0`.\n",
      "2023-03-08 03:02:07.137426: W tensorflow/compiler/xla/stream_executor/platform/default/dso_loader.cc:64] Could not load dynamic library 'libnvinfer.so.7'; dlerror: libnvinfer.so.7: cannot open shared object file: No such file or directory; LD_LIBRARY_PATH: :/home/bjbae/miniconda3/envs/ml/lib/\n",
      "2023-03-08 03:02:07.140338: W tensorflow/compiler/xla/stream_executor/platform/default/dso_loader.cc:64] Could not load dynamic library 'libnvinfer_plugin.so.7'; dlerror: libnvinfer_plugin.so.7: cannot open shared object file: No such file or directory; LD_LIBRARY_PATH: :/home/bjbae/miniconda3/envs/ml/lib/\n",
      "2023-03-08 03:02:07.140352: W tensorflow/compiler/tf2tensorrt/utils/py_utils.cc:38] TF-TRT Warning: Cannot dlopen some TensorRT libraries. If you would like to use Nvidia GPU with TensorRT, please make sure the missing libraries mentioned above are installed properly.\n"
     ]
    },
    {
     "name": "stdout",
     "output_type": "stream",
     "text": [
      "Num GPUs Available:  1\n"
     ]
    },
    {
     "name": "stderr",
     "output_type": "stream",
     "text": [
      "2023-03-08 03:02:07.913051: I tensorflow/compiler/xla/stream_executor/cuda/cuda_gpu_executor.cc:967] could not open file to read NUMA node: /sys/bus/pci/devices/0000:01:00.0/numa_node\n",
      "Your kernel may have been built without NUMA support.\n",
      "2023-03-08 03:02:07.932063: I tensorflow/compiler/xla/stream_executor/cuda/cuda_gpu_executor.cc:967] could not open file to read NUMA node: /sys/bus/pci/devices/0000:01:00.0/numa_node\n",
      "Your kernel may have been built without NUMA support.\n",
      "2023-03-08 03:02:07.932364: I tensorflow/compiler/xla/stream_executor/cuda/cuda_gpu_executor.cc:967] could not open file to read NUMA node: /sys/bus/pci/devices/0000:01:00.0/numa_node\n",
      "Your kernel may have been built without NUMA support.\n"
     ]
    }
   ],
   "source": [
    "import numpy as np\n",
    "import pandas as pd\n",
    "from keras import layers\n",
    "from keras import models\n",
    "import tensorflow as tf\n",
    "import tensorboard\n",
    "from sklearn.model_selection import train_test_split\n",
    "from sklearn.preprocessing import StandardScaler\n",
    "from sklearn.compose import ColumnTransformer\n",
    "from matplotlib import pyplot as plt\n",
    "\n",
    "print(\"Num GPUs Available: \", len(tf.config.list_physical_devices('GPU')))"
   ]
  },
  {
   "cell_type": "code",
   "execution_count": 2,
   "id": "b7af606e",
   "metadata": {},
   "outputs": [],
   "source": [
    "# load dataset\n",
    "# encoding error with degrees symbol in utf-8\n",
    "df = pd.read_csv(\"./SeoulBikeData.csv\",\n",
    "                 encoding_errors=\"ignore\")\n",
    "\n",
    "# data cleaning removing measurement labels\n",
    "rename_dict = {}\n",
    "rename_dict[\"Temperature(C)\"] = \"Temperature\"\n",
    "rename_dict[\"Humidity(%)\"] = \"Humidity\"\n",
    "rename_dict[\"Wind speed (m/s)\"] = \"Wind speed\"\n",
    "rename_dict[\"Visibility (10m)\"] = \"Visibility\"\n",
    "rename_dict[\"Dew point temperature(C)\"] = \"Dew point temperature\"\n",
    "rename_dict[\"Solar Radiation (MJ/m2)\"] = \"Solar Radiation\"\n",
    "rename_dict[\"Rainfall(mm)\"] = \"Rainfall\"\n",
    "rename_dict[\"Snowfall (cm)\"] = \"Snowfall\"\n",
    "df.rename(columns=rename_dict, inplace=True)"
   ]
  },
  {
   "cell_type": "code",
   "execution_count": 3,
   "id": "28f99857",
   "metadata": {},
   "outputs": [],
   "source": [
    "# Predict Rented Bike Count\n",
    "# Predictors Hour, Temp, Hum, Solar Rad, Rain, Snow, Seasons, Holiday\n",
    "# Filter Functional Day (Times where bike sharing was unavailible)\n",
    "\n",
    "# print(df.columns)\n",
    "# print(df.describe())\n",
    "# print(df[\"Functioning Day\"].describe())\n",
    "# print(df.shape)\n",
    "\n",
    "# df_EDA = df.loc[df[\"Functioning Day\"] != \"Yes\", :]\n",
    "# print(df_EDA)"
   ]
  },
  {
   "cell_type": "code",
   "execution_count": 4,
   "id": "fc85d32b",
   "metadata": {},
   "outputs": [
    {
     "name": "stdout",
     "output_type": "stream",
     "text": [
      "Index(['Temperature', 'Humidity', 'Wind speed', 'Visibility',\n",
      "       'Dew point temperature', 'Solar Radiation', 'Rainfall', 'Snowfall',\n",
      "       'Seasons_Spring', 'Seasons_Summer', 'Seasons_Winter',\n",
      "       'Holiday_No Holiday', 'Hour_1', 'Hour_2', 'Hour_3', 'Hour_4', 'Hour_5',\n",
      "       'Hour_6', 'Hour_7', 'Hour_8', 'Hour_9', 'Hour_10', 'Hour_11', 'Hour_12',\n",
      "       'Hour_13', 'Hour_14', 'Hour_15', 'Hour_16', 'Hour_17', 'Hour_18',\n",
      "       'Hour_19', 'Hour_20', 'Hour_21', 'Hour_22', 'Hour_23'],\n",
      "      dtype='object')\n"
     ]
    }
   ],
   "source": [
    "# First filter valid rows\n",
    "df_filtered = df.loc[df[\"Functioning Day\"] == \"Yes\", :]\n",
    "\n",
    "# Create Predicted and Predictors\n",
    "X = df_filtered.iloc[:, 2:13]\n",
    "y = df_filtered.loc[:, \"Rented Bike Count\"]\n",
    "\n",
    "# Encode values in X\n",
    "X = pd.get_dummies(X, drop_first=True)\n",
    "X = pd.get_dummies(X, columns=[\"Hour\"], drop_first=True)\n",
    "print(X.columns)"
   ]
  },
  {
   "cell_type": "code",
   "execution_count": 5,
   "id": "8ff12b34",
   "metadata": {},
   "outputs": [
    {
     "name": "stdout",
     "output_type": "stream",
     "text": [
      "      Temperature  Humidity  Wind speed  Visibility  Dew point temperature  \\\n",
      "5591         28.8        56         1.6        2000                   19.1   \n",
      "5990         34.0        50         1.2        1744                   22.1   \n",
      "4563         19.1        84         0.6         421                   16.3   \n",
      "7837         13.5        82         0.8         962                   10.4   \n",
      "3109         12.4        32         1.7        1441                   -3.8   \n",
      "\n",
      "      Solar Radiation  Rainfall  Snowfall  Seasons_Spring  Seasons_Summer  \\\n",
      "5591             0.00       0.0       0.0               0               1   \n",
      "5990             1.68       0.0       0.0               0               1   \n",
      "4563             0.00       0.0       0.0               0               1   \n",
      "7837             1.33       0.0       0.0               0               0   \n",
      "3109             3.06       0.0       0.0               1               0   \n",
      "\n",
      "      ...  Hour_14  Hour_15  Hour_16  Hour_17  Hour_18  Hour_19  Hour_20  \\\n",
      "5591  ...        0        0        0        0        0        0        0   \n",
      "5990  ...        1        0        0        0        0        0        0   \n",
      "4563  ...        0        0        0        0        0        0        0   \n",
      "7837  ...        0        0        0        0        0        0        0   \n",
      "3109  ...        0        0        0        0        0        0        0   \n",
      "\n",
      "      Hour_21  Hour_22  Hour_23  \n",
      "5591        0        0        1  \n",
      "5990        0        0        0  \n",
      "4563        0        0        0  \n",
      "7837        0        0        0  \n",
      "3109        0        0        0  \n",
      "\n",
      "[5 rows x 35 columns]\n",
      "       Temperature     Humidity   Wind speed   Visibility  \\\n",
      "count  5925.000000  5925.000000  5925.000000  5925.000000   \n",
      "mean     12.840506    57.966582     1.733451  1438.382447   \n",
      "std      12.118354    20.448835     1.038515   602.956260   \n",
      "min     -17.500000     0.000000     0.000000    27.000000   \n",
      "25%       3.100000    42.000000     0.900000   951.000000   \n",
      "50%      13.700000    57.000000     1.500000  1690.000000   \n",
      "75%      22.700000    74.000000     2.400000  1999.000000   \n",
      "max      39.400000    98.000000     7.400000  2000.000000   \n",
      "\n",
      "       Dew point temperature  Solar Radiation     Rainfall     Snowfall  \\\n",
      "count            5925.000000      5925.000000  5925.000000  5925.000000   \n",
      "mean                3.948439         0.584290     0.145266     0.070937   \n",
      "std                13.244285         0.879864     1.131985     0.404823   \n",
      "min               -30.500000         0.000000     0.000000     0.000000   \n",
      "25%                -5.100000         0.000000     0.000000     0.000000   \n",
      "50%                 4.700000         0.010000     0.000000     0.000000   \n",
      "75%                15.100000         0.960000     0.000000     0.000000   \n",
      "max                26.800000         3.520000    35.000000     7.000000   \n",
      "\n",
      "       Seasons_Spring  Seasons_Summer  ...      Hour_14      Hour_15  \\\n",
      "count     5925.000000     5925.000000  ...  5925.000000  5925.000000   \n",
      "mean         0.253333        0.266160  ...     0.042025     0.041688   \n",
      "std          0.434957        0.441986  ...     0.200664     0.199892   \n",
      "min          0.000000        0.000000  ...     0.000000     0.000000   \n",
      "25%          0.000000        0.000000  ...     0.000000     0.000000   \n",
      "50%          0.000000        0.000000  ...     0.000000     0.000000   \n",
      "75%          1.000000        1.000000  ...     0.000000     0.000000   \n",
      "max          1.000000        1.000000  ...     1.000000     1.000000   \n",
      "\n",
      "           Hour_16      Hour_17      Hour_18      Hour_19      Hour_20  \\\n",
      "count  5925.000000  5925.000000  5925.000000  5925.000000  5925.000000   \n",
      "mean      0.043376     0.039831     0.040844     0.039325     0.042194   \n",
      "std       0.203718     0.195579     0.197945     0.194383     0.201049   \n",
      "min       0.000000     0.000000     0.000000     0.000000     0.000000   \n",
      "25%       0.000000     0.000000     0.000000     0.000000     0.000000   \n",
      "50%       0.000000     0.000000     0.000000     0.000000     0.000000   \n",
      "75%       0.000000     0.000000     0.000000     0.000000     0.000000   \n",
      "max       1.000000     1.000000     1.000000     1.000000     1.000000   \n",
      "\n",
      "           Hour_21      Hour_22      Hour_23  \n",
      "count  5925.000000  5925.000000  5925.000000  \n",
      "mean      0.040844     0.042194     0.040844  \n",
      "std       0.197945     0.201049     0.197945  \n",
      "min       0.000000     0.000000     0.000000  \n",
      "25%       0.000000     0.000000     0.000000  \n",
      "50%       0.000000     0.000000     0.000000  \n",
      "75%       0.000000     0.000000     0.000000  \n",
      "max       1.000000     1.000000     1.000000  \n",
      "\n",
      "[8 rows x 35 columns]\n",
      "(5925, 35)\n",
      "(5925,)\n",
      "(2540, 35)\n",
      "(2540,)\n"
     ]
    }
   ],
   "source": [
    "# train test split\n",
    "X_train, X_test, y_train, y_test = train_test_split(\n",
    "    X, y, test_size=0.3, random_state=22)\n",
    "\n",
    "std = StandardScaler()\n",
    "ct = ColumnTransformer([\n",
    "    ('std', StandardScaler(), list(rename_dict.values()))\n",
    "], remainder='passthrough')\n",
    "ct.fit_transform(X_train, y_test)\n",
    "ct.transform(X_test)\n",
    "print(X_train.head())\n",
    "print(X_train.describe())\n",
    "\n",
    "print(X_train.shape)\n",
    "print(y_train.shape)\n",
    "print(X_test.shape)\n",
    "print(y_test.shape)"
   ]
  },
  {
   "cell_type": "code",
   "execution_count": 6,
   "id": "9ea38322",
   "metadata": {},
   "outputs": [],
   "source": [
    "num_epochs = 20"
   ]
  },
  {
   "cell_type": "markdown",
   "id": "271edcc8",
   "metadata": {},
   "source": [
    "## Model 1"
   ]
  },
  {
   "cell_type": "code",
   "execution_count": 7,
   "id": "61ebc399",
   "metadata": {},
   "outputs": [
    {
     "name": "stdout",
     "output_type": "stream",
     "text": [
      "Model: \"sequential\"\n",
      "_________________________________________________________________\n",
      " Layer (type)                Output Shape              Param #   \n",
      "=================================================================\n",
      " dense (Dense)               (None, 8)                 288       \n",
      "                                                                 \n",
      " dropout (Dropout)           (None, 8)                 0         \n",
      "                                                                 \n",
      " dense_1 (Dense)             (None, 8)                 72        \n",
      "                                                                 \n",
      " dropout_1 (Dropout)         (None, 8)                 0         \n",
      "                                                                 \n",
      " dense_2 (Dense)             (None, 1)                 9         \n",
      "                                                                 \n",
      "=================================================================\n",
      "Total params: 369\n",
      "Trainable params: 369\n",
      "Non-trainable params: 0\n",
      "_________________________________________________________________\n"
     ]
    },
    {
     "name": "stderr",
     "output_type": "stream",
     "text": [
      "2023-03-08 03:02:08.040038: I tensorflow/core/platform/cpu_feature_guard.cc:193] This TensorFlow binary is optimized with oneAPI Deep Neural Network Library (oneDNN) to use the following CPU instructions in performance-critical operations:  AVX2 AVX_VNNI FMA\n",
      "To enable them in other operations, rebuild TensorFlow with the appropriate compiler flags.\n",
      "2023-03-08 03:02:08.042921: I tensorflow/compiler/xla/stream_executor/cuda/cuda_gpu_executor.cc:967] could not open file to read NUMA node: /sys/bus/pci/devices/0000:01:00.0/numa_node\n",
      "Your kernel may have been built without NUMA support.\n",
      "2023-03-08 03:02:08.043401: I tensorflow/compiler/xla/stream_executor/cuda/cuda_gpu_executor.cc:967] could not open file to read NUMA node: /sys/bus/pci/devices/0000:01:00.0/numa_node\n",
      "Your kernel may have been built without NUMA support.\n",
      "2023-03-08 03:02:08.043668: I tensorflow/compiler/xla/stream_executor/cuda/cuda_gpu_executor.cc:967] could not open file to read NUMA node: /sys/bus/pci/devices/0000:01:00.0/numa_node\n",
      "Your kernel may have been built without NUMA support.\n",
      "2023-03-08 03:02:08.539376: I tensorflow/compiler/xla/stream_executor/cuda/cuda_gpu_executor.cc:967] could not open file to read NUMA node: /sys/bus/pci/devices/0000:01:00.0/numa_node\n",
      "Your kernel may have been built without NUMA support.\n",
      "2023-03-08 03:02:08.539793: I tensorflow/compiler/xla/stream_executor/cuda/cuda_gpu_executor.cc:967] could not open file to read NUMA node: /sys/bus/pci/devices/0000:01:00.0/numa_node\n",
      "Your kernel may have been built without NUMA support.\n",
      "2023-03-08 03:02:08.539806: I tensorflow/core/common_runtime/gpu/gpu_device.cc:1700] Could not identify NUMA node of platform GPU id 0, defaulting to 0.  Your kernel may not have been built with NUMA support.\n",
      "2023-03-08 03:02:08.540137: I tensorflow/compiler/xla/stream_executor/cuda/cuda_gpu_executor.cc:967] could not open file to read NUMA node: /sys/bus/pci/devices/0000:01:00.0/numa_node\n",
      "Your kernel may have been built without NUMA support.\n",
      "2023-03-08 03:02:08.540175: I tensorflow/core/common_runtime/gpu/gpu_device.cc:1613] Created device /job:localhost/replica:0/task:0/device:GPU:0 with 7369 MB memory:  -> device: 0, name: NVIDIA GeForce RTX 3080, pci bus id: 0000:01:00.0, compute capability: 8.6\n"
     ]
    }
   ],
   "source": [
    "# Create the model\n",
    "\n",
    "model = models.Sequential()\n",
    "model.add(layers.Dense(8, input_shape=(X_train.shape[1],)))\n",
    "model.add(layers.Dropout(0.2, seed=22))\n",
    "model.add(layers.Dense(8, activation='relu'))\n",
    "model.add(layers.Dropout(0.2, seed=22))\n",
    "model.add(layers.Dense(1))\n",
    "model.summary()\n",
    "model.compile(optimizer='adam', loss='mse', metrics=['mae'])"
   ]
  },
  {
   "cell_type": "code",
   "execution_count": 8,
   "id": "f3eccc77",
   "metadata": {},
   "outputs": [
    {
     "name": "stdout",
     "output_type": "stream",
     "text": [
      "Epoch 1/20\n"
     ]
    },
    {
     "name": "stderr",
     "output_type": "stream",
     "text": [
      "2023-03-08 03:02:10.572814: I tensorflow/compiler/xla/stream_executor/cuda/cuda_blas.cc:630] TensorFloat-32 will be used for the matrix multiplication. This will only be logged once.\n",
      "2023-03-08 03:02:10.589544: I tensorflow/compiler/xla/service/service.cc:173] XLA service 0x7f007bc3a8b0 initialized for platform CUDA (this does not guarantee that XLA will be used). Devices:\n",
      "2023-03-08 03:02:10.589581: I tensorflow/compiler/xla/service/service.cc:181]   StreamExecutor device (0): NVIDIA GeForce RTX 3080, Compute Capability 8.6\n",
      "2023-03-08 03:02:10.595228: I tensorflow/compiler/mlir/tensorflow/utils/dump_mlir_util.cc:268] disabling MLIR crash reproducer, set env var `MLIR_CRASH_REPRODUCER_DIRECTORY` to enable.\n",
      "2023-03-08 03:02:10.945562: I tensorflow/tsl/platform/default/subprocess.cc:304] Start cannot spawn child process: No such file or directory\n",
      "2023-03-08 03:02:10.998917: I tensorflow/compiler/jit/xla_compilation_cache.cc:477] Compiled cluster using XLA!  This line is logged at most once for the lifetime of the process.\n"
     ]
    },
    {
     "name": "stdout",
     "output_type": "stream",
     "text": [
      "5925/5925 [==============================] - 51s 8ms/step - loss: 419087.0000 - mae: 483.2703 - val_loss: 398278.6250 - val_mae: 434.7032\n",
      "Epoch 2/20\n",
      "5925/5925 [==============================] - 20s 3ms/step - loss: 320432.8750 - mae: 422.3796 - val_loss: 362796.7500 - val_mae: 415.5842\n",
      "Epoch 3/20\n",
      "5925/5925 [==============================] - 19s 3ms/step - loss: 297693.4688 - mae: 400.0399 - val_loss: 479020.3438 - val_mae: 494.7940\n",
      "Epoch 4/20\n",
      "5925/5925 [==============================] - 20s 3ms/step - loss: 286565.6250 - mae: 393.5294 - val_loss: 402107.5938 - val_mae: 440.5530\n",
      "Epoch 5/20\n",
      "5925/5925 [==============================] - 20s 3ms/step - loss: 274316.0938 - mae: 384.7775 - val_loss: 289966.5000 - val_mae: 374.7168\n",
      "Epoch 6/20\n",
      "5925/5925 [==============================] - 20s 3ms/step - loss: 267586.3125 - mae: 376.7096 - val_loss: 366424.0000 - val_mae: 410.7064\n",
      "Epoch 7/20\n",
      "5925/5925 [==============================] - 19s 3ms/step - loss: 259924.8438 - mae: 370.8067 - val_loss: 385085.0938 - val_mae: 428.9992\n",
      "Epoch 8/20\n",
      "5925/5925 [==============================] - 20s 3ms/step - loss: 246264.4375 - mae: 361.2189 - val_loss: 324088.4688 - val_mae: 388.4803\n",
      "Epoch 9/20\n",
      "5925/5925 [==============================] - 19s 3ms/step - loss: 233120.7344 - mae: 350.3049 - val_loss: 300636.8125 - val_mae: 368.3345\n",
      "Epoch 10/20\n",
      "5925/5925 [==============================] - 20s 3ms/step - loss: 227480.7500 - mae: 344.7331 - val_loss: 385536.5000 - val_mae: 433.7104\n",
      "Epoch 11/20\n",
      "5925/5925 [==============================] - 20s 3ms/step - loss: 210409.2344 - mae: 332.6680 - val_loss: 345385.5938 - val_mae: 410.1921\n",
      "Epoch 12/20\n",
      "5925/5925 [==============================] - 19s 3ms/step - loss: 207886.6250 - mae: 328.8819 - val_loss: 327111.0938 - val_mae: 392.3847\n",
      "Epoch 13/20\n",
      "5925/5925 [==============================] - 20s 3ms/step - loss: 193275.5781 - mae: 314.5374 - val_loss: 295381.5312 - val_mae: 372.6246\n",
      "Epoch 14/20\n",
      "5925/5925 [==============================] - 19s 3ms/step - loss: 187046.0000 - mae: 309.2769 - val_loss: 257271.1562 - val_mae: 339.3772\n",
      "Epoch 15/20\n",
      "5925/5925 [==============================] - 20s 3ms/step - loss: 183280.0625 - mae: 307.6584 - val_loss: 349587.8438 - val_mae: 411.6298\n",
      "Epoch 16/20\n",
      "5925/5925 [==============================] - 20s 3ms/step - loss: 181060.7031 - mae: 305.4182 - val_loss: 157487.3125 - val_mae: 271.9209\n",
      "Epoch 17/20\n",
      "5925/5925 [==============================] - 20s 3ms/step - loss: 174210.5938 - mae: 299.7024 - val_loss: 250878.8906 - val_mae: 345.8765\n",
      "Epoch 18/20\n",
      "5925/5925 [==============================] - 20s 3ms/step - loss: 165817.3281 - mae: 292.3729 - val_loss: 224686.3125 - val_mae: 320.0593\n",
      "Epoch 19/20\n",
      "5925/5925 [==============================] - 20s 3ms/step - loss: 163684.4062 - mae: 289.5685 - val_loss: 177233.8125 - val_mae: 285.4552\n",
      "Epoch 20/20\n",
      "5925/5925 [==============================] - 20s 3ms/step - loss: 157797.5625 - mae: 283.4491 - val_loss: 203430.8594 - val_mae: 309.9464\n",
      "80/80 [==============================] - 0s 2ms/step - loss: 203430.6875 - mae: 309.9463\n"
     ]
    },
    {
     "data": {
      "text/plain": [
       "[203430.6875, 309.9462585449219]"
      ]
     },
     "execution_count": 8,
     "metadata": {},
     "output_type": "execute_result"
    }
   ],
   "source": [
    "tensorboard_callback = tf.keras.callbacks.TensorBoard(log_dir=\"./logs\")\n",
    "history = model.fit(X_train, y_train, epochs=num_epochs, validation_data=(\n",
    "    X_test, y_test), batch_size=1, verbose=True, callbacks=[tensorboard_callback])\n",
    "model.evaluate(X_test, y_test)"
   ]
  },
  {
   "cell_type": "code",
   "execution_count": 9,
   "id": "302f7ab3",
   "metadata": {},
   "outputs": [
    {
     "data": {
      "image/png": "[encoded data removed]",
      "text/plain": [
       "<Figure size 432x288 with 1 Axes>"
      ]
     },
     "metadata": {
      "needs_background": "light"
     },
     "output_type": "display_data"
    }
   ],
   "source": [
    "loss = history.history['loss']\n",
    "val_loss = history.history['val_loss']\n",
    "\n",
    "epochs = range(1, len(loss) + 1)\n",
    "\n",
    "plt.plot(epochs, loss, 'bo', label='Training loss')\n",
    "plt.plot(epochs, val_loss, 'b', label='Validation loss')\n",
    "plt.title('Training and validation loss for model 1')\n",
    "plt.xlabel('Epochs')\n",
    "plt.ylabel('Loss')\n",
    "plt.legend()\n",
    "\n",
    "plt.savefig('images/model1.png', dpi=1200)\n",
    "\n",
    "plt.show()"
   ]
  },
  {
   "cell_type": "markdown",
   "id": "e3117e97",
   "metadata": {},
   "source": [
    "## Model 2"
   ]
  },
  {
   "cell_type": "code",
   "execution_count": 10,
   "id": "2b8f67f6",
   "metadata": {},
   "outputs": [
    {
     "name": "stdout",
     "output_type": "stream",
     "text": [
      "Model: \"sequential_1\"\n",
      "_________________________________________________________________\n",
      " Layer (type)                Output Shape              Param #   \n",
      "=================================================================\n",
      " dense_3 (Dense)             (None, 8)                 288       \n",
      "                                                                 \n",
      " dropout_2 (Dropout)         (None, 8)                 0         \n",
      "                                                                 \n",
      " dense_4 (Dense)             (None, 8)                 72        \n",
      "                                                                 \n",
      " dropout_3 (Dropout)         (None, 8)                 0         \n",
      "                                                                 \n",
      " dense_5 (Dense)             (None, 1)                 9         \n",
      "                                                                 \n",
      "=================================================================\n",
      "Total params: 369\n",
      "Trainable params: 369\n",
      "Non-trainable params: 0\n",
      "_________________________________________________________________\n"
     ]
    }
   ],
   "source": [
    "model = models.Sequential()\n",
    "model.add(layers.Dense(8, input_shape=(X_train.shape[1],)))\n",
    "model.add(layers.Dropout(0.2, seed=22))\n",
    "model.add(layers.Dense(8, activation='relu'))\n",
    "model.add(layers.Dropout(0.2, seed=22))\n",
    "model.add(layers.Dense(1))\n",
    "model.summary()\n",
    "model.compile(optimizer='adam', loss='mse', metrics=['mae'])"
   ]
  },
  {
   "cell_type": "code",
   "execution_count": 11,
   "id": "8b9f7e3c",
   "metadata": {},
   "outputs": [
    {
     "name": "stdout",
     "output_type": "stream",
     "text": [
      "Epoch 1/20\n",
      "593/593 [==============================] - 4s 6ms/step - loss: 447672.4375 - mae: 503.8513 - val_loss: 443985.9375 - val_mae: 476.5251\n",
      "Epoch 2/20\n",
      "593/593 [==============================] - 2s 4ms/step - loss: 375851.7188 - mae: 468.7412 - val_loss: 365869.3438 - val_mae: 428.9263\n",
      "Epoch 3/20\n",
      "593/593 [==============================] - 2s 4ms/step - loss: 339572.3125 - mae: 440.7800 - val_loss: 361689.8750 - val_mae: 416.8912\n",
      "Epoch 4/20\n",
      "593/593 [==============================] - 2s 4ms/step - loss: 317797.6250 - mae: 421.8239 - val_loss: 321769.4375 - val_mae: 398.9556\n",
      "Epoch 5/20\n",
      "593/593 [==============================] - 2s 4ms/step - loss: 304895.0000 - mae: 409.8653 - val_loss: 391099.2812 - val_mae: 425.8561\n",
      "Epoch 6/20\n",
      "593/593 [==============================] - 2s 3ms/step - loss: 294221.0625 - mae: 399.9736 - val_loss: 338278.7812 - val_mae: 398.4725\n",
      "Epoch 7/20\n",
      "593/593 [==============================] - 2s 4ms/step - loss: 288812.2500 - mae: 393.0206 - val_loss: 344773.9062 - val_mae: 399.6267\n",
      "Epoch 8/20\n",
      "593/593 [==============================] - 2s 4ms/step - loss: 279609.5625 - mae: 386.2465 - val_loss: 334368.6562 - val_mae: 392.0050\n",
      "Epoch 9/20\n",
      "593/593 [==============================] - 2s 4ms/step - loss: 279180.9062 - mae: 382.3943 - val_loss: 370344.7812 - val_mae: 411.3968\n",
      "Epoch 10/20\n",
      "593/593 [==============================] - 3s 4ms/step - loss: 272082.5312 - mae: 379.5078 - val_loss: 374501.4062 - val_mae: 414.5982\n",
      "Epoch 11/20\n",
      "593/593 [==============================] - 2s 4ms/step - loss: 261702.1875 - mae: 369.7952 - val_loss: 340160.6562 - val_mae: 393.3879\n",
      "Epoch 12/20\n",
      "593/593 [==============================] - 2s 4ms/step - loss: 259919.9375 - mae: 367.0450 - val_loss: 382601.0312 - val_mae: 417.7577\n",
      "Epoch 13/20\n",
      "593/593 [==============================] - 2s 4ms/step - loss: 257529.8281 - mae: 366.0809 - val_loss: 409543.8750 - val_mae: 432.6690\n",
      "Epoch 14/20\n",
      "593/593 [==============================] - 2s 4ms/step - loss: 251042.7969 - mae: 360.6044 - val_loss: 300078.7188 - val_mae: 366.9633\n",
      "Epoch 15/20\n",
      "593/593 [==============================] - 3s 4ms/step - loss: 247521.8125 - mae: 358.3421 - val_loss: 352169.6250 - val_mae: 398.2256\n",
      "Epoch 16/20\n",
      "593/593 [==============================] - 3s 5ms/step - loss: 241469.3125 - mae: 352.5099 - val_loss: 279716.8438 - val_mae: 353.0020\n",
      "Epoch 17/20\n",
      "593/593 [==============================] - 2s 4ms/step - loss: 237169.4844 - mae: 348.2729 - val_loss: 381507.7188 - val_mae: 413.0672\n",
      "Epoch 18/20\n",
      "593/593 [==============================] - 3s 5ms/step - loss: 229906.1094 - mae: 344.7146 - val_loss: 283410.6562 - val_mae: 352.4121\n",
      "Epoch 19/20\n",
      "593/593 [==============================] - 2s 4ms/step - loss: 224252.3750 - mae: 339.2688 - val_loss: 285510.9688 - val_mae: 352.2487\n",
      "Epoch 20/20\n",
      "593/593 [==============================] - 2s 4ms/step - loss: 215607.9531 - mae: 331.3394 - val_loss: 274187.0938 - val_mae: 345.5307\n",
      "80/80 [==============================] - 0s 2ms/step - loss: 274187.1562 - mae: 345.5308\n"
     ]
    },
    {
     "data": {
      "text/plain": [
       "[274187.15625, 345.5307922363281]"
      ]
     },
     "execution_count": 11,
     "metadata": {},
     "output_type": "execute_result"
    }
   ],
   "source": [
    "tensorboard_callback = tf.keras.callbacks.TensorBoard(log_dir=\"./logs\")\n",
    "history = model.fit(X_train, y_train, epochs=num_epochs, validation_data=(\n",
    "    X_test, y_test), batch_size=10, verbose=True, callbacks=[tensorboard_callback])\n",
    "model.evaluate(X_test, y_test)"
   ]
  },
  {
   "cell_type": "code",
   "execution_count": 12,
   "id": "66e69fe6",
   "metadata": {},
   "outputs": [
    {
     "data": {
      "image/png": "[encoded data removed]",
      "text/plain": [
       "<Figure size 432x288 with 1 Axes>"
      ]
     },
     "metadata": {
      "needs_background": "light"
     },
     "output_type": "display_data"
    }
   ],
   "source": [
    "loss = history.history['loss']\n",
    "val_loss = history.history['val_loss']\n",
    "\n",
    "epochs = range(1, len(loss) + 1)\n",
    "\n",
    "plt.plot(epochs, loss, 'bo', label='Training loss')\n",
    "plt.plot(epochs, val_loss, 'b', label='Validation loss')\n",
    "plt.title('Training and validation loss for model 2')\n",
    "plt.xlabel('Epochs')\n",
    "plt.ylabel('Loss')\n",
    "plt.legend()\n",
    "\n",
    "plt.savefig('images/model2.png', dpi=1200)\n",
    "\n",
    "plt.show()"
   ]
  },
  {
   "cell_type": "markdown",
   "id": "422da607",
   "metadata": {},
   "source": [
    "## Model 3"
   ]
  },
  {
   "cell_type": "code",
   "execution_count": 13,
   "id": "d59f2286",
   "metadata": {},
   "outputs": [
    {
     "name": "stdout",
     "output_type": "stream",
     "text": [
      "Model: \"sequential_2\"\n",
      "_________________________________________________________________\n",
      " Layer (type)                Output Shape              Param #   \n",
      "=================================================================\n",
      " dense_6 (Dense)             (None, 8)                 288       \n",
      "                                                                 \n",
      " dropout_4 (Dropout)         (None, 8)                 0         \n",
      "                                                                 \n",
      " dense_7 (Dense)             (None, 8)                 72        \n",
      "                                                                 \n",
      " dropout_5 (Dropout)         (None, 8)                 0         \n",
      "                                                                 \n",
      " dense_8 (Dense)             (None, 1)                 9         \n",
      "                                                                 \n",
      "=================================================================\n",
      "Total params: 369\n",
      "Trainable params: 369\n",
      "Non-trainable params: 0\n",
      "_________________________________________________________________\n"
     ]
    }
   ],
   "source": [
    "model = models.Sequential()\n",
    "model.add(layers.Dense(8, input_shape=(X_train.shape[1],)))\n",
    "model.add(layers.Dropout(0.2, seed=22))\n",
    "model.add(layers.Dense(8, activation='relu'))\n",
    "model.add(layers.Dropout(0.2, seed=22))\n",
    "model.add(layers.Dense(1))\n",
    "model.summary()\n",
    "model.compile(optimizer='adam', loss='mse', metrics=['mae'])"
   ]
  },
  {
   "cell_type": "code",
   "execution_count": 14,
   "id": "ad41f5c0",
   "metadata": {},
   "outputs": [
    {
     "name": "stdout",
     "output_type": "stream",
     "text": [
      "Epoch 1/20\n",
      "297/297 [==============================] - 2s 6ms/step - loss: 731233.1250 - mae: 633.9987 - val_loss: 441436.0312 - val_mae: 490.5400\n",
      "Epoch 2/20\n",
      "297/297 [==============================] - 1s 5ms/step - loss: 463668.8438 - mae: 513.7659 - val_loss: 434511.4688 - val_mae: 475.8033\n",
      "Epoch 3/20\n",
      "297/297 [==============================] - 2s 5ms/step - loss: 417305.7188 - mae: 490.6623 - val_loss: 416950.8125 - val_mae: 465.0143\n",
      "Epoch 4/20\n",
      "297/297 [==============================] - 1s 4ms/step - loss: 400328.4062 - mae: 478.3133 - val_loss: 401610.3438 - val_mae: 454.4896\n",
      "Epoch 5/20\n",
      "297/297 [==============================] - 1s 5ms/step - loss: 382883.1875 - mae: 470.1590 - val_loss: 381388.5938 - val_mae: 439.4857\n",
      "Epoch 6/20\n",
      "297/297 [==============================] - 1s 4ms/step - loss: 361960.5938 - mae: 459.6268 - val_loss: 367064.2500 - val_mae: 429.8008\n",
      "Epoch 7/20\n",
      "297/297 [==============================] - 1s 4ms/step - loss: 355912.9062 - mae: 450.2488 - val_loss: 362970.3438 - val_mae: 424.8456\n",
      "Epoch 8/20\n",
      "297/297 [==============================] - 1s 4ms/step - loss: 343266.9375 - mae: 440.6447 - val_loss: 397272.0938 - val_mae: 431.6367\n",
      "Epoch 9/20\n",
      "297/297 [==============================] - 1s 4ms/step - loss: 337523.4062 - mae: 432.9851 - val_loss: 369970.0938 - val_mae: 419.7590\n",
      "Epoch 10/20\n",
      "297/297 [==============================] - 1s 4ms/step - loss: 325600.6250 - mae: 424.5680 - val_loss: 347023.8438 - val_mae: 410.7126\n",
      "Epoch 11/20\n",
      "297/297 [==============================] - 1s 4ms/step - loss: 321027.6250 - mae: 422.0909 - val_loss: 365199.8750 - val_mae: 415.9859\n",
      "Epoch 12/20\n",
      "297/297 [==============================] - 1s 4ms/step - loss: 311053.8125 - mae: 415.8193 - val_loss: 388145.0000 - val_mae: 425.4588\n",
      "Epoch 13/20\n",
      "297/297 [==============================] - 1s 4ms/step - loss: 302442.6875 - mae: 407.3126 - val_loss: 361381.3438 - val_mae: 412.8102\n",
      "Epoch 14/20\n",
      "297/297 [==============================] - 1s 5ms/step - loss: 299642.9688 - mae: 404.2905 - val_loss: 365625.0000 - val_mae: 413.9001\n",
      "Epoch 15/20\n",
      "297/297 [==============================] - 1s 4ms/step - loss: 291046.9062 - mae: 398.1833 - val_loss: 386979.2500 - val_mae: 424.6834\n",
      "Epoch 16/20\n",
      "297/297 [==============================] - 1s 4ms/step - loss: 293939.4375 - mae: 398.9855 - val_loss: 358937.0938 - val_mae: 409.5177\n",
      "Epoch 17/20\n",
      "297/297 [==============================] - 1s 4ms/step - loss: 286825.9062 - mae: 395.0878 - val_loss: 359246.1875 - val_mae: 410.0004\n",
      "Epoch 18/20\n",
      "297/297 [==============================] - 1s 4ms/step - loss: 280307.5625 - mae: 388.0866 - val_loss: 369547.7500 - val_mae: 415.0441\n",
      "Epoch 19/20\n",
      "297/297 [==============================] - 1s 5ms/step - loss: 283859.5625 - mae: 389.9295 - val_loss: 364409.0000 - val_mae: 412.2155\n",
      "Epoch 20/20\n",
      "297/297 [==============================] - 1s 5ms/step - loss: 276857.3750 - mae: 387.2262 - val_loss: 337777.5625 - val_mae: 396.9546\n",
      "80/80 [==============================] - 0s 2ms/step - loss: 337777.6250 - mae: 396.9546\n"
     ]
    },
    {
     "data": {
      "text/plain": [
       "[337777.625, 396.9545593261719]"
      ]
     },
     "execution_count": 14,
     "metadata": {},
     "output_type": "execute_result"
    }
   ],
   "source": [
    "tensorboard_callback = tf.keras.callbacks.TensorBoard(log_dir=\"./logs\")\n",
    "history = model.fit(X_train, y_train, epochs=num_epochs, validation_data=(\n",
    "    X_test, y_test), batch_size=20, verbose=True, callbacks=[tensorboard_callback])\n",
    "model.evaluate(X_test, y_test)"
   ]
  },
  {
   "cell_type": "code",
   "execution_count": 15,
   "id": "c2c0648f",
   "metadata": {},
   "outputs": [
    {
     "data": {
      "image/png": "[encoded data removed]",
      "text/plain": [
       "<Figure size 432x288 with 1 Axes>"
      ]
     },
     "metadata": {
      "needs_background": "light"
     },
     "output_type": "display_data"
    }
   ],
   "source": [
    "loss = history.history['loss']\n",
    "val_loss = history.history['val_loss']\n",
    "\n",
    "epochs = range(1, len(loss) + 1)\n",
    "\n",
    "plt.plot(epochs, loss, 'bo', label='Training loss')\n",
    "plt.plot(epochs, val_loss, 'b', label='Validation loss')\n",
    "plt.title('Training and validation loss for model 3')\n",
    "plt.xlabel('Epochs')\n",
    "plt.ylabel('Loss')\n",
    "plt.legend()\n",
    "\n",
    "plt.savefig('images/model3.png', dpi=1200)\n",
    "\n",
    "plt.show()"
   ]
  },
  {
   "cell_type": "markdown",
   "id": "19fb8a3d",
   "metadata": {},
   "source": [
    "## Model 4"
   ]
  },
  {
   "cell_type": "code",
   "execution_count": 16,
   "id": "12a2e78c",
   "metadata": {},
   "outputs": [
    {
     "name": "stdout",
     "output_type": "stream",
     "text": [
      "Model: \"sequential_3\"\n",
      "_________________________________________________________________\n",
      " Layer (type)                Output Shape              Param #   \n",
      "=================================================================\n",
      " dense_9 (Dense)             (None, 8)                 288       \n",
      "                                                                 \n",
      " dropout_6 (Dropout)         (None, 8)                 0         \n",
      "                                                                 \n",
      " dense_10 (Dense)            (None, 8)                 72        \n",
      "                                                                 \n",
      " dropout_7 (Dropout)         (None, 8)                 0         \n",
      "                                                                 \n",
      " dense_11 (Dense)            (None, 8)                 72        \n",
      "                                                                 \n",
      " dropout_8 (Dropout)         (None, 8)                 0         \n",
      "                                                                 \n",
      " dense_12 (Dense)            (None, 1)                 9         \n",
      "                                                                 \n",
      "=================================================================\n",
      "Total params: 441\n",
      "Trainable params: 441\n",
      "Non-trainable params: 0\n",
      "_________________________________________________________________\n"
     ]
    }
   ],
   "source": [
    "model = models.Sequential()\n",
    "model.add(layers.Dense(8, input_shape=(X_train.shape[1],)))\n",
    "model.add(layers.Dropout(0.2, seed=22))\n",
    "model.add(layers.Dense(8, activation='relu'))\n",
    "model.add(layers.Dropout(0.2, seed=22))\n",
    "model.add(layers.Dense(8, activation='relu'))\n",
    "model.add(layers.Dropout(0.2, seed=22))\n",
    "model.add(layers.Dense(1))\n",
    "model.summary()\n",
    "model.compile(optimizer='adam', loss='mse', metrics=['mae'])"
   ]
  },
  {
   "cell_type": "code",
   "execution_count": 17,
   "id": "0c243be8",
   "metadata": {
    "scrolled": true
   },
   "outputs": [
    {
     "name": "stdout",
     "output_type": "stream",
     "text": [
      "Epoch 1/20\n",
      "297/297 [==============================] - 2s 6ms/step - loss: 462500.4375 - mae: 508.7333 - val_loss: 509827.1250 - val_mae: 501.3854\n",
      "Epoch 2/20\n",
      "297/297 [==============================] - 2s 5ms/step - loss: 432433.0938 - mae: 499.0868 - val_loss: 512019.5938 - val_mae: 500.9638\n",
      "Epoch 3/20\n",
      "297/297 [==============================] - 2s 5ms/step - loss: 417807.4375 - mae: 496.2288 - val_loss: 526683.1875 - val_mae: 501.7972\n",
      "Epoch 4/20\n",
      "297/297 [==============================] - 2s 6ms/step - loss: 387621.4688 - mae: 477.8888 - val_loss: 516036.8438 - val_mae: 491.9915\n",
      "Epoch 5/20\n",
      "297/297 [==============================] - 2s 5ms/step - loss: 371810.3438 - mae: 466.4300 - val_loss: 486069.4688 - val_mae: 475.3908\n",
      "Epoch 6/20\n",
      "297/297 [==============================] - 2s 5ms/step - loss: 346291.2812 - mae: 450.3192 - val_loss: 473318.4062 - val_mae: 465.0431\n",
      "Epoch 7/20\n",
      "297/297 [==============================] - 2s 5ms/step - loss: 329517.3750 - mae: 432.5375 - val_loss: 421129.3125 - val_mae: 440.3664\n",
      "Epoch 8/20\n",
      "297/297 [==============================] - 1s 5ms/step - loss: 314578.0000 - mae: 420.7564 - val_loss: 445090.6250 - val_mae: 451.2556\n",
      "Epoch 9/20\n",
      "297/297 [==============================] - 2s 6ms/step - loss: 306566.9688 - mae: 412.7424 - val_loss: 439456.6562 - val_mae: 449.0713\n",
      "Epoch 10/20\n",
      "297/297 [==============================] - 1s 5ms/step - loss: 299372.1562 - mae: 405.8511 - val_loss: 447950.0000 - val_mae: 454.1212\n",
      "Epoch 11/20\n",
      "297/297 [==============================] - 2s 5ms/step - loss: 298010.0000 - mae: 404.3301 - val_loss: 415854.0000 - val_mae: 436.6087\n",
      "Epoch 12/20\n",
      "297/297 [==============================] - 1s 5ms/step - loss: 288429.2812 - mae: 394.8784 - val_loss: 465359.3750 - val_mae: 463.2260\n",
      "Epoch 13/20\n",
      "297/297 [==============================] - 1s 5ms/step - loss: 286939.4375 - mae: 394.6420 - val_loss: 462977.7188 - val_mae: 462.9626\n",
      "Epoch 14/20\n",
      "297/297 [==============================] - 1s 5ms/step - loss: 278931.5312 - mae: 387.2829 - val_loss: 416346.3125 - val_mae: 437.2372\n",
      "Epoch 15/20\n",
      "297/297 [==============================] - 1s 4ms/step - loss: 278487.1562 - mae: 385.4630 - val_loss: 432844.0000 - val_mae: 447.4918\n",
      "Epoch 16/20\n",
      "297/297 [==============================] - 1s 5ms/step - loss: 275957.9062 - mae: 384.9424 - val_loss: 437557.8750 - val_mae: 449.3636\n",
      "Epoch 17/20\n",
      "297/297 [==============================] - 1s 5ms/step - loss: 271762.7188 - mae: 380.6149 - val_loss: 405820.2812 - val_mae: 432.5675\n",
      "Epoch 18/20\n",
      "297/297 [==============================] - 1s 4ms/step - loss: 269392.7812 - mae: 380.2479 - val_loss: 424231.5000 - val_mae: 441.0287\n",
      "Epoch 19/20\n",
      "297/297 [==============================] - 1s 4ms/step - loss: 266151.8438 - mae: 373.9175 - val_loss: 470200.2812 - val_mae: 469.3101\n",
      "Epoch 20/20\n",
      "297/297 [==============================] - 1s 5ms/step - loss: 259485.6875 - mae: 371.4072 - val_loss: 449939.2500 - val_mae: 454.9822\n",
      "80/80 [==============================] - 0s 2ms/step - loss: 449939.1562 - mae: 454.9822\n"
     ]
    },
    {
     "data": {
      "text/plain": [
       "[449939.15625, 454.982177734375]"
      ]
     },
     "execution_count": 17,
     "metadata": {},
     "output_type": "execute_result"
    }
   ],
   "source": [
    "tensorboard_callback = tf.keras.callbacks.TensorBoard(log_dir=\"./logs\")\n",
    "history = model.fit(X_train, y_train, epochs=num_epochs, validation_data=(\n",
    "    X_test, y_test), batch_size=20, verbose=True, callbacks=[tensorboard_callback])\n",
    "model.evaluate(X_test, y_test)"
   ]
  },
  {
   "cell_type": "code",
   "execution_count": 18,
   "id": "8ad095fe",
   "metadata": {},
   "outputs": [
    {
     "data": {
      "image/png": "[encoded data removed]",
      "text/plain": [
       "<Figure size 432x288 with 1 Axes>"
      ]
     },
     "metadata": {
      "needs_background": "light"
     },
     "output_type": "display_data"
    }
   ],
   "source": [
    "loss = history.history['loss']\n",
    "val_loss = history.history['val_loss']\n",
    "\n",
    "epochs = range(1, len(loss) + 1)\n",
    "\n",
    "plt.plot(epochs, loss, 'bo', label='Training loss')\n",
    "plt.plot(epochs, val_loss, 'b', label='Validation loss')\n",
    "plt.title('Training and validation loss for model 4')\n",
    "plt.xlabel('Epochs')\n",
    "plt.ylabel('Loss')\n",
    "plt.legend()\n",
    "\n",
    "plt.savefig('images/model4.png', dpi=1200)\n",
    "\n",
    "plt.show()"
   ]
  },
  {
   "cell_type": "markdown",
   "id": "cc005c20",
   "metadata": {},
   "source": [
    "## Model 5"
   ]
  },
  {
   "cell_type": "code",
   "execution_count": 19,
   "id": "d4ed2ae4",
   "metadata": {},
   "outputs": [
    {
     "name": "stdout",
     "output_type": "stream",
     "text": [
      "Model: \"sequential_4\"\n",
      "_________________________________________________________________\n",
      " Layer (type)                Output Shape              Param #   \n",
      "=================================================================\n",
      " dense_13 (Dense)            (None, 16)                576       \n",
      "                                                                 \n",
      " dropout_9 (Dropout)         (None, 16)                0         \n",
      "                                                                 \n",
      " dense_14 (Dense)            (None, 16)                272       \n",
      "                                                                 \n",
      " dropout_10 (Dropout)        (None, 16)                0         \n",
      "                                                                 \n",
      " dense_15 (Dense)            (None, 16)                272       \n",
      "                                                                 \n",
      " dropout_11 (Dropout)        (None, 16)                0         \n",
      "                                                                 \n",
      " dense_16 (Dense)            (None, 1)                 17        \n",
      "                                                                 \n",
      "=================================================================\n",
      "Total params: 1,137\n",
      "Trainable params: 1,137\n",
      "Non-trainable params: 0\n",
      "_________________________________________________________________\n"
     ]
    }
   ],
   "source": [
    "model = models.Sequential()\n",
    "model.add(layers.Dense(16, input_shape=(X_train.shape[1],)))\n",
    "model.add(layers.Dropout(0.2, seed=22))\n",
    "model.add(layers.Dense(16, activation='relu'))\n",
    "model.add(layers.Dropout(0.2, seed=22))\n",
    "model.add(layers.Dense(16, activation='relu'))\n",
    "model.add(layers.Dropout(0.2, seed=22))\n",
    "model.add(layers.Dense(1))\n",
    "model.summary()\n",
    "model.compile(optimizer='adam', loss='mse', metrics=['mae'])"
   ]
  },
  {
   "cell_type": "code",
   "execution_count": 20,
   "id": "b77db885",
   "metadata": {},
   "outputs": [
    {
     "name": "stdout",
     "output_type": "stream",
     "text": [
      "Epoch 1/20\n",
      "297/297 [==============================] - 3s 6ms/step - loss: 517222.9688 - mae: 536.1293 - val_loss: 452278.0312 - val_mae: 484.8969\n",
      "Epoch 2/20\n",
      "297/297 [==============================] - 2s 5ms/step - loss: 409724.9688 - mae: 484.4326 - val_loss: 431146.3438 - val_mae: 457.4763\n",
      "Epoch 3/20\n",
      "297/297 [==============================] - 2s 5ms/step - loss: 367560.6562 - mae: 459.1902 - val_loss: 417352.1562 - val_mae: 444.1916\n",
      "Epoch 4/20\n",
      "297/297 [==============================] - 2s 6ms/step - loss: 342395.8438 - mae: 439.3727 - val_loss: 437748.6250 - val_mae: 448.8008\n",
      "Epoch 5/20\n",
      "297/297 [==============================] - 1s 5ms/step - loss: 318585.1250 - mae: 419.9056 - val_loss: 366555.8438 - val_mae: 415.8190\n",
      "Epoch 6/20\n",
      "297/297 [==============================] - 2s 5ms/step - loss: 305233.6250 - mae: 407.9542 - val_loss: 433410.6250 - val_mae: 452.2440\n",
      "Epoch 7/20\n",
      "297/297 [==============================] - 2s 5ms/step - loss: 300000.7500 - mae: 401.0567 - val_loss: 470436.8438 - val_mae: 472.4568\n",
      "Epoch 8/20\n",
      "297/297 [==============================] - 2s 6ms/step - loss: 288663.6562 - mae: 395.0239 - val_loss: 449098.6250 - val_mae: 462.2113\n",
      "Epoch 9/20\n",
      "297/297 [==============================] - 1s 5ms/step - loss: 286044.8750 - mae: 390.0885 - val_loss: 465634.4688 - val_mae: 469.9695\n",
      "Epoch 10/20\n",
      "297/297 [==============================] - 1s 5ms/step - loss: 275164.3750 - mae: 382.8901 - val_loss: 531241.5625 - val_mae: 506.6436\n",
      "Epoch 11/20\n",
      "297/297 [==============================] - 1s 5ms/step - loss: 268180.3438 - mae: 377.9883 - val_loss: 441479.2500 - val_mae: 460.2539\n",
      "Epoch 12/20\n",
      "297/297 [==============================] - 1s 5ms/step - loss: 263051.7188 - mae: 373.3596 - val_loss: 457465.6562 - val_mae: 469.6740\n",
      "Epoch 13/20\n",
      "297/297 [==============================] - 1s 5ms/step - loss: 260664.5000 - mae: 368.9601 - val_loss: 468928.4062 - val_mae: 476.3472\n",
      "Epoch 14/20\n",
      "297/297 [==============================] - 1s 4ms/step - loss: 256475.1719 - mae: 367.0541 - val_loss: 445548.7500 - val_mae: 460.9192\n",
      "Epoch 15/20\n",
      "297/297 [==============================] - 1s 5ms/step - loss: 248080.1875 - mae: 360.9097 - val_loss: 439275.2500 - val_mae: 460.6055\n",
      "Epoch 16/20\n",
      "297/297 [==============================] - 1s 5ms/step - loss: 243668.7969 - mae: 356.6243 - val_loss: 435023.6875 - val_mae: 455.0932\n",
      "Epoch 17/20\n",
      "297/297 [==============================] - 1s 5ms/step - loss: 239443.2344 - mae: 353.8059 - val_loss: 479239.3125 - val_mae: 481.7603\n",
      "Epoch 18/20\n",
      "297/297 [==============================] - 1s 5ms/step - loss: 234777.0156 - mae: 348.3117 - val_loss: 402772.0938 - val_mae: 433.7550\n",
      "Epoch 19/20\n",
      "297/297 [==============================] - 1s 5ms/step - loss: 229108.8594 - mae: 344.3687 - val_loss: 410290.6250 - val_mae: 438.2154\n",
      "Epoch 20/20\n",
      "297/297 [==============================] - 1s 5ms/step - loss: 220297.0781 - mae: 336.4896 - val_loss: 351407.7500 - val_mae: 399.2763\n",
      "80/80 [==============================] - 0s 2ms/step - loss: 351408.5625 - mae: 399.2767\n"
     ]
    },
    {
     "data": {
      "text/plain": [
       "[351408.5625, 399.2767333984375]"
      ]
     },
     "execution_count": 20,
     "metadata": {},
     "output_type": "execute_result"
    }
   ],
   "source": [
    "tensorboard_callback = tf.keras.callbacks.TensorBoard(log_dir=\"./logs\")\n",
    "history = model.fit(X_train, y_train, epochs=num_epochs, validation_data=(\n",
    "    X_test, y_test), batch_size=20, verbose=True, callbacks=[tensorboard_callback])\n",
    "model.evaluate(X_test, y_test)"
   ]
  },
  {
   "cell_type": "code",
   "execution_count": 21,
   "id": "0a012bef",
   "metadata": {},
   "outputs": [
    {
     "data": {
      "image/png": "[encoded data removed]",
      "text/plain": [
       "<Figure size 432x288 with 1 Axes>"
      ]
     },
     "metadata": {
      "needs_background": "light"
     },
     "output_type": "display_data"
    }
   ],
   "source": [
    "loss = history.history['loss']\n",
    "val_loss = history.history['val_loss']\n",
    "\n",
    "epochs = range(1, len(loss) + 1)\n",
    "\n",
    "plt.plot(epochs, loss, 'bo', label='Training loss')\n",
    "plt.plot(epochs, val_loss, 'b', label='Validation loss')\n",
    "plt.title('Training and validation loss for model 5')\n",
    "plt.xlabel('Epochs')\n",
    "plt.ylabel('Loss')\n",
    "plt.legend()\n",
    "\n",
    "plt.savefig('images/model5.png', dpi=1200)\n",
    "\n",
    "plt.show()"
   ]
  },
  {
   "cell_type": "markdown",
   "id": "c5e8897c",
   "metadata": {},
   "source": [
    "## Model 6"
   ]
  },
  {
   "cell_type": "code",
   "execution_count": 22,
   "id": "8868a2ba",
   "metadata": {},
   "outputs": [
    {
     "name": "stdout",
     "output_type": "stream",
     "text": [
      "Model: \"sequential_5\"\n",
      "_________________________________________________________________\n",
      " Layer (type)                Output Shape              Param #   \n",
      "=================================================================\n",
      " dense_17 (Dense)            (None, 64)                2304      \n",
      "                                                                 \n",
      " dropout_12 (Dropout)        (None, 64)                0         \n",
      "                                                                 \n",
      " dense_18 (Dense)            (None, 16)                1040      \n",
      "                                                                 \n",
      " dropout_13 (Dropout)        (None, 16)                0         \n",
      "                                                                 \n",
      " dense_19 (Dense)            (None, 16)                272       \n",
      "                                                                 \n",
      " dropout_14 (Dropout)        (None, 16)                0         \n",
      "                                                                 \n",
      " dense_20 (Dense)            (None, 1)                 17        \n",
      "                                                                 \n",
      "=================================================================\n",
      "Total params: 3,633\n",
      "Trainable params: 3,633\n",
      "Non-trainable params: 0\n",
      "_________________________________________________________________\n"
     ]
    }
   ],
   "source": [
    "model = models.Sequential()\n",
    "model.add(layers.Dense(64, input_shape=(X_train.shape[1],)))\n",
    "model.add(layers.Dropout(0.2, seed=22))\n",
    "model.add(layers.Dense(16, activation='relu'))\n",
    "model.add(layers.Dropout(0.2, seed=22))\n",
    "model.add(layers.Dense(16, activation='relu'))\n",
    "model.add(layers.Dropout(0.2, seed=22))\n",
    "model.add(layers.Dense(1))\n",
    "model.summary()\n",
    "model.compile(optimizer='adam', loss='mse', metrics=['mae'])"
   ]
  },
  {
   "cell_type": "code",
   "execution_count": 23,
   "id": "960c6a2e",
   "metadata": {},
   "outputs": [
    {
     "name": "stdout",
     "output_type": "stream",
     "text": [
      "Epoch 1/20\n",
      "297/297 [==============================] - 3s 7ms/step - loss: 478971.6875 - mae: 518.6257 - val_loss: 404856.8750 - val_mae: 482.2755\n",
      "Epoch 2/20\n",
      "297/297 [==============================] - 2s 5ms/step - loss: 409125.9375 - mae: 487.2763 - val_loss: 412143.3125 - val_mae: 442.8113\n",
      "Epoch 3/20\n",
      "297/297 [==============================] - 2s 6ms/step - loss: 349856.4062 - mae: 443.6528 - val_loss: 335871.1562 - val_mae: 409.4437\n",
      "Epoch 4/20\n",
      "297/297 [==============================] - 2s 5ms/step - loss: 333606.8125 - mae: 426.6975 - val_loss: 336424.4062 - val_mae: 404.0911\n",
      "Epoch 5/20\n",
      "297/297 [==============================] - 2s 5ms/step - loss: 309389.8125 - mae: 408.5814 - val_loss: 306686.2500 - val_mae: 386.9043\n",
      "Epoch 6/20\n",
      "297/297 [==============================] - 2s 5ms/step - loss: 294832.3438 - mae: 396.2332 - val_loss: 338767.3750 - val_mae: 398.4107\n",
      "Epoch 7/20\n",
      "297/297 [==============================] - 1s 5ms/step - loss: 288830.4688 - mae: 391.4121 - val_loss: 336235.0000 - val_mae: 395.7896\n",
      "Epoch 8/20\n",
      "297/297 [==============================] - 2s 5ms/step - loss: 285901.1562 - mae: 385.2387 - val_loss: 321631.0625 - val_mae: 387.2225\n",
      "Epoch 9/20\n",
      "297/297 [==============================] - 2s 5ms/step - loss: 282174.8125 - mae: 379.6344 - val_loss: 340980.3438 - val_mae: 395.5061\n",
      "Epoch 10/20\n",
      "297/297 [==============================] - 1s 5ms/step - loss: 266848.7500 - mae: 371.2502 - val_loss: 386497.7500 - val_mae: 423.2274\n",
      "Epoch 11/20\n",
      "297/297 [==============================] - 1s 4ms/step - loss: 260703.5938 - mae: 365.8170 - val_loss: 353964.6875 - val_mae: 401.3654\n",
      "Epoch 12/20\n",
      "297/297 [==============================] - 2s 5ms/step - loss: 255660.2812 - mae: 364.1898 - val_loss: 325061.5625 - val_mae: 384.0236\n",
      "Epoch 13/20\n",
      "297/297 [==============================] - 1s 5ms/step - loss: 256072.6094 - mae: 362.0993 - val_loss: 335904.4375 - val_mae: 389.7616\n",
      "Epoch 14/20\n",
      "297/297 [==============================] - 1s 5ms/step - loss: 250326.6250 - mae: 355.7610 - val_loss: 326860.5000 - val_mae: 382.2776\n",
      "Epoch 15/20\n",
      "297/297 [==============================] - 1s 4ms/step - loss: 240265.5000 - mae: 347.0683 - val_loss: 292380.9375 - val_mae: 360.9223\n",
      "Epoch 16/20\n",
      "297/297 [==============================] - 1s 4ms/step - loss: 237215.6875 - mae: 347.2261 - val_loss: 285661.5000 - val_mae: 355.5865\n",
      "Epoch 17/20\n",
      "297/297 [==============================] - 1s 5ms/step - loss: 229144.5000 - mae: 338.9843 - val_loss: 300339.5625 - val_mae: 362.6967\n",
      "Epoch 18/20\n",
      "297/297 [==============================] - 1s 5ms/step - loss: 220345.3281 - mae: 332.4737 - val_loss: 319314.0000 - val_mae: 375.6988\n",
      "Epoch 19/20\n",
      "297/297 [==============================] - 1s 5ms/step - loss: 214610.2031 - mae: 328.2831 - val_loss: 312745.9062 - val_mae: 367.5425\n",
      "Epoch 20/20\n",
      "297/297 [==============================] - 1s 5ms/step - loss: 205749.0156 - mae: 319.6099 - val_loss: 264963.4688 - val_mae: 336.5835\n",
      "80/80 [==============================] - 0s 2ms/step - loss: 264963.4375 - mae: 336.5835\n"
     ]
    },
    {
     "data": {
      "text/plain": [
       "[264963.4375, 336.58349609375]"
      ]
     },
     "execution_count": 23,
     "metadata": {},
     "output_type": "execute_result"
    }
   ],
   "source": [
    "tensorboard_callback = tf.keras.callbacks.TensorBoard(log_dir=\"./logs\")\n",
    "history = model.fit(X_train, y_train, epochs=num_epochs, validation_data=(\n",
    "    X_test, y_test), batch_size=20, verbose=True, callbacks=[tensorboard_callback])\n",
    "model.evaluate(X_test, y_test)"
   ]
  },
  {
   "cell_type": "code",
   "execution_count": 24,
   "id": "6b8bd03b",
   "metadata": {},
   "outputs": [
    {
     "data": {
      "image/png": "[encoded data removed]",
      "text/plain": [
       "<Figure size 432x288 with 1 Axes>"
      ]
     },
     "metadata": {
      "needs_background": "light"
     },
     "output_type": "display_data"
    }
   ],
   "source": [
    "loss = history.history['loss']\n",
    "val_loss = history.history['val_loss']\n",
    "\n",
    "epochs = range(1, len(loss) + 1)\n",
    "\n",
    "plt.plot(epochs, loss, 'bo', label='Training loss')\n",
    "plt.plot(epochs, val_loss, 'b', label='Validation loss')\n",
    "plt.title('Training and validation loss for model 6')\n",
    "plt.xlabel('Epochs')\n",
    "plt.ylabel('Loss')\n",
    "plt.legend()\n",
    "\n",
    "plt.savefig('images/model6.png', dpi=1200)\n",
    "\n",
    "plt.show()"
   ]
  },
  {
   "cell_type": "markdown",
   "id": "b7299ad6",
   "metadata": {},
   "source": [
    "## Model 7"
   ]
  },
  {
   "cell_type": "code",
   "execution_count": 25,
   "id": "8a9235f2",
   "metadata": {},
   "outputs": [
    {
     "name": "stdout",
     "output_type": "stream",
     "text": [
      "Model: \"sequential_6\"\n",
      "_________________________________________________________________\n",
      " Layer (type)                Output Shape              Param #   \n",
      "=================================================================\n",
      " dense_21 (Dense)            (None, 64)                2304      \n",
      "                                                                 \n",
      " dropout_15 (Dropout)        (None, 64)                0         \n",
      "                                                                 \n",
      " dense_22 (Dense)            (None, 16)                1040      \n",
      "                                                                 \n",
      " dropout_16 (Dropout)        (None, 16)                0         \n",
      "                                                                 \n",
      " dense_23 (Dense)            (None, 8)                 136       \n",
      "                                                                 \n",
      " dropout_17 (Dropout)        (None, 8)                 0         \n",
      "                                                                 \n",
      " dense_24 (Dense)            (None, 1)                 9         \n",
      "                                                                 \n",
      "=================================================================\n",
      "Total params: 3,489\n",
      "Trainable params: 3,489\n",
      "Non-trainable params: 0\n",
      "_________________________________________________________________\n"
     ]
    }
   ],
   "source": [
    "model = models.Sequential()\n",
    "model.add(layers.Dense(64, input_shape=(X_train.shape[1],)))\n",
    "model.add(layers.Dropout(0.2, seed=22))\n",
    "model.add(layers.Dense(16, activation='relu'))\n",
    "model.add(layers.Dropout(0.2, seed=22))\n",
    "model.add(layers.Dense(8, activation='relu'))\n",
    "model.add(layers.Dropout(0.2, seed=22))\n",
    "model.add(layers.Dense(1))\n",
    "model.summary()\n",
    "model.compile(optimizer='adam', loss='mse', metrics=['mae'])"
   ]
  },
  {
   "cell_type": "code",
   "execution_count": 26,
   "id": "d06ad928",
   "metadata": {},
   "outputs": [
    {
     "name": "stdout",
     "output_type": "stream",
     "text": [
      "Epoch 1/20\n",
      "297/297 [==============================] - 3s 6ms/step - loss: 485188.8438 - mae: 524.7321 - val_loss: 409295.3750 - val_mae: 469.7590\n",
      "Epoch 2/20\n",
      "297/297 [==============================] - 2s 6ms/step - loss: 431582.8750 - mae: 493.1885 - val_loss: 333303.9375 - val_mae: 425.8589\n",
      "Epoch 3/20\n",
      "297/297 [==============================] - 2s 5ms/step - loss: 376703.6250 - mae: 456.2497 - val_loss: 326736.3438 - val_mae: 402.5748\n",
      "Epoch 4/20\n",
      "297/297 [==============================] - 2s 5ms/step - loss: 350302.2188 - mae: 433.9647 - val_loss: 299212.3125 - val_mae: 387.8101\n",
      "Epoch 5/20\n",
      "297/297 [==============================] - 2s 5ms/step - loss: 333293.2188 - mae: 416.8779 - val_loss: 277628.0312 - val_mae: 383.7771\n",
      "Epoch 6/20\n",
      "297/297 [==============================] - 2s 5ms/step - loss: 321857.1562 - mae: 407.9726 - val_loss: 289215.9375 - val_mae: 377.0053\n",
      "Epoch 7/20\n",
      "297/297 [==============================] - 1s 5ms/step - loss: 316930.1875 - mae: 401.9073 - val_loss: 314331.2812 - val_mae: 386.4086\n",
      "Epoch 8/20\n",
      "297/297 [==============================] - 2s 5ms/step - loss: 308063.3438 - mae: 394.7727 - val_loss: 261007.9062 - val_mae: 362.2195\n",
      "Epoch 9/20\n",
      "297/297 [==============================] - 1s 5ms/step - loss: 300914.4375 - mae: 391.2630 - val_loss: 252715.8906 - val_mae: 356.1082\n",
      "Epoch 10/20\n",
      "297/297 [==============================] - 2s 5ms/step - loss: 289951.8438 - mae: 380.2202 - val_loss: 257407.4688 - val_mae: 350.7495\n",
      "Epoch 11/20\n",
      "297/297 [==============================] - 2s 5ms/step - loss: 279245.5000 - mae: 372.6010 - val_loss: 234433.1094 - val_mae: 344.6372\n",
      "Epoch 12/20\n",
      "297/297 [==============================] - 2s 5ms/step - loss: 271624.2812 - mae: 367.1555 - val_loss: 229206.8281 - val_mae: 334.7119\n",
      "Epoch 13/20\n",
      "297/297 [==============================] - 1s 5ms/step - loss: 262924.5000 - mae: 359.8616 - val_loss: 219808.6562 - val_mae: 347.6409\n",
      "Epoch 14/20\n",
      "297/297 [==============================] - 1s 5ms/step - loss: 255734.5156 - mae: 353.4036 - val_loss: 213293.4531 - val_mae: 320.7727\n",
      "Epoch 15/20\n",
      "297/297 [==============================] - 2s 5ms/step - loss: 251353.0469 - mae: 350.1887 - val_loss: 201109.8438 - val_mae: 313.1476\n",
      "Epoch 16/20\n",
      "297/297 [==============================] - 2s 5ms/step - loss: 236536.3906 - mae: 338.1167 - val_loss: 216701.2969 - val_mae: 310.2164\n",
      "Epoch 17/20\n",
      "297/297 [==============================] - 2s 5ms/step - loss: 230536.4688 - mae: 333.4678 - val_loss: 188261.9531 - val_mae: 298.2912\n",
      "Epoch 18/20\n",
      "297/297 [==============================] - 1s 5ms/step - loss: 223483.6719 - mae: 332.4150 - val_loss: 172394.2969 - val_mae: 297.6029\n",
      "Epoch 19/20\n",
      "297/297 [==============================] - 1s 5ms/step - loss: 219913.2969 - mae: 325.6337 - val_loss: 166206.4219 - val_mae: 296.5279\n",
      "Epoch 20/20\n",
      "297/297 [==============================] - 1s 5ms/step - loss: 215857.3906 - mae: 320.8820 - val_loss: 158530.4219 - val_mae: 279.7513\n",
      "80/80 [==============================] - 0s 2ms/step - loss: 158530.4219 - mae: 279.7513\n"
     ]
    },
    {
     "data": {
      "text/plain": [
       "[158530.421875, 279.75128173828125]"
      ]
     },
     "execution_count": 26,
     "metadata": {},
     "output_type": "execute_result"
    }
   ],
   "source": [
    "tensorboard_callback = tf.keras.callbacks.TensorBoard(log_dir=\"./logs\")\n",
    "history = model.fit(X_train, y_train, epochs=num_epochs, validation_data=(\n",
    "    X_test, y_test), batch_size=20, verbose=True, callbacks=[tensorboard_callback])\n",
    "model.evaluate(X_test, y_test)"
   ]
  },
  {
   "cell_type": "code",
   "execution_count": 27,
   "id": "49950885",
   "metadata": {},
   "outputs": [
    {
     "data": {
      "image/png": "[encoded data removed]",
      "text/plain": [
       "<Figure size 432x288 with 1 Axes>"
      ]
     },
     "metadata": {
      "needs_background": "light"
     },
     "output_type": "display_data"
    }
   ],
   "source": [
    "loss = history.history['loss']\n",
    "val_loss = history.history['val_loss']\n",
    "\n",
    "epochs = range(1, len(loss) + 1)\n",
    "\n",
    "plt.plot(epochs, loss, 'bo', label='Training loss')\n",
    "plt.plot(epochs, val_loss, 'b', label='Validation loss')\n",
    "plt.title('Training and validation loss for model 7')\n",
    "plt.xlabel('Epochs')\n",
    "plt.ylabel('Loss')\n",
    "plt.legend()\n",
    "\n",
    "plt.savefig('images/model7.png', dpi=1200)\n",
    "\n",
    "plt.show()"
   ]
  },
  {
   "cell_type": "markdown",
   "id": "0e8f4ba9",
   "metadata": {},
   "source": [
    "## Model 8"
   ]
  },
  {
   "cell_type": "code",
   "execution_count": 28,
   "id": "bf4f3827",
   "metadata": {},
   "outputs": [
    {
     "name": "stdout",
     "output_type": "stream",
     "text": [
      "Model: \"sequential_7\"\n",
      "_________________________________________________________________\n",
      " Layer (type)                Output Shape              Param #   \n",
      "=================================================================\n",
      " dense_25 (Dense)            (None, 64)                2304      \n",
      "                                                                 \n",
      " dropout_18 (Dropout)        (None, 64)                0         \n",
      "                                                                 \n",
      " dense_26 (Dense)            (None, 32)                2080      \n",
      "                                                                 \n",
      " dropout_19 (Dropout)        (None, 32)                0         \n",
      "                                                                 \n",
      " dense_27 (Dense)            (None, 16)                528       \n",
      "                                                                 \n",
      " dropout_20 (Dropout)        (None, 16)                0         \n",
      "                                                                 \n",
      " dense_28 (Dense)            (None, 8)                 136       \n",
      "                                                                 \n",
      " dropout_21 (Dropout)        (None, 8)                 0         \n",
      "                                                                 \n",
      " dense_29 (Dense)            (None, 1)                 9         \n",
      "                                                                 \n",
      "=================================================================\n",
      "Total params: 5,057\n",
      "Trainable params: 5,057\n",
      "Non-trainable params: 0\n",
      "_________________________________________________________________\n"
     ]
    }
   ],
   "source": [
    "model = models.Sequential()\n",
    "model.add(layers.Dense(64, input_shape=(X_train.shape[1],)))\n",
    "model.add(layers.Dropout(0.2, seed=22))\n",
    "model.add(layers.Dense(32, activation='relu'))\n",
    "model.add(layers.Dropout(0.2, seed=22))\n",
    "model.add(layers.Dense(16, activation='relu'))\n",
    "model.add(layers.Dropout(0.2, seed=22))\n",
    "model.add(layers.Dense(8, activation='relu'))\n",
    "model.add(layers.Dropout(0.2, seed=22))\n",
    "model.add(layers.Dense(1))\n",
    "model.summary()\n",
    "model.compile(optimizer='adam', loss='mse', metrics=['mae'])"
   ]
  },
  {
   "cell_type": "code",
   "execution_count": 29,
   "id": "d9a23934",
   "metadata": {},
   "outputs": [
    {
     "name": "stdout",
     "output_type": "stream",
     "text": [
      "Epoch 1/20\n",
      "297/297 [==============================] - 3s 6ms/step - loss: 648032.6250 - mae: 595.1998 - val_loss: 456027.7188 - val_mae: 491.5452\n",
      "Epoch 2/20\n",
      "297/297 [==============================] - 1s 5ms/step - loss: 501850.4375 - mae: 530.0619 - val_loss: 390170.9688 - val_mae: 451.3433\n",
      "Epoch 3/20\n",
      "297/297 [==============================] - 2s 6ms/step - loss: 442515.4062 - mae: 489.9201 - val_loss: 359468.2188 - val_mae: 414.3210\n",
      "Epoch 4/20\n",
      "297/297 [==============================] - 2s 6ms/step - loss: 391275.4688 - mae: 453.6159 - val_loss: 320406.8750 - val_mae: 394.9715\n",
      "Epoch 5/20\n",
      "297/297 [==============================] - 2s 6ms/step - loss: 388270.1250 - mae: 446.7886 - val_loss: 318924.7812 - val_mae: 390.7517\n",
      "Epoch 6/20\n",
      "297/297 [==============================] - 2s 5ms/step - loss: 369820.4375 - mae: 433.5405 - val_loss: 302988.4375 - val_mae: 382.2283\n",
      "Epoch 7/20\n",
      "297/297 [==============================] - 2s 6ms/step - loss: 367614.7500 - mae: 426.3484 - val_loss: 311521.4375 - val_mae: 384.8450\n",
      "Epoch 8/20\n",
      "297/297 [==============================] - 2s 6ms/step - loss: 347923.5000 - mae: 417.7908 - val_loss: 308475.7188 - val_mae: 382.2237\n",
      "Epoch 9/20\n",
      "297/297 [==============================] - 2s 6ms/step - loss: 357496.8438 - mae: 420.9035 - val_loss: 289468.2188 - val_mae: 367.0438\n",
      "Epoch 10/20\n",
      "297/297 [==============================] - 2s 6ms/step - loss: 340430.4062 - mae: 406.3799 - val_loss: 344907.2812 - val_mae: 402.8572\n",
      "Epoch 11/20\n",
      "297/297 [==============================] - 2s 6ms/step - loss: 337429.9688 - mae: 405.9462 - val_loss: 239822.4688 - val_mae: 346.8311\n",
      "Epoch 12/20\n",
      "297/297 [==============================] - 2s 6ms/step - loss: 334170.0625 - mae: 398.9570 - val_loss: 353711.2188 - val_mae: 397.4803\n",
      "Epoch 13/20\n",
      "297/297 [==============================] - 2s 5ms/step - loss: 331230.5312 - mae: 398.0916 - val_loss: 222265.8594 - val_mae: 338.7894\n",
      "Epoch 14/20\n",
      "297/297 [==============================] - 2s 5ms/step - loss: 309569.0625 - mae: 385.6745 - val_loss: 222580.2344 - val_mae: 321.7209\n",
      "Epoch 15/20\n",
      "297/297 [==============================] - 2s 6ms/step - loss: 307256.0625 - mae: 384.0735 - val_loss: 233894.8750 - val_mae: 319.6519\n",
      "Epoch 16/20\n",
      "297/297 [==============================] - 2s 5ms/step - loss: 299693.4062 - mae: 374.8240 - val_loss: 195900.6875 - val_mae: 303.7479\n",
      "Epoch 17/20\n",
      "297/297 [==============================] - 2s 6ms/step - loss: 280342.3750 - mae: 362.8165 - val_loss: 202843.5469 - val_mae: 298.1689\n",
      "Epoch 18/20\n",
      "297/297 [==============================] - 2s 5ms/step - loss: 280266.2812 - mae: 363.2239 - val_loss: 175761.5156 - val_mae: 287.5279\n",
      "Epoch 19/20\n",
      "297/297 [==============================] - 2s 5ms/step - loss: 273364.4688 - mae: 357.0024 - val_loss: 175107.7344 - val_mae: 279.7119\n",
      "Epoch 20/20\n",
      "297/297 [==============================] - 2s 5ms/step - loss: 260355.3281 - mae: 348.6740 - val_loss: 156073.8906 - val_mae: 273.1489\n",
      "80/80 [==============================] - 0s 2ms/step - loss: 156074.0000 - mae: 273.1490\n"
     ]
    },
    {
     "data": {
      "text/plain": [
       "[156074.0, 273.14898681640625]"
      ]
     },
     "execution_count": 29,
     "metadata": {},
     "output_type": "execute_result"
    }
   ],
   "source": [
    "tensorboard_callback = tf.keras.callbacks.TensorBoard(log_dir=\"./logs\")\n",
    "history = model.fit(X_train, y_train, epochs=num_epochs, validation_data=(\n",
    "    X_test, y_test), batch_size=20, verbose=True, callbacks=[tensorboard_callback])\n",
    "model.evaluate(X_test, y_test)"
   ]
  },
  {
   "cell_type": "code",
   "execution_count": 30,
   "id": "c6a88861",
   "metadata": {},
   "outputs": [
    {
     "data": {
      "image/png": "[encoded data removed]",
      "text/plain": [
       "<Figure size 432x288 with 1 Axes>"
      ]
     },
     "metadata": {
      "needs_background": "light"
     },
     "output_type": "display_data"
    }
   ],
   "source": [
    "loss = history.history['loss']\n",
    "val_loss = history.history['val_loss']\n",
    "\n",
    "epochs = range(1, len(loss) + 1)\n",
    "\n",
    "plt.plot(epochs, loss, 'bo', label='Training loss')\n",
    "plt.plot(epochs, val_loss, 'b', label='Validation loss')\n",
    "plt.title('Training and validation loss for model 8')\n",
    "plt.xlabel('Epochs')\n",
    "plt.ylabel('Loss')\n",
    "plt.legend()\n",
    "\n",
    "plt.savefig('images/model8.png', dpi=1200)\n",
    "\n",
    "plt.show()"
   ]
  },
  {
   "cell_type": "markdown",
   "id": "26691627",
   "metadata": {},
   "source": [
    "## Model 9"
   ]
  },
  {
   "cell_type": "code",
   "execution_count": 31,
   "id": "09de4fcf",
   "metadata": {},
   "outputs": [
    {
     "name": "stdout",
     "output_type": "stream",
     "text": [
      "Model: \"sequential_8\"\n",
      "_________________________________________________________________\n",
      " Layer (type)                Output Shape              Param #   \n",
      "=================================================================\n",
      " dense_30 (Dense)            (None, 128)               4608      \n",
      "                                                                 \n",
      " dropout_22 (Dropout)        (None, 128)               0         \n",
      "                                                                 \n",
      " dense_31 (Dense)            (None, 64)                8256      \n",
      "                                                                 \n",
      " dropout_23 (Dropout)        (None, 64)                0         \n",
      "                                                                 \n",
      " dense_32 (Dense)            (None, 32)                2080      \n",
      "                                                                 \n",
      " dropout_24 (Dropout)        (None, 32)                0         \n",
      "                                                                 \n",
      " dense_33 (Dense)            (None, 16)                528       \n",
      "                                                                 \n",
      " dropout_25 (Dropout)        (None, 16)                0         \n",
      "                                                                 \n",
      " dense_34 (Dense)            (None, 8)                 136       \n",
      "                                                                 \n",
      " dropout_26 (Dropout)        (None, 8)                 0         \n",
      "                                                                 \n",
      " dense_35 (Dense)            (None, 4)                 36        \n",
      "                                                                 \n",
      " dropout_27 (Dropout)        (None, 4)                 0         \n",
      "                                                                 \n",
      " dense_36 (Dense)            (None, 1)                 5         \n",
      "                                                                 \n",
      "=================================================================\n",
      "Total params: 15,649\n",
      "Trainable params: 15,649\n",
      "Non-trainable params: 0\n",
      "_________________________________________________________________\n"
     ]
    }
   ],
   "source": [
    "model = models.Sequential()\n",
    "model.add(layers.Dense(128, input_shape=(X_train.shape[1],)))\n",
    "model.add(layers.Dropout(0.2, seed=22))\n",
    "model.add(layers.Dense(64, input_shape=(X_train.shape[1],)))\n",
    "model.add(layers.Dropout(0.2, seed=22))\n",
    "model.add(layers.Dense(32, activation='relu'))\n",
    "model.add(layers.Dropout(0.2, seed=22))\n",
    "model.add(layers.Dense(16, activation='relu'))\n",
    "model.add(layers.Dropout(0.2, seed=22))\n",
    "model.add(layers.Dense(8, activation='relu'))\n",
    "model.add(layers.Dropout(0.2, seed=22))\n",
    "model.add(layers.Dense(4, activation='relu'))\n",
    "model.add(layers.Dropout(0.2, seed=22))\n",
    "model.add(layers.Dense(1))\n",
    "model.summary()\n",
    "model.compile(optimizer='adam', loss='mse', metrics=['mae'])"
   ]
  },
  {
   "cell_type": "code",
   "execution_count": 32,
   "id": "2b0c1712",
   "metadata": {},
   "outputs": [
    {
     "name": "stdout",
     "output_type": "stream",
     "text": [
      "Epoch 1/20\n",
      "297/297 [==============================] - 4s 8ms/step - loss: 698990.0625 - mae: 618.8202 - val_loss: 512931.9688 - val_mae: 503.7224\n",
      "Epoch 2/20\n",
      "297/297 [==============================] - 2s 7ms/step - loss: 606882.0000 - mae: 578.7545 - val_loss: 493327.9688 - val_mae: 478.2543\n",
      "Epoch 3/20\n",
      "297/297 [==============================] - 2s 7ms/step - loss: 542462.3750 - mae: 532.1305 - val_loss: 444382.8438 - val_mae: 449.4548\n",
      "Epoch 4/20\n",
      "297/297 [==============================] - 2s 7ms/step - loss: 500241.3125 - mae: 502.1732 - val_loss: 439514.6562 - val_mae: 448.1589\n",
      "Epoch 5/20\n",
      "297/297 [==============================] - 2s 7ms/step - loss: 484514.8125 - mae: 496.9810 - val_loss: 465335.6875 - val_mae: 462.7914\n",
      "Epoch 6/20\n",
      "297/297 [==============================] - 2s 7ms/step - loss: 474463.9688 - mae: 486.6562 - val_loss: 328124.1562 - val_mae: 393.8752\n",
      "Epoch 7/20\n",
      "297/297 [==============================] - 2s 8ms/step - loss: 466149.6875 - mae: 482.2459 - val_loss: 417726.3750 - val_mae: 440.0546\n",
      "Epoch 8/20\n",
      "297/297 [==============================] - 2s 6ms/step - loss: 477154.6562 - mae: 481.9770 - val_loss: 368280.2812 - val_mae: 406.9970\n",
      "Epoch 9/20\n",
      "297/297 [==============================] - 2s 7ms/step - loss: 434603.4375 - mae: 462.3857 - val_loss: 398911.5625 - val_mae: 423.3805\n",
      "Epoch 10/20\n",
      "297/297 [==============================] - 2s 6ms/step - loss: 444495.6875 - mae: 461.0486 - val_loss: 356471.0000 - val_mae: 397.4443\n",
      "Epoch 11/20\n",
      "297/297 [==============================] - 2s 7ms/step - loss: 431899.2500 - mae: 460.0622 - val_loss: 439422.6875 - val_mae: 450.2715\n",
      "Epoch 12/20\n",
      "297/297 [==============================] - 2s 7ms/step - loss: 434327.5625 - mae: 452.1104 - val_loss: 363701.7812 - val_mae: 401.8178\n",
      "Epoch 13/20\n",
      "297/297 [==============================] - 2s 7ms/step - loss: 412449.4375 - mae: 440.8733 - val_loss: 262933.6562 - val_mae: 350.5380\n",
      "Epoch 14/20\n",
      "297/297 [==============================] - 2s 6ms/step - loss: 404743.5625 - mae: 439.8787 - val_loss: 339926.8750 - val_mae: 381.2596\n",
      "Epoch 15/20\n",
      "297/297 [==============================] - 2s 6ms/step - loss: 409186.9375 - mae: 437.7475 - val_loss: 331116.7188 - val_mae: 376.7821\n",
      "Epoch 16/20\n",
      "297/297 [==============================] - 2s 7ms/step - loss: 399832.6250 - mae: 431.6762 - val_loss: 385932.7500 - val_mae: 412.8470\n",
      "Epoch 17/20\n",
      "297/297 [==============================] - 2s 7ms/step - loss: 376476.1875 - mae: 415.2194 - val_loss: 305598.3125 - val_mae: 359.4370\n",
      "Epoch 18/20\n",
      "297/297 [==============================] - 2s 6ms/step - loss: 393959.3750 - mae: 422.6421 - val_loss: 329050.1875 - val_mae: 382.5297\n",
      "Epoch 19/20\n",
      "297/297 [==============================] - 2s 7ms/step - loss: 390824.6250 - mae: 418.0362 - val_loss: 271297.8125 - val_mae: 338.2136\n",
      "Epoch 20/20\n",
      "297/297 [==============================] - 2s 7ms/step - loss: 371532.8125 - mae: 409.3656 - val_loss: 336689.0000 - val_mae: 386.3246\n",
      "80/80 [==============================] - 0s 3ms/step - loss: 336688.7812 - mae: 386.3244\n"
     ]
    },
    {
     "data": {
      "text/plain": [
       "[336688.78125, 386.3243713378906]"
      ]
     },
     "execution_count": 32,
     "metadata": {},
     "output_type": "execute_result"
    }
   ],
   "source": [
    "tensorboard_callback = tf.keras.callbacks.TensorBoard(log_dir=\"./logs\")\n",
    "history = model.fit(X_train, y_train, epochs=num_epochs, validation_data=(\n",
    "    X_test, y_test), batch_size=20, verbose=True, callbacks=[tensorboard_callback])\n",
    "model.evaluate(X_test, y_test)"
   ]
  },
  {
   "cell_type": "code",
   "execution_count": 33,
   "id": "8a4a2690",
   "metadata": {},
   "outputs": [
    {
     "data": {
      "image/png": "[encoded data removed]",
      "text/plain": [
       "<Figure size 432x288 with 1 Axes>"
      ]
     },
     "metadata": {
      "needs_background": "light"
     },
     "output_type": "display_data"
    }
   ],
   "source": [
    "loss = history.history['loss']\n",
    "val_loss = history.history['val_loss']\n",
    "\n",
    "epochs = range(1, len(loss) + 1)\n",
    "\n",
    "plt.plot(epochs, loss, 'bo', label='Training loss')\n",
    "plt.plot(epochs, val_loss, 'b', label='Validation loss')\n",
    "plt.title('Training and validation loss for model 9')\n",
    "plt.xlabel('Epochs')\n",
    "plt.ylabel('Loss')\n",
    "plt.legend()\n",
    "\n",
    "plt.savefig('images/model9.png', dpi=1200)\n",
    "\n",
    "plt.show()"
   ]
  },
  {
   "cell_type": "markdown",
   "id": "0ef7e2ad",
   "metadata": {},
   "source": [
    "## Model 10"
   ]
  },
  {
   "cell_type": "code",
   "execution_count": 34,
   "id": "23757e90",
   "metadata": {},
   "outputs": [
    {
     "name": "stdout",
     "output_type": "stream",
     "text": [
      "Model: \"sequential_9\"\n",
      "_________________________________________________________________\n",
      " Layer (type)                Output Shape              Param #   \n",
      "=================================================================\n",
      " dense_37 (Dense)            (None, 128)               4608      \n",
      "                                                                 \n",
      " dropout_28 (Dropout)        (None, 128)               0         \n",
      "                                                                 \n",
      " dense_38 (Dense)            (None, 64)                8256      \n",
      "                                                                 \n",
      " dropout_29 (Dropout)        (None, 64)                0         \n",
      "                                                                 \n",
      " dense_39 (Dense)            (None, 32)                2080      \n",
      "                                                                 \n",
      " dropout_30 (Dropout)        (None, 32)                0         \n",
      "                                                                 \n",
      " dense_40 (Dense)            (None, 16)                528       \n",
      "                                                                 \n",
      " dropout_31 (Dropout)        (None, 16)                0         \n",
      "                                                                 \n",
      " dense_41 (Dense)            (None, 8)                 136       \n",
      "                                                                 \n",
      " dropout_32 (Dropout)        (None, 8)                 0         \n",
      "                                                                 \n",
      " dense_42 (Dense)            (None, 4)                 36        \n",
      "                                                                 \n",
      " dropout_33 (Dropout)        (None, 4)                 0         \n",
      "                                                                 \n",
      " dense_43 (Dense)            (None, 1)                 5         \n",
      "                                                                 \n",
      "=================================================================\n",
      "Total params: 15,649\n",
      "Trainable params: 15,649\n",
      "Non-trainable params: 0\n",
      "_________________________________________________________________\n"
     ]
    }
   ],
   "source": [
    "model = models.Sequential()\n",
    "model.add(layers.Dense(128, input_shape=(X_train.shape[1],)))\n",
    "model.add(layers.Dropout(0.2, seed=22))\n",
    "model.add(layers.Dense(64, input_shape=(X_train.shape[1],)))\n",
    "model.add(layers.Dropout(0.2, seed=22))\n",
    "model.add(layers.Dense(32, activation='relu'))\n",
    "model.add(layers.Dropout(0.2, seed=22))\n",
    "model.add(layers.Dense(16, activation='relu'))\n",
    "model.add(layers.Dropout(0.2, seed=22))\n",
    "model.add(layers.Dense(8, activation='relu'))\n",
    "model.add(layers.Dropout(0.2, seed=22))\n",
    "model.add(layers.Dense(4, activation='relu'))\n",
    "model.add(layers.Dropout(0.2, seed=22))\n",
    "model.add(layers.Dense(1))\n",
    "model.summary()\n",
    "model.compile(optimizer='adam', loss='mse', metrics=['mae'])"
   ]
  },
  {
   "cell_type": "code",
   "execution_count": 35,
   "id": "2bbb3e48",
   "metadata": {},
   "outputs": [
    {
     "name": "stdout",
     "output_type": "stream",
     "text": [
      "Epoch 1/20\n",
      "198/198 [==============================] - 3s 7ms/step - loss: 545821.2500 - mae: 550.8256 - val_loss: 555971.8125 - val_mae: 515.4523\n",
      "Epoch 2/20\n",
      "198/198 [==============================] - 1s 6ms/step - loss: 472205.1875 - mae: 508.7600 - val_loss: 461106.0312 - val_mae: 462.0154\n",
      "Epoch 3/20\n",
      "198/198 [==============================] - 1s 6ms/step - loss: 430285.7188 - mae: 475.1423 - val_loss: 391857.5312 - val_mae: 424.6517\n",
      "Epoch 4/20\n",
      "198/198 [==============================] - 1s 6ms/step - loss: 405010.7188 - mae: 454.2548 - val_loss: 447898.9688 - val_mae: 454.7197\n",
      "Epoch 5/20\n",
      "198/198 [==============================] - 1s 6ms/step - loss: 384027.6875 - mae: 442.7126 - val_loss: 368292.0938 - val_mae: 411.4093\n",
      "Epoch 6/20\n",
      "198/198 [==============================] - 1s 7ms/step - loss: 389264.4062 - mae: 440.2032 - val_loss: 388731.5625 - val_mae: 420.7573\n",
      "Epoch 7/20\n",
      "198/198 [==============================] - 1s 7ms/step - loss: 356080.3125 - mae: 420.2407 - val_loss: 389433.4375 - val_mae: 423.7755\n",
      "Epoch 8/20\n",
      "198/198 [==============================] - 1s 7ms/step - loss: 352368.6250 - mae: 419.8162 - val_loss: 426297.2500 - val_mae: 439.3810\n",
      "Epoch 9/20\n",
      "198/198 [==============================] - 2s 8ms/step - loss: 342785.8438 - mae: 411.7868 - val_loss: 375391.1875 - val_mae: 412.2019\n",
      "Epoch 10/20\n",
      "198/198 [==============================] - 1s 7ms/step - loss: 338365.3125 - mae: 407.8199 - val_loss: 433440.2500 - val_mae: 440.9074\n",
      "Epoch 11/20\n",
      "198/198 [==============================] - 1s 7ms/step - loss: 324711.6250 - mae: 398.9324 - val_loss: 349306.8750 - val_mae: 393.3261\n",
      "Epoch 12/20\n",
      "198/198 [==============================] - 1s 7ms/step - loss: 315490.0938 - mae: 388.2081 - val_loss: 314976.7188 - val_mae: 371.6092\n",
      "Epoch 13/20\n",
      "198/198 [==============================] - 1s 7ms/step - loss: 317713.0000 - mae: 392.8464 - val_loss: 388911.9375 - val_mae: 417.4070\n",
      "Epoch 14/20\n",
      "198/198 [==============================] - 1s 7ms/step - loss: 301309.3750 - mae: 379.9439 - val_loss: 347618.8438 - val_mae: 390.6143\n",
      "Epoch 15/20\n",
      "198/198 [==============================] - 1s 7ms/step - loss: 297829.0312 - mae: 374.3670 - val_loss: 300639.4062 - val_mae: 360.2127\n",
      "Epoch 16/20\n",
      "198/198 [==============================] - 1s 7ms/step - loss: 288194.2500 - mae: 370.5160 - val_loss: 305585.6250 - val_mae: 360.3454\n",
      "Epoch 17/20\n",
      "198/198 [==============================] - 1s 7ms/step - loss: 282652.9688 - mae: 366.8503 - val_loss: 368208.9688 - val_mae: 399.3844\n",
      "Epoch 18/20\n",
      "198/198 [==============================] - 1s 6ms/step - loss: 263630.6250 - mae: 356.5514 - val_loss: 307562.0000 - val_mae: 365.0829\n",
      "Epoch 19/20\n",
      "198/198 [==============================] - 1s 6ms/step - loss: 288558.2188 - mae: 369.3643 - val_loss: 262257.0938 - val_mae: 334.4503\n",
      "Epoch 20/20\n",
      "198/198 [==============================] - 1s 7ms/step - loss: 274571.7812 - mae: 359.7425 - val_loss: 283991.4688 - val_mae: 349.7226\n",
      "80/80 [==============================] - 0s 3ms/step - loss: 283992.0000 - mae: 349.7229\n"
     ]
    },
    {
     "data": {
      "text/plain": [
       "[283992.0, 349.7229309082031]"
      ]
     },
     "execution_count": 35,
     "metadata": {},
     "output_type": "execute_result"
    }
   ],
   "source": [
    "tensorboard_callback = tf.keras.callbacks.TensorBoard(log_dir=\"./logs\")\n",
    "history = model.fit(X_train, y_train, epochs=num_epochs, validation_data=(\n",
    "    X_test, y_test), batch_size=30, verbose=True, callbacks=[tensorboard_callback])\n",
    "model.evaluate(X_test, y_test)"
   ]
  },
  {
   "cell_type": "code",
   "execution_count": 36,
   "id": "a36b8933",
   "metadata": {},
   "outputs": [
    {
     "data": {
      "image/png": "[encoded data removed]",
      "text/plain": [
       "<Figure size 432x288 with 1 Axes>"
      ]
     },
     "metadata": {
      "needs_background": "light"
     },
     "output_type": "display_data"
    }
   ],
   "source": [
    "loss = history.history['loss']\n",
    "val_loss = history.history['val_loss']\n",
    "\n",
    "epochs = range(1, len(loss) + 1)\n",
    "\n",
    "plt.plot(epochs, loss, 'bo', label='Training loss')\n",
    "plt.plot(epochs, val_loss, 'b', label='Validation loss')\n",
    "plt.title('Training and validation loss for model 10')\n",
    "plt.xlabel('Epochs')\n",
    "plt.ylabel('Loss')\n",
    "plt.legend()\n",
    "\n",
    "plt.savefig('images/model10.png', dpi=1200)\n",
    "\n",
    "plt.show()"
   ]
  },
  {
   "cell_type": "markdown",
   "id": "2d7f0872",
   "metadata": {},
   "source": [
    "## Model 11 (Resetting to Model 8)"
   ]
  },
  {
   "cell_type": "code",
   "execution_count": 37,
   "id": "b061acd8",
   "metadata": {},
   "outputs": [],
   "source": [
    "num_epochs = 50"
   ]
  },
  {
   "cell_type": "code",
   "execution_count": 38,
   "id": "4d21bdce",
   "metadata": {},
   "outputs": [
    {
     "name": "stdout",
     "output_type": "stream",
     "text": [
      "Model: \"sequential_10\"\n",
      "_________________________________________________________________\n",
      " Layer (type)                Output Shape              Param #   \n",
      "=================================================================\n",
      " dense_44 (Dense)            (None, 64)                2304      \n",
      "                                                                 \n",
      " dropout_34 (Dropout)        (None, 64)                0         \n",
      "                                                                 \n",
      " dense_45 (Dense)            (None, 32)                2080      \n",
      "                                                                 \n",
      " dropout_35 (Dropout)        (None, 32)                0         \n",
      "                                                                 \n",
      " dense_46 (Dense)            (None, 16)                528       \n",
      "                                                                 \n",
      " dropout_36 (Dropout)        (None, 16)                0         \n",
      "                                                                 \n",
      " dense_47 (Dense)            (None, 8)                 136       \n",
      "                                                                 \n",
      " dropout_37 (Dropout)        (None, 8)                 0         \n",
      "                                                                 \n",
      " dense_48 (Dense)            (None, 1)                 9         \n",
      "                                                                 \n",
      "=================================================================\n",
      "Total params: 5,057\n",
      "Trainable params: 5,057\n",
      "Non-trainable params: 0\n",
      "_________________________________________________________________\n"
     ]
    }
   ],
   "source": [
    "model = models.Sequential()\n",
    "model.add(layers.Dense(64, input_shape=(X_train.shape[1],)))\n",
    "model.add(layers.Dropout(0.2, seed=22))\n",
    "model.add(layers.Dense(32, activation='relu'))\n",
    "model.add(layers.Dropout(0.2, seed=22))\n",
    "model.add(layers.Dense(16, activation='relu'))\n",
    "model.add(layers.Dropout(0.2, seed=22))\n",
    "model.add(layers.Dense(8, activation='relu'))\n",
    "model.add(layers.Dropout(0.2, seed=22))\n",
    "model.add(layers.Dense(1))\n",
    "model.summary()\n",
    "model.compile(optimizer='adam', loss='mse', metrics=['mae'])"
   ]
  },
  {
   "cell_type": "code",
   "execution_count": 39,
   "id": "5468e91f",
   "metadata": {},
   "outputs": [
    {
     "name": "stdout",
     "output_type": "stream",
     "text": [
      "Epoch 1/50\n",
      "297/297 [==============================] - 3s 7ms/step - loss: 536171.0625 - mae: 543.7702 - val_loss: 462497.7188 - val_mae: 488.3777\n",
      "Epoch 2/50\n",
      "297/297 [==============================] - 2s 6ms/step - loss: 465286.1875 - mae: 509.5114 - val_loss: 407970.5312 - val_mae: 453.9545\n",
      "Epoch 3/50\n",
      "297/297 [==============================] - 2s 6ms/step - loss: 416646.1875 - mae: 474.9143 - val_loss: 321865.5000 - val_mae: 405.5491\n",
      "Epoch 4/50\n",
      "297/297 [==============================] - 2s 6ms/step - loss: 376902.6875 - mae: 445.2870 - val_loss: 286769.5312 - val_mae: 391.1877\n",
      "Epoch 5/50\n",
      "297/297 [==============================] - 2s 6ms/step - loss: 363109.1562 - mae: 430.4817 - val_loss: 338654.1875 - val_mae: 400.7421\n",
      "Epoch 6/50\n",
      "297/297 [==============================] - 2s 6ms/step - loss: 349778.8125 - mae: 421.9467 - val_loss: 288043.7188 - val_mae: 375.7428\n",
      "Epoch 7/50\n",
      "297/297 [==============================] - 2s 6ms/step - loss: 348811.5625 - mae: 418.6263 - val_loss: 274644.7188 - val_mae: 368.2592\n",
      "Epoch 8/50\n",
      "297/297 [==============================] - 2s 6ms/step - loss: 331850.9688 - mae: 406.8187 - val_loss: 332742.6875 - val_mae: 392.7218\n",
      "Epoch 9/50\n",
      "297/297 [==============================] - 2s 5ms/step - loss: 320922.6875 - mae: 401.2695 - val_loss: 296229.1250 - val_mae: 371.8592\n",
      "Epoch 10/50\n",
      "297/297 [==============================] - 2s 6ms/step - loss: 316835.5938 - mae: 396.9005 - val_loss: 247205.4219 - val_mae: 355.8007\n",
      "Epoch 11/50\n",
      "297/297 [==============================] - 2s 6ms/step - loss: 314339.7500 - mae: 391.1801 - val_loss: 237367.6406 - val_mae: 344.5641\n",
      "Epoch 12/50\n",
      "297/297 [==============================] - 2s 6ms/step - loss: 302948.6562 - mae: 384.5636 - val_loss: 250863.4531 - val_mae: 342.0711\n",
      "Epoch 13/50\n",
      "297/297 [==============================] - 2s 6ms/step - loss: 284789.9062 - mae: 371.8078 - val_loss: 228445.5781 - val_mae: 329.5722\n",
      "Epoch 14/50\n",
      "297/297 [==============================] - 2s 6ms/step - loss: 284978.8438 - mae: 369.7780 - val_loss: 281881.5312 - val_mae: 354.4033\n",
      "Epoch 15/50\n",
      "297/297 [==============================] - 2s 6ms/step - loss: 274224.5625 - mae: 361.4643 - val_loss: 240176.3750 - val_mae: 326.6580\n",
      "Epoch 16/50\n",
      "297/297 [==============================] - 2s 6ms/step - loss: 273644.3438 - mae: 359.9725 - val_loss: 200852.2188 - val_mae: 332.3436\n",
      "Epoch 17/50\n",
      "297/297 [==============================] - 2s 5ms/step - loss: 258879.1250 - mae: 351.0592 - val_loss: 210665.6406 - val_mae: 305.0244\n",
      "Epoch 18/50\n",
      "297/297 [==============================] - 2s 5ms/step - loss: 253052.6875 - mae: 345.0785 - val_loss: 188996.1094 - val_mae: 290.0358\n",
      "Epoch 19/50\n",
      "297/297 [==============================] - 2s 6ms/step - loss: 239677.7812 - mae: 337.2823 - val_loss: 165779.0000 - val_mae: 278.4979\n",
      "Epoch 20/50\n",
      "297/297 [==============================] - 2s 5ms/step - loss: 221989.5625 - mae: 325.2751 - val_loss: 176327.0938 - val_mae: 280.4925\n",
      "Epoch 21/50\n",
      "297/297 [==============================] - 2s 5ms/step - loss: 226543.3281 - mae: 325.5482 - val_loss: 153936.9531 - val_mae: 264.1787\n",
      "Epoch 22/50\n",
      "297/297 [==============================] - 2s 5ms/step - loss: 221820.2656 - mae: 322.1343 - val_loss: 142374.4375 - val_mae: 261.5332\n",
      "Epoch 23/50\n",
      "297/297 [==============================] - 2s 5ms/step - loss: 219175.0000 - mae: 322.2102 - val_loss: 145868.2031 - val_mae: 255.6811\n",
      "Epoch 24/50\n",
      "297/297 [==============================] - 2s 5ms/step - loss: 213210.2812 - mae: 316.4698 - val_loss: 135995.8594 - val_mae: 251.2157\n",
      "Epoch 25/50\n",
      "297/297 [==============================] - 2s 6ms/step - loss: 223193.1719 - mae: 321.6373 - val_loss: 133424.1562 - val_mae: 247.7585\n",
      "Epoch 26/50\n",
      "297/297 [==============================] - 2s 5ms/step - loss: 202760.0625 - mae: 309.7667 - val_loss: 175039.6719 - val_mae: 280.5365\n",
      "Epoch 27/50\n",
      "297/297 [==============================] - 2s 6ms/step - loss: 210452.1406 - mae: 314.2382 - val_loss: 138855.4531 - val_mae: 253.1909\n",
      "Epoch 28/50\n",
      "297/297 [==============================] - 2s 6ms/step - loss: 209967.3125 - mae: 311.1196 - val_loss: 142212.3438 - val_mae: 251.3780\n",
      "Epoch 29/50\n",
      "297/297 [==============================] - 2s 5ms/step - loss: 195341.2656 - mae: 303.9574 - val_loss: 143430.6406 - val_mae: 251.9365\n",
      "Epoch 30/50\n",
      "297/297 [==============================] - 2s 6ms/step - loss: 206095.5156 - mae: 307.1719 - val_loss: 146515.0938 - val_mae: 254.5431\n",
      "Epoch 31/50\n",
      "297/297 [==============================] - 2s 6ms/step - loss: 197266.2188 - mae: 301.5812 - val_loss: 168393.1562 - val_mae: 273.9749\n",
      "Epoch 32/50\n",
      "297/297 [==============================] - 2s 5ms/step - loss: 192713.8438 - mae: 298.3008 - val_loss: 128695.8984 - val_mae: 258.5757\n",
      "Epoch 33/50\n",
      "297/297 [==============================] - 2s 5ms/step - loss: 199027.7656 - mae: 305.8682 - val_loss: 134966.2031 - val_mae: 265.9680\n",
      "Epoch 34/50\n",
      "297/297 [==============================] - 2s 6ms/step - loss: 187783.0000 - mae: 295.2963 - val_loss: 132079.3594 - val_mae: 242.7138\n",
      "Epoch 35/50\n",
      "297/297 [==============================] - 2s 6ms/step - loss: 188556.9375 - mae: 296.8419 - val_loss: 138319.4688 - val_mae: 246.8384\n",
      "Epoch 36/50\n",
      "297/297 [==============================] - 2s 6ms/step - loss: 196214.9531 - mae: 299.6959 - val_loss: 179033.5781 - val_mae: 286.9283\n",
      "Epoch 37/50\n",
      "297/297 [==============================] - 1s 4ms/step - loss: 195793.2344 - mae: 298.3429 - val_loss: 104545.5156 - val_mae: 219.5629\n",
      "Epoch 38/50\n",
      "297/297 [==============================] - 2s 5ms/step - loss: 195204.6250 - mae: 299.4484 - val_loss: 180949.6719 - val_mae: 286.8330\n",
      "Epoch 39/50\n",
      "297/297 [==============================] - 1s 5ms/step - loss: 190374.0938 - mae: 294.8977 - val_loss: 102731.1641 - val_mae: 215.3277\n",
      "Epoch 40/50\n",
      "297/297 [==============================] - 2s 5ms/step - loss: 187883.0000 - mae: 293.9668 - val_loss: 102518.2734 - val_mae: 217.5153\n",
      "Epoch 41/50\n",
      "297/297 [==============================] - 1s 5ms/step - loss: 195931.5938 - mae: 295.7461 - val_loss: 143029.6250 - val_mae: 250.0556\n",
      "Epoch 42/50\n",
      "297/297 [==============================] - 2s 5ms/step - loss: 182412.9375 - mae: 286.7279 - val_loss: 98746.1953 - val_mae: 218.0769\n",
      "Epoch 43/50\n",
      "297/297 [==============================] - 2s 5ms/step - loss: 180724.8594 - mae: 288.6115 - val_loss: 124907.8281 - val_mae: 235.6696\n",
      "Epoch 44/50\n",
      "297/297 [==============================] - 1s 5ms/step - loss: 186533.2812 - mae: 291.8210 - val_loss: 100099.5781 - val_mae: 218.6243\n",
      "Epoch 45/50\n",
      "297/297 [==============================] - 2s 5ms/step - loss: 195366.6875 - mae: 298.4037 - val_loss: 99533.6562 - val_mae: 216.5136\n",
      "Epoch 46/50\n",
      "297/297 [==============================] - 2s 5ms/step - loss: 188718.4531 - mae: 293.6098 - val_loss: 105946.7578 - val_mae: 217.2214\n",
      "Epoch 47/50\n",
      "297/297 [==============================] - 2s 5ms/step - loss: 191074.5156 - mae: 293.8235 - val_loss: 103546.8906 - val_mae: 216.4458\n",
      "Epoch 48/50\n",
      "297/297 [==============================] - 2s 5ms/step - loss: 178381.2031 - mae: 283.9182 - val_loss: 127761.6641 - val_mae: 240.8619\n",
      "Epoch 49/50\n",
      "297/297 [==============================] - 2s 6ms/step - loss: 179866.1250 - mae: 284.7521 - val_loss: 142044.9844 - val_mae: 258.4442\n",
      "Epoch 50/50\n",
      "297/297 [==============================] - 1s 5ms/step - loss: 173846.3750 - mae: 282.9015 - val_loss: 175100.7188 - val_mae: 289.0188\n",
      "80/80 [==============================] - 0s 2ms/step - loss: 175100.4062 - mae: 289.0185\n"
     ]
    },
    {
     "data": {
      "text/plain": [
       "[175100.40625, 289.0185241699219]"
      ]
     },
     "execution_count": 39,
     "metadata": {},
     "output_type": "execute_result"
    }
   ],
   "source": [
    "tensorboard_callback = tf.keras.callbacks.TensorBoard(log_dir=\"./logs\")\n",
    "history = model.fit(X_train, y_train, epochs=num_epochs, validation_data=(\n",
    "    X_test, y_test), batch_size=20, verbose=True, callbacks=[tensorboard_callback])\n",
    "model.evaluate(X_test, y_test)"
   ]
  },
  {
   "cell_type": "code",
   "execution_count": 40,
   "id": "048fd821",
   "metadata": {},
   "outputs": [
    {
     "data": {
      "image/png": "[encoded data removed]",
      "text/plain": [
       "<Figure size 432x288 with 1 Axes>"
      ]
     },
     "metadata": {
      "needs_background": "light"
     },
     "output_type": "display_data"
    }
   ],
   "source": [
    "loss = history.history['loss']\n",
    "val_loss = history.history['val_loss']\n",
    "\n",
    "epochs = range(1, len(loss) + 1)\n",
    "\n",
    "plt.plot(epochs, loss, 'bo', label='Training loss')\n",
    "plt.plot(epochs, val_loss, 'b', label='Validation loss')\n",
    "plt.title('Training and validation loss for model 11')\n",
    "plt.xlabel('Epochs')\n",
    "plt.ylabel('Loss')\n",
    "plt.legend()\n",
    "\n",
    "plt.savefig('images/model11.png', dpi=1200)\n",
    "\n",
    "plt.show()"
   ]
  },
  {
   "cell_type": "markdown",
   "id": "8003249d",
   "metadata": {},
   "source": [
    "## Model 12"
   ]
  },
  {
   "cell_type": "code",
   "execution_count": 41,
   "id": "8d92603d",
   "metadata": {},
   "outputs": [
    {
     "name": "stdout",
     "output_type": "stream",
     "text": [
      "Model: \"sequential_11\"\n",
      "_________________________________________________________________\n",
      " Layer (type)                Output Shape              Param #   \n",
      "=================================================================\n",
      " dense_49 (Dense)            (None, 64)                2304      \n",
      "                                                                 \n",
      " dropout_38 (Dropout)        (None, 64)                0         \n",
      "                                                                 \n",
      " dense_50 (Dense)            (None, 32)                2080      \n",
      "                                                                 \n",
      " dropout_39 (Dropout)        (None, 32)                0         \n",
      "                                                                 \n",
      " dense_51 (Dense)            (None, 16)                528       \n",
      "                                                                 \n",
      " dropout_40 (Dropout)        (None, 16)                0         \n",
      "                                                                 \n",
      " dense_52 (Dense)            (None, 8)                 136       \n",
      "                                                                 \n",
      " dropout_41 (Dropout)        (None, 8)                 0         \n",
      "                                                                 \n",
      " dense_53 (Dense)            (None, 1)                 9         \n",
      "                                                                 \n",
      "=================================================================\n",
      "Total params: 5,057\n",
      "Trainable params: 5,057\n",
      "Non-trainable params: 0\n",
      "_________________________________________________________________\n"
     ]
    }
   ],
   "source": [
    "model = models.Sequential()\n",
    "model.add(layers.Dense(64, input_shape=(X_train.shape[1],)))\n",
    "model.add(layers.Dropout(0.2, seed=22))\n",
    "model.add(layers.Dense(32, activation='relu'))\n",
    "model.add(layers.Dropout(0.2, seed=22))\n",
    "model.add(layers.Dense(16, activation='relu'))\n",
    "model.add(layers.Dropout(0.2, seed=22))\n",
    "model.add(layers.Dense(8, activation='relu'))\n",
    "model.add(layers.Dropout(0.2, seed=22))\n",
    "model.add(layers.Dense(1))\n",
    "model.summary()\n",
    "model.compile(optimizer='adam', loss='mse', metrics=['mae'])"
   ]
  },
  {
   "cell_type": "code",
   "execution_count": 42,
   "id": "42ad8143",
   "metadata": {},
   "outputs": [
    {
     "name": "stdout",
     "output_type": "stream",
     "text": [
      "Epoch 1/50\n",
      "198/198 [==============================] - 3s 8ms/step - loss: 502986.7188 - mae: 530.4130 - val_loss: 529012.0625 - val_mae: 507.7281\n",
      "Epoch 2/50\n",
      "198/198 [==============================] - 1s 6ms/step - loss: 463232.0625 - mae: 511.2747 - val_loss: 454801.7812 - val_mae: 471.3799\n",
      "Epoch 3/50\n",
      "198/198 [==============================] - 1s 6ms/step - loss: 421903.5000 - mae: 486.3158 - val_loss: 395784.7188 - val_mae: 434.4265\n",
      "Epoch 4/50\n",
      "198/198 [==============================] - 1s 6ms/step - loss: 376822.5000 - mae: 453.0859 - val_loss: 367222.9375 - val_mae: 415.8790\n",
      "Epoch 5/50\n",
      "198/198 [==============================] - 1s 6ms/step - loss: 364674.0625 - mae: 437.4708 - val_loss: 336318.0312 - val_mae: 400.6890\n",
      "Epoch 6/50\n",
      "198/198 [==============================] - 1s 6ms/step - loss: 340664.0312 - mae: 422.2834 - val_loss: 290081.7500 - val_mae: 381.1206\n",
      "Epoch 7/50\n",
      "198/198 [==============================] - 1s 5ms/step - loss: 327130.8125 - mae: 410.3238 - val_loss: 280878.1250 - val_mae: 374.1299\n",
      "Epoch 8/50\n",
      "198/198 [==============================] - 1s 6ms/step - loss: 328230.9375 - mae: 409.8474 - val_loss: 266889.9062 - val_mae: 370.2095\n",
      "Epoch 9/50\n",
      "198/198 [==============================] - 1s 6ms/step - loss: 311186.8750 - mae: 398.0977 - val_loss: 274084.0938 - val_mae: 365.4227\n",
      "Epoch 10/50\n",
      "198/198 [==============================] - 1s 6ms/step - loss: 320727.4375 - mae: 402.2221 - val_loss: 268645.9062 - val_mae: 360.6486\n",
      "Epoch 11/50\n",
      "198/198 [==============================] - 1s 6ms/step - loss: 296052.7812 - mae: 385.8946 - val_loss: 275324.3125 - val_mae: 360.8988\n",
      "Epoch 12/50\n",
      "198/198 [==============================] - 1s 6ms/step - loss: 292161.2812 - mae: 380.8628 - val_loss: 263947.9688 - val_mae: 352.6007\n",
      "Epoch 13/50\n",
      "198/198 [==============================] - 1s 5ms/step - loss: 286608.7500 - mae: 377.3105 - val_loss: 244452.7344 - val_mae: 341.8778\n",
      "Epoch 14/50\n",
      "198/198 [==============================] - 1s 6ms/step - loss: 279280.2500 - mae: 371.3647 - val_loss: 231998.2344 - val_mae: 335.9231\n",
      "Epoch 15/50\n",
      "198/198 [==============================] - 1s 6ms/step - loss: 280572.3125 - mae: 368.7310 - val_loss: 223292.5469 - val_mae: 329.5547\n",
      "Epoch 16/50\n",
      "198/198 [==============================] - 1s 7ms/step - loss: 269378.0000 - mae: 362.4901 - val_loss: 235311.2656 - val_mae: 326.3195\n",
      "Epoch 17/50\n",
      "198/198 [==============================] - 1s 6ms/step - loss: 255802.7188 - mae: 351.8145 - val_loss: 200323.6250 - val_mae: 316.6666\n",
      "Epoch 18/50\n",
      "198/198 [==============================] - 1s 6ms/step - loss: 245662.5938 - mae: 343.8210 - val_loss: 237845.1406 - val_mae: 323.5981\n",
      "Epoch 19/50\n",
      "198/198 [==============================] - 1s 6ms/step - loss: 240768.4375 - mae: 342.7632 - val_loss: 199523.5312 - val_mae: 300.7271\n",
      "Epoch 20/50\n",
      "198/198 [==============================] - 1s 6ms/step - loss: 240266.2344 - mae: 339.6264 - val_loss: 173364.6562 - val_mae: 302.4768\n",
      "Epoch 21/50\n",
      "198/198 [==============================] - 1s 6ms/step - loss: 222945.2344 - mae: 324.2714 - val_loss: 168627.1562 - val_mae: 281.0029\n",
      "Epoch 22/50\n",
      "198/198 [==============================] - 1s 6ms/step - loss: 218291.0781 - mae: 320.9674 - val_loss: 158194.5625 - val_mae: 273.2267\n",
      "Epoch 23/50\n",
      "198/198 [==============================] - 1s 6ms/step - loss: 219778.0156 - mae: 324.1245 - val_loss: 151850.7969 - val_mae: 269.0522\n",
      "Epoch 24/50\n",
      "198/198 [==============================] - 1s 6ms/step - loss: 211150.4062 - mae: 317.2191 - val_loss: 216800.2969 - val_mae: 309.6945\n",
      "Epoch 25/50\n",
      "198/198 [==============================] - 1s 6ms/step - loss: 204085.0000 - mae: 311.7175 - val_loss: 139664.7188 - val_mae: 266.3601\n",
      "Epoch 26/50\n",
      "198/198 [==============================] - 1s 5ms/step - loss: 205324.0938 - mae: 312.2909 - val_loss: 174061.2500 - val_mae: 279.7736\n",
      "Epoch 27/50\n",
      "198/198 [==============================] - 1s 7ms/step - loss: 202537.9375 - mae: 311.7517 - val_loss: 145239.2656 - val_mae: 256.4957\n",
      "Epoch 28/50\n",
      "198/198 [==============================] - 1s 5ms/step - loss: 193879.8594 - mae: 305.3150 - val_loss: 192263.3125 - val_mae: 292.6799\n",
      "Epoch 29/50\n",
      "198/198 [==============================] - 1s 5ms/step - loss: 193571.6094 - mae: 300.6946 - val_loss: 124547.8906 - val_mae: 244.2459\n",
      "Epoch 30/50\n",
      "198/198 [==============================] - 1s 6ms/step - loss: 187315.8438 - mae: 296.9179 - val_loss: 139965.1719 - val_mae: 275.2443\n",
      "Epoch 31/50\n",
      "198/198 [==============================] - 1s 5ms/step - loss: 185565.5156 - mae: 293.7615 - val_loss: 122985.4766 - val_mae: 239.2060\n",
      "Epoch 32/50\n",
      "198/198 [==============================] - 1s 5ms/step - loss: 182157.1562 - mae: 292.5509 - val_loss: 136266.1875 - val_mae: 245.9601\n",
      "Epoch 33/50\n",
      "198/198 [==============================] - 1s 6ms/step - loss: 181007.8594 - mae: 294.3066 - val_loss: 127031.9531 - val_mae: 239.1520\n",
      "Epoch 34/50\n",
      "198/198 [==============================] - 1s 6ms/step - loss: 182270.7500 - mae: 293.2264 - val_loss: 112704.7578 - val_mae: 230.3832\n",
      "Epoch 35/50\n",
      "198/198 [==============================] - 1s 6ms/step - loss: 171863.2812 - mae: 283.3602 - val_loss: 112674.9219 - val_mae: 228.8109\n",
      "Epoch 36/50\n",
      "198/198 [==============================] - 1s 5ms/step - loss: 178854.3750 - mae: 293.0362 - val_loss: 109931.5938 - val_mae: 226.6588\n",
      "Epoch 37/50\n",
      "198/198 [==============================] - 1s 6ms/step - loss: 176365.1250 - mae: 287.7708 - val_loss: 137491.2656 - val_mae: 250.6018\n",
      "Epoch 38/50\n",
      "198/198 [==============================] - 1s 6ms/step - loss: 180407.4844 - mae: 290.4304 - val_loss: 106940.8984 - val_mae: 220.8954\n",
      "Epoch 39/50\n",
      "198/198 [==============================] - 1s 5ms/step - loss: 172813.5312 - mae: 283.1886 - val_loss: 105980.7266 - val_mae: 225.0228\n",
      "Epoch 40/50\n",
      "198/198 [==============================] - 1s 5ms/step - loss: 174477.9375 - mae: 284.4136 - val_loss: 118558.5234 - val_mae: 236.3197\n",
      "Epoch 41/50\n",
      "198/198 [==============================] - 1s 7ms/step - loss: 178514.2500 - mae: 287.7097 - val_loss: 156020.8438 - val_mae: 267.5915\n",
      "Epoch 42/50\n",
      "198/198 [==============================] - 1s 6ms/step - loss: 180060.2344 - mae: 289.6077 - val_loss: 105775.0078 - val_mae: 224.2634\n",
      "Epoch 43/50\n",
      "198/198 [==============================] - 1s 6ms/step - loss: 174570.9844 - mae: 282.9478 - val_loss: 193678.3438 - val_mae: 306.9337\n",
      "Epoch 44/50\n",
      "198/198 [==============================] - 1s 6ms/step - loss: 170848.7344 - mae: 281.9700 - val_loss: 121419.8906 - val_mae: 231.7066\n",
      "Epoch 45/50\n",
      "198/198 [==============================] - 1s 6ms/step - loss: 170777.5625 - mae: 277.5084 - val_loss: 106083.5391 - val_mae: 220.5344\n",
      "Epoch 46/50\n",
      "198/198 [==============================] - 1s 5ms/step - loss: 166175.3281 - mae: 277.4554 - val_loss: 95617.0859 - val_mae: 210.1269\n",
      "Epoch 47/50\n",
      "198/198 [==============================] - 1s 5ms/step - loss: 172897.3906 - mae: 279.6163 - val_loss: 155511.3281 - val_mae: 270.7105\n",
      "Epoch 48/50\n",
      "198/198 [==============================] - 1s 6ms/step - loss: 165438.9688 - mae: 274.9014 - val_loss: 93315.1328 - val_mae: 205.1704\n",
      "Epoch 49/50\n",
      "198/198 [==============================] - 1s 6ms/step - loss: 165701.8594 - mae: 277.3467 - val_loss: 99332.7422 - val_mae: 221.1441\n",
      "Epoch 50/50\n",
      "198/198 [==============================] - 1s 6ms/step - loss: 163933.7188 - mae: 273.0093 - val_loss: 111622.0859 - val_mae: 223.2386\n",
      "80/80 [==============================] - 0s 3ms/step - loss: 111622.0938 - mae: 223.2386\n"
     ]
    },
    {
     "data": {
      "text/plain": [
       "[111622.09375, 223.2386016845703]"
      ]
     },
     "execution_count": 42,
     "metadata": {},
     "output_type": "execute_result"
    }
   ],
   "source": [
    "tensorboard_callback = tf.keras.callbacks.TensorBoard(log_dir=\"./logs\")\n",
    "history = model.fit(X_train, y_train, epochs=num_epochs, validation_data=(\n",
    "    X_test, y_test), batch_size=30, verbose=True, callbacks=[tensorboard_callback])\n",
    "model.evaluate(X_test, y_test)"
   ]
  },
  {
   "cell_type": "code",
   "execution_count": 43,
   "id": "3ce30b06",
   "metadata": {},
   "outputs": [
    {
     "data": {
      "image/png": "[encoded data removed]",
      "text/plain": [
       "<Figure size 432x288 with 1 Axes>"
      ]
     },
     "metadata": {
      "needs_background": "light"
     },
     "output_type": "display_data"
    }
   ],
   "source": [
    "loss = history.history['loss']\n",
    "val_loss = history.history['val_loss']\n",
    "\n",
    "epochs = range(1, len(loss) + 1)\n",
    "\n",
    "plt.plot(epochs, loss, 'bo', label='Training loss')\n",
    "plt.plot(epochs, val_loss, 'b', label='Validation loss')\n",
    "plt.title('Training and validation loss for model 12')\n",
    "plt.xlabel('Epochs')\n",
    "plt.ylabel('Loss')\n",
    "plt.legend()\n",
    "\n",
    "plt.savefig('images/model12.png', dpi=1200)\n",
    "\n",
    "plt.show()"
   ]
  },
  {
   "cell_type": "markdown",
   "id": "6cdb336f",
   "metadata": {},
   "source": [
    "## Model 13"
   ]
  },
  {
   "cell_type": "code",
   "execution_count": 44,
   "id": "2cbe2f76",
   "metadata": {},
   "outputs": [
    {
     "name": "stdout",
     "output_type": "stream",
     "text": [
      "Model: \"sequential_12\"\n",
      "_________________________________________________________________\n",
      " Layer (type)                Output Shape              Param #   \n",
      "=================================================================\n",
      " dense_54 (Dense)            (None, 64)                2304      \n",
      "                                                                 \n",
      " dropout_42 (Dropout)        (None, 64)                0         \n",
      "                                                                 \n",
      " dense_55 (Dense)            (None, 32)                2080      \n",
      "                                                                 \n",
      " dropout_43 (Dropout)        (None, 32)                0         \n",
      "                                                                 \n",
      " dense_56 (Dense)            (None, 16)                528       \n",
      "                                                                 \n",
      " dropout_44 (Dropout)        (None, 16)                0         \n",
      "                                                                 \n",
      " dense_57 (Dense)            (None, 8)                 136       \n",
      "                                                                 \n",
      " dropout_45 (Dropout)        (None, 8)                 0         \n",
      "                                                                 \n",
      " dense_58 (Dense)            (None, 1)                 9         \n",
      "                                                                 \n",
      "=================================================================\n",
      "Total params: 5,057\n",
      "Trainable params: 5,057\n",
      "Non-trainable params: 0\n",
      "_________________________________________________________________\n"
     ]
    }
   ],
   "source": [
    "model = models.Sequential()\n",
    "model.add(layers.Dense(64, input_shape=(X_train.shape[1],)))\n",
    "model.add(layers.Dropout(0.2, seed=22))\n",
    "model.add(layers.Dense(32, activation='relu'))\n",
    "model.add(layers.Dropout(0.2, seed=22))\n",
    "model.add(layers.Dense(16, activation='relu'))\n",
    "model.add(layers.Dropout(0.2, seed=22))\n",
    "model.add(layers.Dense(8, activation='relu'))\n",
    "model.add(layers.Dropout(0.2, seed=22))\n",
    "model.add(layers.Dense(1))\n",
    "model.summary()\n",
    "model.compile(optimizer='adam', loss='mse', metrics=['mae'])"
   ]
  },
  {
   "cell_type": "code",
   "execution_count": 45,
   "id": "e5463a12",
   "metadata": {},
   "outputs": [
    {
     "name": "stdout",
     "output_type": "stream",
     "text": [
      "Epoch 1/50\n",
      "60/60 [==============================] - 1s 9ms/step - loss: 1033864.1250 - mae: 774.5880 - val_loss: 747267.0000 - val_mae: 599.6160\n",
      "Epoch 2/50\n",
      "60/60 [==============================] - 0s 7ms/step - loss: 636818.8750 - mae: 587.7579 - val_loss: 511023.3750 - val_mae: 508.0387\n",
      "Epoch 3/50\n",
      "60/60 [==============================] - 0s 8ms/step - loss: 583080.1250 - mae: 567.7794 - val_loss: 488296.7812 - val_mae: 501.4037\n",
      "Epoch 4/50\n",
      "60/60 [==============================] - 0s 8ms/step - loss: 593719.2500 - mae: 571.9290 - val_loss: 500491.5000 - val_mae: 502.1988\n",
      "Epoch 5/50\n",
      "60/60 [==============================] - 0s 7ms/step - loss: 553641.6250 - mae: 558.8150 - val_loss: 478939.8125 - val_mae: 495.4332\n",
      "Epoch 6/50\n",
      "60/60 [==============================] - 1s 9ms/step - loss: 548179.2500 - mae: 554.2318 - val_loss: 453642.3438 - val_mae: 487.7926\n",
      "Epoch 7/50\n",
      "60/60 [==============================] - 0s 6ms/step - loss: 541222.9375 - mae: 547.9458 - val_loss: 451127.8750 - val_mae: 481.9155\n",
      "Epoch 8/50\n",
      "60/60 [==============================] - 0s 6ms/step - loss: 524643.0000 - mae: 541.9291 - val_loss: 425931.1250 - val_mae: 470.3058\n",
      "Epoch 9/50\n",
      "60/60 [==============================] - 0s 6ms/step - loss: 500787.0312 - mae: 530.4756 - val_loss: 435295.1875 - val_mae: 461.2864\n",
      "Epoch 10/50\n",
      "60/60 [==============================] - 0s 7ms/step - loss: 488720.4062 - mae: 519.6208 - val_loss: 400652.4062 - val_mae: 441.4102\n",
      "Epoch 11/50\n",
      "60/60 [==============================] - 0s 6ms/step - loss: 473882.5000 - mae: 506.4488 - val_loss: 388759.1562 - val_mae: 429.5902\n",
      "Epoch 12/50\n",
      "60/60 [==============================] - 0s 6ms/step - loss: 456964.7500 - mae: 492.8896 - val_loss: 371996.5625 - val_mae: 418.7942\n",
      "Epoch 13/50\n",
      "60/60 [==============================] - 0s 6ms/step - loss: 451985.5312 - mae: 487.6577 - val_loss: 369049.4688 - val_mae: 415.5462\n",
      "Epoch 14/50\n",
      "60/60 [==============================] - 0s 7ms/step - loss: 443045.5625 - mae: 479.2095 - val_loss: 332586.3438 - val_mae: 402.1156\n",
      "Epoch 15/50\n",
      "60/60 [==============================] - 0s 6ms/step - loss: 422777.3125 - mae: 466.7994 - val_loss: 357045.0938 - val_mae: 409.4505\n",
      "Epoch 16/50\n",
      "60/60 [==============================] - 0s 6ms/step - loss: 430784.8750 - mae: 467.3913 - val_loss: 321449.3438 - val_mae: 394.2501\n",
      "Epoch 17/50\n",
      "60/60 [==============================] - 0s 6ms/step - loss: 440098.0938 - mae: 470.7838 - val_loss: 324462.6875 - val_mae: 394.4381\n",
      "Epoch 18/50\n",
      "60/60 [==============================] - 0s 6ms/step - loss: 423603.4688 - mae: 462.2231 - val_loss: 311051.9375 - val_mae: 389.0022\n",
      "Epoch 19/50\n",
      "60/60 [==============================] - 0s 7ms/step - loss: 416751.7500 - mae: 458.2674 - val_loss: 329716.0625 - val_mae: 394.3472\n",
      "Epoch 20/50\n",
      "60/60 [==============================] - 0s 7ms/step - loss: 417896.0312 - mae: 458.4330 - val_loss: 320528.3438 - val_mae: 389.2859\n",
      "Epoch 21/50\n",
      "60/60 [==============================] - 0s 6ms/step - loss: 413682.5625 - mae: 456.5346 - val_loss: 325989.2812 - val_mae: 391.4096\n",
      "Epoch 22/50\n",
      "60/60 [==============================] - 0s 8ms/step - loss: 402120.1250 - mae: 449.5653 - val_loss: 312887.7500 - val_mae: 384.2975\n",
      "Epoch 23/50\n",
      "60/60 [==============================] - 0s 6ms/step - loss: 403337.1250 - mae: 447.0698 - val_loss: 346642.8750 - val_mae: 401.9961\n",
      "Epoch 24/50\n",
      "60/60 [==============================] - 0s 6ms/step - loss: 408199.0625 - mae: 447.0685 - val_loss: 314153.6875 - val_mae: 383.5703\n",
      "Epoch 25/50\n",
      "60/60 [==============================] - 0s 7ms/step - loss: 422846.1875 - mae: 453.6838 - val_loss: 306902.6875 - val_mae: 378.7183\n",
      "Epoch 26/50\n",
      "60/60 [==============================] - 0s 6ms/step - loss: 402005.6250 - mae: 444.5718 - val_loss: 319517.3125 - val_mae: 384.4533\n",
      "Epoch 27/50\n",
      "60/60 [==============================] - 0s 5ms/step - loss: 401799.3750 - mae: 442.9326 - val_loss: 326856.7812 - val_mae: 388.6243\n",
      "Epoch 28/50\n",
      "60/60 [==============================] - 0s 6ms/step - loss: 397020.3438 - mae: 440.1976 - val_loss: 304149.9688 - val_mae: 375.1323\n",
      "Epoch 29/50\n",
      "60/60 [==============================] - 0s 5ms/step - loss: 405539.7812 - mae: 442.5780 - val_loss: 330057.6875 - val_mae: 389.0508\n",
      "Epoch 30/50\n",
      "60/60 [==============================] - 0s 7ms/step - loss: 398753.9062 - mae: 440.2841 - val_loss: 290262.2500 - val_mae: 365.7446\n",
      "Epoch 31/50\n",
      "60/60 [==============================] - 0s 7ms/step - loss: 392021.2500 - mae: 435.8743 - val_loss: 278357.2812 - val_mae: 358.6323\n",
      "Epoch 32/50\n",
      "60/60 [==============================] - 0s 7ms/step - loss: 396589.4688 - mae: 436.5611 - val_loss: 327166.6250 - val_mae: 386.1159\n",
      "Epoch 33/50\n",
      "60/60 [==============================] - 0s 5ms/step - loss: 396341.1562 - mae: 430.2269 - val_loss: 277870.6250 - val_mae: 355.6587\n",
      "Epoch 34/50\n",
      "60/60 [==============================] - 0s 5ms/step - loss: 386317.3125 - mae: 428.9567 - val_loss: 283134.7500 - val_mae: 356.7148\n",
      "Epoch 35/50\n",
      "60/60 [==============================] - 0s 5ms/step - loss: 371878.5312 - mae: 419.7716 - val_loss: 250666.5781 - val_mae: 339.8420\n",
      "Epoch 36/50\n",
      "60/60 [==============================] - 0s 5ms/step - loss: 375704.3438 - mae: 424.5280 - val_loss: 305997.9688 - val_mae: 367.4448\n",
      "Epoch 37/50\n",
      "60/60 [==============================] - 0s 5ms/step - loss: 366262.0000 - mae: 414.4985 - val_loss: 258487.8594 - val_mae: 339.4979\n",
      "Epoch 38/50\n",
      "60/60 [==============================] - 0s 6ms/step - loss: 372133.6875 - mae: 412.1522 - val_loss: 251833.8281 - val_mae: 335.3637\n",
      "Epoch 39/50\n",
      "60/60 [==============================] - 0s 8ms/step - loss: 363644.1875 - mae: 410.2100 - val_loss: 271038.7812 - val_mae: 344.1823\n",
      "Epoch 40/50\n",
      "60/60 [==============================] - 0s 6ms/step - loss: 365489.8750 - mae: 414.3679 - val_loss: 285281.7188 - val_mae: 353.0569\n",
      "Epoch 41/50\n",
      "60/60 [==============================] - 0s 6ms/step - loss: 358467.4375 - mae: 402.4258 - val_loss: 247205.0625 - val_mae: 328.5706\n",
      "Epoch 42/50\n",
      "60/60 [==============================] - 0s 6ms/step - loss: 350777.5000 - mae: 399.9771 - val_loss: 245552.9375 - val_mae: 326.7405\n",
      "Epoch 43/50\n",
      "60/60 [==============================] - 0s 5ms/step - loss: 354683.9062 - mae: 400.9145 - val_loss: 251916.2500 - val_mae: 329.5056\n",
      "Epoch 44/50\n",
      "60/60 [==============================] - 0s 6ms/step - loss: 350360.2500 - mae: 399.5451 - val_loss: 225867.2656 - val_mae: 313.9167\n",
      "Epoch 45/50\n",
      "60/60 [==============================] - 0s 5ms/step - loss: 351409.3438 - mae: 398.0573 - val_loss: 251307.2188 - val_mae: 329.3336\n",
      "Epoch 46/50\n",
      "60/60 [==============================] - 0s 6ms/step - loss: 339157.1250 - mae: 395.1673 - val_loss: 230212.3906 - val_mae: 315.9037\n",
      "Epoch 47/50\n",
      "60/60 [==============================] - 0s 6ms/step - loss: 325859.6875 - mae: 382.4798 - val_loss: 193446.0625 - val_mae: 294.6677\n",
      "Epoch 48/50\n",
      "60/60 [==============================] - 0s 6ms/step - loss: 337698.8125 - mae: 391.3830 - val_loss: 212135.7656 - val_mae: 304.8916\n",
      "Epoch 49/50\n",
      "60/60 [==============================] - 0s 6ms/step - loss: 325328.4688 - mae: 381.7265 - val_loss: 266952.5000 - val_mae: 343.8685\n",
      "Epoch 50/50\n",
      "60/60 [==============================] - 0s 6ms/step - loss: 343883.4062 - mae: 388.7081 - val_loss: 277000.7812 - val_mae: 348.5855\n",
      "80/80 [==============================] - 0s 2ms/step - loss: 276990.2188 - mae: 348.5786\n"
     ]
    },
    {
     "data": {
      "text/plain": [
       "[276990.21875, 348.5786437988281]"
      ]
     },
     "execution_count": 45,
     "metadata": {},
     "output_type": "execute_result"
    }
   ],
   "source": [
    "tensorboard_callback = tf.keras.callbacks.TensorBoard(log_dir=\"./logs\")\n",
    "history = model.fit(X_train, y_train, epochs=num_epochs, validation_data=(\n",
    "    X_test, y_test), batch_size=100, verbose=True, callbacks=[tensorboard_callback])\n",
    "model.evaluate(X_test, y_test)"
   ]
  },
  {
   "cell_type": "code",
   "execution_count": 46,
   "id": "379988a1",
   "metadata": {},
   "outputs": [
    {
     "data": {
      "image/png": "[encoded data removed]",
      "text/plain": [
       "<Figure size 432x288 with 1 Axes>"
      ]
     },
     "metadata": {
      "needs_background": "light"
     },
     "output_type": "display_data"
    }
   ],
   "source": [
    "loss = history.history['loss']\n",
    "val_loss = history.history['val_loss']\n",
    "\n",
    "epochs = range(1, len(loss) + 1)\n",
    "\n",
    "plt.plot(epochs, loss, 'bo', label='Training loss')\n",
    "plt.plot(epochs, val_loss, 'b', label='Validation loss')\n",
    "plt.title('Training and validation loss for model 12')\n",
    "plt.xlabel('Epochs')\n",
    "plt.ylabel('Loss')\n",
    "plt.legend()\n",
    "\n",
    "plt.savefig('images/model13.png', dpi=1200)\n",
    "\n",
    "plt.show()"
   ]
  },
  {
   "cell_type": "markdown",
   "id": "e54afc8a",
   "metadata": {},
   "source": [
    "## Model 14 (Back to Model 12)"
   ]
  },
  {
   "cell_type": "code",
   "execution_count": 47,
   "id": "67cf8cbd",
   "metadata": {},
   "outputs": [
    {
     "name": "stdout",
     "output_type": "stream",
     "text": [
      "Model: \"sequential_13\"\n",
      "_________________________________________________________________\n",
      " Layer (type)                Output Shape              Param #   \n",
      "=================================================================\n",
      " dense_59 (Dense)            (None, 64)                2304      \n",
      "                                                                 \n",
      " dropout_46 (Dropout)        (None, 64)                0         \n",
      "                                                                 \n",
      " dense_60 (Dense)            (None, 32)                2080      \n",
      "                                                                 \n",
      " dropout_47 (Dropout)        (None, 32)                0         \n",
      "                                                                 \n",
      " dense_61 (Dense)            (None, 16)                528       \n",
      "                                                                 \n",
      " dropout_48 (Dropout)        (None, 16)                0         \n",
      "                                                                 \n",
      " dense_62 (Dense)            (None, 8)                 136       \n",
      "                                                                 \n",
      " dropout_49 (Dropout)        (None, 8)                 0         \n",
      "                                                                 \n",
      " dense_63 (Dense)            (None, 1)                 9         \n",
      "                                                                 \n",
      "=================================================================\n",
      "Total params: 5,057\n",
      "Trainable params: 5,057\n",
      "Non-trainable params: 0\n",
      "_________________________________________________________________\n"
     ]
    }
   ],
   "source": [
    "model = models.Sequential()\n",
    "model.add(layers.Dense(64, input_shape=(X_train.shape[1],), kernel_regularizer='l1_l2'))\n",
    "model.add(layers.Dropout(0.2, seed=22))\n",
    "model.add(layers.Dense(32, activation='relu', kernel_regularizer='l1_l2'))\n",
    "model.add(layers.Dropout(0.2, seed=22))\n",
    "model.add(layers.Dense(16, activation='relu', kernel_regularizer='l1_l2'))\n",
    "model.add(layers.Dropout(0.2, seed=22))\n",
    "model.add(layers.Dense(8, activation='relu', kernel_regularizer='l1_l2'))\n",
    "model.add(layers.Dropout(0.2, seed=22))\n",
    "model.add(layers.Dense(1))\n",
    "model.summary()\n",
    "model.compile(optimizer='adam', loss='mse', metrics=['mae'])"
   ]
  },
  {
   "cell_type": "code",
   "execution_count": 48,
   "id": "afe585cc",
   "metadata": {},
   "outputs": [
    {
     "name": "stdout",
     "output_type": "stream",
     "text": [
      "Epoch 1/50\n",
      "198/198 [==============================] - 3s 9ms/step - loss: 524242.8125 - mae: 534.7256 - val_loss: 452900.6250 - val_mae: 491.8577\n",
      "Epoch 2/50\n",
      "198/198 [==============================] - 2s 8ms/step - loss: 455816.2188 - mae: 508.2737 - val_loss: 456412.9375 - val_mae: 478.3953\n",
      "Epoch 3/50\n",
      "198/198 [==============================] - 1s 7ms/step - loss: 414356.3438 - mae: 482.8826 - val_loss: 385936.5312 - val_mae: 444.4756\n",
      "Epoch 4/50\n",
      "198/198 [==============================] - 1s 7ms/step - loss: 372267.2500 - mae: 453.0904 - val_loss: 343412.1875 - val_mae: 411.7552\n",
      "Epoch 5/50\n",
      "198/198 [==============================] - 1s 7ms/step - loss: 353753.9062 - mae: 433.0651 - val_loss: 319507.5312 - val_mae: 396.3330\n",
      "Epoch 6/50\n",
      "198/198 [==============================] - 2s 8ms/step - loss: 340200.6875 - mae: 420.5892 - val_loss: 329932.9375 - val_mae: 398.1161\n",
      "Epoch 7/50\n",
      "198/198 [==============================] - 1s 8ms/step - loss: 332571.7188 - mae: 415.5874 - val_loss: 295382.0000 - val_mae: 381.3780\n",
      "Epoch 8/50\n",
      "198/198 [==============================] - 1s 7ms/step - loss: 323870.0000 - mae: 409.1469 - val_loss: 279979.1250 - val_mae: 375.8739\n",
      "Epoch 9/50\n",
      "198/198 [==============================] - 1s 7ms/step - loss: 324401.9062 - mae: 403.2588 - val_loss: 299130.5625 - val_mae: 377.6525\n",
      "Epoch 10/50\n",
      "198/198 [==============================] - 2s 8ms/step - loss: 311818.7500 - mae: 399.1616 - val_loss: 304645.5938 - val_mae: 379.0335\n",
      "Epoch 11/50\n",
      "198/198 [==============================] - 1s 6ms/step - loss: 304797.8438 - mae: 393.4161 - val_loss: 285319.2188 - val_mae: 367.1316\n",
      "Epoch 12/50\n",
      "198/198 [==============================] - 1s 7ms/step - loss: 297517.0000 - mae: 386.9747 - val_loss: 273555.9062 - val_mae: 359.3258\n",
      "Epoch 13/50\n",
      "198/198 [==============================] - 1s 6ms/step - loss: 290831.7188 - mae: 378.9337 - val_loss: 263206.9375 - val_mae: 353.0629\n",
      "Epoch 14/50\n",
      "198/198 [==============================] - 1s 6ms/step - loss: 283252.0000 - mae: 374.3876 - val_loss: 237611.0938 - val_mae: 345.1707\n",
      "Epoch 15/50\n",
      "198/198 [==============================] - 1s 6ms/step - loss: 285126.6250 - mae: 374.9661 - val_loss: 316538.2188 - val_mae: 378.1758\n",
      "Epoch 16/50\n",
      "198/198 [==============================] - 1s 7ms/step - loss: 283725.8438 - mae: 371.4854 - val_loss: 282108.9375 - val_mae: 356.4831\n",
      "Epoch 17/50\n",
      "198/198 [==============================] - 1s 7ms/step - loss: 270264.2188 - mae: 362.2902 - val_loss: 246036.8594 - val_mae: 332.9345\n",
      "Epoch 18/50\n",
      "198/198 [==============================] - 1s 5ms/step - loss: 264461.4062 - mae: 358.9587 - val_loss: 227612.7969 - val_mae: 322.1345\n",
      "Epoch 19/50\n",
      "198/198 [==============================] - 1s 6ms/step - loss: 254913.4531 - mae: 350.0344 - val_loss: 202554.5000 - val_mae: 311.0847\n",
      "Epoch 20/50\n",
      "198/198 [==============================] - 1s 6ms/step - loss: 252312.7344 - mae: 347.8186 - val_loss: 225483.8906 - val_mae: 315.2007\n",
      "Epoch 21/50\n",
      "198/198 [==============================] - 1s 6ms/step - loss: 241760.9062 - mae: 340.3215 - val_loss: 192174.5469 - val_mae: 298.4569\n",
      "Epoch 22/50\n",
      "198/198 [==============================] - 1s 7ms/step - loss: 233273.5156 - mae: 335.0258 - val_loss: 192206.9688 - val_mae: 292.7054\n",
      "Epoch 23/50\n",
      "198/198 [==============================] - 1s 5ms/step - loss: 244174.1875 - mae: 340.0091 - val_loss: 187049.4062 - val_mae: 289.8526\n",
      "Epoch 24/50\n",
      "198/198 [==============================] - 1s 6ms/step - loss: 226490.5938 - mae: 328.0497 - val_loss: 174240.3906 - val_mae: 280.4496\n",
      "Epoch 25/50\n",
      "198/198 [==============================] - 1s 6ms/step - loss: 226311.9531 - mae: 328.0333 - val_loss: 156858.7031 - val_mae: 274.0264\n",
      "Epoch 26/50\n",
      "198/198 [==============================] - 1s 7ms/step - loss: 215569.9375 - mae: 318.7342 - val_loss: 168684.5625 - val_mae: 276.2101\n",
      "Epoch 27/50\n",
      "198/198 [==============================] - 1s 6ms/step - loss: 208627.9219 - mae: 313.8290 - val_loss: 163951.6406 - val_mae: 272.8621\n",
      "Epoch 28/50\n",
      "198/198 [==============================] - 1s 6ms/step - loss: 201471.7031 - mae: 305.7862 - val_loss: 148991.1250 - val_mae: 262.6705\n",
      "Epoch 29/50\n",
      "198/198 [==============================] - 1s 6ms/step - loss: 197107.9219 - mae: 303.8028 - val_loss: 139734.1406 - val_mae: 266.5869\n",
      "Epoch 30/50\n",
      "198/198 [==============================] - 1s 7ms/step - loss: 199846.9219 - mae: 308.0503 - val_loss: 159279.6406 - val_mae: 268.9390\n",
      "Epoch 31/50\n",
      "198/198 [==============================] - 1s 8ms/step - loss: 194963.9844 - mae: 301.9000 - val_loss: 134723.0000 - val_mae: 250.2140\n",
      "Epoch 32/50\n",
      "198/198 [==============================] - 1s 7ms/step - loss: 196014.6562 - mae: 302.4069 - val_loss: 145488.7500 - val_mae: 256.9955\n",
      "Epoch 33/50\n",
      "198/198 [==============================] - 1s 5ms/step - loss: 195582.5156 - mae: 304.1543 - val_loss: 151381.7188 - val_mae: 259.3200\n",
      "Epoch 34/50\n",
      "198/198 [==============================] - 1s 7ms/step - loss: 190155.1094 - mae: 299.5114 - val_loss: 125143.0781 - val_mae: 240.9938\n",
      "Epoch 35/50\n",
      "198/198 [==============================] - 1s 6ms/step - loss: 187904.9688 - mae: 294.6321 - val_loss: 115024.4766 - val_mae: 234.0456\n",
      "Epoch 36/50\n",
      "198/198 [==============================] - 2s 8ms/step - loss: 181454.0469 - mae: 295.1671 - val_loss: 129319.6094 - val_mae: 240.4330\n",
      "Epoch 37/50\n",
      "198/198 [==============================] - 1s 6ms/step - loss: 190039.4062 - mae: 298.3477 - val_loss: 199293.3594 - val_mae: 301.1773\n",
      "Epoch 38/50\n",
      "198/198 [==============================] - 1s 6ms/step - loss: 178015.8906 - mae: 286.6002 - val_loss: 114490.3672 - val_mae: 228.6957\n",
      "Epoch 39/50\n",
      "198/198 [==============================] - 1s 6ms/step - loss: 168264.2188 - mae: 280.5841 - val_loss: 107693.7812 - val_mae: 222.7186\n",
      "Epoch 40/50\n",
      "198/198 [==============================] - 1s 6ms/step - loss: 169697.0156 - mae: 283.2948 - val_loss: 111607.7109 - val_mae: 224.9814\n",
      "Epoch 41/50\n",
      "198/198 [==============================] - 1s 5ms/step - loss: 182627.9219 - mae: 292.5754 - val_loss: 114852.2812 - val_mae: 226.1889\n",
      "Epoch 42/50\n",
      "198/198 [==============================] - 1s 6ms/step - loss: 174264.5312 - mae: 284.8737 - val_loss: 116639.6953 - val_mae: 227.7897\n",
      "Epoch 43/50\n",
      "198/198 [==============================] - 1s 6ms/step - loss: 172005.7031 - mae: 284.2784 - val_loss: 112544.5156 - val_mae: 225.4338\n",
      "Epoch 44/50\n",
      "198/198 [==============================] - 1s 6ms/step - loss: 173717.4375 - mae: 281.5651 - val_loss: 106262.5156 - val_mae: 219.4785\n",
      "Epoch 45/50\n",
      "198/198 [==============================] - 1s 7ms/step - loss: 172027.9219 - mae: 281.4234 - val_loss: 103465.4531 - val_mae: 218.9769\n",
      "Epoch 46/50\n",
      "198/198 [==============================] - 1s 6ms/step - loss: 166725.1719 - mae: 276.1956 - val_loss: 137282.8906 - val_mae: 248.8537\n",
      "Epoch 47/50\n",
      "198/198 [==============================] - 1s 7ms/step - loss: 165056.7656 - mae: 277.7399 - val_loss: 146773.4375 - val_mae: 253.4917\n",
      "Epoch 48/50\n",
      "198/198 [==============================] - 1s 6ms/step - loss: 173066.0625 - mae: 279.9533 - val_loss: 128139.4141 - val_mae: 236.4040\n",
      "Epoch 49/50\n",
      "198/198 [==============================] - 1s 6ms/step - loss: 165156.6094 - mae: 271.8139 - val_loss: 98359.5156 - val_mae: 213.6834\n",
      "Epoch 50/50\n",
      "198/198 [==============================] - 1s 6ms/step - loss: 170410.7031 - mae: 277.7943 - val_loss: 115543.7891 - val_mae: 225.0851\n",
      "80/80 [==============================] - 0s 3ms/step - loss: 115543.6719 - mae: 225.0851\n"
     ]
    },
    {
     "data": {
      "text/plain": [
       "[115543.671875, 225.08506774902344]"
      ]
     },
     "execution_count": 48,
     "metadata": {},
     "output_type": "execute_result"
    }
   ],
   "source": [
    "tensorboard_callback = tf.keras.callbacks.TensorBoard(log_dir=\"./logs\")\n",
    "history = model.fit(X_train, y_train, epochs=num_epochs, validation_data=(\n",
    "    X_test, y_test), batch_size=30, verbose=True, callbacks=[tensorboard_callback])\n",
    "model.evaluate(X_test, y_test)"
   ]
  },
  {
   "cell_type": "code",
   "execution_count": 49,
   "id": "5da63431",
   "metadata": {},
   "outputs": [
    {
     "data": {
      "image/png": "[encoded data removed]",
      "text/plain": [
       "<Figure size 432x288 with 1 Axes>"
      ]
     },
     "metadata": {
      "needs_background": "light"
     },
     "output_type": "display_data"
    }
   ],
   "source": [
    "loss = history.history['loss']\n",
    "val_loss = history.history['val_loss']\n",
    "\n",
    "epochs = range(1, len(loss) + 1)\n",
    "\n",
    "plt.plot(epochs, loss, 'bo', label='Training loss')\n",
    "plt.plot(epochs, val_loss, 'b', label='Validation loss')\n",
    "plt.title('Training and validation loss for model 13')\n",
    "plt.xlabel('Epochs')\n",
    "plt.ylabel('Loss')\n",
    "plt.legend()\n",
    "\n",
    "plt.savefig('images/model14.png', dpi=1200)\n",
    "\n",
    "plt.show()"
   ]
  },
  {
   "cell_type": "markdown",
   "id": "be0e9911",
   "metadata": {},
   "source": [
    "## Model 15 (Reset to Model 12)"
   ]
  },
  {
   "cell_type": "code",
   "execution_count": 50,
   "id": "0aae3fef",
   "metadata": {},
   "outputs": [
    {
     "name": "stdout",
     "output_type": "stream",
     "text": [
      "Model: \"sequential_14\"\n",
      "_________________________________________________________________\n",
      " Layer (type)                Output Shape              Param #   \n",
      "=================================================================\n",
      " dense_64 (Dense)            (None, 64)                2304      \n",
      "                                                                 \n",
      " dropout_50 (Dropout)        (None, 64)                0         \n",
      "                                                                 \n",
      " dense_65 (Dense)            (None, 32)                2080      \n",
      "                                                                 \n",
      " dropout_51 (Dropout)        (None, 32)                0         \n",
      "                                                                 \n",
      " dense_66 (Dense)            (None, 16)                528       \n",
      "                                                                 \n",
      " dropout_52 (Dropout)        (None, 16)                0         \n",
      "                                                                 \n",
      " dense_67 (Dense)            (None, 8)                 136       \n",
      "                                                                 \n",
      " dropout_53 (Dropout)        (None, 8)                 0         \n",
      "                                                                 \n",
      " dense_68 (Dense)            (None, 1)                 9         \n",
      "                                                                 \n",
      "=================================================================\n",
      "Total params: 5,057\n",
      "Trainable params: 5,057\n",
      "Non-trainable params: 0\n",
      "_________________________________________________________________\n"
     ]
    }
   ],
   "source": [
    "model = models.Sequential()\n",
    "model.add(layers.Dense(64, input_shape=(X_train.shape[1],)))\n",
    "model.add(layers.Dropout(0.2, seed=22))\n",
    "model.add(layers.Dense(32, activation='relu'))\n",
    "model.add(layers.Dropout(0.2, seed=22))\n",
    "model.add(layers.Dense(16, activation='relu'))\n",
    "model.add(layers.Dropout(0.2, seed=22))\n",
    "model.add(layers.Dense(8, activation='relu'))\n",
    "model.add(layers.Dropout(0.2, seed=22))\n",
    "model.add(layers.Dense(1))\n",
    "model.summary()\n",
    "model.compile(optimizer='adam', loss='mse', metrics=['mae'])"
   ]
  },
  {
   "cell_type": "code",
   "execution_count": 51,
   "id": "a7fbe334",
   "metadata": {},
   "outputs": [
    {
     "name": "stdout",
     "output_type": "stream",
     "text": [
      "Epoch 1/50\n",
      "149/149 [==============================] - 2s 7ms/step - loss: 589494.7500 - mae: 570.1854 - val_loss: 481222.1562 - val_mae: 496.4099\n",
      "Epoch 2/50\n",
      "149/149 [==============================] - 1s 5ms/step - loss: 503506.2812 - mae: 525.9610 - val_loss: 431565.5000 - val_mae: 476.8543\n",
      "Epoch 3/50\n",
      "149/149 [==============================] - 1s 5ms/step - loss: 459522.4688 - mae: 503.7439 - val_loss: 393239.5312 - val_mae: 448.6257\n",
      "Epoch 4/50\n",
      "149/149 [==============================] - 1s 6ms/step - loss: 419238.0000 - mae: 480.0449 - val_loss: 349337.5938 - val_mae: 416.2205\n",
      "Epoch 5/50\n",
      "149/149 [==============================] - 1s 5ms/step - loss: 405411.9688 - mae: 461.4094 - val_loss: 323213.0625 - val_mae: 401.3758\n",
      "Epoch 6/50\n",
      "149/149 [==============================] - 1s 6ms/step - loss: 369679.9062 - mae: 436.0445 - val_loss: 307078.4375 - val_mae: 392.3344\n",
      "Epoch 7/50\n",
      "149/149 [==============================] - 1s 6ms/step - loss: 366972.6875 - mae: 436.2617 - val_loss: 302177.7500 - val_mae: 386.3596\n",
      "Epoch 8/50\n",
      "149/149 [==============================] - 1s 5ms/step - loss: 345964.8750 - mae: 419.8175 - val_loss: 286175.0938 - val_mae: 379.0354\n",
      "Epoch 9/50\n",
      "149/149 [==============================] - 1s 6ms/step - loss: 348366.1875 - mae: 420.1205 - val_loss: 282921.9062 - val_mae: 375.2528\n",
      "Epoch 10/50\n",
      "149/149 [==============================] - 1s 5ms/step - loss: 337773.5000 - mae: 413.7930 - val_loss: 305569.2500 - val_mae: 381.6419\n",
      "Epoch 11/50\n",
      "149/149 [==============================] - 1s 5ms/step - loss: 344848.5938 - mae: 418.6383 - val_loss: 272943.0625 - val_mae: 365.6556\n",
      "Epoch 12/50\n",
      "149/149 [==============================] - 1s 6ms/step - loss: 334432.1875 - mae: 407.5514 - val_loss: 261225.7188 - val_mae: 359.3354\n",
      "Epoch 13/50\n",
      "149/149 [==============================] - 1s 8ms/step - loss: 325031.3125 - mae: 397.4743 - val_loss: 313785.0312 - val_mae: 381.1840\n",
      "Epoch 14/50\n",
      "149/149 [==============================] - 1s 5ms/step - loss: 322173.3438 - mae: 397.9724 - val_loss: 243265.9375 - val_mae: 355.5127\n",
      "Epoch 15/50\n",
      "149/149 [==============================] - 1s 5ms/step - loss: 309963.1875 - mae: 390.0401 - val_loss: 252423.7812 - val_mae: 345.1140\n",
      "Epoch 16/50\n",
      "149/149 [==============================] - 1s 6ms/step - loss: 309751.1250 - mae: 388.6182 - val_loss: 229068.2188 - val_mae: 341.2433\n",
      "Epoch 17/50\n",
      "149/149 [==============================] - 1s 5ms/step - loss: 312873.0312 - mae: 387.7305 - val_loss: 227134.7188 - val_mae: 332.5286\n",
      "Epoch 18/50\n",
      "149/149 [==============================] - 1s 5ms/step - loss: 299613.9375 - mae: 377.6040 - val_loss: 231891.3750 - val_mae: 325.6263\n",
      "Epoch 19/50\n",
      "149/149 [==============================] - 1s 5ms/step - loss: 294527.4375 - mae: 374.7289 - val_loss: 228716.7500 - val_mae: 320.3542\n",
      "Epoch 20/50\n",
      "149/149 [==============================] - 1s 5ms/step - loss: 276089.2812 - mae: 360.8413 - val_loss: 263141.7188 - val_mae: 337.9280\n",
      "Epoch 21/50\n",
      "149/149 [==============================] - 1s 5ms/step - loss: 283330.5000 - mae: 366.6098 - val_loss: 202548.5469 - val_mae: 304.1706\n",
      "Epoch 22/50\n",
      "149/149 [==============================] - 1s 6ms/step - loss: 264813.1250 - mae: 355.8784 - val_loss: 185209.7812 - val_mae: 296.5687\n",
      "Epoch 23/50\n",
      "149/149 [==============================] - 1s 4ms/step - loss: 265482.9375 - mae: 351.5186 - val_loss: 178836.9219 - val_mae: 287.9030\n",
      "Epoch 24/50\n",
      "149/149 [==============================] - 1s 5ms/step - loss: 260393.9531 - mae: 350.6810 - val_loss: 176958.9531 - val_mae: 285.4499\n",
      "Epoch 25/50\n",
      "149/149 [==============================] - 1s 5ms/step - loss: 261361.5469 - mae: 350.0653 - val_loss: 175888.4531 - val_mae: 280.8117\n",
      "Epoch 26/50\n",
      "149/149 [==============================] - 1s 6ms/step - loss: 254276.0000 - mae: 346.5869 - val_loss: 240074.1562 - val_mae: 324.1158\n",
      "Epoch 27/50\n",
      "149/149 [==============================] - 1s 5ms/step - loss: 246241.9688 - mae: 341.8111 - val_loss: 155459.5938 - val_mae: 274.8624\n",
      "Epoch 28/50\n",
      "149/149 [==============================] - 1s 5ms/step - loss: 246625.9219 - mae: 340.1702 - val_loss: 197802.6875 - val_mae: 294.9011\n",
      "Epoch 29/50\n",
      "149/149 [==============================] - 1s 5ms/step - loss: 245000.6562 - mae: 339.3999 - val_loss: 159509.3594 - val_mae: 267.2770\n",
      "Epoch 30/50\n",
      "149/149 [==============================] - 1s 6ms/step - loss: 234844.9219 - mae: 332.5840 - val_loss: 147588.0469 - val_mae: 260.2414\n",
      "Epoch 31/50\n",
      "149/149 [==============================] - 1s 5ms/step - loss: 234947.5156 - mae: 330.7099 - val_loss: 138670.9062 - val_mae: 254.0600\n",
      "Epoch 32/50\n",
      "149/149 [==============================] - 1s 5ms/step - loss: 231932.0000 - mae: 328.9321 - val_loss: 134567.2812 - val_mae: 255.7377\n",
      "Epoch 33/50\n",
      "149/149 [==============================] - 1s 5ms/step - loss: 224829.0312 - mae: 324.0321 - val_loss: 134149.9531 - val_mae: 248.0690\n",
      "Epoch 34/50\n",
      "149/149 [==============================] - 1s 6ms/step - loss: 216955.1250 - mae: 317.6024 - val_loss: 129581.0781 - val_mae: 248.1581\n",
      "Epoch 35/50\n",
      "149/149 [==============================] - 1s 6ms/step - loss: 214387.0156 - mae: 313.8843 - val_loss: 207954.0781 - val_mae: 307.2340\n",
      "Epoch 36/50\n",
      "149/149 [==============================] - 1s 5ms/step - loss: 219368.7500 - mae: 319.5108 - val_loss: 122441.9922 - val_mae: 243.8993\n",
      "Epoch 37/50\n",
      "149/149 [==============================] - 1s 5ms/step - loss: 199529.8594 - mae: 304.5994 - val_loss: 133797.3594 - val_mae: 247.2812\n",
      "Epoch 38/50\n",
      "149/149 [==============================] - 1s 5ms/step - loss: 219727.6562 - mae: 318.0161 - val_loss: 118937.6641 - val_mae: 241.2593\n",
      "Epoch 39/50\n",
      "149/149 [==============================] - 1s 5ms/step - loss: 207788.8281 - mae: 309.7408 - val_loss: 115551.9844 - val_mae: 232.8779\n",
      "Epoch 40/50\n",
      "149/149 [==============================] - 1s 5ms/step - loss: 206866.9062 - mae: 310.5847 - val_loss: 173944.2969 - val_mae: 278.4739\n",
      "Epoch 41/50\n",
      "149/149 [==============================] - 1s 6ms/step - loss: 206125.3906 - mae: 306.1595 - val_loss: 187664.4531 - val_mae: 293.2408\n",
      "Epoch 42/50\n",
      "149/149 [==============================] - 1s 6ms/step - loss: 209041.8438 - mae: 308.9020 - val_loss: 111736.1016 - val_mae: 227.8714\n",
      "Epoch 43/50\n",
      "149/149 [==============================] - 1s 5ms/step - loss: 212666.0625 - mae: 312.7749 - val_loss: 129176.9844 - val_mae: 238.4340\n",
      "Epoch 44/50\n",
      "149/149 [==============================] - 1s 6ms/step - loss: 200861.9219 - mae: 303.0950 - val_loss: 110761.7891 - val_mae: 226.0021\n",
      "Epoch 45/50\n",
      "149/149 [==============================] - 1s 6ms/step - loss: 204838.3281 - mae: 306.4971 - val_loss: 114957.1641 - val_mae: 232.5578\n",
      "Epoch 46/50\n",
      "149/149 [==============================] - 1s 5ms/step - loss: 211301.5000 - mae: 311.5446 - val_loss: 126343.1328 - val_mae: 234.0566\n",
      "Epoch 47/50\n",
      "149/149 [==============================] - 1s 6ms/step - loss: 202968.4375 - mae: 302.2794 - val_loss: 112172.1719 - val_mae: 225.7331\n",
      "Epoch 48/50\n",
      "149/149 [==============================] - 1s 5ms/step - loss: 193440.1094 - mae: 300.2425 - val_loss: 119862.0859 - val_mae: 231.7305\n",
      "Epoch 49/50\n",
      "149/149 [==============================] - 1s 6ms/step - loss: 195428.8906 - mae: 297.4866 - val_loss: 109350.7891 - val_mae: 219.9899\n",
      "Epoch 50/50\n",
      "149/149 [==============================] - 1s 6ms/step - loss: 200690.7188 - mae: 301.8008 - val_loss: 103161.9766 - val_mae: 219.4067\n",
      "80/80 [==============================] - 0s 2ms/step - loss: 103161.9844 - mae: 219.4067\n"
     ]
    },
    {
     "data": {
      "text/plain": [
       "[103161.984375, 219.40672302246094]"
      ]
     },
     "execution_count": 51,
     "metadata": {},
     "output_type": "execute_result"
    }
   ],
   "source": [
    "tensorboard_callback = tf.keras.callbacks.TensorBoard(log_dir=\"./logs\")\n",
    "history = model.fit(X_train, y_train, epochs=num_epochs, validation_data=(\n",
    "    X_test, y_test), batch_size=40, verbose=True, callbacks=[tensorboard_callback])\n",
    "model.evaluate(X_test, y_test)"
   ]
  },
  {
   "cell_type": "code",
   "execution_count": 52,
   "id": "44c395b9",
   "metadata": {},
   "outputs": [
    {
     "data": {
      "image/png": "[encoded data removed]",
      "text/plain": [
       "<Figure size 432x288 with 1 Axes>"
      ]
     },
     "metadata": {
      "needs_background": "light"
     },
     "output_type": "display_data"
    }
   ],
   "source": [
    "loss = history.history['loss']\n",
    "val_loss = history.history['val_loss']\n",
    "\n",
    "epochs = range(1, len(loss) + 1)\n",
    "\n",
    "plt.plot(epochs, loss, 'bo', label='Training loss')\n",
    "plt.plot(epochs, val_loss, 'b', label='Validation loss')\n",
    "plt.title('Training and validation loss for model 14')\n",
    "plt.xlabel('Epochs')\n",
    "plt.ylabel('Loss')\n",
    "plt.legend()\n",
    "\n",
    "plt.savefig('images/model15.png', dpi=1200)\n",
    "\n",
    "plt.show()"
   ]
  },
  {
   "cell_type": "markdown",
   "id": "bde643ea",
   "metadata": {},
   "source": [
    "## Model 16 (Reset to Model 12)"
   ]
  },
  {
   "cell_type": "code",
   "execution_count": 53,
   "id": "4cc3247d",
   "metadata": {},
   "outputs": [
    {
     "name": "stdout",
     "output_type": "stream",
     "text": [
      "Model: \"sequential_15\"\n",
      "_________________________________________________________________\n",
      " Layer (type)                Output Shape              Param #   \n",
      "=================================================================\n",
      " dense_69 (Dense)            (None, 64)                2304      \n",
      "                                                                 \n",
      " dropout_54 (Dropout)        (None, 64)                0         \n",
      "                                                                 \n",
      " dense_70 (Dense)            (None, 32)                2080      \n",
      "                                                                 \n",
      " dropout_55 (Dropout)        (None, 32)                0         \n",
      "                                                                 \n",
      " dense_71 (Dense)            (None, 16)                528       \n",
      "                                                                 \n",
      " dropout_56 (Dropout)        (None, 16)                0         \n",
      "                                                                 \n",
      " dense_72 (Dense)            (None, 8)                 136       \n",
      "                                                                 \n",
      " dropout_57 (Dropout)        (None, 8)                 0         \n",
      "                                                                 \n",
      " dense_73 (Dense)            (None, 4)                 36        \n",
      "                                                                 \n",
      " dropout_58 (Dropout)        (None, 4)                 0         \n",
      "                                                                 \n",
      " dense_74 (Dense)            (None, 1)                 5         \n",
      "                                                                 \n",
      "=================================================================\n",
      "Total params: 5,089\n",
      "Trainable params: 5,089\n",
      "Non-trainable params: 0\n",
      "_________________________________________________________________\n"
     ]
    }
   ],
   "source": [
    "model = models.Sequential()\n",
    "model.add(layers.Dense(64, input_shape=(X_train.shape[1],)))\n",
    "model.add(layers.Dropout(0.2, seed=22))\n",
    "model.add(layers.Dense(32, activation='relu'))\n",
    "model.add(layers.Dropout(0.2, seed=22))\n",
    "model.add(layers.Dense(16, activation='relu'))\n",
    "model.add(layers.Dropout(0.2, seed=22))\n",
    "model.add(layers.Dense(8, activation='relu'))\n",
    "model.add(layers.Dropout(0.2, seed=22))\n",
    "model.add(layers.Dense(4, activation='relu'))\n",
    "model.add(layers.Dropout(0.2, seed=22))\n",
    "model.add(layers.Dense(1))\n",
    "model.summary()\n",
    "model.compile(optimizer='adam', loss='mse', metrics=['mae'])"
   ]
  },
  {
   "cell_type": "code",
   "execution_count": 54,
   "id": "83554e71",
   "metadata": {},
   "outputs": [
    {
     "name": "stdout",
     "output_type": "stream",
     "text": [
      "Epoch 1/50\n",
      "198/198 [==============================] - 3s 8ms/step - loss: 662306.1875 - mae: 596.6657 - val_loss: 534571.1250 - val_mae: 508.7713\n",
      "Epoch 2/50\n",
      "198/198 [==============================] - 1s 6ms/step - loss: 519835.4062 - mae: 533.7463 - val_loss: 451781.4062 - val_mae: 475.1609\n",
      "Epoch 3/50\n",
      "198/198 [==============================] - 1s 7ms/step - loss: 491928.8125 - mae: 516.2905 - val_loss: 413670.6875 - val_mae: 447.9720\n",
      "Epoch 4/50\n",
      "198/198 [==============================] - 1s 6ms/step - loss: 444015.8125 - mae: 485.3120 - val_loss: 321398.1562 - val_mae: 415.2010\n",
      "Epoch 5/50\n",
      "198/198 [==============================] - 1s 6ms/step - loss: 424478.3438 - mae: 471.4962 - val_loss: 346978.2812 - val_mae: 408.4313\n",
      "Epoch 6/50\n",
      "198/198 [==============================] - 1s 7ms/step - loss: 423242.8750 - mae: 464.2615 - val_loss: 340319.0000 - val_mae: 402.5390\n",
      "Epoch 7/50\n",
      "198/198 [==============================] - 1s 6ms/step - loss: 410223.1250 - mae: 454.9538 - val_loss: 388341.0938 - val_mae: 424.3275\n",
      "Epoch 8/50\n",
      "198/198 [==============================] - 1s 6ms/step - loss: 397985.0625 - mae: 447.0197 - val_loss: 372596.3438 - val_mae: 415.2416\n",
      "Epoch 9/50\n",
      "198/198 [==============================] - 1s 7ms/step - loss: 388789.0938 - mae: 443.8521 - val_loss: 359573.4062 - val_mae: 407.3619\n",
      "Epoch 10/50\n",
      "198/198 [==============================] - 1s 6ms/step - loss: 395456.9688 - mae: 444.3879 - val_loss: 325459.1875 - val_mae: 388.6396\n",
      "Epoch 11/50\n",
      "198/198 [==============================] - 1s 6ms/step - loss: 388687.0312 - mae: 438.6805 - val_loss: 302815.7188 - val_mae: 377.7595\n",
      "Epoch 12/50\n",
      "198/198 [==============================] - 1s 6ms/step - loss: 377845.5000 - mae: 434.4000 - val_loss: 352410.2188 - val_mae: 400.1938\n",
      "Epoch 13/50\n",
      "198/198 [==============================] - 1s 6ms/step - loss: 373841.5625 - mae: 429.0148 - val_loss: 298229.5312 - val_mae: 370.4548\n",
      "Epoch 14/50\n",
      "198/198 [==============================] - 1s 6ms/step - loss: 373189.0938 - mae: 428.1155 - val_loss: 345314.5000 - val_mae: 396.5111\n",
      "Epoch 15/50\n",
      "198/198 [==============================] - 1s 7ms/step - loss: 373936.1250 - mae: 420.8367 - val_loss: 326675.9375 - val_mae: 379.7708\n",
      "Epoch 16/50\n",
      "198/198 [==============================] - 1s 6ms/step - loss: 352393.4375 - mae: 411.3505 - val_loss: 292257.5000 - val_mae: 362.6082\n",
      "Epoch 17/50\n",
      "198/198 [==============================] - 1s 6ms/step - loss: 354444.3438 - mae: 413.1835 - val_loss: 372673.4375 - val_mae: 409.1092\n",
      "Epoch 18/50\n",
      "198/198 [==============================] - 1s 6ms/step - loss: 355701.4688 - mae: 410.4312 - val_loss: 297871.6562 - val_mae: 360.8438\n",
      "Epoch 19/50\n",
      "198/198 [==============================] - 1s 6ms/step - loss: 350969.5938 - mae: 407.7321 - val_loss: 323107.8125 - val_mae: 373.9608\n",
      "Epoch 20/50\n",
      "198/198 [==============================] - 1s 6ms/step - loss: 347785.0938 - mae: 405.8623 - val_loss: 359628.3438 - val_mae: 397.4646\n",
      "Epoch 21/50\n",
      "198/198 [==============================] - 1s 7ms/step - loss: 333856.4375 - mae: 395.2741 - val_loss: 274528.9688 - val_mae: 342.7464\n",
      "Epoch 22/50\n",
      "198/198 [==============================] - 1s 6ms/step - loss: 320806.1875 - mae: 387.7591 - val_loss: 315411.1875 - val_mae: 369.7472\n",
      "Epoch 23/50\n",
      "198/198 [==============================] - 1s 6ms/step - loss: 323270.1562 - mae: 389.0192 - val_loss: 247870.2812 - val_mae: 325.1005\n",
      "Epoch 24/50\n",
      "198/198 [==============================] - 1s 6ms/step - loss: 306997.3750 - mae: 380.9369 - val_loss: 304580.1562 - val_mae: 358.2547\n",
      "Epoch 25/50\n",
      "198/198 [==============================] - 1s 6ms/step - loss: 305999.8750 - mae: 374.7339 - val_loss: 291014.1562 - val_mae: 353.7078\n",
      "Epoch 26/50\n",
      "198/198 [==============================] - 1s 6ms/step - loss: 303251.2812 - mae: 376.6788 - val_loss: 250464.6562 - val_mae: 326.6182\n",
      "Epoch 27/50\n",
      "198/198 [==============================] - 1s 6ms/step - loss: 304018.6562 - mae: 378.0827 - val_loss: 287503.0000 - val_mae: 354.0870\n",
      "Epoch 28/50\n",
      "198/198 [==============================] - 1s 6ms/step - loss: 292500.6875 - mae: 367.5973 - val_loss: 188544.5781 - val_mae: 286.9936\n",
      "Epoch 29/50\n",
      "198/198 [==============================] - 1s 6ms/step - loss: 287142.7188 - mae: 363.5310 - val_loss: 225856.9062 - val_mae: 313.0036\n",
      "Epoch 30/50\n",
      "198/198 [==============================] - 1s 6ms/step - loss: 291160.7188 - mae: 367.4376 - val_loss: 236484.2656 - val_mae: 318.9181\n",
      "Epoch 31/50\n",
      "198/198 [==============================] - 1s 6ms/step - loss: 285515.3750 - mae: 361.6104 - val_loss: 206364.1250 - val_mae: 295.6006\n",
      "Epoch 32/50\n",
      "198/198 [==============================] - 1s 6ms/step - loss: 292411.6250 - mae: 366.6051 - val_loss: 234178.4219 - val_mae: 319.0748\n",
      "Epoch 33/50\n",
      "198/198 [==============================] - 1s 6ms/step - loss: 285201.9375 - mae: 363.6636 - val_loss: 223146.8594 - val_mae: 312.2381\n",
      "Epoch 34/50\n",
      "198/198 [==============================] - 1s 6ms/step - loss: 275182.9688 - mae: 354.9058 - val_loss: 205813.6406 - val_mae: 299.6094\n",
      "Epoch 35/50\n",
      "198/198 [==============================] - 1s 6ms/step - loss: 274722.8750 - mae: 355.0483 - val_loss: 171154.5625 - val_mae: 272.7630\n",
      "Epoch 36/50\n",
      "198/198 [==============================] - 1s 6ms/step - loss: 276137.1250 - mae: 353.7712 - val_loss: 206687.4219 - val_mae: 302.7761\n",
      "Epoch 37/50\n",
      "198/198 [==============================] - 1s 6ms/step - loss: 273942.9062 - mae: 356.5280 - val_loss: 211418.2500 - val_mae: 303.7772\n",
      "Epoch 38/50\n",
      "198/198 [==============================] - 1s 6ms/step - loss: 270543.2500 - mae: 350.4827 - val_loss: 158279.4531 - val_mae: 262.7620\n",
      "Epoch 39/50\n",
      "198/198 [==============================] - 1s 6ms/step - loss: 275405.8750 - mae: 356.0524 - val_loss: 277143.0625 - val_mae: 355.5322\n",
      "Epoch 40/50\n",
      "198/198 [==============================] - 1s 6ms/step - loss: 264132.6875 - mae: 346.3114 - val_loss: 227643.2656 - val_mae: 315.3918\n",
      "Epoch 41/50\n",
      "198/198 [==============================] - 1s 6ms/step - loss: 271015.5312 - mae: 352.0044 - val_loss: 242212.2031 - val_mae: 332.2903\n",
      "Epoch 42/50\n",
      "198/198 [==============================] - 1s 6ms/step - loss: 259480.1250 - mae: 342.8666 - val_loss: 201004.2031 - val_mae: 293.2709\n",
      "Epoch 43/50\n",
      "198/198 [==============================] - 1s 6ms/step - loss: 265290.7188 - mae: 344.4893 - val_loss: 200169.4219 - val_mae: 294.3257\n",
      "Epoch 44/50\n",
      "198/198 [==============================] - 1s 7ms/step - loss: 271610.7188 - mae: 351.1664 - val_loss: 173742.4219 - val_mae: 271.8093\n",
      "Epoch 45/50\n",
      "198/198 [==============================] - 1s 6ms/step - loss: 263596.4688 - mae: 346.3572 - val_loss: 180865.8125 - val_mae: 280.9892\n",
      "Epoch 46/50\n",
      "198/198 [==============================] - 1s 6ms/step - loss: 261827.4844 - mae: 344.8654 - val_loss: 198259.7344 - val_mae: 291.6380\n",
      "Epoch 47/50\n",
      "198/198 [==============================] - 1s 6ms/step - loss: 260695.0781 - mae: 341.6714 - val_loss: 328784.0000 - val_mae: 400.5849\n",
      "Epoch 48/50\n",
      "198/198 [==============================] - 1s 6ms/step - loss: 259088.8906 - mae: 340.7887 - val_loss: 216566.2500 - val_mae: 308.8396\n",
      "Epoch 49/50\n",
      "198/198 [==============================] - 1s 6ms/step - loss: 254958.5156 - mae: 341.9072 - val_loss: 214575.8438 - val_mae: 307.1993\n",
      "Epoch 50/50\n",
      "198/198 [==============================] - 1s 6ms/step - loss: 257816.4844 - mae: 337.8098 - val_loss: 215785.9219 - val_mae: 306.1163\n",
      "80/80 [==============================] - 0s 2ms/step - loss: 215785.9062 - mae: 306.1164\n"
     ]
    },
    {
     "data": {
      "text/plain": [
       "[215785.90625, 306.1164245605469]"
      ]
     },
     "execution_count": 54,
     "metadata": {},
     "output_type": "execute_result"
    }
   ],
   "source": [
    "tensorboard_callback = tf.keras.callbacks.TensorBoard(log_dir=\"./logs\")\n",
    "history = model.fit(X_train, y_train, epochs=num_epochs, validation_data=(\n",
    "    X_test, y_test), batch_size=30, verbose=True, callbacks=[tensorboard_callback])\n",
    "model.evaluate(X_test, y_test)"
   ]
  },
  {
   "cell_type": "code",
   "execution_count": 55,
   "id": "a39e3df0",
   "metadata": {},
   "outputs": [
    {
     "data": {
      "image/png": "[encoded data removed]",
      "text/plain": [
       "<Figure size 432x288 with 1 Axes>"
      ]
     },
     "metadata": {
      "needs_background": "light"
     },
     "output_type": "display_data"
    }
   ],
   "source": [
    "loss = history.history['loss']\n",
    "val_loss = history.history['val_loss']\n",
    "\n",
    "epochs = range(1, len(loss) + 1)\n",
    "\n",
    "plt.plot(epochs, loss, 'bo', label='Training loss')\n",
    "plt.plot(epochs, val_loss, 'b', label='Validation loss')\n",
    "plt.title('Training and validation loss for model 15')\n",
    "plt.xlabel('Epochs')\n",
    "plt.ylabel('Loss')\n",
    "plt.legend()\n",
    "\n",
    "plt.savefig('images/model16.png', dpi=1200)\n",
    "\n",
    "plt.show()"
   ]
  },
  {
   "cell_type": "markdown",
   "id": "e6742843",
   "metadata": {},
   "source": [
    "## Plotting Predicted vs Actual values using Model 12"
   ]
  },
  {
   "cell_type": "code",
   "execution_count": 56,
   "id": "a0eb0a81",
   "metadata": {},
   "outputs": [
    {
     "name": "stdout",
     "output_type": "stream",
     "text": [
      "Model: \"sequential_16\"\n",
      "_________________________________________________________________\n",
      " Layer (type)                Output Shape              Param #   \n",
      "=================================================================\n",
      " dense_75 (Dense)            (None, 64)                2304      \n",
      "                                                                 \n",
      " dropout_59 (Dropout)        (None, 64)                0         \n",
      "                                                                 \n",
      " dense_76 (Dense)            (None, 32)                2080      \n",
      "                                                                 \n",
      " dropout_60 (Dropout)        (None, 32)                0         \n",
      "                                                                 \n",
      " dense_77 (Dense)            (None, 16)                528       \n",
      "                                                                 \n",
      " dropout_61 (Dropout)        (None, 16)                0         \n",
      "                                                                 \n",
      " dense_78 (Dense)            (None, 8)                 136       \n",
      "                                                                 \n",
      " dropout_62 (Dropout)        (None, 8)                 0         \n",
      "                                                                 \n",
      " dense_79 (Dense)            (None, 1)                 9         \n",
      "                                                                 \n",
      "=================================================================\n",
      "Total params: 5,057\n",
      "Trainable params: 5,057\n",
      "Non-trainable params: 0\n",
      "_________________________________________________________________\n"
     ]
    }
   ],
   "source": [
    "# recreate model 12\n",
    "model = models.Sequential()\n",
    "model.add(layers.Dense(64, input_shape=(X_train.shape[1],)))\n",
    "model.add(layers.Dropout(0.2, seed=22))\n",
    "model.add(layers.Dense(32, activation='relu'))\n",
    "model.add(layers.Dropout(0.2, seed=22))\n",
    "model.add(layers.Dense(16, activation='relu'))\n",
    "model.add(layers.Dropout(0.2, seed=22))\n",
    "model.add(layers.Dense(8, activation='relu'))\n",
    "model.add(layers.Dropout(0.2, seed=22))\n",
    "model.add(layers.Dense(1))\n",
    "model.summary()\n",
    "model.compile(optimizer='adam', loss='mse', metrics=['mae'])"
   ]
  },
  {
   "cell_type": "code",
   "execution_count": 57,
   "id": "d45be3b6",
   "metadata": {},
   "outputs": [
    {
     "name": "stdout",
     "output_type": "stream",
     "text": [
      "Epoch 1/50\n",
      "198/198 [==============================] - 2s 7ms/step - loss: 605189.6250 - mae: 578.9824 - val_loss: 451982.0000 - val_mae: 490.3232\n",
      "Epoch 2/50\n",
      "198/198 [==============================] - 1s 6ms/step - loss: 505331.3750 - mae: 528.8753 - val_loss: 393630.3750 - val_mae: 458.4974\n",
      "Epoch 3/50\n",
      "198/198 [==============================] - 1s 6ms/step - loss: 420094.1875 - mae: 480.1106 - val_loss: 359641.7188 - val_mae: 416.2064\n",
      "Epoch 4/50\n",
      "198/198 [==============================] - 1s 6ms/step - loss: 384125.0312 - mae: 451.6011 - val_loss: 301691.9375 - val_mae: 400.2227\n",
      "Epoch 5/50\n",
      "198/198 [==============================] - 1s 6ms/step - loss: 362663.2812 - mae: 430.5607 - val_loss: 310072.2500 - val_mae: 389.9933\n",
      "Epoch 6/50\n",
      "198/198 [==============================] - 1s 6ms/step - loss: 351339.4375 - mae: 427.0841 - val_loss: 294988.4375 - val_mae: 381.7038\n",
      "Epoch 7/50\n",
      "198/198 [==============================] - 1s 5ms/step - loss: 344589.4375 - mae: 421.5572 - val_loss: 293261.5312 - val_mae: 379.1309\n",
      "Epoch 8/50\n",
      "198/198 [==============================] - 1s 6ms/step - loss: 336601.4062 - mae: 410.3497 - val_loss: 287808.1875 - val_mae: 374.6147\n",
      "Epoch 9/50\n",
      "198/198 [==============================] - 1s 6ms/step - loss: 336545.9062 - mae: 413.8273 - val_loss: 288233.1562 - val_mae: 372.8825\n",
      "Epoch 10/50\n",
      "198/198 [==============================] - 1s 6ms/step - loss: 326571.6875 - mae: 403.6249 - val_loss: 277054.7500 - val_mae: 365.6033\n",
      "Epoch 11/50\n",
      "198/198 [==============================] - 1s 6ms/step - loss: 324628.1250 - mae: 399.5384 - val_loss: 319654.9062 - val_mae: 385.2205\n",
      "Epoch 12/50\n",
      "198/198 [==============================] - 1s 6ms/step - loss: 314580.7500 - mae: 394.8885 - val_loss: 279806.7500 - val_mae: 360.9787\n",
      "Epoch 13/50\n",
      "198/198 [==============================] - 1s 6ms/step - loss: 301171.8438 - mae: 386.7311 - val_loss: 246050.8750 - val_mae: 346.1229\n",
      "Epoch 14/50\n",
      "198/198 [==============================] - 1s 6ms/step - loss: 294409.5938 - mae: 380.7358 - val_loss: 259293.2969 - val_mae: 346.4837\n",
      "Epoch 15/50\n",
      "198/198 [==============================] - 1s 6ms/step - loss: 294552.3750 - mae: 377.6045 - val_loss: 235071.0625 - val_mae: 332.3062\n",
      "Epoch 16/50\n",
      "198/198 [==============================] - 1s 5ms/step - loss: 291860.3438 - mae: 375.6595 - val_loss: 226353.7812 - val_mae: 326.4022\n",
      "Epoch 17/50\n",
      "198/198 [==============================] - 1s 6ms/step - loss: 279376.8438 - mae: 368.0432 - val_loss: 252921.7969 - val_mae: 335.2451\n",
      "Epoch 18/50\n",
      "198/198 [==============================] - 1s 5ms/step - loss: 276008.3750 - mae: 361.4894 - val_loss: 222475.7969 - val_mae: 315.8720\n",
      "Epoch 19/50\n",
      "198/198 [==============================] - 1s 5ms/step - loss: 260614.3906 - mae: 353.8643 - val_loss: 228102.2188 - val_mae: 316.5184\n",
      "Epoch 20/50\n",
      "198/198 [==============================] - 1s 5ms/step - loss: 259016.2656 - mae: 353.4507 - val_loss: 179728.7031 - val_mae: 295.6663\n",
      "Epoch 21/50\n",
      "198/198 [==============================] - 1s 6ms/step - loss: 251051.5469 - mae: 343.1698 - val_loss: 173663.5156 - val_mae: 305.7539\n",
      "Epoch 22/50\n",
      "198/198 [==============================] - 1s 5ms/step - loss: 249283.2344 - mae: 342.6055 - val_loss: 176642.6562 - val_mae: 283.3835\n",
      "Epoch 23/50\n",
      "198/198 [==============================] - 1s 5ms/step - loss: 236421.8594 - mae: 332.8781 - val_loss: 174931.2656 - val_mae: 280.6472\n",
      "Epoch 24/50\n",
      "198/198 [==============================] - 1s 6ms/step - loss: 231325.7031 - mae: 326.4876 - val_loss: 153591.5625 - val_mae: 268.7274\n",
      "Epoch 25/50\n",
      "198/198 [==============================] - 1s 5ms/step - loss: 220182.4688 - mae: 323.6443 - val_loss: 153109.6250 - val_mae: 267.6481\n",
      "Epoch 26/50\n",
      "198/198 [==============================] - 1s 5ms/step - loss: 218923.8125 - mae: 319.0345 - val_loss: 158917.8281 - val_mae: 268.3446\n",
      "Epoch 27/50\n",
      "198/198 [==============================] - 1s 5ms/step - loss: 218927.1562 - mae: 320.4723 - val_loss: 216669.8125 - val_mae: 311.3667\n",
      "Epoch 28/50\n",
      "198/198 [==============================] - 1s 6ms/step - loss: 209126.3281 - mae: 313.7854 - val_loss: 167228.3906 - val_mae: 277.2249\n",
      "Epoch 29/50\n",
      "198/198 [==============================] - 1s 5ms/step - loss: 211568.5781 - mae: 313.0896 - val_loss: 162130.0781 - val_mae: 271.3671\n",
      "Epoch 30/50\n",
      "198/198 [==============================] - 1s 5ms/step - loss: 217170.7188 - mae: 319.7951 - val_loss: 131338.6406 - val_mae: 248.7815\n",
      "Epoch 31/50\n",
      "198/198 [==============================] - 1s 5ms/step - loss: 204838.6094 - mae: 309.0016 - val_loss: 172233.3125 - val_mae: 280.0806\n",
      "Epoch 32/50\n",
      "198/198 [==============================] - 1s 6ms/step - loss: 204291.1094 - mae: 309.2538 - val_loss: 146144.0781 - val_mae: 255.4820\n",
      "Epoch 33/50\n",
      "198/198 [==============================] - 1s 6ms/step - loss: 197991.7031 - mae: 305.1376 - val_loss: 118609.9531 - val_mae: 238.7094\n",
      "Epoch 34/50\n",
      "198/198 [==============================] - 1s 6ms/step - loss: 196001.4219 - mae: 300.8844 - val_loss: 115079.1797 - val_mae: 237.0766\n",
      "Epoch 35/50\n",
      "198/198 [==============================] - 1s 6ms/step - loss: 204794.8750 - mae: 310.4792 - val_loss: 117573.4297 - val_mae: 237.6276\n",
      "Epoch 36/50\n",
      "198/198 [==============================] - 1s 6ms/step - loss: 204146.7969 - mae: 308.6885 - val_loss: 113060.8359 - val_mae: 236.1577\n",
      "Epoch 37/50\n",
      "198/198 [==============================] - 1s 6ms/step - loss: 193771.7500 - mae: 300.0293 - val_loss: 117778.7969 - val_mae: 230.7585\n",
      "Epoch 38/50\n",
      "198/198 [==============================] - 1s 6ms/step - loss: 190844.9062 - mae: 297.2548 - val_loss: 112566.3906 - val_mae: 237.0582\n",
      "Epoch 39/50\n",
      "198/198 [==============================] - 1s 5ms/step - loss: 182119.3906 - mae: 289.8311 - val_loss: 108189.6562 - val_mae: 224.9693\n",
      "Epoch 40/50\n",
      "198/198 [==============================] - 1s 5ms/step - loss: 185020.5312 - mae: 290.4998 - val_loss: 101391.1641 - val_mae: 219.4146\n",
      "Epoch 41/50\n",
      "198/198 [==============================] - 1s 5ms/step - loss: 196250.2969 - mae: 301.0163 - val_loss: 128484.0312 - val_mae: 243.2053\n",
      "Epoch 42/50\n",
      "198/198 [==============================] - 1s 5ms/step - loss: 189896.7969 - mae: 292.4296 - val_loss: 107752.4766 - val_mae: 230.2905\n",
      "Epoch 43/50\n",
      "198/198 [==============================] - 1s 5ms/step - loss: 194132.1719 - mae: 298.0084 - val_loss: 104580.6875 - val_mae: 220.2071\n",
      "Epoch 44/50\n",
      "198/198 [==============================] - 1s 5ms/step - loss: 188648.5156 - mae: 291.9014 - val_loss: 113705.9297 - val_mae: 224.2024\n",
      "Epoch 45/50\n",
      "198/198 [==============================] - 1s 6ms/step - loss: 183861.7500 - mae: 287.8658 - val_loss: 103682.9766 - val_mae: 215.8659\n",
      "Epoch 46/50\n",
      "198/198 [==============================] - 1s 5ms/step - loss: 178795.8906 - mae: 287.8833 - val_loss: 106110.6797 - val_mae: 216.4090\n",
      "Epoch 47/50\n",
      "198/198 [==============================] - 1s 5ms/step - loss: 186846.2969 - mae: 294.6993 - val_loss: 159508.4531 - val_mae: 274.4780\n",
      "Epoch 48/50\n",
      "198/198 [==============================] - 1s 5ms/step - loss: 187887.9688 - mae: 293.0380 - val_loss: 102857.5703 - val_mae: 215.9929\n",
      "Epoch 49/50\n",
      "198/198 [==============================] - 1s 6ms/step - loss: 181010.3125 - mae: 288.3888 - val_loss: 202783.0312 - val_mae: 313.3947\n",
      "Epoch 50/50\n",
      "198/198 [==============================] - 1s 6ms/step - loss: 180142.4844 - mae: 285.3265 - val_loss: 114775.2656 - val_mae: 223.8006\n"
     ]
    }
   ],
   "source": [
    "tensorboard_callback = tf.keras.callbacks.TensorBoard(log_dir=\"./logs\")\n",
    "history = model.fit(X_train, y_train, epochs=num_epochs, validation_data=(\n",
    "    X_test, y_test), batch_size=30, verbose=True, callbacks=[tensorboard_callback])"
   ]
  },
  {
   "cell_type": "code",
   "execution_count": 58,
   "id": "7e414f31",
   "metadata": {},
   "outputs": [
    {
     "name": "stdout",
     "output_type": "stream",
     "text": [
      "85/85 [==============================] - 0s 1ms/step\n",
      "80/80 [==============================] - 0s 2ms/step - loss: 114775.3594 - mae: 223.8007\n"
     ]
    },
    {
     "data": {
      "text/plain": [
       "[114775.359375, 223.8007354736328]"
      ]
     },
     "execution_count": 58,
     "metadata": {},
     "output_type": "execute_result"
    }
   ],
   "source": [
    "prediction = model.predict(X_test, batch_size=30, verbose=True)\n",
    "model.evaluate(X_test,y_test)"
   ]
  },
  {
   "cell_type": "code",
   "execution_count": 59,
   "id": "5ac3e7f9",
   "metadata": {},
   "outputs": [
    {
     "data": {
      "image/png": "[encoded data removed]",
      "text/plain": [
       "<Figure size 432x288 with 1 Axes>"
      ]
     },
     "metadata": {
      "needs_background": "light"
     },
     "output_type": "display_data"
    }
   ],
   "source": [
    "plt.plot(prediction, y_test, 'bo', alpha = 0.4)\n",
    "plt.axline((0,0), slope=1, color='red')\n",
    "plt.title('Predicted vs Actual for validation data using Model 12')\n",
    "plt.xlabel('Predicted Values (# of Bicycles)')\n",
    "plt.ylabel('Actual Values (# of Bicycles)')\n",
    "plt.xlim(right=3700)\n",
    "plt.gca().set_aspect(1.0)\n",
    "\n",
    "plt.savefig('images/predictactual.png', dpi=1200)\n",
    "\n",
    "plt.show()"
   ]
  },
  {
   "cell_type": "code",
   "execution_count": 60,
   "id": "1206d8d7",
   "metadata": {},
   "outputs": [
    {
     "data": {
      "image/png": "[encoded data removed]",
      "text/plain": [
       "<Figure size 432x288 with 1 Axes>"
      ]
     },
     "metadata": {
      "needs_background": "light"
     },
     "output_type": "display_data"
    }
   ],
   "source": [
    "plt.hist(y_test, ec=\"black\")\n",
    "plt.title('Distribution of Actual Values for validation data')\n",
    "plt.xlabel('Actual Values (# of Bicycles)')\n",
    "plt.ylabel('Frequency')\n",
    "\n",
    "plt.savefig('images/histo.png', dpi=1200)\n",
    "\n",
    "plt.show()"
   ]
  },
  {
   "cell_type": "code",
   "execution_count": 63,
   "id": "c8b97c8f",
   "metadata": {},
   "outputs": [
    {
     "data": {
      "image/png": "[encoded data removed]",
      "text/plain": [
       "<Figure size 432x288 with 1 Axes>"
      ]
     },
     "metadata": {
      "needs_background": "light"
     },
     "output_type": "display_data"
    }
   ],
   "source": [
    "val_mae = history.history['val_mae']\n",
    "\n",
    "epochs = range(1, len(val_mae) + 1)\n",
    "\n",
    "plt.plot(epochs, val_mae, 'b')\n",
    "plt.title('Mean Absolute Error per Epoch for validation data using Model 12')\n",
    "plt.xlabel('Epochs')\n",
    "plt.ylabel('Mean Absolute Error')\n",
    "\n",
    "plt.savefig('images/mae.png', dpi=1200)\n",
    "\n",
    "plt.show()"
   ]
  },
  {
   "cell_type": "code",
   "execution_count": null,
   "id": "441e5621",
   "metadata": {},
   "outputs": [],
   "source": []
  }
 ],
 "metadata": {
  "kernelspec": {
   "display_name": "Python 3 (ipykernel)",
   "language": "python",
   "name": "python3"
  },
  "language_info": {
   "codemirror_mode": {
    "name": "ipython",
    "version": 3
   },
   "file_extension": ".py",
   "mimetype": "text/x-python",
   "name": "python",
   "nbconvert_exporter": "python",
   "pygments_lexer": "ipython3",
   "version": "3.8.10"
  }
 },
 "nbformat": 4,
 "nbformat_minor": 5
}
