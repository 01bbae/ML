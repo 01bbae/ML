{
 "cells": [
  {
   "cell_type": "code",
   "execution_count": 1,
   "id": "8b7d4139",
   "metadata": {},
   "outputs": [
    {
     "name": "stderr",
     "output_type": "stream",
     "text": [
      "2023-03-08 20:20:04.558957: I tensorflow/core/platform/cpu_feature_guard.cc:193] This TensorFlow binary is optimized with oneAPI Deep Neural Network Library (oneDNN) to use the following CPU instructions in performance-critical operations:  AVX2 AVX_VNNI FMA\n",
      "To enable them in other operations, rebuild TensorFlow with the appropriate compiler flags.\n",
      "2023-03-08 20:20:04.698374: I tensorflow/core/util/port.cc:104] oneDNN custom operations are on. You may see slightly different numerical results due to floating-point round-off errors from different computation orders. To turn them off, set the environment variable `TF_ENABLE_ONEDNN_OPTS=0`.\n",
      "2023-03-08 20:20:05.487538: W tensorflow/compiler/xla/stream_executor/platform/default/dso_loader.cc:64] Could not load dynamic library 'libnvinfer.so.7'; dlerror: libnvinfer.so.7: cannot open shared object file: No such file or directory; LD_LIBRARY_PATH: :/home/bjbae/miniconda3/envs/ml/lib/\n",
      "2023-03-08 20:20:05.489915: W tensorflow/compiler/xla/stream_executor/platform/default/dso_loader.cc:64] Could not load dynamic library 'libnvinfer_plugin.so.7'; dlerror: libnvinfer_plugin.so.7: cannot open shared object file: No such file or directory; LD_LIBRARY_PATH: :/home/bjbae/miniconda3/envs/ml/lib/\n",
      "2023-03-08 20:20:05.489927: W tensorflow/compiler/tf2tensorrt/utils/py_utils.cc:38] TF-TRT Warning: Cannot dlopen some TensorRT libraries. If you would like to use Nvidia GPU with TensorRT, please make sure the missing libraries mentioned above are installed properly.\n"
     ]
    },
    {
     "name": "stdout",
     "output_type": "stream",
     "text": [
      "Num GPUs Available:  1\n"
     ]
    },
    {
     "name": "stderr",
     "output_type": "stream",
     "text": [
      "2023-03-08 20:20:07.128562: I tensorflow/compiler/xla/stream_executor/cuda/cuda_gpu_executor.cc:967] could not open file to read NUMA node: /sys/bus/pci/devices/0000:01:00.0/numa_node\n",
      "Your kernel may have been built without NUMA support.\n",
      "2023-03-08 20:20:07.167694: I tensorflow/compiler/xla/stream_executor/cuda/cuda_gpu_executor.cc:967] could not open file to read NUMA node: /sys/bus/pci/devices/0000:01:00.0/numa_node\n",
      "Your kernel may have been built without NUMA support.\n",
      "2023-03-08 20:20:07.167955: I tensorflow/compiler/xla/stream_executor/cuda/cuda_gpu_executor.cc:967] could not open file to read NUMA node: /sys/bus/pci/devices/0000:01:00.0/numa_node\n",
      "Your kernel may have been built without NUMA support.\n"
     ]
    }
   ],
   "source": [
    "import numpy as np\n",
    "import pandas as pd\n",
    "from keras import layers\n",
    "from keras import models\n",
    "import tensorflow as tf\n",
    "import tensorboard\n",
    "from sklearn.model_selection import train_test_split\n",
    "from sklearn.preprocessing import StandardScaler\n",
    "from sklearn.compose import ColumnTransformer\n",
    "from matplotlib import pyplot as plt\n",
    "\n",
    "print(\"Num GPUs Available: \", len(tf.config.list_physical_devices('GPU')))"
   ]
  },
  {
   "cell_type": "code",
   "execution_count": 2,
   "id": "b7af606e",
   "metadata": {},
   "outputs": [],
   "source": [
    "# load dataset\n",
    "# encoding error with degrees symbol in utf-8\n",
    "df = pd.read_csv(\"./SeoulBikeData.csv\",\n",
    "                 encoding_errors=\"ignore\")\n",
    "\n",
    "# data cleaning removing measurement labels\n",
    "rename_dict = {}\n",
    "rename_dict[\"Temperature(C)\"] = \"Temperature\"\n",
    "rename_dict[\"Humidity(%)\"] = \"Humidity\"\n",
    "rename_dict[\"Wind speed (m/s)\"] = \"Wind speed\"\n",
    "rename_dict[\"Visibility (10m)\"] = \"Visibility\"\n",
    "rename_dict[\"Dew point temperature(C)\"] = \"Dew point temperature\"\n",
    "rename_dict[\"Solar Radiation (MJ/m2)\"] = \"Solar Radiation\"\n",
    "rename_dict[\"Rainfall(mm)\"] = \"Rainfall\"\n",
    "rename_dict[\"Snowfall (cm)\"] = \"Snowfall\"\n",
    "df.rename(columns=rename_dict, inplace=True)"
   ]
  },
  {
   "cell_type": "code",
   "execution_count": 3,
   "id": "28f99857",
   "metadata": {},
   "outputs": [],
   "source": [
    "# Predict Rented Bike Count\n",
    "# Predictors Hour, Temp, Hum, Solar Rad, Rain, Snow, Seasons, Holiday\n",
    "# Filter Functional Day (Times where bike sharing was unavailible)\n",
    "\n",
    "# print(df.columns)\n",
    "# print(df.describe())\n",
    "# print(df[\"Functioning Day\"].describe())\n",
    "# print(df.shape)\n",
    "\n",
    "# df_EDA = df.loc[df[\"Functioning Day\"] != \"Yes\", :]\n",
    "# print(df_EDA)"
   ]
  },
  {
   "cell_type": "code",
   "execution_count": 4,
   "id": "fc85d32b",
   "metadata": {},
   "outputs": [
    {
     "name": "stdout",
     "output_type": "stream",
     "text": [
      "Index(['Temperature', 'Humidity', 'Wind speed', 'Visibility',\n",
      "       'Dew point temperature', 'Solar Radiation', 'Rainfall', 'Snowfall',\n",
      "       'Seasons_Spring', 'Seasons_Summer', 'Seasons_Winter',\n",
      "       'Holiday_No Holiday', 'Hour_1', 'Hour_2', 'Hour_3', 'Hour_4', 'Hour_5',\n",
      "       'Hour_6', 'Hour_7', 'Hour_8', 'Hour_9', 'Hour_10', 'Hour_11', 'Hour_12',\n",
      "       'Hour_13', 'Hour_14', 'Hour_15', 'Hour_16', 'Hour_17', 'Hour_18',\n",
      "       'Hour_19', 'Hour_20', 'Hour_21', 'Hour_22', 'Hour_23'],\n",
      "      dtype='object')\n"
     ]
    }
   ],
   "source": [
    "# First filter valid rows\n",
    "df_filtered = df.loc[df[\"Functioning Day\"] == \"Yes\", :]\n",
    "\n",
    "# Create Predicted and Predictors\n",
    "X = df_filtered.iloc[:, 2:13]\n",
    "y = df_filtered.loc[:, \"Rented Bike Count\"]\n",
    "\n",
    "# Encode values in X\n",
    "X = pd.get_dummies(X, drop_first=True)\n",
    "X = pd.get_dummies(X, columns=[\"Hour\"], drop_first=True)\n",
    "print(X.columns)"
   ]
  },
  {
   "cell_type": "code",
   "execution_count": 5,
   "id": "8ff12b34",
   "metadata": {},
   "outputs": [
    {
     "name": "stdout",
     "output_type": "stream",
     "text": [
      "      Temperature  Humidity  Wind speed  Visibility  Dew point temperature  \\\n",
      "5591         28.8        56         1.6        2000                   19.1   \n",
      "5990         34.0        50         1.2        1744                   22.1   \n",
      "4563         19.1        84         0.6         421                   16.3   \n",
      "7837         13.5        82         0.8         962                   10.4   \n",
      "3109         12.4        32         1.7        1441                   -3.8   \n",
      "\n",
      "      Solar Radiation  Rainfall  Snowfall  Seasons_Spring  Seasons_Summer  \\\n",
      "5591             0.00       0.0       0.0               0               1   \n",
      "5990             1.68       0.0       0.0               0               1   \n",
      "4563             0.00       0.0       0.0               0               1   \n",
      "7837             1.33       0.0       0.0               0               0   \n",
      "3109             3.06       0.0       0.0               1               0   \n",
      "\n",
      "      ...  Hour_14  Hour_15  Hour_16  Hour_17  Hour_18  Hour_19  Hour_20  \\\n",
      "5591  ...        0        0        0        0        0        0        0   \n",
      "5990  ...        1        0        0        0        0        0        0   \n",
      "4563  ...        0        0        0        0        0        0        0   \n",
      "7837  ...        0        0        0        0        0        0        0   \n",
      "3109  ...        0        0        0        0        0        0        0   \n",
      "\n",
      "      Hour_21  Hour_22  Hour_23  \n",
      "5591        0        0        1  \n",
      "5990        0        0        0  \n",
      "4563        0        0        0  \n",
      "7837        0        0        0  \n",
      "3109        0        0        0  \n",
      "\n",
      "[5 rows x 35 columns]\n",
      "       Temperature     Humidity   Wind speed   Visibility  \\\n",
      "count  5925.000000  5925.000000  5925.000000  5925.000000   \n",
      "mean     12.840506    57.966582     1.733451  1438.382447   \n",
      "std      12.118354    20.448835     1.038515   602.956260   \n",
      "min     -17.500000     0.000000     0.000000    27.000000   \n",
      "25%       3.100000    42.000000     0.900000   951.000000   \n",
      "50%      13.700000    57.000000     1.500000  1690.000000   \n",
      "75%      22.700000    74.000000     2.400000  1999.000000   \n",
      "max      39.400000    98.000000     7.400000  2000.000000   \n",
      "\n",
      "       Dew point temperature  Solar Radiation     Rainfall     Snowfall  \\\n",
      "count            5925.000000      5925.000000  5925.000000  5925.000000   \n",
      "mean                3.948439         0.584290     0.145266     0.070937   \n",
      "std                13.244285         0.879864     1.131985     0.404823   \n",
      "min               -30.500000         0.000000     0.000000     0.000000   \n",
      "25%                -5.100000         0.000000     0.000000     0.000000   \n",
      "50%                 4.700000         0.010000     0.000000     0.000000   \n",
      "75%                15.100000         0.960000     0.000000     0.000000   \n",
      "max                26.800000         3.520000    35.000000     7.000000   \n",
      "\n",
      "       Seasons_Spring  Seasons_Summer  ...      Hour_14      Hour_15  \\\n",
      "count     5925.000000     5925.000000  ...  5925.000000  5925.000000   \n",
      "mean         0.253333        0.266160  ...     0.042025     0.041688   \n",
      "std          0.434957        0.441986  ...     0.200664     0.199892   \n",
      "min          0.000000        0.000000  ...     0.000000     0.000000   \n",
      "25%          0.000000        0.000000  ...     0.000000     0.000000   \n",
      "50%          0.000000        0.000000  ...     0.000000     0.000000   \n",
      "75%          1.000000        1.000000  ...     0.000000     0.000000   \n",
      "max          1.000000        1.000000  ...     1.000000     1.000000   \n",
      "\n",
      "           Hour_16      Hour_17      Hour_18      Hour_19      Hour_20  \\\n",
      "count  5925.000000  5925.000000  5925.000000  5925.000000  5925.000000   \n",
      "mean      0.043376     0.039831     0.040844     0.039325     0.042194   \n",
      "std       0.203718     0.195579     0.197945     0.194383     0.201049   \n",
      "min       0.000000     0.000000     0.000000     0.000000     0.000000   \n",
      "25%       0.000000     0.000000     0.000000     0.000000     0.000000   \n",
      "50%       0.000000     0.000000     0.000000     0.000000     0.000000   \n",
      "75%       0.000000     0.000000     0.000000     0.000000     0.000000   \n",
      "max       1.000000     1.000000     1.000000     1.000000     1.000000   \n",
      "\n",
      "           Hour_21      Hour_22      Hour_23  \n",
      "count  5925.000000  5925.000000  5925.000000  \n",
      "mean      0.040844     0.042194     0.040844  \n",
      "std       0.197945     0.201049     0.197945  \n",
      "min       0.000000     0.000000     0.000000  \n",
      "25%       0.000000     0.000000     0.000000  \n",
      "50%       0.000000     0.000000     0.000000  \n",
      "75%       0.000000     0.000000     0.000000  \n",
      "max       1.000000     1.000000     1.000000  \n",
      "\n",
      "[8 rows x 35 columns]\n",
      "(5925, 35)\n",
      "(5925,)\n",
      "(2540, 35)\n",
      "(2540,)\n"
     ]
    }
   ],
   "source": [
    "# train test split\n",
    "X_train, X_test, y_train, y_test = train_test_split(\n",
    "    X, y, test_size=0.3, random_state=22)\n",
    "\n",
    "std = StandardScaler()\n",
    "ct = ColumnTransformer([\n",
    "    ('std', StandardScaler(), list(rename_dict.values()))\n",
    "], remainder='passthrough')\n",
    "ct.fit_transform(X_train, y_test)\n",
    "ct.transform(X_test)\n",
    "print(X_train.head())\n",
    "print(X_train.describe())\n",
    "\n",
    "print(X_train.shape)\n",
    "print(y_train.shape)\n",
    "print(X_test.shape)\n",
    "print(y_test.shape)"
   ]
  },
  {
   "cell_type": "code",
   "execution_count": 6,
   "id": "9ea38322",
   "metadata": {},
   "outputs": [],
   "source": [
    "num_epochs = 20"
   ]
  },
  {
   "cell_type": "markdown",
   "id": "271edcc8",
   "metadata": {},
   "source": [
    "## Model 1"
   ]
  },
  {
   "cell_type": "code",
   "execution_count": 7,
   "id": "61ebc399",
   "metadata": {},
   "outputs": [
    {
     "name": "stdout",
     "output_type": "stream",
     "text": [
      "Model: \"sequential\"\n",
      "_________________________________________________________________\n",
      " Layer (type)                Output Shape              Param #   \n",
      "=================================================================\n",
      " dense (Dense)               (None, 8)                 288       \n",
      "                                                                 \n",
      " dropout (Dropout)           (None, 8)                 0         \n",
      "                                                                 \n",
      " dense_1 (Dense)             (None, 8)                 72        \n",
      "                                                                 \n",
      " dropout_1 (Dropout)         (None, 8)                 0         \n",
      "                                                                 \n",
      " dense_2 (Dense)             (None, 1)                 9         \n",
      "                                                                 \n",
      "=================================================================\n",
      "Total params: 369\n",
      "Trainable params: 369\n",
      "Non-trainable params: 0\n",
      "_________________________________________________________________\n"
     ]
    },
    {
     "name": "stderr",
     "output_type": "stream",
     "text": [
      "2023-03-08 20:20:07.350896: I tensorflow/core/platform/cpu_feature_guard.cc:193] This TensorFlow binary is optimized with oneAPI Deep Neural Network Library (oneDNN) to use the following CPU instructions in performance-critical operations:  AVX2 AVX_VNNI FMA\n",
      "To enable them in other operations, rebuild TensorFlow with the appropriate compiler flags.\n",
      "2023-03-08 20:20:07.361646: I tensorflow/compiler/xla/stream_executor/cuda/cuda_gpu_executor.cc:967] could not open file to read NUMA node: /sys/bus/pci/devices/0000:01:00.0/numa_node\n",
      "Your kernel may have been built without NUMA support.\n",
      "2023-03-08 20:20:07.361959: I tensorflow/compiler/xla/stream_executor/cuda/cuda_gpu_executor.cc:967] could not open file to read NUMA node: /sys/bus/pci/devices/0000:01:00.0/numa_node\n",
      "Your kernel may have been built without NUMA support.\n",
      "2023-03-08 20:20:07.362157: I tensorflow/compiler/xla/stream_executor/cuda/cuda_gpu_executor.cc:967] could not open file to read NUMA node: /sys/bus/pci/devices/0000:01:00.0/numa_node\n",
      "Your kernel may have been built without NUMA support.\n",
      "2023-03-08 20:20:09.996811: I tensorflow/compiler/xla/stream_executor/cuda/cuda_gpu_executor.cc:967] could not open file to read NUMA node: /sys/bus/pci/devices/0000:01:00.0/numa_node\n",
      "Your kernel may have been built without NUMA support.\n",
      "2023-03-08 20:20:09.997118: I tensorflow/compiler/xla/stream_executor/cuda/cuda_gpu_executor.cc:967] could not open file to read NUMA node: /sys/bus/pci/devices/0000:01:00.0/numa_node\n",
      "Your kernel may have been built without NUMA support.\n",
      "2023-03-08 20:20:09.997132: I tensorflow/core/common_runtime/gpu/gpu_device.cc:1700] Could not identify NUMA node of platform GPU id 0, defaulting to 0.  Your kernel may not have been built with NUMA support.\n",
      "2023-03-08 20:20:09.997357: I tensorflow/compiler/xla/stream_executor/cuda/cuda_gpu_executor.cc:967] could not open file to read NUMA node: /sys/bus/pci/devices/0000:01:00.0/numa_node\n",
      "Your kernel may have been built without NUMA support.\n",
      "2023-03-08 20:20:09.997416: I tensorflow/core/common_runtime/gpu/gpu_device.cc:1613] Created device /job:localhost/replica:0/task:0/device:GPU:0 with 6037 MB memory:  -> device: 0, name: NVIDIA GeForce RTX 3080, pci bus id: 0000:01:00.0, compute capability: 8.6\n"
     ]
    }
   ],
   "source": [
    "# Create the model\n",
    "\n",
    "model = models.Sequential()\n",
    "model.add(layers.Dense(8, input_shape=(X_train.shape[1],)))\n",
    "model.add(layers.Dropout(0.2, seed=22))\n",
    "model.add(layers.Dense(8, activation='relu'))\n",
    "model.add(layers.Dropout(0.2, seed=22))\n",
    "model.add(layers.Dense(1))\n",
    "model.summary()\n",
    "model.compile(optimizer='adam', loss='mse', metrics=['mae'])"
   ]
  },
  {
   "cell_type": "code",
   "execution_count": 8,
   "id": "f3eccc77",
   "metadata": {
    "scrolled": true
   },
   "outputs": [
    {
     "name": "stdout",
     "output_type": "stream",
     "text": [
      "Epoch 1/20\n"
     ]
    },
    {
     "name": "stderr",
     "output_type": "stream",
     "text": [
      "2023-03-08 20:20:31.403138: I tensorflow/compiler/xla/stream_executor/cuda/cuda_blas.cc:630] TensorFloat-32 will be used for the matrix multiplication. This will only be logged once.\n",
      "2023-03-08 20:20:31.433023: I tensorflow/compiler/xla/service/service.cc:173] XLA service 0x7f1a7186d820 initialized for platform CUDA (this does not guarantee that XLA will be used). Devices:\n",
      "2023-03-08 20:20:31.433061: I tensorflow/compiler/xla/service/service.cc:181]   StreamExecutor device (0): NVIDIA GeForce RTX 3080, Compute Capability 8.6\n",
      "2023-03-08 20:20:31.544031: I tensorflow/compiler/mlir/tensorflow/utils/dump_mlir_util.cc:268] disabling MLIR crash reproducer, set env var `MLIR_CRASH_REPRODUCER_DIRECTORY` to enable.\n",
      "2023-03-08 20:20:32.256731: I tensorflow/tsl/platform/default/subprocess.cc:304] Start cannot spawn child process: No such file or directory\n",
      "2023-03-08 20:20:32.384702: I tensorflow/compiler/jit/xla_compilation_cache.cc:477] Compiled cluster using XLA!  This line is logged at most once for the lifetime of the process.\n"
     ]
    },
    {
     "name": "stdout",
     "output_type": "stream",
     "text": [
      "5925/5925 [==============================] - 28s 4ms/step - loss: 450663.3125 - mae: 504.2795 - val_loss: 358377.3750 - val_mae: 429.2833\n",
      "Epoch 2/20\n",
      "5925/5925 [==============================] - 22s 4ms/step - loss: 329640.3125 - mae: 429.4335 - val_loss: 340507.0000 - val_mae: 405.6692\n",
      "Epoch 3/20\n",
      "5925/5925 [==============================] - 22s 4ms/step - loss: 303498.8750 - mae: 403.6674 - val_loss: 375713.6562 - val_mae: 418.7847\n",
      "Epoch 4/20\n",
      "5925/5925 [==============================] - 23s 4ms/step - loss: 284965.5938 - mae: 388.6987 - val_loss: 389774.2188 - val_mae: 427.7973\n",
      "Epoch 5/20\n",
      "5925/5925 [==============================] - 23s 4ms/step - loss: 278046.7500 - mae: 382.3819 - val_loss: 318121.4688 - val_mae: 384.4241\n",
      "Epoch 6/20\n",
      "5925/5925 [==============================] - 23s 4ms/step - loss: 270217.9062 - mae: 375.8621 - val_loss: 311019.7812 - val_mae: 378.6456\n",
      "Epoch 7/20\n",
      "5925/5925 [==============================] - 23s 4ms/step - loss: 258986.2969 - mae: 366.8185 - val_loss: 363812.8750 - val_mae: 413.1654\n",
      "Epoch 8/20\n",
      "5925/5925 [==============================] - 23s 4ms/step - loss: 247223.8281 - mae: 357.9105 - val_loss: 288930.5625 - val_mae: 360.7717\n",
      "Epoch 9/20\n",
      "5925/5925 [==============================] - 23s 4ms/step - loss: 237767.5938 - mae: 351.7433 - val_loss: 288544.2188 - val_mae: 358.1308\n",
      "Epoch 10/20\n",
      "5925/5925 [==============================] - 23s 4ms/step - loss: 222881.0938 - mae: 338.4704 - val_loss: 462307.4375 - val_mae: 471.0396\n",
      "Epoch 11/20\n",
      "5925/5925 [==============================] - 22s 4ms/step - loss: 212928.4688 - mae: 329.3476 - val_loss: 311370.0625 - val_mae: 370.6874\n",
      "Epoch 12/20\n",
      "5925/5925 [==============================] - 22s 4ms/step - loss: 201348.0469 - mae: 321.7205 - val_loss: 330934.2500 - val_mae: 385.8909\n",
      "Epoch 13/20\n",
      "5925/5925 [==============================] - 23s 4ms/step - loss: 193907.5312 - mae: 313.1523 - val_loss: 279612.4688 - val_mae: 354.7386\n",
      "Epoch 14/20\n",
      "5925/5925 [==============================] - 22s 4ms/step - loss: 184329.9844 - mae: 306.6532 - val_loss: 347463.2188 - val_mae: 403.8889\n",
      "Epoch 15/20\n",
      "5925/5925 [==============================] - 22s 4ms/step - loss: 179103.3750 - mae: 300.6840 - val_loss: 224735.6406 - val_mae: 312.9171\n",
      "Epoch 16/20\n",
      "5925/5925 [==============================] - 22s 4ms/step - loss: 169113.8125 - mae: 291.9424 - val_loss: 269852.7812 - val_mae: 347.9076\n",
      "Epoch 17/20\n",
      "5925/5925 [==============================] - 22s 4ms/step - loss: 163734.7812 - mae: 287.5222 - val_loss: 215028.9844 - val_mae: 307.0800\n",
      "Epoch 18/20\n",
      "5925/5925 [==============================] - 22s 4ms/step - loss: 163162.5625 - mae: 287.7704 - val_loss: 264000.9688 - val_mae: 344.9860\n",
      "Epoch 19/20\n",
      "5925/5925 [==============================] - 22s 4ms/step - loss: 154389.2812 - mae: 277.8288 - val_loss: 302708.6562 - val_mae: 377.3879\n",
      "Epoch 20/20\n",
      "5925/5925 [==============================] - 22s 4ms/step - loss: 158352.7812 - mae: 280.2122 - val_loss: 149377.5000 - val_mae: 265.5703\n",
      "80/80 [==============================] - 0s 2ms/step - loss: 149377.4531 - mae: 265.5702\n"
     ]
    },
    {
     "data": {
      "text/plain": [
       "[149377.453125, 265.5701904296875]"
      ]
     },
     "execution_count": 8,
     "metadata": {},
     "output_type": "execute_result"
    }
   ],
   "source": [
    "tensorboard_callback = tf.keras.callbacks.TensorBoard(log_dir=\"./logs\")\n",
    "history = model.fit(X_train, y_train, epochs=num_epochs, validation_data=(\n",
    "    X_test, y_test), batch_size=1, verbose=True, callbacks=[tensorboard_callback])\n",
    "model.evaluate(X_test, y_test)"
   ]
  },
  {
   "cell_type": "code",
   "execution_count": 9,
   "id": "302f7ab3",
   "metadata": {},
   "outputs": [
    {
     "data": {
      "image/png": "[encoded data removed]",
      "text/plain": [
       "<Figure size 432x288 with 1 Axes>"
      ]
     },
     "metadata": {
      "needs_background": "light"
     },
     "output_type": "display_data"
    }
   ],
   "source": [
    "loss = history.history['loss']\n",
    "val_loss = history.history['val_loss']\n",
    "\n",
    "epochs = range(1, len(loss) + 1)\n",
    "\n",
    "plt.plot(epochs, loss, 'bo', label='Training loss')\n",
    "plt.plot(epochs, val_loss, 'b', label='Validation loss')\n",
    "plt.title('Training and validation loss for model 1')\n",
    "plt.xlabel('Epochs')\n",
    "plt.ylabel('Loss')\n",
    "plt.legend()\n",
    "\n",
    "plt.savefig('images/model1.png', dpi=1200, bbox_inches=\"tight\")\n",
    "\n",
    "plt.show()"
   ]
  },
  {
   "cell_type": "markdown",
   "id": "e3117e97",
   "metadata": {},
   "source": [
    "## Model 2"
   ]
  },
  {
   "cell_type": "code",
   "execution_count": 10,
   "id": "2b8f67f6",
   "metadata": {},
   "outputs": [
    {
     "name": "stdout",
     "output_type": "stream",
     "text": [
      "Model: \"sequential_1\"\n",
      "_________________________________________________________________\n",
      " Layer (type)                Output Shape              Param #   \n",
      "=================================================================\n",
      " dense_3 (Dense)             (None, 8)                 288       \n",
      "                                                                 \n",
      " dropout_2 (Dropout)         (None, 8)                 0         \n",
      "                                                                 \n",
      " dense_4 (Dense)             (None, 8)                 72        \n",
      "                                                                 \n",
      " dropout_3 (Dropout)         (None, 8)                 0         \n",
      "                                                                 \n",
      " dense_5 (Dense)             (None, 1)                 9         \n",
      "                                                                 \n",
      "=================================================================\n",
      "Total params: 369\n",
      "Trainable params: 369\n",
      "Non-trainable params: 0\n",
      "_________________________________________________________________\n"
     ]
    }
   ],
   "source": [
    "model = models.Sequential()\n",
    "model.add(layers.Dense(8, input_shape=(X_train.shape[1],)))\n",
    "model.add(layers.Dropout(0.2, seed=22))\n",
    "model.add(layers.Dense(8, activation='relu'))\n",
    "model.add(layers.Dropout(0.2, seed=22))\n",
    "model.add(layers.Dense(1))\n",
    "model.summary()\n",
    "model.compile(optimizer='adam', loss='mse', metrics=['mae'])"
   ]
  },
  {
   "cell_type": "code",
   "execution_count": 11,
   "id": "8b9f7e3c",
   "metadata": {
    "scrolled": true
   },
   "outputs": [
    {
     "name": "stdout",
     "output_type": "stream",
     "text": [
      "Epoch 1/20\n",
      "593/593 [==============================] - 4s 5ms/step - loss: 504364.4688 - mae: 528.5417 - val_loss: 438010.2500 - val_mae: 486.3686\n",
      "Epoch 2/20\n",
      "593/593 [==============================] - 3s 5ms/step - loss: 423184.5000 - mae: 487.2727 - val_loss: 387715.4375 - val_mae: 455.3090\n",
      "Epoch 3/20\n",
      "593/593 [==============================] - 3s 5ms/step - loss: 373789.4688 - mae: 457.1048 - val_loss: 355810.1562 - val_mae: 422.6604\n",
      "Epoch 4/20\n",
      "593/593 [==============================] - 3s 5ms/step - loss: 343776.0312 - mae: 433.0758 - val_loss: 385924.1875 - val_mae: 422.4438\n",
      "Epoch 5/20\n",
      "593/593 [==============================] - 3s 5ms/step - loss: 321193.4062 - mae: 416.9143 - val_loss: 344067.6562 - val_mae: 405.4535\n",
      "Epoch 6/20\n",
      "593/593 [==============================] - 3s 5ms/step - loss: 303653.9062 - mae: 404.6757 - val_loss: 336848.5312 - val_mae: 400.9014\n",
      "Epoch 7/20\n",
      "593/593 [==============================] - 3s 5ms/step - loss: 299209.9062 - mae: 403.4185 - val_loss: 364878.3750 - val_mae: 412.8560\n",
      "Epoch 8/20\n",
      "593/593 [==============================] - 3s 5ms/step - loss: 289552.7812 - mae: 396.4885 - val_loss: 390660.3438 - val_mae: 428.6974\n",
      "Epoch 9/20\n",
      "593/593 [==============================] - 3s 5ms/step - loss: 280408.9062 - mae: 390.4404 - val_loss: 370636.6875 - val_mae: 419.3745\n",
      "Epoch 10/20\n",
      "593/593 [==============================] - 3s 5ms/step - loss: 285558.3438 - mae: 391.0675 - val_loss: 347302.0938 - val_mae: 403.0388\n",
      "Epoch 11/20\n",
      "593/593 [==============================] - 3s 5ms/step - loss: 278862.6250 - mae: 387.2930 - val_loss: 332677.4688 - val_mae: 394.7268\n",
      "Epoch 12/20\n",
      "593/593 [==============================] - 3s 5ms/step - loss: 269166.9688 - mae: 379.2325 - val_loss: 361872.1875 - val_mae: 414.9269\n",
      "Epoch 13/20\n",
      "593/593 [==============================] - 3s 5ms/step - loss: 264935.9062 - mae: 377.4307 - val_loss: 359768.7812 - val_mae: 409.9393\n",
      "Epoch 14/20\n",
      "593/593 [==============================] - 3s 5ms/step - loss: 262558.9688 - mae: 374.7964 - val_loss: 345856.0312 - val_mae: 404.3316\n",
      "Epoch 15/20\n",
      "593/593 [==============================] - 3s 5ms/step - loss: 256746.7812 - mae: 368.7362 - val_loss: 340789.7812 - val_mae: 398.3328\n",
      "Epoch 16/20\n",
      "593/593 [==============================] - 3s 5ms/step - loss: 256618.9531 - mae: 369.4463 - val_loss: 375740.8438 - val_mae: 423.3448\n",
      "Epoch 17/20\n",
      "593/593 [==============================] - 3s 5ms/step - loss: 250584.3125 - mae: 361.5475 - val_loss: 284831.7500 - val_mae: 361.2848\n",
      "Epoch 18/20\n",
      "593/593 [==============================] - 3s 5ms/step - loss: 246057.2656 - mae: 358.8900 - val_loss: 351872.5000 - val_mae: 404.9843\n",
      "Epoch 19/20\n",
      "593/593 [==============================] - 3s 5ms/step - loss: 237681.7344 - mae: 354.1170 - val_loss: 355957.8125 - val_mae: 409.0710\n",
      "Epoch 20/20\n",
      "593/593 [==============================] - 3s 5ms/step - loss: 235247.3281 - mae: 350.2015 - val_loss: 307137.8750 - val_mae: 370.6782\n",
      "80/80 [==============================] - 0s 3ms/step - loss: 307137.9375 - mae: 370.6782\n"
     ]
    },
    {
     "data": {
      "text/plain": [
       "[307137.9375, 370.67816162109375]"
      ]
     },
     "execution_count": 11,
     "metadata": {},
     "output_type": "execute_result"
    }
   ],
   "source": [
    "tensorboard_callback = tf.keras.callbacks.TensorBoard(log_dir=\"./logs\")\n",
    "history = model.fit(X_train, y_train, epochs=num_epochs, validation_data=(\n",
    "    X_test, y_test), batch_size=10, verbose=True, callbacks=[tensorboard_callback])\n",
    "model.evaluate(X_test, y_test)"
   ]
  },
  {
   "cell_type": "code",
   "execution_count": 12,
   "id": "66e69fe6",
   "metadata": {},
   "outputs": [
    {
     "data": {
      "image/png": "[encoded data removed]",
      "text/plain": [
       "<Figure size 432x288 with 1 Axes>"
      ]
     },
     "metadata": {
      "needs_background": "light"
     },
     "output_type": "display_data"
    }
   ],
   "source": [
    "loss = history.history['loss']\n",
    "val_loss = history.history['val_loss']\n",
    "\n",
    "epochs = range(1, len(loss) + 1)\n",
    "\n",
    "plt.plot(epochs, loss, 'bo', label='Training loss')\n",
    "plt.plot(epochs, val_loss, 'b', label='Validation loss')\n",
    "plt.title('Training and validation loss for model 2')\n",
    "plt.xlabel('Epochs')\n",
    "plt.ylabel('Loss')\n",
    "plt.legend()\n",
    "\n",
    "plt.savefig('images/model2.png', dpi=1200, bbox_inches=\"tight\")\n",
    "\n",
    "plt.show()"
   ]
  },
  {
   "cell_type": "markdown",
   "id": "422da607",
   "metadata": {},
   "source": [
    "## Model 3"
   ]
  },
  {
   "cell_type": "code",
   "execution_count": 13,
   "id": "d59f2286",
   "metadata": {},
   "outputs": [
    {
     "name": "stdout",
     "output_type": "stream",
     "text": [
      "Model: \"sequential_2\"\n",
      "_________________________________________________________________\n",
      " Layer (type)                Output Shape              Param #   \n",
      "=================================================================\n",
      " dense_6 (Dense)             (None, 8)                 288       \n",
      "                                                                 \n",
      " dropout_4 (Dropout)         (None, 8)                 0         \n",
      "                                                                 \n",
      " dense_7 (Dense)             (None, 8)                 72        \n",
      "                                                                 \n",
      " dropout_5 (Dropout)         (None, 8)                 0         \n",
      "                                                                 \n",
      " dense_8 (Dense)             (None, 1)                 9         \n",
      "                                                                 \n",
      "=================================================================\n",
      "Total params: 369\n",
      "Trainable params: 369\n",
      "Non-trainable params: 0\n",
      "_________________________________________________________________\n"
     ]
    }
   ],
   "source": [
    "model = models.Sequential()\n",
    "model.add(layers.Dense(8, input_shape=(X_train.shape[1],)))\n",
    "model.add(layers.Dropout(0.2, seed=22))\n",
    "model.add(layers.Dense(8, activation='relu'))\n",
    "model.add(layers.Dropout(0.2, seed=22))\n",
    "model.add(layers.Dense(1))\n",
    "model.summary()\n",
    "model.compile(optimizer='adam', loss='mse', metrics=['mae'])"
   ]
  },
  {
   "cell_type": "code",
   "execution_count": 14,
   "id": "ad41f5c0",
   "metadata": {
    "scrolled": true
   },
   "outputs": [
    {
     "name": "stdout",
     "output_type": "stream",
     "text": [
      "Epoch 1/20\n",
      "297/297 [==============================] - 2s 6ms/step - loss: 611904.2500 - mae: 572.9536 - val_loss: 461413.9062 - val_mae: 494.5358\n",
      "Epoch 2/20\n",
      "297/297 [==============================] - 1s 5ms/step - loss: 479245.6875 - mae: 519.2294 - val_loss: 431271.9688 - val_mae: 477.0691\n",
      "Epoch 3/20\n",
      "297/297 [==============================] - 1s 5ms/step - loss: 426398.0000 - mae: 489.6457 - val_loss: 373427.3125 - val_mae: 446.4036\n",
      "Epoch 4/20\n",
      "297/297 [==============================] - 1s 5ms/step - loss: 375725.3438 - mae: 454.1896 - val_loss: 335228.8438 - val_mae: 423.5062\n",
      "Epoch 5/20\n",
      "297/297 [==============================] - 1s 4ms/step - loss: 348363.8438 - mae: 438.4276 - val_loss: 347042.5625 - val_mae: 409.8479\n",
      "Epoch 6/20\n",
      "297/297 [==============================] - 2s 5ms/step - loss: 322027.0625 - mae: 418.7725 - val_loss: 325086.1250 - val_mae: 399.7555\n",
      "Epoch 7/20\n",
      "297/297 [==============================] - 1s 5ms/step - loss: 307175.9688 - mae: 407.3861 - val_loss: 340584.2500 - val_mae: 404.5866\n",
      "Epoch 8/20\n",
      "297/297 [==============================] - 1s 5ms/step - loss: 302218.4688 - mae: 402.5814 - val_loss: 350730.3438 - val_mae: 411.8939\n",
      "Epoch 9/20\n",
      "297/297 [==============================] - 1s 5ms/step - loss: 293543.1875 - mae: 395.6148 - val_loss: 354590.6250 - val_mae: 415.7669\n",
      "Epoch 10/20\n",
      "297/297 [==============================] - 2s 5ms/step - loss: 293964.0938 - mae: 398.1775 - val_loss: 374259.7812 - val_mae: 428.9065\n",
      "Epoch 11/20\n",
      "297/297 [==============================] - 2s 5ms/step - loss: 287427.7188 - mae: 394.0060 - val_loss: 323126.5625 - val_mae: 395.5314\n",
      "Epoch 12/20\n",
      "297/297 [==============================] - 1s 5ms/step - loss: 287489.2812 - mae: 393.6136 - val_loss: 398424.3750 - val_mae: 448.3425\n",
      "Epoch 13/20\n",
      "297/297 [==============================] - 2s 5ms/step - loss: 276193.6875 - mae: 386.2506 - val_loss: 372468.0625 - val_mae: 428.2789\n",
      "Epoch 14/20\n",
      "297/297 [==============================] - 1s 5ms/step - loss: 272779.1250 - mae: 383.8516 - val_loss: 355622.3125 - val_mae: 414.9450\n",
      "Epoch 15/20\n",
      "297/297 [==============================] - 1s 5ms/step - loss: 270214.5938 - mae: 382.9190 - val_loss: 334203.0000 - val_mae: 401.0716\n",
      "Epoch 16/20\n",
      "297/297 [==============================] - 1s 5ms/step - loss: 265737.4688 - mae: 379.0589 - val_loss: 354480.4688 - val_mae: 414.7113\n",
      "Epoch 17/20\n",
      "297/297 [==============================] - 1s 5ms/step - loss: 262439.0000 - mae: 375.4619 - val_loss: 347903.2812 - val_mae: 408.3165\n",
      "Epoch 18/20\n",
      "297/297 [==============================] - 2s 5ms/step - loss: 263819.9375 - mae: 374.9789 - val_loss: 334239.7812 - val_mae: 400.5124\n",
      "Epoch 19/20\n",
      "297/297 [==============================] - 2s 5ms/step - loss: 256594.8906 - mae: 372.2646 - val_loss: 371949.2500 - val_mae: 426.6591\n",
      "Epoch 20/20\n",
      "297/297 [==============================] - 2s 5ms/step - loss: 253660.3594 - mae: 368.4356 - val_loss: 375594.7188 - val_mae: 430.8932\n",
      "80/80 [==============================] - 0s 3ms/step - loss: 375594.7188 - mae: 430.8932\n"
     ]
    },
    {
     "data": {
      "text/plain": [
       "[375594.71875, 430.89324951171875]"
      ]
     },
     "execution_count": 14,
     "metadata": {},
     "output_type": "execute_result"
    }
   ],
   "source": [
    "tensorboard_callback = tf.keras.callbacks.TensorBoard(log_dir=\"./logs\")\n",
    "history = model.fit(X_train, y_train, epochs=num_epochs, validation_data=(\n",
    "    X_test, y_test), batch_size=20, verbose=True, callbacks=[tensorboard_callback])\n",
    "model.evaluate(X_test, y_test)"
   ]
  },
  {
   "cell_type": "code",
   "execution_count": 15,
   "id": "c2c0648f",
   "metadata": {},
   "outputs": [
    {
     "data": {
      "image/png": "[encoded data removed]",
      "text/plain": [
       "<Figure size 432x288 with 1 Axes>"
      ]
     },
     "metadata": {
      "needs_background": "light"
     },
     "output_type": "display_data"
    }
   ],
   "source": [
    "loss = history.history['loss']\n",
    "val_loss = history.history['val_loss']\n",
    "\n",
    "epochs = range(1, len(loss) + 1)\n",
    "\n",
    "plt.plot(epochs, loss, 'bo', label='Training loss')\n",
    "plt.plot(epochs, val_loss, 'b', label='Validation loss')\n",
    "plt.title('Training and validation loss for model 3')\n",
    "plt.xlabel('Epochs')\n",
    "plt.ylabel('Loss')\n",
    "plt.legend()\n",
    "\n",
    "plt.savefig('images/model3.png', dpi=1200, bbox_inches=\"tight\")\n",
    "\n",
    "plt.show()"
   ]
  },
  {
   "cell_type": "markdown",
   "id": "19fb8a3d",
   "metadata": {},
   "source": [
    "## Model 4"
   ]
  },
  {
   "cell_type": "code",
   "execution_count": 16,
   "id": "12a2e78c",
   "metadata": {},
   "outputs": [
    {
     "name": "stdout",
     "output_type": "stream",
     "text": [
      "Model: \"sequential_3\"\n",
      "_________________________________________________________________\n",
      " Layer (type)                Output Shape              Param #   \n",
      "=================================================================\n",
      " dense_9 (Dense)             (None, 8)                 288       \n",
      "                                                                 \n",
      " dropout_6 (Dropout)         (None, 8)                 0         \n",
      "                                                                 \n",
      " dense_10 (Dense)            (None, 8)                 72        \n",
      "                                                                 \n",
      " dropout_7 (Dropout)         (None, 8)                 0         \n",
      "                                                                 \n",
      " dense_11 (Dense)            (None, 8)                 72        \n",
      "                                                                 \n",
      " dropout_8 (Dropout)         (None, 8)                 0         \n",
      "                                                                 \n",
      " dense_12 (Dense)            (None, 1)                 9         \n",
      "                                                                 \n",
      "=================================================================\n",
      "Total params: 441\n",
      "Trainable params: 441\n",
      "Non-trainable params: 0\n",
      "_________________________________________________________________\n"
     ]
    }
   ],
   "source": [
    "model = models.Sequential()\n",
    "model.add(layers.Dense(8, input_shape=(X_train.shape[1],)))\n",
    "model.add(layers.Dropout(0.2, seed=22))\n",
    "model.add(layers.Dense(8, activation='relu'))\n",
    "model.add(layers.Dropout(0.2, seed=22))\n",
    "model.add(layers.Dense(8, activation='relu'))\n",
    "model.add(layers.Dropout(0.2, seed=22))\n",
    "model.add(layers.Dense(1))\n",
    "model.summary()\n",
    "model.compile(optimizer='adam', loss='mse', metrics=['mae'])"
   ]
  },
  {
   "cell_type": "code",
   "execution_count": 17,
   "id": "0c243be8",
   "metadata": {
    "scrolled": true
   },
   "outputs": [
    {
     "name": "stdout",
     "output_type": "stream",
     "text": [
      "Epoch 1/20\n",
      "297/297 [==============================] - 3s 7ms/step - loss: 963694.6875 - mae: 747.2003 - val_loss: 677811.8125 - val_mae: 568.4770\n",
      "Epoch 2/20\n",
      "297/297 [==============================] - 2s 5ms/step - loss: 555406.0000 - mae: 553.4389 - val_loss: 493343.6875 - val_mae: 496.4435\n",
      "Epoch 3/20\n",
      "297/297 [==============================] - 2s 6ms/step - loss: 474406.3750 - mae: 511.1359 - val_loss: 472256.6562 - val_mae: 480.8338\n",
      "Epoch 4/20\n",
      "297/297 [==============================] - 2s 6ms/step - loss: 430254.7188 - mae: 488.4185 - val_loss: 451005.2812 - val_mae: 458.8430\n",
      "Epoch 5/20\n",
      "297/297 [==============================] - 2s 5ms/step - loss: 383900.9688 - mae: 465.0777 - val_loss: 405204.0938 - val_mae: 434.4317\n",
      "Epoch 6/20\n",
      "297/297 [==============================] - 2s 5ms/step - loss: 355813.1250 - mae: 442.6372 - val_loss: 423312.2188 - val_mae: 441.3762\n",
      "Epoch 7/20\n",
      "297/297 [==============================] - 2s 6ms/step - loss: 347553.0000 - mae: 435.0848 - val_loss: 430575.3125 - val_mae: 444.9148\n",
      "Epoch 8/20\n",
      "297/297 [==============================] - 2s 6ms/step - loss: 342866.2500 - mae: 428.4824 - val_loss: 441915.1250 - val_mae: 452.8376\n",
      "Epoch 9/20\n",
      "297/297 [==============================] - 2s 6ms/step - loss: 332745.7188 - mae: 422.9232 - val_loss: 453556.9688 - val_mae: 457.9037\n",
      "Epoch 10/20\n",
      "297/297 [==============================] - 2s 5ms/step - loss: 324955.4375 - mae: 420.0493 - val_loss: 442880.1875 - val_mae: 450.3511\n",
      "Epoch 11/20\n",
      "297/297 [==============================] - 2s 6ms/step - loss: 330258.2812 - mae: 419.3156 - val_loss: 453926.5000 - val_mae: 456.8069\n",
      "Epoch 12/20\n",
      "297/297 [==============================] - 2s 6ms/step - loss: 313634.6875 - mae: 411.3431 - val_loss: 468459.5312 - val_mae: 467.6791\n",
      "Epoch 13/20\n",
      "297/297 [==============================] - 2s 6ms/step - loss: 313427.0625 - mae: 407.9638 - val_loss: 455262.0938 - val_mae: 460.8253\n",
      "Epoch 14/20\n",
      "297/297 [==============================] - 2s 6ms/step - loss: 304663.9688 - mae: 403.4721 - val_loss: 415958.6250 - val_mae: 438.0193\n",
      "Epoch 15/20\n",
      "297/297 [==============================] - 2s 5ms/step - loss: 301969.4688 - mae: 404.4204 - val_loss: 439767.3750 - val_mae: 451.7798\n",
      "Epoch 16/20\n",
      "297/297 [==============================] - 2s 6ms/step - loss: 302393.2812 - mae: 400.3228 - val_loss: 394224.3125 - val_mae: 425.7398\n",
      "Epoch 17/20\n",
      "297/297 [==============================] - 2s 6ms/step - loss: 295835.1875 - mae: 396.1440 - val_loss: 438758.9688 - val_mae: 451.2131\n",
      "Epoch 18/20\n",
      "297/297 [==============================] - 2s 5ms/step - loss: 294581.6562 - mae: 392.8084 - val_loss: 458742.1250 - val_mae: 461.8188\n",
      "Epoch 19/20\n",
      "297/297 [==============================] - 1s 5ms/step - loss: 293033.8750 - mae: 392.0254 - val_loss: 429300.5625 - val_mae: 442.3675\n",
      "Epoch 20/20\n",
      "297/297 [==============================] - 2s 5ms/step - loss: 295284.5000 - mae: 392.5290 - val_loss: 442405.3438 - val_mae: 452.6525\n",
      "80/80 [==============================] - 0s 3ms/step - loss: 442405.2500 - mae: 452.6526\n"
     ]
    },
    {
     "data": {
      "text/plain": [
       "[442405.25, 452.6525573730469]"
      ]
     },
     "execution_count": 17,
     "metadata": {},
     "output_type": "execute_result"
    }
   ],
   "source": [
    "tensorboard_callback = tf.keras.callbacks.TensorBoard(log_dir=\"./logs\")\n",
    "history = model.fit(X_train, y_train, epochs=num_epochs, validation_data=(\n",
    "    X_test, y_test), batch_size=20, verbose=True, callbacks=[tensorboard_callback])\n",
    "model.evaluate(X_test, y_test)"
   ]
  },
  {
   "cell_type": "code",
   "execution_count": 18,
   "id": "8ad095fe",
   "metadata": {},
   "outputs": [
    {
     "data": {
      "image/png": "[encoded data removed]",
      "text/plain": [
       "<Figure size 432x288 with 1 Axes>"
      ]
     },
     "metadata": {
      "needs_background": "light"
     },
     "output_type": "display_data"
    }
   ],
   "source": [
    "loss = history.history['loss']\n",
    "val_loss = history.history['val_loss']\n",
    "\n",
    "epochs = range(1, len(loss) + 1)\n",
    "\n",
    "plt.plot(epochs, loss, 'bo', label='Training loss')\n",
    "plt.plot(epochs, val_loss, 'b', label='Validation loss')\n",
    "plt.title('Training and validation loss for model 4')\n",
    "plt.xlabel('Epochs')\n",
    "plt.ylabel('Loss')\n",
    "plt.legend()\n",
    "\n",
    "plt.savefig('images/model4.png', dpi=1200, bbox_inches=\"tight\")\n",
    "\n",
    "plt.show()"
   ]
  },
  {
   "cell_type": "markdown",
   "id": "cc005c20",
   "metadata": {},
   "source": [
    "## Model 5"
   ]
  },
  {
   "cell_type": "code",
   "execution_count": 19,
   "id": "d4ed2ae4",
   "metadata": {},
   "outputs": [
    {
     "name": "stdout",
     "output_type": "stream",
     "text": [
      "Model: \"sequential_4\"\n",
      "_________________________________________________________________\n",
      " Layer (type)                Output Shape              Param #   \n",
      "=================================================================\n",
      " dense_13 (Dense)            (None, 16)                576       \n",
      "                                                                 \n",
      " dropout_9 (Dropout)         (None, 16)                0         \n",
      "                                                                 \n",
      " dense_14 (Dense)            (None, 16)                272       \n",
      "                                                                 \n",
      " dropout_10 (Dropout)        (None, 16)                0         \n",
      "                                                                 \n",
      " dense_15 (Dense)            (None, 16)                272       \n",
      "                                                                 \n",
      " dropout_11 (Dropout)        (None, 16)                0         \n",
      "                                                                 \n",
      " dense_16 (Dense)            (None, 1)                 17        \n",
      "                                                                 \n",
      "=================================================================\n",
      "Total params: 1,137\n",
      "Trainable params: 1,137\n",
      "Non-trainable params: 0\n",
      "_________________________________________________________________\n"
     ]
    }
   ],
   "source": [
    "model = models.Sequential()\n",
    "model.add(layers.Dense(16, input_shape=(X_train.shape[1],)))\n",
    "model.add(layers.Dropout(0.2, seed=22))\n",
    "model.add(layers.Dense(16, activation='relu'))\n",
    "model.add(layers.Dropout(0.2, seed=22))\n",
    "model.add(layers.Dense(16, activation='relu'))\n",
    "model.add(layers.Dropout(0.2, seed=22))\n",
    "model.add(layers.Dense(1))\n",
    "model.summary()\n",
    "model.compile(optimizer='adam', loss='mse', metrics=['mae'])"
   ]
  },
  {
   "cell_type": "code",
   "execution_count": 20,
   "id": "b77db885",
   "metadata": {
    "scrolled": true
   },
   "outputs": [
    {
     "name": "stdout",
     "output_type": "stream",
     "text": [
      "Epoch 1/20\n",
      "297/297 [==============================] - 2s 6ms/step - loss: 547081.6875 - mae: 552.9449 - val_loss: 492922.4688 - val_mae: 498.3645\n",
      "Epoch 2/20\n",
      "297/297 [==============================] - 2s 6ms/step - loss: 436948.5625 - mae: 501.1518 - val_loss: 492445.8750 - val_mae: 489.9519\n",
      "Epoch 3/20\n",
      "297/297 [==============================] - 2s 6ms/step - loss: 395793.3750 - mae: 480.0492 - val_loss: 524443.7500 - val_mae: 494.6806\n",
      "Epoch 4/20\n",
      "297/297 [==============================] - 2s 6ms/step - loss: 372614.9688 - mae: 464.6467 - val_loss: 455931.7812 - val_mae: 459.2624\n",
      "Epoch 5/20\n",
      "297/297 [==============================] - 2s 5ms/step - loss: 345824.5625 - mae: 444.8741 - val_loss: 460296.3750 - val_mae: 459.6931\n",
      "Epoch 6/20\n",
      "297/297 [==============================] - 2s 6ms/step - loss: 326687.7500 - mae: 425.0076 - val_loss: 440215.6250 - val_mae: 450.5923\n",
      "Epoch 7/20\n",
      "297/297 [==============================] - 2s 6ms/step - loss: 309563.0938 - mae: 411.6165 - val_loss: 407878.8750 - val_mae: 437.2983\n",
      "Epoch 8/20\n",
      "297/297 [==============================] - 2s 6ms/step - loss: 306409.3438 - mae: 407.8681 - val_loss: 394021.6562 - val_mae: 428.1173\n",
      "Epoch 9/20\n",
      "297/297 [==============================] - 2s 6ms/step - loss: 297075.2500 - mae: 401.5378 - val_loss: 434764.7500 - val_mae: 449.2872\n",
      "Epoch 10/20\n",
      "297/297 [==============================] - 2s 5ms/step - loss: 296073.9688 - mae: 398.0319 - val_loss: 406421.6875 - val_mae: 434.0634\n",
      "Epoch 11/20\n",
      "297/297 [==============================] - 2s 5ms/step - loss: 287113.6250 - mae: 389.9907 - val_loss: 400973.5312 - val_mae: 429.8469\n",
      "Epoch 12/20\n",
      "297/297 [==============================] - 2s 5ms/step - loss: 284836.5000 - mae: 389.1313 - val_loss: 357197.5938 - val_mae: 405.9344\n",
      "Epoch 13/20\n",
      "297/297 [==============================] - 1s 5ms/step - loss: 275384.4062 - mae: 383.2316 - val_loss: 456539.1562 - val_mae: 460.1948\n",
      "Epoch 14/20\n",
      "297/297 [==============================] - 2s 5ms/step - loss: 279367.9062 - mae: 383.0622 - val_loss: 420457.8125 - val_mae: 440.2422\n",
      "Epoch 15/20\n",
      "297/297 [==============================] - 2s 6ms/step - loss: 270921.2812 - mae: 377.8700 - val_loss: 434621.9375 - val_mae: 447.6538\n",
      "Epoch 16/20\n",
      "297/297 [==============================] - 2s 5ms/step - loss: 261160.0312 - mae: 371.6593 - val_loss: 457354.5938 - val_mae: 461.8371\n",
      "Epoch 17/20\n",
      "297/297 [==============================] - 2s 5ms/step - loss: 256532.9062 - mae: 366.3347 - val_loss: 346814.2500 - val_mae: 396.8636\n",
      "Epoch 18/20\n",
      "297/297 [==============================] - 2s 6ms/step - loss: 257556.3750 - mae: 367.0998 - val_loss: 393523.7188 - val_mae: 422.6512\n",
      "Epoch 19/20\n",
      "297/297 [==============================] - 2s 6ms/step - loss: 249856.8281 - mae: 361.2865 - val_loss: 397797.8438 - val_mae: 426.1126\n",
      "Epoch 20/20\n",
      "297/297 [==============================] - 1s 5ms/step - loss: 247403.3281 - mae: 358.7520 - val_loss: 419374.5000 - val_mae: 438.8939\n",
      "80/80 [==============================] - 0s 3ms/step - loss: 419373.5625 - mae: 438.8932\n"
     ]
    },
    {
     "data": {
      "text/plain": [
       "[419373.5625, 438.8931579589844]"
      ]
     },
     "execution_count": 20,
     "metadata": {},
     "output_type": "execute_result"
    }
   ],
   "source": [
    "tensorboard_callback = tf.keras.callbacks.TensorBoard(log_dir=\"./logs\")\n",
    "history = model.fit(X_train, y_train, epochs=num_epochs, validation_data=(\n",
    "    X_test, y_test), batch_size=20, verbose=True, callbacks=[tensorboard_callback])\n",
    "model.evaluate(X_test, y_test)"
   ]
  },
  {
   "cell_type": "code",
   "execution_count": 21,
   "id": "0a012bef",
   "metadata": {},
   "outputs": [
    {
     "data": {
      "image/png": "[encoded data removed]",
      "text/plain": [
       "<Figure size 432x288 with 1 Axes>"
      ]
     },
     "metadata": {
      "needs_background": "light"
     },
     "output_type": "display_data"
    }
   ],
   "source": [
    "loss = history.history['loss']\n",
    "val_loss = history.history['val_loss']\n",
    "\n",
    "epochs = range(1, len(loss) + 1)\n",
    "\n",
    "plt.plot(epochs, loss, 'bo', label='Training loss')\n",
    "plt.plot(epochs, val_loss, 'b', label='Validation loss')\n",
    "plt.title('Training and validation loss for model 5')\n",
    "plt.xlabel('Epochs')\n",
    "plt.ylabel('Loss')\n",
    "plt.legend()\n",
    "\n",
    "plt.savefig('images/model5.png', dpi=1200, bbox_inches=\"tight\")\n",
    "\n",
    "plt.show()"
   ]
  },
  {
   "cell_type": "markdown",
   "id": "c5e8897c",
   "metadata": {},
   "source": [
    "## Model 6"
   ]
  },
  {
   "cell_type": "code",
   "execution_count": 22,
   "id": "8868a2ba",
   "metadata": {},
   "outputs": [
    {
     "name": "stdout",
     "output_type": "stream",
     "text": [
      "Model: \"sequential_5\"\n",
      "_________________________________________________________________\n",
      " Layer (type)                Output Shape              Param #   \n",
      "=================================================================\n",
      " dense_17 (Dense)            (None, 64)                2304      \n",
      "                                                                 \n",
      " dropout_12 (Dropout)        (None, 64)                0         \n",
      "                                                                 \n",
      " dense_18 (Dense)            (None, 16)                1040      \n",
      "                                                                 \n",
      " dropout_13 (Dropout)        (None, 16)                0         \n",
      "                                                                 \n",
      " dense_19 (Dense)            (None, 16)                272       \n",
      "                                                                 \n",
      " dropout_14 (Dropout)        (None, 16)                0         \n",
      "                                                                 \n",
      " dense_20 (Dense)            (None, 1)                 17        \n",
      "                                                                 \n",
      "=================================================================\n",
      "Total params: 3,633\n",
      "Trainable params: 3,633\n",
      "Non-trainable params: 0\n",
      "_________________________________________________________________\n"
     ]
    }
   ],
   "source": [
    "model = models.Sequential()\n",
    "model.add(layers.Dense(64, input_shape=(X_train.shape[1],)))\n",
    "model.add(layers.Dropout(0.2, seed=22))\n",
    "model.add(layers.Dense(16, activation='relu'))\n",
    "model.add(layers.Dropout(0.2, seed=22))\n",
    "model.add(layers.Dense(16, activation='relu'))\n",
    "model.add(layers.Dropout(0.2, seed=22))\n",
    "model.add(layers.Dense(1))\n",
    "model.summary()\n",
    "model.compile(optimizer='adam', loss='mse', metrics=['mae'])"
   ]
  },
  {
   "cell_type": "code",
   "execution_count": 23,
   "id": "960c6a2e",
   "metadata": {
    "scrolled": true
   },
   "outputs": [
    {
     "name": "stdout",
     "output_type": "stream",
     "text": [
      "Epoch 1/20\n",
      "297/297 [==============================] - 3s 7ms/step - loss: 517974.6875 - mae: 536.1050 - val_loss: 448607.2500 - val_mae: 486.7489\n",
      "Epoch 2/20\n",
      "297/297 [==============================] - 2s 6ms/step - loss: 421725.1562 - mae: 492.6451 - val_loss: 398782.1875 - val_mae: 457.7333\n",
      "Epoch 3/20\n",
      "297/297 [==============================] - 2s 5ms/step - loss: 363236.4688 - mae: 457.9366 - val_loss: 350597.7812 - val_mae: 416.8504\n",
      "Epoch 4/20\n",
      "297/297 [==============================] - 2s 8ms/step - loss: 330384.0625 - mae: 428.4453 - val_loss: 370881.2500 - val_mae: 417.8765\n",
      "Epoch 5/20\n",
      "297/297 [==============================] - 2s 6ms/step - loss: 310358.3125 - mae: 410.5732 - val_loss: 318434.1562 - val_mae: 392.2672\n",
      "Epoch 6/20\n",
      "297/297 [==============================] - 2s 6ms/step - loss: 297590.3125 - mae: 398.0446 - val_loss: 355268.5625 - val_mae: 411.7285\n",
      "Epoch 7/20\n",
      "297/297 [==============================] - 2s 6ms/step - loss: 295134.8750 - mae: 393.4627 - val_loss: 355166.3750 - val_mae: 406.7014\n",
      "Epoch 8/20\n",
      "297/297 [==============================] - 2s 5ms/step - loss: 283434.2500 - mae: 386.5544 - val_loss: 296357.2500 - val_mae: 378.0683\n",
      "Epoch 9/20\n",
      "297/297 [==============================] - 2s 6ms/step - loss: 277569.0000 - mae: 379.6245 - val_loss: 357819.1250 - val_mae: 411.8009\n",
      "Epoch 10/20\n",
      "297/297 [==============================] - 2s 6ms/step - loss: 271845.3750 - mae: 377.2721 - val_loss: 326773.6562 - val_mae: 393.3034\n",
      "Epoch 11/20\n",
      "297/297 [==============================] - 2s 6ms/step - loss: 260800.0156 - mae: 366.8148 - val_loss: 273338.3750 - val_mae: 361.0060\n",
      "Epoch 12/20\n",
      "297/297 [==============================] - 2s 5ms/step - loss: 259819.0469 - mae: 364.7658 - val_loss: 349100.7500 - val_mae: 401.6590\n",
      "Epoch 13/20\n",
      "297/297 [==============================] - 2s 6ms/step - loss: 248501.2969 - mae: 357.4722 - val_loss: 304094.7500 - val_mae: 370.1779\n",
      "Epoch 14/20\n",
      "297/297 [==============================] - 2s 6ms/step - loss: 244829.0000 - mae: 354.0308 - val_loss: 313015.6250 - val_mae: 375.3690\n",
      "Epoch 15/20\n",
      "297/297 [==============================] - 2s 6ms/step - loss: 238412.2188 - mae: 348.1944 - val_loss: 294643.5625 - val_mae: 360.6103\n",
      "Epoch 16/20\n",
      "297/297 [==============================] - 2s 6ms/step - loss: 228220.2344 - mae: 340.3466 - val_loss: 334772.3125 - val_mae: 384.9956\n",
      "Epoch 17/20\n",
      "297/297 [==============================] - 2s 5ms/step - loss: 218023.3594 - mae: 331.2214 - val_loss: 266696.3438 - val_mae: 343.4968\n",
      "Epoch 18/20\n",
      "297/297 [==============================] - 2s 6ms/step - loss: 211480.7188 - mae: 325.5067 - val_loss: 301940.5312 - val_mae: 365.4955\n",
      "Epoch 19/20\n",
      "297/297 [==============================] - 2s 6ms/step - loss: 206458.2812 - mae: 322.6191 - val_loss: 334691.6250 - val_mae: 389.1494\n",
      "Epoch 20/20\n",
      "297/297 [==============================] - 2s 5ms/step - loss: 201479.2656 - mae: 319.5224 - val_loss: 278106.7188 - val_mae: 347.5432\n",
      "80/80 [==============================] - 1s 2ms/step - loss: 278107.2500 - mae: 347.5435\n"
     ]
    },
    {
     "data": {
      "text/plain": [
       "[278107.25, 347.5434875488281]"
      ]
     },
     "execution_count": 23,
     "metadata": {},
     "output_type": "execute_result"
    }
   ],
   "source": [
    "tensorboard_callback = tf.keras.callbacks.TensorBoard(log_dir=\"./logs\")\n",
    "history = model.fit(X_train, y_train, epochs=num_epochs, validation_data=(\n",
    "    X_test, y_test), batch_size=20, verbose=True, callbacks=[tensorboard_callback])\n",
    "model.evaluate(X_test, y_test)"
   ]
  },
  {
   "cell_type": "code",
   "execution_count": 24,
   "id": "6b8bd03b",
   "metadata": {},
   "outputs": [
    {
     "data": {
      "image/png": "[encoded data removed]",
      "text/plain": [
       "<Figure size 432x288 with 1 Axes>"
      ]
     },
     "metadata": {
      "needs_background": "light"
     },
     "output_type": "display_data"
    }
   ],
   "source": [
    "loss = history.history['loss']\n",
    "val_loss = history.history['val_loss']\n",
    "\n",
    "epochs = range(1, len(loss) + 1)\n",
    "\n",
    "plt.plot(epochs, loss, 'bo', label='Training loss')\n",
    "plt.plot(epochs, val_loss, 'b', label='Validation loss')\n",
    "plt.title('Training and validation loss for model 6')\n",
    "plt.xlabel('Epochs')\n",
    "plt.ylabel('Loss')\n",
    "plt.legend()\n",
    "\n",
    "plt.savefig('images/model6.png', dpi=1200, bbox_inches=\"tight\")\n",
    "\n",
    "plt.show()"
   ]
  },
  {
   "cell_type": "markdown",
   "id": "b7299ad6",
   "metadata": {},
   "source": [
    "## Model 7"
   ]
  },
  {
   "cell_type": "code",
   "execution_count": 25,
   "id": "8a9235f2",
   "metadata": {},
   "outputs": [
    {
     "name": "stdout",
     "output_type": "stream",
     "text": [
      "Model: \"sequential_6\"\n",
      "_________________________________________________________________\n",
      " Layer (type)                Output Shape              Param #   \n",
      "=================================================================\n",
      " dense_21 (Dense)            (None, 64)                2304      \n",
      "                                                                 \n",
      " dropout_15 (Dropout)        (None, 64)                0         \n",
      "                                                                 \n",
      " dense_22 (Dense)            (None, 16)                1040      \n",
      "                                                                 \n",
      " dropout_16 (Dropout)        (None, 16)                0         \n",
      "                                                                 \n",
      " dense_23 (Dense)            (None, 8)                 136       \n",
      "                                                                 \n",
      " dropout_17 (Dropout)        (None, 8)                 0         \n",
      "                                                                 \n",
      " dense_24 (Dense)            (None, 1)                 9         \n",
      "                                                                 \n",
      "=================================================================\n",
      "Total params: 3,489\n",
      "Trainable params: 3,489\n",
      "Non-trainable params: 0\n",
      "_________________________________________________________________\n"
     ]
    }
   ],
   "source": [
    "model = models.Sequential()\n",
    "model.add(layers.Dense(64, input_shape=(X_train.shape[1],)))\n",
    "model.add(layers.Dropout(0.2, seed=22))\n",
    "model.add(layers.Dense(16, activation='relu'))\n",
    "model.add(layers.Dropout(0.2, seed=22))\n",
    "model.add(layers.Dense(8, activation='relu'))\n",
    "model.add(layers.Dropout(0.2, seed=22))\n",
    "model.add(layers.Dense(1))\n",
    "model.summary()\n",
    "model.compile(optimizer='adam', loss='mse', metrics=['mae'])"
   ]
  },
  {
   "cell_type": "code",
   "execution_count": 26,
   "id": "d06ad928",
   "metadata": {
    "scrolled": true
   },
   "outputs": [
    {
     "name": "stdout",
     "output_type": "stream",
     "text": [
      "Epoch 1/20\n",
      "297/297 [==============================] - 2s 6ms/step - loss: 586330.6250 - mae: 570.2094 - val_loss: 465070.0000 - val_mae: 489.8799\n",
      "Epoch 2/20\n",
      "297/297 [==============================] - 1s 5ms/step - loss: 520095.3438 - mae: 537.1004 - val_loss: 446456.6875 - val_mae: 469.4601\n",
      "Epoch 3/20\n",
      "297/297 [==============================] - 1s 5ms/step - loss: 470757.3125 - mae: 509.3659 - val_loss: 354310.5625 - val_mae: 433.3097\n",
      "Epoch 4/20\n",
      "297/297 [==============================] - 1s 4ms/step - loss: 445546.4062 - mae: 490.3186 - val_loss: 331325.1875 - val_mae: 409.2728\n",
      "Epoch 5/20\n",
      "297/297 [==============================] - 2s 5ms/step - loss: 453086.7188 - mae: 481.3448 - val_loss: 327647.3438 - val_mae: 403.9787\n",
      "Epoch 6/20\n",
      "297/297 [==============================] - 1s 4ms/step - loss: 434713.2188 - mae: 469.3151 - val_loss: 320002.7812 - val_mae: 396.0720\n",
      "Epoch 7/20\n",
      "297/297 [==============================] - 1s 5ms/step - loss: 422380.4375 - mae: 463.4904 - val_loss: 319798.8750 - val_mae: 391.7548\n",
      "Epoch 8/20\n",
      "297/297 [==============================] - 1s 4ms/step - loss: 406878.3125 - mae: 455.9928 - val_loss: 350547.2500 - val_mae: 406.1853\n",
      "Epoch 9/20\n",
      "297/297 [==============================] - 1s 4ms/step - loss: 390287.3750 - mae: 443.8354 - val_loss: 281337.7812 - val_mae: 374.3474\n",
      "Epoch 10/20\n",
      "297/297 [==============================] - 1s 4ms/step - loss: 367460.8125 - mae: 430.2447 - val_loss: 354765.3125 - val_mae: 408.4933\n",
      "Epoch 11/20\n",
      "297/297 [==============================] - 1s 5ms/step - loss: 350474.1562 - mae: 419.9616 - val_loss: 293531.6562 - val_mae: 372.3544\n",
      "Epoch 12/20\n",
      "297/297 [==============================] - 1s 5ms/step - loss: 341563.9375 - mae: 410.9246 - val_loss: 263760.5000 - val_mae: 358.0338\n",
      "Epoch 13/20\n",
      "297/297 [==============================] - 2s 6ms/step - loss: 336381.0312 - mae: 406.5648 - val_loss: 274520.5312 - val_mae: 357.9131\n",
      "Epoch 14/20\n",
      "297/297 [==============================] - 1s 5ms/step - loss: 329636.7188 - mae: 400.9502 - val_loss: 264507.5000 - val_mae: 350.8993\n",
      "Epoch 15/20\n",
      "297/297 [==============================] - 1s 5ms/step - loss: 318379.9688 - mae: 394.2757 - val_loss: 252445.0781 - val_mae: 344.1580\n",
      "Epoch 16/20\n",
      "297/297 [==============================] - 1s 4ms/step - loss: 317818.6562 - mae: 392.9128 - val_loss: 273109.2188 - val_mae: 351.0067\n",
      "Epoch 17/20\n",
      "297/297 [==============================] - 2s 5ms/step - loss: 303845.4688 - mae: 384.1071 - val_loss: 226302.9375 - val_mae: 328.3118\n",
      "Epoch 18/20\n",
      "297/297 [==============================] - 1s 5ms/step - loss: 307023.9375 - mae: 381.1402 - val_loss: 212507.2344 - val_mae: 332.9407\n",
      "Epoch 19/20\n",
      "297/297 [==============================] - 1s 4ms/step - loss: 293709.3750 - mae: 376.0830 - val_loss: 256968.3438 - val_mae: 336.8572\n",
      "Epoch 20/20\n",
      "297/297 [==============================] - 2s 5ms/step - loss: 289078.4375 - mae: 370.2977 - val_loss: 243106.1719 - val_mae: 325.8729\n",
      "80/80 [==============================] - 0s 2ms/step - loss: 243106.1719 - mae: 325.8728\n"
     ]
    },
    {
     "data": {
      "text/plain": [
       "[243106.171875, 325.8728332519531]"
      ]
     },
     "execution_count": 26,
     "metadata": {},
     "output_type": "execute_result"
    }
   ],
   "source": [
    "tensorboard_callback = tf.keras.callbacks.TensorBoard(log_dir=\"./logs\")\n",
    "history = model.fit(X_train, y_train, epochs=num_epochs, validation_data=(\n",
    "    X_test, y_test), batch_size=20, verbose=True, callbacks=[tensorboard_callback])\n",
    "model.evaluate(X_test, y_test)"
   ]
  },
  {
   "cell_type": "code",
   "execution_count": 27,
   "id": "49950885",
   "metadata": {},
   "outputs": [
    {
     "data": {
      "image/png": "[encoded data removed]",
      "text/plain": [
       "<Figure size 432x288 with 1 Axes>"
      ]
     },
     "metadata": {
      "needs_background": "light"
     },
     "output_type": "display_data"
    }
   ],
   "source": [
    "loss = history.history['loss']\n",
    "val_loss = history.history['val_loss']\n",
    "\n",
    "epochs = range(1, len(loss) + 1)\n",
    "\n",
    "plt.plot(epochs, loss, 'bo', label='Training loss')\n",
    "plt.plot(epochs, val_loss, 'b', label='Validation loss')\n",
    "plt.title('Training and validation loss for model 7')\n",
    "plt.xlabel('Epochs')\n",
    "plt.ylabel('Loss')\n",
    "plt.legend()\n",
    "\n",
    "plt.savefig('images/model7.png', dpi=1200, bbox_inches=\"tight\")\n",
    "\n",
    "plt.show()"
   ]
  },
  {
   "cell_type": "markdown",
   "id": "0e8f4ba9",
   "metadata": {},
   "source": [
    "## Model 8"
   ]
  },
  {
   "cell_type": "code",
   "execution_count": 28,
   "id": "bf4f3827",
   "metadata": {
    "scrolled": false
   },
   "outputs": [
    {
     "name": "stdout",
     "output_type": "stream",
     "text": [
      "Model: \"sequential_7\"\n",
      "_________________________________________________________________\n",
      " Layer (type)                Output Shape              Param #   \n",
      "=================================================================\n",
      " dense_25 (Dense)            (None, 64)                2304      \n",
      "                                                                 \n",
      " dropout_18 (Dropout)        (None, 64)                0         \n",
      "                                                                 \n",
      " dense_26 (Dense)            (None, 32)                2080      \n",
      "                                                                 \n",
      " dropout_19 (Dropout)        (None, 32)                0         \n",
      "                                                                 \n",
      " dense_27 (Dense)            (None, 16)                528       \n",
      "                                                                 \n",
      " dropout_20 (Dropout)        (None, 16)                0         \n",
      "                                                                 \n",
      " dense_28 (Dense)            (None, 8)                 136       \n",
      "                                                                 \n",
      " dropout_21 (Dropout)        (None, 8)                 0         \n",
      "                                                                 \n",
      " dense_29 (Dense)            (None, 1)                 9         \n",
      "                                                                 \n",
      "=================================================================\n",
      "Total params: 5,057\n",
      "Trainable params: 5,057\n",
      "Non-trainable params: 0\n",
      "_________________________________________________________________\n"
     ]
    }
   ],
   "source": [
    "model = models.Sequential()\n",
    "model.add(layers.Dense(64, input_shape=(X_train.shape[1],)))\n",
    "model.add(layers.Dropout(0.2, seed=22))\n",
    "model.add(layers.Dense(32, activation='relu'))\n",
    "model.add(layers.Dropout(0.2, seed=22))\n",
    "model.add(layers.Dense(16, activation='relu'))\n",
    "model.add(layers.Dropout(0.2, seed=22))\n",
    "model.add(layers.Dense(8, activation='relu'))\n",
    "model.add(layers.Dropout(0.2, seed=22))\n",
    "model.add(layers.Dense(1))\n",
    "model.summary()\n",
    "model.compile(optimizer='adam', loss='mse', metrics=['mae'])"
   ]
  },
  {
   "cell_type": "code",
   "execution_count": 29,
   "id": "d9a23934",
   "metadata": {
    "scrolled": true
   },
   "outputs": [
    {
     "name": "stdout",
     "output_type": "stream",
     "text": [
      "Epoch 1/20\n",
      "297/297 [==============================] - 3s 6ms/step - loss: 501261.9688 - mae: 527.7084 - val_loss: 446552.3750 - val_mae: 488.0020\n",
      "Epoch 2/20\n",
      "297/297 [==============================] - 2s 5ms/step - loss: 449205.2188 - mae: 505.4849 - val_loss: 387052.2500 - val_mae: 455.1339\n",
      "Epoch 3/20\n",
      "297/297 [==============================] - 1s 5ms/step - loss: 391333.5625 - mae: 467.0110 - val_loss: 332041.4375 - val_mae: 414.5476\n",
      "Epoch 4/20\n",
      "297/297 [==============================] - 1s 5ms/step - loss: 352069.7500 - mae: 435.0929 - val_loss: 341130.0938 - val_mae: 403.7081\n",
      "Epoch 5/20\n",
      "297/297 [==============================] - 1s 5ms/step - loss: 349093.0000 - mae: 428.8713 - val_loss: 321257.8750 - val_mae: 393.4681\n",
      "Epoch 6/20\n",
      "297/297 [==============================] - 2s 6ms/step - loss: 340158.5938 - mae: 419.9535 - val_loss: 322413.6562 - val_mae: 392.1936\n",
      "Epoch 7/20\n",
      "297/297 [==============================] - 2s 5ms/step - loss: 338471.5000 - mae: 415.6695 - val_loss: 352700.3750 - val_mae: 409.8355\n",
      "Epoch 8/20\n",
      "297/297 [==============================] - 2s 5ms/step - loss: 319785.4688 - mae: 404.0065 - val_loss: 287357.0000 - val_mae: 375.0171\n",
      "Epoch 9/20\n",
      "297/297 [==============================] - 1s 5ms/step - loss: 319901.8125 - mae: 402.5020 - val_loss: 296339.0938 - val_mae: 375.2626\n",
      "Epoch 10/20\n",
      "297/297 [==============================] - 2s 6ms/step - loss: 314849.5312 - mae: 398.2397 - val_loss: 284689.6250 - val_mae: 369.1326\n",
      "Epoch 11/20\n",
      "297/297 [==============================] - 2s 5ms/step - loss: 308184.0625 - mae: 390.7844 - val_loss: 300421.4375 - val_mae: 372.1573\n",
      "Epoch 12/20\n",
      "297/297 [==============================] - 2s 6ms/step - loss: 297960.5000 - mae: 384.3334 - val_loss: 323840.5000 - val_mae: 382.0875\n",
      "Epoch 13/20\n",
      "297/297 [==============================] - 2s 5ms/step - loss: 289238.7812 - mae: 378.3779 - val_loss: 271104.3750 - val_mae: 353.8120\n",
      "Epoch 14/20\n",
      "297/297 [==============================] - 2s 5ms/step - loss: 281059.8750 - mae: 372.9718 - val_loss: 283370.6875 - val_mae: 356.4893\n",
      "Epoch 15/20\n",
      "297/297 [==============================] - 2s 5ms/step - loss: 279967.4375 - mae: 370.2126 - val_loss: 240472.0938 - val_mae: 335.8501\n",
      "Epoch 16/20\n",
      "297/297 [==============================] - 2s 5ms/step - loss: 271152.6250 - mae: 364.4719 - val_loss: 255338.2812 - val_mae: 335.8161\n",
      "Epoch 17/20\n",
      "297/297 [==============================] - 1s 4ms/step - loss: 259009.7812 - mae: 353.3946 - val_loss: 273173.0312 - val_mae: 345.9182\n",
      "Epoch 18/20\n",
      "297/297 [==============================] - 1s 4ms/step - loss: 262761.1562 - mae: 352.9786 - val_loss: 216139.8750 - val_mae: 314.0421\n",
      "Epoch 19/20\n",
      "297/297 [==============================] - 1s 4ms/step - loss: 250617.3281 - mae: 346.1316 - val_loss: 245718.3438 - val_mae: 324.8029\n",
      "Epoch 20/20\n",
      "297/297 [==============================] - 1s 5ms/step - loss: 233611.8125 - mae: 337.2284 - val_loss: 268319.6875 - val_mae: 344.2712\n",
      "80/80 [==============================] - 0s 3ms/step - loss: 268319.7812 - mae: 344.2715\n"
     ]
    },
    {
     "data": {
      "text/plain": [
       "[268319.78125, 344.271484375]"
      ]
     },
     "execution_count": 29,
     "metadata": {},
     "output_type": "execute_result"
    }
   ],
   "source": [
    "tensorboard_callback = tf.keras.callbacks.TensorBoard(log_dir=\"./logs\")\n",
    "history = model.fit(X_train, y_train, epochs=num_epochs, validation_data=(\n",
    "    X_test, y_test), batch_size=20, verbose=True, callbacks=[tensorboard_callback])\n",
    "model.evaluate(X_test, y_test)"
   ]
  },
  {
   "cell_type": "code",
   "execution_count": 30,
   "id": "c6a88861",
   "metadata": {},
   "outputs": [
    {
     "data": {
      "image/png": "[encoded data removed]",
      "text/plain": [
       "<Figure size 432x288 with 1 Axes>"
      ]
     },
     "metadata": {
      "needs_background": "light"
     },
     "output_type": "display_data"
    }
   ],
   "source": [
    "loss = history.history['loss']\n",
    "val_loss = history.history['val_loss']\n",
    "\n",
    "epochs = range(1, len(loss) + 1)\n",
    "\n",
    "plt.plot(epochs, loss, 'bo', label='Training loss')\n",
    "plt.plot(epochs, val_loss, 'b', label='Validation loss')\n",
    "plt.title('Training and validation loss for model 8')\n",
    "plt.xlabel('Epochs')\n",
    "plt.ylabel('Loss')\n",
    "plt.legend()\n",
    "\n",
    "plt.savefig('images/model8.png', dpi=1200, bbox_inches=\"tight\")\n",
    "\n",
    "plt.show()"
   ]
  },
  {
   "cell_type": "markdown",
   "id": "26691627",
   "metadata": {},
   "source": [
    "## Model 9"
   ]
  },
  {
   "cell_type": "code",
   "execution_count": 31,
   "id": "09de4fcf",
   "metadata": {},
   "outputs": [
    {
     "name": "stdout",
     "output_type": "stream",
     "text": [
      "Model: \"sequential_8\"\n",
      "_________________________________________________________________\n",
      " Layer (type)                Output Shape              Param #   \n",
      "=================================================================\n",
      " dense_30 (Dense)            (None, 128)               4608      \n",
      "                                                                 \n",
      " dropout_22 (Dropout)        (None, 128)               0         \n",
      "                                                                 \n",
      " dense_31 (Dense)            (None, 64)                8256      \n",
      "                                                                 \n",
      " dropout_23 (Dropout)        (None, 64)                0         \n",
      "                                                                 \n",
      " dense_32 (Dense)            (None, 32)                2080      \n",
      "                                                                 \n",
      " dropout_24 (Dropout)        (None, 32)                0         \n",
      "                                                                 \n",
      " dense_33 (Dense)            (None, 16)                528       \n",
      "                                                                 \n",
      " dropout_25 (Dropout)        (None, 16)                0         \n",
      "                                                                 \n",
      " dense_34 (Dense)            (None, 8)                 136       \n",
      "                                                                 \n",
      " dropout_26 (Dropout)        (None, 8)                 0         \n",
      "                                                                 \n",
      " dense_35 (Dense)            (None, 4)                 36        \n",
      "                                                                 \n",
      " dropout_27 (Dropout)        (None, 4)                 0         \n",
      "                                                                 \n",
      " dense_36 (Dense)            (None, 1)                 5         \n",
      "                                                                 \n",
      "=================================================================\n",
      "Total params: 15,649\n",
      "Trainable params: 15,649\n",
      "Non-trainable params: 0\n",
      "_________________________________________________________________\n"
     ]
    }
   ],
   "source": [
    "model = models.Sequential()\n",
    "model.add(layers.Dense(128, input_shape=(X_train.shape[1],)))\n",
    "model.add(layers.Dropout(0.2, seed=22))\n",
    "model.add(layers.Dense(64, input_shape=(X_train.shape[1],)))\n",
    "model.add(layers.Dropout(0.2, seed=22))\n",
    "model.add(layers.Dense(32, activation='relu'))\n",
    "model.add(layers.Dropout(0.2, seed=22))\n",
    "model.add(layers.Dense(16, activation='relu'))\n",
    "model.add(layers.Dropout(0.2, seed=22))\n",
    "model.add(layers.Dense(8, activation='relu'))\n",
    "model.add(layers.Dropout(0.2, seed=22))\n",
    "model.add(layers.Dense(4, activation='relu'))\n",
    "model.add(layers.Dropout(0.2, seed=22))\n",
    "model.add(layers.Dense(1))\n",
    "model.summary()\n",
    "model.compile(optimizer='adam', loss='mse', metrics=['mae'])"
   ]
  },
  {
   "cell_type": "code",
   "execution_count": 32,
   "id": "2b0c1712",
   "metadata": {
    "scrolled": true
   },
   "outputs": [
    {
     "name": "stdout",
     "output_type": "stream",
     "text": [
      "Epoch 1/20\n",
      "297/297 [==============================] - 3s 7ms/step - loss: 590961.5625 - mae: 568.0699 - val_loss: 480064.3438 - val_mae: 490.3950\n",
      "Epoch 2/20\n",
      "297/297 [==============================] - 2s 6ms/step - loss: 506168.4375 - mae: 525.7046 - val_loss: 363255.1562 - val_mae: 434.9696\n",
      "Epoch 3/20\n",
      "297/297 [==============================] - 2s 6ms/step - loss: 441984.5000 - mae: 482.5344 - val_loss: 371483.0938 - val_mae: 417.2408\n",
      "Epoch 4/20\n",
      "297/297 [==============================] - 2s 6ms/step - loss: 436624.1875 - mae: 472.3549 - val_loss: 382274.2188 - val_mae: 419.4944\n",
      "Epoch 5/20\n",
      "297/297 [==============================] - 2s 6ms/step - loss: 422819.4375 - mae: 463.4154 - val_loss: 404792.7812 - val_mae: 430.4387\n",
      "Epoch 6/20\n",
      "297/297 [==============================] - 2s 6ms/step - loss: 416622.7812 - mae: 456.9377 - val_loss: 352955.7812 - val_mae: 402.4734\n",
      "Epoch 7/20\n",
      "297/297 [==============================] - 2s 6ms/step - loss: 413139.0312 - mae: 451.4151 - val_loss: 492354.7188 - val_mae: 472.8657\n",
      "Epoch 8/20\n",
      "297/297 [==============================] - 2s 6ms/step - loss: 393182.2500 - mae: 438.6114 - val_loss: 354433.5000 - val_mae: 400.1930\n",
      "Epoch 9/20\n",
      "297/297 [==============================] - 2s 6ms/step - loss: 394662.0938 - mae: 438.9265 - val_loss: 366621.2812 - val_mae: 405.4305\n",
      "Epoch 10/20\n",
      "297/297 [==============================] - 2s 6ms/step - loss: 388620.6562 - mae: 432.9757 - val_loss: 435788.1875 - val_mae: 449.0158\n",
      "Epoch 11/20\n",
      "297/297 [==============================] - 2s 6ms/step - loss: 368720.6250 - mae: 421.0479 - val_loss: 432079.1562 - val_mae: 442.5043\n",
      "Epoch 12/20\n",
      "297/297 [==============================] - 2s 6ms/step - loss: 354092.6250 - mae: 413.0643 - val_loss: 467595.8438 - val_mae: 460.6507\n",
      "Epoch 13/20\n",
      "297/297 [==============================] - 2s 6ms/step - loss: 334894.8438 - mae: 401.9787 - val_loss: 259828.6562 - val_mae: 344.8897\n",
      "Epoch 14/20\n",
      "297/297 [==============================] - 2s 6ms/step - loss: 336361.0938 - mae: 402.8198 - val_loss: 409681.9375 - val_mae: 425.8575\n",
      "Epoch 15/20\n",
      "297/297 [==============================] - 2s 6ms/step - loss: 312003.9062 - mae: 384.6431 - val_loss: 527469.9375 - val_mae: 502.2822\n",
      "Epoch 16/20\n",
      "297/297 [==============================] - 2s 6ms/step - loss: 297208.5312 - mae: 374.6320 - val_loss: 364172.6875 - val_mae: 398.3993\n",
      "Epoch 17/20\n",
      "297/297 [==============================] - 2s 6ms/step - loss: 291497.3438 - mae: 370.0578 - val_loss: 301043.3125 - val_mae: 356.9005\n",
      "Epoch 18/20\n",
      "297/297 [==============================] - 2s 6ms/step - loss: 300489.0312 - mae: 371.8263 - val_loss: 306067.0312 - val_mae: 360.3757\n",
      "Epoch 19/20\n",
      "297/297 [==============================] - 2s 6ms/step - loss: 275590.1250 - mae: 359.7527 - val_loss: 326338.2812 - val_mae: 377.3483\n",
      "Epoch 20/20\n",
      "297/297 [==============================] - 2s 6ms/step - loss: 273865.0000 - mae: 357.1246 - val_loss: 441330.6562 - val_mae: 453.5532\n",
      "80/80 [==============================] - 0s 2ms/step - loss: 441330.7500 - mae: 453.5530\n"
     ]
    },
    {
     "data": {
      "text/plain": [
       "[441330.75, 453.5530090332031]"
      ]
     },
     "execution_count": 32,
     "metadata": {},
     "output_type": "execute_result"
    }
   ],
   "source": [
    "tensorboard_callback = tf.keras.callbacks.TensorBoard(log_dir=\"./logs\")\n",
    "history = model.fit(X_train, y_train, epochs=num_epochs, validation_data=(\n",
    "    X_test, y_test), batch_size=20, verbose=True, callbacks=[tensorboard_callback])\n",
    "model.evaluate(X_test, y_test)"
   ]
  },
  {
   "cell_type": "code",
   "execution_count": 33,
   "id": "8a4a2690",
   "metadata": {},
   "outputs": [
    {
     "data": {
      "image/png": "[encoded data removed]",
      "text/plain": [
       "<Figure size 432x288 with 1 Axes>"
      ]
     },
     "metadata": {
      "needs_background": "light"
     },
     "output_type": "display_data"
    }
   ],
   "source": [
    "loss = history.history['loss']\n",
    "val_loss = history.history['val_loss']\n",
    "\n",
    "epochs = range(1, len(loss) + 1)\n",
    "\n",
    "plt.plot(epochs, loss, 'bo', label='Training loss')\n",
    "plt.plot(epochs, val_loss, 'b', label='Validation loss')\n",
    "plt.title('Training and validation loss for model 9')\n",
    "plt.xlabel('Epochs')\n",
    "plt.ylabel('Loss')\n",
    "plt.legend()\n",
    "\n",
    "plt.savefig('images/model9.png', dpi=1200, bbox_inches=\"tight\")\n",
    "\n",
    "plt.show()"
   ]
  },
  {
   "cell_type": "markdown",
   "id": "0ef7e2ad",
   "metadata": {},
   "source": [
    "## Model 10"
   ]
  },
  {
   "cell_type": "code",
   "execution_count": 34,
   "id": "23757e90",
   "metadata": {},
   "outputs": [
    {
     "name": "stdout",
     "output_type": "stream",
     "text": [
      "Model: \"sequential_9\"\n",
      "_________________________________________________________________\n",
      " Layer (type)                Output Shape              Param #   \n",
      "=================================================================\n",
      " dense_37 (Dense)            (None, 128)               4608      \n",
      "                                                                 \n",
      " dropout_28 (Dropout)        (None, 128)               0         \n",
      "                                                                 \n",
      " dense_38 (Dense)            (None, 64)                8256      \n",
      "                                                                 \n",
      " dropout_29 (Dropout)        (None, 64)                0         \n",
      "                                                                 \n",
      " dense_39 (Dense)            (None, 32)                2080      \n",
      "                                                                 \n",
      " dropout_30 (Dropout)        (None, 32)                0         \n",
      "                                                                 \n",
      " dense_40 (Dense)            (None, 16)                528       \n",
      "                                                                 \n",
      " dropout_31 (Dropout)        (None, 16)                0         \n",
      "                                                                 \n",
      " dense_41 (Dense)            (None, 8)                 136       \n",
      "                                                                 \n",
      " dropout_32 (Dropout)        (None, 8)                 0         \n",
      "                                                                 \n",
      " dense_42 (Dense)            (None, 4)                 36        \n",
      "                                                                 \n",
      " dropout_33 (Dropout)        (None, 4)                 0         \n",
      "                                                                 \n",
      " dense_43 (Dense)            (None, 1)                 5         \n",
      "                                                                 \n",
      "=================================================================\n",
      "Total params: 15,649\n",
      "Trainable params: 15,649\n",
      "Non-trainable params: 0\n",
      "_________________________________________________________________\n"
     ]
    }
   ],
   "source": [
    "model = models.Sequential()\n",
    "model.add(layers.Dense(128, input_shape=(X_train.shape[1],)))\n",
    "model.add(layers.Dropout(0.2, seed=22))\n",
    "model.add(layers.Dense(64, input_shape=(X_train.shape[1],)))\n",
    "model.add(layers.Dropout(0.2, seed=22))\n",
    "model.add(layers.Dense(32, activation='relu'))\n",
    "model.add(layers.Dropout(0.2, seed=22))\n",
    "model.add(layers.Dense(16, activation='relu'))\n",
    "model.add(layers.Dropout(0.2, seed=22))\n",
    "model.add(layers.Dense(8, activation='relu'))\n",
    "model.add(layers.Dropout(0.2, seed=22))\n",
    "model.add(layers.Dense(4, activation='relu'))\n",
    "model.add(layers.Dropout(0.2, seed=22))\n",
    "model.add(layers.Dense(1))\n",
    "model.summary()\n",
    "model.compile(optimizer='adam', loss='mse', metrics=['mae'])"
   ]
  },
  {
   "cell_type": "code",
   "execution_count": 35,
   "id": "2bbb3e48",
   "metadata": {
    "scrolled": true
   },
   "outputs": [
    {
     "name": "stdout",
     "output_type": "stream",
     "text": [
      "Epoch 1/20\n",
      "198/198 [==============================] - 3s 7ms/step - loss: 599287.3750 - mae: 575.3149 - val_loss: 446525.1875 - val_mae: 489.8577\n",
      "Epoch 2/20\n",
      "198/198 [==============================] - 1s 6ms/step - loss: 531800.3750 - mae: 538.9100 - val_loss: 455436.5000 - val_mae: 467.6689\n",
      "Epoch 3/20\n",
      "198/198 [==============================] - 1s 6ms/step - loss: 466199.7188 - mae: 495.3411 - val_loss: 468949.2812 - val_mae: 462.6670\n",
      "Epoch 4/20\n",
      "198/198 [==============================] - 1s 7ms/step - loss: 447553.4062 - mae: 477.3280 - val_loss: 338216.4062 - val_mae: 409.0327\n",
      "Epoch 5/20\n",
      "198/198 [==============================] - 1s 6ms/step - loss: 446647.2812 - mae: 477.2352 - val_loss: 365953.2812 - val_mae: 411.7568\n",
      "Epoch 6/20\n",
      "198/198 [==============================] - 1s 6ms/step - loss: 422492.1562 - mae: 459.7388 - val_loss: 378878.8750 - val_mae: 415.9293\n",
      "Epoch 7/20\n",
      "198/198 [==============================] - 1s 6ms/step - loss: 418623.5938 - mae: 452.6543 - val_loss: 363266.7812 - val_mae: 410.4426\n",
      "Epoch 8/20\n",
      "198/198 [==============================] - 1s 7ms/step - loss: 401283.5938 - mae: 444.3913 - val_loss: 372640.9062 - val_mae: 412.9927\n",
      "Epoch 9/20\n",
      "198/198 [==============================] - 1s 6ms/step - loss: 398724.4375 - mae: 440.8250 - val_loss: 361094.2812 - val_mae: 403.0994\n",
      "Epoch 10/20\n",
      "198/198 [==============================] - 1s 7ms/step - loss: 389983.3125 - mae: 436.0708 - val_loss: 377541.9062 - val_mae: 411.6192\n",
      "Epoch 11/20\n",
      "198/198 [==============================] - 1s 7ms/step - loss: 388703.8438 - mae: 434.8183 - val_loss: 349115.6562 - val_mae: 394.5145\n",
      "Epoch 12/20\n",
      "198/198 [==============================] - 1s 6ms/step - loss: 373050.4688 - mae: 422.1627 - val_loss: 326742.3750 - val_mae: 380.1728\n",
      "Epoch 13/20\n",
      "198/198 [==============================] - 1s 6ms/step - loss: 368780.3438 - mae: 421.2520 - val_loss: 416980.6562 - val_mae: 431.2045\n",
      "Epoch 14/20\n",
      "198/198 [==============================] - 1s 6ms/step - loss: 371244.1875 - mae: 419.8445 - val_loss: 413524.2188 - val_mae: 429.9175\n",
      "Epoch 15/20\n",
      "198/198 [==============================] - 1s 6ms/step - loss: 353149.5625 - mae: 409.9124 - val_loss: 319870.9062 - val_mae: 369.6135\n",
      "Epoch 16/20\n",
      "198/198 [==============================] - 1s 6ms/step - loss: 347702.7812 - mae: 407.2635 - val_loss: 348762.2188 - val_mae: 387.8102\n",
      "Epoch 17/20\n",
      "198/198 [==============================] - 1s 6ms/step - loss: 330502.4688 - mae: 394.3146 - val_loss: 359527.6875 - val_mae: 394.1213\n",
      "Epoch 18/20\n",
      "198/198 [==============================] - 1s 6ms/step - loss: 323147.8438 - mae: 390.3219 - val_loss: 242069.5625 - val_mae: 325.1408\n",
      "Epoch 19/20\n",
      "198/198 [==============================] - 1s 6ms/step - loss: 323580.8125 - mae: 390.1497 - val_loss: 292445.7812 - val_mae: 352.5213\n",
      "Epoch 20/20\n",
      "198/198 [==============================] - 1s 7ms/step - loss: 300810.9375 - mae: 375.5822 - val_loss: 310275.6875 - val_mae: 370.4686\n",
      "80/80 [==============================] - 0s 2ms/step - loss: 310275.5000 - mae: 370.4684\n"
     ]
    },
    {
     "data": {
      "text/plain": [
       "[310275.5, 370.4684143066406]"
      ]
     },
     "execution_count": 35,
     "metadata": {},
     "output_type": "execute_result"
    }
   ],
   "source": [
    "tensorboard_callback = tf.keras.callbacks.TensorBoard(log_dir=\"./logs\")\n",
    "history = model.fit(X_train, y_train, epochs=num_epochs, validation_data=(\n",
    "    X_test, y_test), batch_size=30, verbose=True, callbacks=[tensorboard_callback])\n",
    "model.evaluate(X_test, y_test)"
   ]
  },
  {
   "cell_type": "code",
   "execution_count": 36,
   "id": "a36b8933",
   "metadata": {},
   "outputs": [
    {
     "data": {
      "image/png": "[encoded data removed]",
      "text/plain": [
       "<Figure size 432x288 with 1 Axes>"
      ]
     },
     "metadata": {
      "needs_background": "light"
     },
     "output_type": "display_data"
    }
   ],
   "source": [
    "loss = history.history['loss']\n",
    "val_loss = history.history['val_loss']\n",
    "\n",
    "epochs = range(1, len(loss) + 1)\n",
    "\n",
    "plt.plot(epochs, loss, 'bo', label='Training loss')\n",
    "plt.plot(epochs, val_loss, 'b', label='Validation loss')\n",
    "plt.title('Training and validation loss for model 10')\n",
    "plt.xlabel('Epochs')\n",
    "plt.ylabel('Loss')\n",
    "plt.legend()\n",
    "\n",
    "plt.savefig('images/model10.png', dpi=1200, bbox_inches=\"tight\")\n",
    "\n",
    "plt.show()"
   ]
  },
  {
   "cell_type": "markdown",
   "id": "2d7f0872",
   "metadata": {},
   "source": [
    "## Model 11 (Resetting to Model 8)"
   ]
  },
  {
   "cell_type": "code",
   "execution_count": 37,
   "id": "b061acd8",
   "metadata": {},
   "outputs": [],
   "source": [
    "num_epochs = 100"
   ]
  },
  {
   "cell_type": "code",
   "execution_count": 38,
   "id": "4d21bdce",
   "metadata": {},
   "outputs": [
    {
     "name": "stdout",
     "output_type": "stream",
     "text": [
      "Model: \"sequential_10\"\n",
      "_________________________________________________________________\n",
      " Layer (type)                Output Shape              Param #   \n",
      "=================================================================\n",
      " dense_44 (Dense)            (None, 64)                2304      \n",
      "                                                                 \n",
      " dropout_34 (Dropout)        (None, 64)                0         \n",
      "                                                                 \n",
      " dense_45 (Dense)            (None, 32)                2080      \n",
      "                                                                 \n",
      " dropout_35 (Dropout)        (None, 32)                0         \n",
      "                                                                 \n",
      " dense_46 (Dense)            (None, 16)                528       \n",
      "                                                                 \n",
      " dropout_36 (Dropout)        (None, 16)                0         \n",
      "                                                                 \n",
      " dense_47 (Dense)            (None, 8)                 136       \n",
      "                                                                 \n",
      " dropout_37 (Dropout)        (None, 8)                 0         \n",
      "                                                                 \n",
      " dense_48 (Dense)            (None, 1)                 9         \n",
      "                                                                 \n",
      "=================================================================\n",
      "Total params: 5,057\n",
      "Trainable params: 5,057\n",
      "Non-trainable params: 0\n",
      "_________________________________________________________________\n"
     ]
    }
   ],
   "source": [
    "model = models.Sequential()\n",
    "model.add(layers.Dense(64, input_shape=(X_train.shape[1],)))\n",
    "model.add(layers.Dropout(0.2, seed=22))\n",
    "model.add(layers.Dense(32, activation='relu'))\n",
    "model.add(layers.Dropout(0.2, seed=22))\n",
    "model.add(layers.Dense(16, activation='relu'))\n",
    "model.add(layers.Dropout(0.2, seed=22))\n",
    "model.add(layers.Dense(8, activation='relu'))\n",
    "model.add(layers.Dropout(0.2, seed=22))\n",
    "model.add(layers.Dense(1))\n",
    "model.summary()\n",
    "model.compile(optimizer='adam', loss='mse', metrics=['mae'])"
   ]
  },
  {
   "cell_type": "code",
   "execution_count": 39,
   "id": "5468e91f",
   "metadata": {},
   "outputs": [
    {
     "name": "stdout",
     "output_type": "stream",
     "text": [
      "Epoch 1/100\n",
      "297/297 [==============================] - 3s 5ms/step - loss: 515536.3125 - mae: 534.1248 - val_loss: 454244.7500 - val_mae: 488.8588\n",
      "Epoch 2/100\n",
      "297/297 [==============================] - 1s 5ms/step - loss: 456974.9375 - mae: 508.0603 - val_loss: 405099.1250 - val_mae: 454.6916\n",
      "Epoch 3/100\n",
      "297/297 [==============================] - 2s 5ms/step - loss: 413494.8438 - mae: 475.7277 - val_loss: 328250.3438 - val_mae: 410.4998\n",
      "Epoch 4/100\n",
      "297/297 [==============================] - 2s 6ms/step - loss: 385558.7812 - mae: 450.6953 - val_loss: 328672.7500 - val_mae: 401.0699\n",
      "Epoch 5/100\n",
      "297/297 [==============================] - 1s 5ms/step - loss: 372335.2188 - mae: 439.3372 - val_loss: 341113.4688 - val_mae: 402.4224\n",
      "Epoch 6/100\n",
      "297/297 [==============================] - 2s 6ms/step - loss: 377173.7500 - mae: 437.8037 - val_loss: 339852.2812 - val_mae: 400.1456\n",
      "Epoch 7/100\n",
      "297/297 [==============================] - 1s 5ms/step - loss: 355541.4062 - mae: 426.0055 - val_loss: 302368.3125 - val_mae: 382.3787\n",
      "Epoch 8/100\n",
      "297/297 [==============================] - 2s 5ms/step - loss: 349715.7812 - mae: 417.4766 - val_loss: 298003.5625 - val_mae: 377.1600\n",
      "Epoch 9/100\n",
      "297/297 [==============================] - 2s 5ms/step - loss: 356202.8125 - mae: 419.9782 - val_loss: 294447.2500 - val_mae: 372.3469\n",
      "Epoch 10/100\n",
      "297/297 [==============================] - 1s 5ms/step - loss: 343150.5000 - mae: 411.2500 - val_loss: 304800.7812 - val_mae: 377.2150\n",
      "Epoch 11/100\n",
      "297/297 [==============================] - 2s 6ms/step - loss: 338197.1562 - mae: 409.8649 - val_loss: 268822.5938 - val_mae: 358.2640\n",
      "Epoch 12/100\n",
      "297/297 [==============================] - 2s 5ms/step - loss: 329263.3750 - mae: 401.0844 - val_loss: 258358.4062 - val_mae: 349.7349\n",
      "Epoch 13/100\n",
      "297/297 [==============================] - 2s 6ms/step - loss: 319415.4688 - mae: 394.8788 - val_loss: 263394.9688 - val_mae: 348.0670\n",
      "Epoch 14/100\n",
      "297/297 [==============================] - 2s 5ms/step - loss: 305819.8750 - mae: 382.1842 - val_loss: 249214.8906 - val_mae: 336.0849\n",
      "Epoch 15/100\n",
      "297/297 [==============================] - 1s 5ms/step - loss: 302828.5000 - mae: 380.8843 - val_loss: 239283.7344 - val_mae: 327.8950\n",
      "Epoch 16/100\n",
      "297/297 [==============================] - 2s 5ms/step - loss: 290070.8438 - mae: 372.4092 - val_loss: 211928.5625 - val_mae: 312.5530\n",
      "Epoch 17/100\n",
      "297/297 [==============================] - 2s 5ms/step - loss: 280385.1250 - mae: 361.6630 - val_loss: 226200.1562 - val_mae: 316.6979\n",
      "Epoch 18/100\n",
      "297/297 [==============================] - 1s 5ms/step - loss: 278941.8125 - mae: 363.6440 - val_loss: 184931.6562 - val_mae: 301.6525\n",
      "Epoch 19/100\n",
      "297/297 [==============================] - 2s 6ms/step - loss: 260873.0312 - mae: 350.4581 - val_loss: 175464.1562 - val_mae: 291.7149\n",
      "Epoch 20/100\n",
      "297/297 [==============================] - 1s 5ms/step - loss: 253760.6875 - mae: 347.1706 - val_loss: 170927.2344 - val_mae: 303.8232\n",
      "Epoch 21/100\n",
      "297/297 [==============================] - 2s 6ms/step - loss: 242994.1250 - mae: 339.2292 - val_loss: 171712.0938 - val_mae: 279.9315\n",
      "Epoch 22/100\n",
      "297/297 [==============================] - 2s 5ms/step - loss: 249818.6719 - mae: 342.2931 - val_loss: 159182.0625 - val_mae: 280.3175\n",
      "Epoch 23/100\n",
      "297/297 [==============================] - 2s 6ms/step - loss: 236029.5781 - mae: 332.0434 - val_loss: 164003.1094 - val_mae: 270.7288\n",
      "Epoch 24/100\n",
      "297/297 [==============================] - 1s 5ms/step - loss: 231392.8750 - mae: 328.2085 - val_loss: 301352.9062 - val_mae: 377.5525\n",
      "Epoch 25/100\n",
      "297/297 [==============================] - 2s 5ms/step - loss: 229612.9219 - mae: 330.3719 - val_loss: 191560.0781 - val_mae: 291.7321\n",
      "Epoch 26/100\n",
      "297/297 [==============================] - 2s 5ms/step - loss: 226491.6406 - mae: 324.8677 - val_loss: 157808.5469 - val_mae: 267.3812\n",
      "Epoch 27/100\n",
      "297/297 [==============================] - 2s 5ms/step - loss: 234607.8594 - mae: 332.2176 - val_loss: 149431.6250 - val_mae: 280.1019\n",
      "Epoch 28/100\n",
      "297/297 [==============================] - 2s 5ms/step - loss: 220426.0938 - mae: 320.4632 - val_loss: 133769.1406 - val_mae: 250.5236\n",
      "Epoch 29/100\n",
      "297/297 [==============================] - 2s 6ms/step - loss: 223978.7656 - mae: 319.1456 - val_loss: 193359.5469 - val_mae: 294.1493\n",
      "Epoch 30/100\n",
      "297/297 [==============================] - 2s 6ms/step - loss: 222436.2344 - mae: 320.5956 - val_loss: 127647.4688 - val_mae: 242.4691\n",
      "Epoch 31/100\n",
      "297/297 [==============================] - 2s 5ms/step - loss: 210856.0781 - mae: 311.7435 - val_loss: 127486.2969 - val_mae: 241.2154\n",
      "Epoch 32/100\n",
      "297/297 [==============================] - 2s 6ms/step - loss: 214211.0312 - mae: 315.1408 - val_loss: 115847.6094 - val_mae: 233.9259\n",
      "Epoch 33/100\n",
      "297/297 [==============================] - 2s 6ms/step - loss: 207800.7344 - mae: 306.3667 - val_loss: 115934.1484 - val_mae: 233.8449\n",
      "Epoch 34/100\n",
      "297/297 [==============================] - 2s 6ms/step - loss: 209413.2656 - mae: 310.6567 - val_loss: 141658.8594 - val_mae: 251.6387\n",
      "Epoch 35/100\n",
      "297/297 [==============================] - 1s 5ms/step - loss: 216896.5469 - mae: 314.9303 - val_loss: 145111.5156 - val_mae: 254.1555\n",
      "Epoch 36/100\n",
      "297/297 [==============================] - 2s 6ms/step - loss: 206213.7500 - mae: 305.5413 - val_loss: 136061.8125 - val_mae: 246.9467\n",
      "Epoch 37/100\n",
      "297/297 [==============================] - 2s 5ms/step - loss: 211262.1719 - mae: 309.6846 - val_loss: 123865.0859 - val_mae: 237.9876\n",
      "Epoch 38/100\n",
      "297/297 [==============================] - 2s 5ms/step - loss: 205716.7031 - mae: 310.8175 - val_loss: 136945.6719 - val_mae: 245.9127\n",
      "Epoch 39/100\n",
      "297/297 [==============================] - 2s 5ms/step - loss: 210464.4688 - mae: 307.6582 - val_loss: 146174.0000 - val_mae: 255.1000\n",
      "Epoch 40/100\n",
      "297/297 [==============================] - 2s 5ms/step - loss: 208551.9375 - mae: 309.1304 - val_loss: 123273.5234 - val_mae: 236.9072\n",
      "Epoch 41/100\n",
      "297/297 [==============================] - 2s 5ms/step - loss: 201392.3125 - mae: 304.2916 - val_loss: 164546.2500 - val_mae: 278.4204\n",
      "Epoch 42/100\n",
      "297/297 [==============================] - 2s 5ms/step - loss: 193990.0625 - mae: 299.1800 - val_loss: 130259.5547 - val_mae: 243.0092\n",
      "Epoch 43/100\n",
      "297/297 [==============================] - 2s 5ms/step - loss: 195989.5625 - mae: 298.3858 - val_loss: 131344.1250 - val_mae: 241.4986\n",
      "Epoch 44/100\n",
      "297/297 [==============================] - 2s 5ms/step - loss: 205798.1562 - mae: 303.9974 - val_loss: 131163.5000 - val_mae: 242.9285\n",
      "Epoch 45/100\n",
      "297/297 [==============================] - 2s 5ms/step - loss: 203930.8125 - mae: 304.6808 - val_loss: 100989.1016 - val_mae: 219.4972\n",
      "Epoch 46/100\n",
      "297/297 [==============================] - 2s 6ms/step - loss: 194746.8281 - mae: 295.2090 - val_loss: 100576.1875 - val_mae: 213.0899\n",
      "Epoch 47/100\n",
      "297/297 [==============================] - 2s 5ms/step - loss: 187837.2812 - mae: 291.6699 - val_loss: 99633.4844 - val_mae: 212.6056\n",
      "Epoch 48/100\n",
      "297/297 [==============================] - 2s 6ms/step - loss: 180098.5469 - mae: 288.5230 - val_loss: 95215.6719 - val_mae: 208.5194\n",
      "Epoch 49/100\n",
      "297/297 [==============================] - 2s 6ms/step - loss: 183366.5625 - mae: 292.4260 - val_loss: 167589.8906 - val_mae: 283.5194\n",
      "Epoch 50/100\n",
      "297/297 [==============================] - 2s 7ms/step - loss: 182746.4062 - mae: 287.3179 - val_loss: 153870.3594 - val_mae: 269.4536\n",
      "Epoch 51/100\n",
      "297/297 [==============================] - 2s 5ms/step - loss: 180474.2344 - mae: 288.2775 - val_loss: 100607.9844 - val_mae: 218.1746\n",
      "Epoch 52/100\n",
      "297/297 [==============================] - 2s 6ms/step - loss: 189042.0156 - mae: 291.3144 - val_loss: 156650.7812 - val_mae: 270.6268\n",
      "Epoch 53/100\n",
      "297/297 [==============================] - 1s 5ms/step - loss: 178494.7969 - mae: 284.6981 - val_loss: 107868.1719 - val_mae: 219.7677\n",
      "Epoch 54/100\n",
      "297/297 [==============================] - 2s 5ms/step - loss: 194635.5312 - mae: 299.5806 - val_loss: 105418.9922 - val_mae: 218.6601\n",
      "Epoch 55/100\n",
      "297/297 [==============================] - 1s 5ms/step - loss: 184525.5312 - mae: 289.1808 - val_loss: 95518.1641 - val_mae: 212.6440\n",
      "Epoch 56/100\n"
     ]
    },
    {
     "name": "stdout",
     "output_type": "stream",
     "text": [
      "297/297 [==============================] - 2s 5ms/step - loss: 178907.5938 - mae: 286.1475 - val_loss: 145388.0781 - val_mae: 258.0132\n",
      "Epoch 57/100\n",
      "297/297 [==============================] - 2s 5ms/step - loss: 177494.0000 - mae: 286.9570 - val_loss: 165644.5469 - val_mae: 279.6107\n",
      "Epoch 58/100\n",
      "297/297 [==============================] - 2s 5ms/step - loss: 177360.6562 - mae: 285.5518 - val_loss: 116901.0547 - val_mae: 232.5373\n",
      "Epoch 59/100\n",
      "297/297 [==============================] - 2s 5ms/step - loss: 183571.2344 - mae: 289.0988 - val_loss: 105298.9453 - val_mae: 215.7416\n",
      "Epoch 60/100\n",
      "297/297 [==============================] - 1s 5ms/step - loss: 179310.9375 - mae: 284.1868 - val_loss: 117113.2969 - val_mae: 232.5363\n",
      "Epoch 61/100\n",
      "297/297 [==============================] - 2s 6ms/step - loss: 165671.2188 - mae: 275.1157 - val_loss: 168307.4531 - val_mae: 306.7491\n",
      "Epoch 62/100\n",
      "297/297 [==============================] - 2s 5ms/step - loss: 186948.7188 - mae: 288.7765 - val_loss: 117414.2578 - val_mae: 231.2637\n",
      "Epoch 63/100\n",
      "297/297 [==============================] - 2s 6ms/step - loss: 179804.9844 - mae: 281.7263 - val_loss: 101734.7812 - val_mae: 216.2665\n",
      "Epoch 64/100\n",
      "297/297 [==============================] - 2s 6ms/step - loss: 179097.2344 - mae: 285.0154 - val_loss: 90510.3125 - val_mae: 207.0689\n",
      "Epoch 65/100\n",
      "297/297 [==============================] - 2s 5ms/step - loss: 180335.8438 - mae: 285.0917 - val_loss: 102191.1797 - val_mae: 215.6191\n",
      "Epoch 66/100\n",
      "297/297 [==============================] - 1s 5ms/step - loss: 182432.0625 - mae: 282.6579 - val_loss: 92647.4609 - val_mae: 212.4639\n",
      "Epoch 67/100\n",
      "297/297 [==============================] - 1s 5ms/step - loss: 185240.4531 - mae: 288.3139 - val_loss: 104017.9688 - val_mae: 214.6181\n",
      "Epoch 68/100\n",
      "297/297 [==============================] - 2s 5ms/step - loss: 176889.7031 - mae: 285.9937 - val_loss: 108627.4375 - val_mae: 222.7331\n",
      "Epoch 69/100\n",
      "297/297 [==============================] - 2s 6ms/step - loss: 179452.8125 - mae: 282.6545 - val_loss: 98446.9141 - val_mae: 212.9304\n",
      "Epoch 70/100\n",
      "297/297 [==============================] - 2s 6ms/step - loss: 174183.6250 - mae: 278.7600 - val_loss: 88498.0938 - val_mae: 201.1969\n",
      "Epoch 71/100\n",
      "297/297 [==============================] - 1s 5ms/step - loss: 188337.4062 - mae: 292.7505 - val_loss: 102282.2031 - val_mae: 213.8207\n",
      "Epoch 72/100\n",
      "297/297 [==============================] - 2s 5ms/step - loss: 174257.5312 - mae: 281.1753 - val_loss: 162381.2969 - val_mae: 277.8826\n",
      "Epoch 73/100\n",
      "297/297 [==============================] - 2s 6ms/step - loss: 171840.7500 - mae: 277.1621 - val_loss: 89836.8516 - val_mae: 202.4792\n",
      "Epoch 74/100\n",
      "297/297 [==============================] - 1s 5ms/step - loss: 175733.4062 - mae: 282.2532 - val_loss: 126732.4375 - val_mae: 243.5593\n",
      "Epoch 75/100\n",
      "297/297 [==============================] - 2s 6ms/step - loss: 181461.2656 - mae: 286.1853 - val_loss: 162437.8906 - val_mae: 275.0111\n",
      "Epoch 76/100\n",
      "297/297 [==============================] - 2s 5ms/step - loss: 170326.6875 - mae: 278.3765 - val_loss: 105258.0547 - val_mae: 218.2769\n",
      "Epoch 77/100\n",
      "297/297 [==============================] - 1s 4ms/step - loss: 172631.8125 - mae: 277.0826 - val_loss: 101970.1250 - val_mae: 214.3916\n",
      "Epoch 78/100\n",
      "297/297 [==============================] - 1s 5ms/step - loss: 174493.0156 - mae: 280.5357 - val_loss: 115208.4375 - val_mae: 225.3591\n",
      "Epoch 79/100\n",
      "297/297 [==============================] - 2s 5ms/step - loss: 178721.8906 - mae: 284.9257 - val_loss: 93840.4453 - val_mae: 204.6444\n",
      "Epoch 80/100\n",
      "297/297 [==============================] - 2s 6ms/step - loss: 169165.6094 - mae: 279.2429 - val_loss: 160870.7031 - val_mae: 278.2058\n",
      "Epoch 81/100\n",
      "297/297 [==============================] - 1s 5ms/step - loss: 175425.2812 - mae: 280.1664 - val_loss: 89710.3047 - val_mae: 200.0690\n",
      "Epoch 82/100\n",
      "297/297 [==============================] - 2s 6ms/step - loss: 168329.9531 - mae: 274.9436 - val_loss: 118178.1562 - val_mae: 228.4174\n",
      "Epoch 83/100\n",
      "297/297 [==============================] - 2s 6ms/step - loss: 160952.5625 - mae: 271.6667 - val_loss: 130593.2344 - val_mae: 241.5278\n",
      "Epoch 84/100\n",
      "297/297 [==============================] - 1s 5ms/step - loss: 172036.8750 - mae: 279.2966 - val_loss: 84650.8906 - val_mae: 195.4270\n",
      "Epoch 85/100\n",
      "297/297 [==============================] - 1s 5ms/step - loss: 161620.7969 - mae: 272.1033 - val_loss: 85004.5859 - val_mae: 195.9735\n",
      "Epoch 86/100\n",
      "297/297 [==============================] - 1s 5ms/step - loss: 182619.7969 - mae: 287.8432 - val_loss: 93774.6797 - val_mae: 208.1630\n",
      "Epoch 87/100\n",
      "297/297 [==============================] - 1s 5ms/step - loss: 165172.3750 - mae: 273.3013 - val_loss: 102212.8438 - val_mae: 213.2728\n",
      "Epoch 88/100\n",
      "297/297 [==============================] - 1s 4ms/step - loss: 163699.5781 - mae: 271.9377 - val_loss: 88157.4609 - val_mae: 201.7583\n",
      "Epoch 89/100\n",
      "297/297 [==============================] - 2s 5ms/step - loss: 166045.4219 - mae: 272.5713 - val_loss: 95848.2891 - val_mae: 207.8952\n",
      "Epoch 90/100\n",
      "297/297 [==============================] - 2s 5ms/step - loss: 163623.6406 - mae: 272.7145 - val_loss: 85043.4453 - val_mae: 196.7645\n",
      "Epoch 91/100\n",
      "297/297 [==============================] - 2s 5ms/step - loss: 160956.1719 - mae: 269.2363 - val_loss: 115709.7344 - val_mae: 227.4563\n",
      "Epoch 92/100\n",
      "297/297 [==============================] - 1s 5ms/step - loss: 162817.0312 - mae: 271.5580 - val_loss: 114775.0938 - val_mae: 247.3909\n",
      "Epoch 93/100\n",
      "297/297 [==============================] - 1s 5ms/step - loss: 159195.5469 - mae: 271.0582 - val_loss: 177055.0625 - val_mae: 290.3924\n",
      "Epoch 94/100\n",
      "297/297 [==============================] - 1s 5ms/step - loss: 161437.0938 - mae: 269.4477 - val_loss: 85189.9531 - val_mae: 196.2599\n",
      "Epoch 95/100\n",
      "297/297 [==============================] - 1s 5ms/step - loss: 159521.0312 - mae: 269.7848 - val_loss: 100632.6562 - val_mae: 215.1198\n",
      "Epoch 96/100\n",
      "297/297 [==============================] - 2s 5ms/step - loss: 164165.8906 - mae: 269.2252 - val_loss: 93208.0781 - val_mae: 204.8369\n",
      "Epoch 97/100\n",
      "297/297 [==============================] - 1s 5ms/step - loss: 164344.5781 - mae: 273.4953 - val_loss: 87465.2578 - val_mae: 199.9175\n",
      "Epoch 98/100\n",
      "297/297 [==============================] - 1s 5ms/step - loss: 162231.8125 - mae: 270.2465 - val_loss: 117575.8125 - val_mae: 235.8933\n",
      "Epoch 99/100\n",
      "297/297 [==============================] - 2s 5ms/step - loss: 171842.9688 - mae: 279.9170 - val_loss: 92984.8906 - val_mae: 204.2658\n",
      "Epoch 100/100\n",
      "297/297 [==============================] - 2s 6ms/step - loss: 161733.1250 - mae: 270.4549 - val_loss: 95658.0234 - val_mae: 209.6983\n",
      "80/80 [==============================] - 0s 2ms/step - loss: 95658.0625 - mae: 209.6985\n"
     ]
    },
    {
     "data": {
      "text/plain": [
       "[95658.0625, 209.69851684570312]"
      ]
     },
     "execution_count": 39,
     "metadata": {},
     "output_type": "execute_result"
    }
   ],
   "source": [
    "tensorboard_callback = tf.keras.callbacks.TensorBoard(log_dir=\"./logs\")\n",
    "history = model.fit(X_train, y_train, epochs=num_epochs, validation_data=(\n",
    "    X_test, y_test), batch_size=20, verbose=True, callbacks=[tensorboard_callback])\n",
    "model.evaluate(X_test, y_test)"
   ]
  },
  {
   "cell_type": "code",
   "execution_count": 40,
   "id": "048fd821",
   "metadata": {
    "scrolled": true
   },
   "outputs": [
    {
     "data": {
      "image/png": "[encoded data removed]",
      "text/plain": [
       "<Figure size 432x288 with 1 Axes>"
      ]
     },
     "metadata": {
      "needs_background": "light"
     },
     "output_type": "display_data"
    }
   ],
   "source": [
    "loss = history.history['loss']\n",
    "val_loss = history.history['val_loss']\n",
    "\n",
    "epochs = range(1, len(loss) + 1)\n",
    "\n",
    "plt.plot(epochs, loss, 'bo', label='Training loss')\n",
    "plt.plot(epochs, val_loss, 'b', label='Validation loss')\n",
    "plt.title('Training and validation loss for model 11')\n",
    "plt.xlabel('Epochs')\n",
    "plt.ylabel('Loss')\n",
    "plt.legend()\n",
    "\n",
    "plt.savefig('images/model11.png', dpi=1200, bbox_inches=\"tight\")\n",
    "\n",
    "plt.show()"
   ]
  },
  {
   "cell_type": "markdown",
   "id": "8003249d",
   "metadata": {},
   "source": [
    "## Model 12"
   ]
  },
  {
   "cell_type": "code",
   "execution_count": 41,
   "id": "8d92603d",
   "metadata": {},
   "outputs": [
    {
     "name": "stdout",
     "output_type": "stream",
     "text": [
      "Model: \"sequential_11\"\n",
      "_________________________________________________________________\n",
      " Layer (type)                Output Shape              Param #   \n",
      "=================================================================\n",
      " dense_49 (Dense)            (None, 64)                2304      \n",
      "                                                                 \n",
      " dropout_38 (Dropout)        (None, 64)                0         \n",
      "                                                                 \n",
      " dense_50 (Dense)            (None, 32)                2080      \n",
      "                                                                 \n",
      " dropout_39 (Dropout)        (None, 32)                0         \n",
      "                                                                 \n",
      " dense_51 (Dense)            (None, 16)                528       \n",
      "                                                                 \n",
      " dropout_40 (Dropout)        (None, 16)                0         \n",
      "                                                                 \n",
      " dense_52 (Dense)            (None, 8)                 136       \n",
      "                                                                 \n",
      " dropout_41 (Dropout)        (None, 8)                 0         \n",
      "                                                                 \n",
      " dense_53 (Dense)            (None, 1)                 9         \n",
      "                                                                 \n",
      "=================================================================\n",
      "Total params: 5,057\n",
      "Trainable params: 5,057\n",
      "Non-trainable params: 0\n",
      "_________________________________________________________________\n"
     ]
    }
   ],
   "source": [
    "model = models.Sequential()\n",
    "model.add(layers.Dense(64, input_shape=(X_train.shape[1],)))\n",
    "model.add(layers.Dropout(0.2, seed=22))\n",
    "model.add(layers.Dense(32, activation='relu'))\n",
    "model.add(layers.Dropout(0.2, seed=22))\n",
    "model.add(layers.Dense(16, activation='relu'))\n",
    "model.add(layers.Dropout(0.2, seed=22))\n",
    "model.add(layers.Dense(8, activation='relu'))\n",
    "model.add(layers.Dropout(0.2, seed=22))\n",
    "model.add(layers.Dense(1))\n",
    "model.summary()\n",
    "model.compile(optimizer='adam', loss='mse', metrics=['mae'])"
   ]
  },
  {
   "cell_type": "code",
   "execution_count": 42,
   "id": "42ad8143",
   "metadata": {},
   "outputs": [
    {
     "name": "stdout",
     "output_type": "stream",
     "text": [
      "Epoch 1/100\n",
      "198/198 [==============================] - 2s 7ms/step - loss: 615177.8750 - mae: 577.4196 - val_loss: 489701.1875 - val_mae: 500.3895\n",
      "Epoch 2/100\n",
      "198/198 [==============================] - 1s 5ms/step - loss: 509067.5000 - mae: 531.6438 - val_loss: 479671.5938 - val_mae: 489.8226\n",
      "Epoch 3/100\n",
      "198/198 [==============================] - 1s 6ms/step - loss: 471652.5312 - mae: 513.5572 - val_loss: 390808.7812 - val_mae: 447.9368\n",
      "Epoch 4/100\n",
      "198/198 [==============================] - 1s 5ms/step - loss: 432383.4688 - mae: 483.9099 - val_loss: 373213.4062 - val_mae: 423.5190\n",
      "Epoch 5/100\n",
      "198/198 [==============================] - 1s 5ms/step - loss: 414781.2188 - mae: 465.1122 - val_loss: 357744.1250 - val_mae: 411.2179\n",
      "Epoch 6/100\n",
      "198/198 [==============================] - 1s 5ms/step - loss: 392721.4062 - mae: 452.8787 - val_loss: 353143.9375 - val_mae: 408.3472\n",
      "Epoch 7/100\n",
      "198/198 [==============================] - 1s 5ms/step - loss: 385293.6562 - mae: 443.1254 - val_loss: 306667.8438 - val_mae: 388.5631\n",
      "Epoch 8/100\n",
      "198/198 [==============================] - 1s 5ms/step - loss: 377702.3125 - mae: 439.5978 - val_loss: 315685.2188 - val_mae: 389.4053\n",
      "Epoch 9/100\n",
      "198/198 [==============================] - 1s 5ms/step - loss: 371077.5000 - mae: 433.8833 - val_loss: 310086.0938 - val_mae: 385.2362\n",
      "Epoch 10/100\n",
      "198/198 [==============================] - 1s 6ms/step - loss: 370817.9375 - mae: 427.8325 - val_loss: 313327.1250 - val_mae: 383.9834\n",
      "Epoch 11/100\n",
      "198/198 [==============================] - 1s 5ms/step - loss: 356492.3438 - mae: 423.2491 - val_loss: 276085.4375 - val_mae: 366.5077\n",
      "Epoch 12/100\n",
      "198/198 [==============================] - 1s 5ms/step - loss: 356772.0938 - mae: 418.3504 - val_loss: 271637.5938 - val_mae: 362.6216\n",
      "Epoch 13/100\n",
      "198/198 [==============================] - 1s 5ms/step - loss: 346851.0312 - mae: 413.2525 - val_loss: 281863.9375 - val_mae: 363.1866\n",
      "Epoch 14/100\n",
      "198/198 [==============================] - 1s 6ms/step - loss: 351904.7188 - mae: 414.8129 - val_loss: 258623.8438 - val_mae: 353.2366\n",
      "Epoch 15/100\n",
      "198/198 [==============================] - 1s 5ms/step - loss: 351154.0000 - mae: 410.5305 - val_loss: 260276.5156 - val_mae: 349.7458\n",
      "Epoch 16/100\n",
      "198/198 [==============================] - 1s 6ms/step - loss: 336472.4062 - mae: 401.8527 - val_loss: 239473.7344 - val_mae: 340.9321\n",
      "Epoch 17/100\n",
      "198/198 [==============================] - 1s 5ms/step - loss: 320799.3750 - mae: 395.6631 - val_loss: 274573.7188 - val_mae: 350.1039\n",
      "Epoch 18/100\n",
      "198/198 [==============================] - 1s 6ms/step - loss: 318783.2812 - mae: 389.4312 - val_loss: 251891.1562 - val_mae: 334.9697\n",
      "Epoch 19/100\n",
      "198/198 [==============================] - 1s 5ms/step - loss: 317418.7500 - mae: 389.6754 - val_loss: 281473.9062 - val_mae: 352.1153\n",
      "Epoch 20/100\n",
      "198/198 [==============================] - 1s 5ms/step - loss: 303969.0625 - mae: 377.9190 - val_loss: 211499.8750 - val_mae: 317.2403\n",
      "Epoch 21/100\n",
      "198/198 [==============================] - 1s 6ms/step - loss: 300074.7500 - mae: 378.9079 - val_loss: 211604.2656 - val_mae: 310.9915\n",
      "Epoch 22/100\n",
      "198/198 [==============================] - 1s 6ms/step - loss: 300680.1562 - mae: 373.8516 - val_loss: 298692.1562 - val_mae: 362.8109\n",
      "Epoch 23/100\n",
      "198/198 [==============================] - 1s 6ms/step - loss: 290320.8750 - mae: 367.5415 - val_loss: 237806.4375 - val_mae: 320.8320\n",
      "Epoch 24/100\n",
      "198/198 [==============================] - 1s 7ms/step - loss: 284845.0312 - mae: 366.2153 - val_loss: 232016.4531 - val_mae: 315.3392\n",
      "Epoch 25/100\n",
      "198/198 [==============================] - 1s 5ms/step - loss: 290189.2500 - mae: 365.7956 - val_loss: 179060.8281 - val_mae: 286.5204\n",
      "Epoch 26/100\n",
      "198/198 [==============================] - 1s 5ms/step - loss: 268453.0312 - mae: 352.5165 - val_loss: 207713.0625 - val_mae: 300.3577\n",
      "Epoch 27/100\n",
      "198/198 [==============================] - 1s 6ms/step - loss: 261373.1250 - mae: 349.5392 - val_loss: 192559.8906 - val_mae: 290.3804\n",
      "Epoch 28/100\n",
      "198/198 [==============================] - 1s 5ms/step - loss: 250831.5156 - mae: 343.7737 - val_loss: 149885.1406 - val_mae: 274.2009\n",
      "Epoch 29/100\n",
      "198/198 [==============================] - 1s 5ms/step - loss: 262491.5312 - mae: 347.0356 - val_loss: 236737.7344 - val_mae: 325.9769\n",
      "Epoch 30/100\n",
      "198/198 [==============================] - 1s 6ms/step - loss: 261524.0625 - mae: 346.6285 - val_loss: 183953.0781 - val_mae: 284.5798\n",
      "Epoch 31/100\n",
      "198/198 [==============================] - 1s 6ms/step - loss: 259483.2812 - mae: 345.2731 - val_loss: 139163.7500 - val_mae: 267.1231\n",
      "Epoch 32/100\n",
      "198/198 [==============================] - 1s 5ms/step - loss: 252695.1406 - mae: 340.2892 - val_loss: 154309.0469 - val_mae: 262.2256\n",
      "Epoch 33/100\n",
      "198/198 [==============================] - 1s 5ms/step - loss: 242390.2031 - mae: 333.6513 - val_loss: 161664.1406 - val_mae: 269.4021\n",
      "Epoch 34/100\n",
      "198/198 [==============================] - 1s 5ms/step - loss: 242152.9688 - mae: 334.3586 - val_loss: 165934.7812 - val_mae: 273.1562\n",
      "Epoch 35/100\n",
      "198/198 [==============================] - 1s 5ms/step - loss: 250981.1875 - mae: 333.5587 - val_loss: 154778.4219 - val_mae: 261.9395\n",
      "Epoch 36/100\n",
      "198/198 [==============================] - 1s 5ms/step - loss: 242991.7812 - mae: 330.6610 - val_loss: 127986.2031 - val_mae: 240.4864\n",
      "Epoch 37/100\n",
      "198/198 [==============================] - 1s 5ms/step - loss: 233402.3438 - mae: 329.8642 - val_loss: 119573.0156 - val_mae: 234.8995\n",
      "Epoch 38/100\n",
      "198/198 [==============================] - 1s 5ms/step - loss: 233771.8750 - mae: 327.0465 - val_loss: 141539.5469 - val_mae: 248.7930\n",
      "Epoch 39/100\n",
      "198/198 [==============================] - 1s 5ms/step - loss: 242317.5469 - mae: 332.4464 - val_loss: 217894.5781 - val_mae: 321.2040\n",
      "Epoch 40/100\n",
      "198/198 [==============================] - 1s 6ms/step - loss: 240215.6406 - mae: 328.7985 - val_loss: 160599.2812 - val_mae: 268.9411\n",
      "Epoch 41/100\n",
      "198/198 [==============================] - 1s 5ms/step - loss: 233743.8750 - mae: 327.6966 - val_loss: 139351.0625 - val_mae: 247.5064\n",
      "Epoch 42/100\n",
      "198/198 [==============================] - 1s 5ms/step - loss: 241365.8281 - mae: 328.3156 - val_loss: 125383.6875 - val_mae: 240.2266\n",
      "Epoch 43/100\n",
      "198/198 [==============================] - 1s 5ms/step - loss: 226207.1875 - mae: 319.5071 - val_loss: 111762.2891 - val_mae: 230.3215\n",
      "Epoch 44/100\n",
      "198/198 [==============================] - 1s 5ms/step - loss: 237114.9844 - mae: 327.3247 - val_loss: 118607.8828 - val_mae: 229.6592\n",
      "Epoch 45/100\n",
      "198/198 [==============================] - 1s 5ms/step - loss: 233826.4844 - mae: 323.5293 - val_loss: 127805.0547 - val_mae: 233.9485\n",
      "Epoch 46/100\n",
      "198/198 [==============================] - 1s 5ms/step - loss: 235061.8281 - mae: 321.4545 - val_loss: 118543.0703 - val_mae: 229.5575\n",
      "Epoch 47/100\n",
      "198/198 [==============================] - 1s 5ms/step - loss: 226984.1250 - mae: 315.8907 - val_loss: 143813.5000 - val_mae: 251.5343\n",
      "Epoch 48/100\n",
      "198/198 [==============================] - 1s 6ms/step - loss: 235441.1094 - mae: 322.7958 - val_loss: 123739.6250 - val_mae: 234.0547\n",
      "Epoch 49/100\n",
      "198/198 [==============================] - 1s 5ms/step - loss: 228941.2500 - mae: 318.1608 - val_loss: 100979.9766 - val_mae: 216.3614\n",
      "Epoch 50/100\n",
      "198/198 [==============================] - 1s 5ms/step - loss: 220336.5156 - mae: 315.7070 - val_loss: 129537.0703 - val_mae: 239.8747\n",
      "Epoch 51/100\n",
      "198/198 [==============================] - 1s 5ms/step - loss: 223266.0312 - mae: 313.8981 - val_loss: 132673.0469 - val_mae: 240.6804\n",
      "Epoch 52/100\n",
      "198/198 [==============================] - 1s 6ms/step - loss: 233077.4219 - mae: 319.3397 - val_loss: 120095.2656 - val_mae: 228.5365\n",
      "Epoch 53/100\n",
      "198/198 [==============================] - 1s 5ms/step - loss: 220265.1719 - mae: 311.4432 - val_loss: 97333.0078 - val_mae: 209.7679\n",
      "Epoch 54/100\n",
      "198/198 [==============================] - 1s 5ms/step - loss: 232463.0312 - mae: 323.0550 - val_loss: 135695.4219 - val_mae: 246.0728\n",
      "Epoch 55/100\n",
      "198/198 [==============================] - 1s 5ms/step - loss: 223418.0625 - mae: 315.5538 - val_loss: 121170.9141 - val_mae: 230.0778\n",
      "Epoch 56/100\n"
     ]
    },
    {
     "name": "stdout",
     "output_type": "stream",
     "text": [
      "198/198 [==============================] - 1s 6ms/step - loss: 225627.0156 - mae: 318.5970 - val_loss: 105371.9297 - val_mae: 214.4979\n",
      "Epoch 57/100\n",
      "198/198 [==============================] - 1s 6ms/step - loss: 222472.8281 - mae: 309.9420 - val_loss: 103958.1953 - val_mae: 210.5344\n",
      "Epoch 58/100\n",
      "198/198 [==============================] - 1s 6ms/step - loss: 233583.7812 - mae: 321.2366 - val_loss: 105376.9297 - val_mae: 214.4255\n",
      "Epoch 59/100\n",
      "198/198 [==============================] - 1s 5ms/step - loss: 209902.9688 - mae: 309.2236 - val_loss: 126645.5938 - val_mae: 234.8258\n",
      "Epoch 60/100\n",
      "198/198 [==============================] - 1s 5ms/step - loss: 218413.7812 - mae: 310.2849 - val_loss: 146350.6562 - val_mae: 256.5218\n",
      "Epoch 61/100\n",
      "198/198 [==============================] - 1s 5ms/step - loss: 211895.7344 - mae: 303.6903 - val_loss: 100076.4766 - val_mae: 207.6293\n",
      "Epoch 62/100\n",
      "198/198 [==============================] - 1s 6ms/step - loss: 230332.5156 - mae: 322.2671 - val_loss: 97911.1250 - val_mae: 213.2390\n",
      "Epoch 63/100\n",
      "198/198 [==============================] - 1s 4ms/step - loss: 217139.5312 - mae: 310.5414 - val_loss: 98133.1016 - val_mae: 207.4396\n",
      "Epoch 64/100\n",
      "198/198 [==============================] - 1s 5ms/step - loss: 221400.9219 - mae: 313.5650 - val_loss: 121071.2578 - val_mae: 228.8054\n",
      "Epoch 65/100\n",
      "198/198 [==============================] - 1s 5ms/step - loss: 223045.4375 - mae: 313.6361 - val_loss: 96342.6328 - val_mae: 208.3478\n",
      "Epoch 66/100\n",
      "198/198 [==============================] - 1s 5ms/step - loss: 220402.7188 - mae: 312.8044 - val_loss: 138040.6094 - val_mae: 244.3833\n",
      "Epoch 67/100\n",
      "198/198 [==============================] - 1s 6ms/step - loss: 217476.1094 - mae: 310.4463 - val_loss: 120480.2031 - val_mae: 234.9884\n",
      "Epoch 68/100\n",
      "198/198 [==============================] - 1s 5ms/step - loss: 216782.2188 - mae: 308.7218 - val_loss: 96101.4922 - val_mae: 205.1562\n",
      "Epoch 69/100\n",
      "198/198 [==============================] - 1s 5ms/step - loss: 211440.5156 - mae: 304.5052 - val_loss: 92057.7578 - val_mae: 206.0540\n",
      "Epoch 70/100\n",
      "198/198 [==============================] - 1s 5ms/step - loss: 217873.5781 - mae: 309.4929 - val_loss: 124030.3594 - val_mae: 232.6870\n",
      "Epoch 71/100\n",
      "198/198 [==============================] - 1s 5ms/step - loss: 223088.4062 - mae: 309.3987 - val_loss: 119428.5000 - val_mae: 231.8418\n",
      "Epoch 72/100\n",
      "198/198 [==============================] - 1s 5ms/step - loss: 203377.9219 - mae: 301.4200 - val_loss: 143301.6406 - val_mae: 255.3284\n",
      "Epoch 73/100\n",
      "198/198 [==============================] - 1s 5ms/step - loss: 217512.9375 - mae: 309.0459 - val_loss: 183217.7500 - val_mae: 294.1527\n",
      "Epoch 74/100\n",
      "198/198 [==============================] - 1s 5ms/step - loss: 219331.7344 - mae: 309.4476 - val_loss: 109906.3047 - val_mae: 220.7453\n",
      "Epoch 75/100\n",
      "198/198 [==============================] - 1s 6ms/step - loss: 213675.6406 - mae: 303.8454 - val_loss: 112925.9375 - val_mae: 220.0218\n",
      "Epoch 76/100\n",
      "198/198 [==============================] - 1s 6ms/step - loss: 209784.2812 - mae: 303.8517 - val_loss: 97029.1797 - val_mae: 203.7117\n",
      "Epoch 77/100\n",
      "198/198 [==============================] - 1s 6ms/step - loss: 215128.6562 - mae: 303.4376 - val_loss: 105063.3438 - val_mae: 216.1326\n",
      "Epoch 78/100\n",
      "198/198 [==============================] - 1s 6ms/step - loss: 218795.1406 - mae: 306.4243 - val_loss: 116231.6328 - val_mae: 222.6517\n",
      "Epoch 79/100\n",
      "198/198 [==============================] - 1s 6ms/step - loss: 229985.1094 - mae: 313.8233 - val_loss: 90245.9688 - val_mae: 201.9464\n",
      "Epoch 80/100\n",
      "198/198 [==============================] - 1s 6ms/step - loss: 225432.5781 - mae: 311.1514 - val_loss: 130751.0391 - val_mae: 243.6608\n",
      "Epoch 81/100\n",
      "198/198 [==============================] - 1s 5ms/step - loss: 197281.9375 - mae: 296.3701 - val_loss: 120621.2266 - val_mae: 232.4306\n",
      "Epoch 82/100\n",
      "198/198 [==============================] - 1s 5ms/step - loss: 199589.0312 - mae: 298.2145 - val_loss: 90215.5312 - val_mae: 197.1467\n",
      "Epoch 83/100\n",
      "198/198 [==============================] - 1s 5ms/step - loss: 216293.0156 - mae: 307.1154 - val_loss: 94531.5156 - val_mae: 208.1239\n",
      "Epoch 84/100\n",
      "198/198 [==============================] - 1s 5ms/step - loss: 211050.9375 - mae: 303.3308 - val_loss: 171831.6562 - val_mae: 284.7809\n",
      "Epoch 85/100\n",
      "198/198 [==============================] - 1s 6ms/step - loss: 211790.9219 - mae: 303.7465 - val_loss: 196937.0625 - val_mae: 308.7143\n",
      "Epoch 86/100\n",
      "198/198 [==============================] - 1s 6ms/step - loss: 215309.6719 - mae: 309.4203 - val_loss: 140682.5000 - val_mae: 248.9805\n",
      "Epoch 87/100\n",
      "198/198 [==============================] - 1s 5ms/step - loss: 189604.6250 - mae: 288.5909 - val_loss: 125311.9766 - val_mae: 239.1889\n",
      "Epoch 88/100\n",
      "198/198 [==============================] - 1s 5ms/step - loss: 193682.9531 - mae: 290.0046 - val_loss: 86992.8516 - val_mae: 202.2506\n",
      "Epoch 89/100\n",
      "198/198 [==============================] - 1s 5ms/step - loss: 187923.4375 - mae: 285.5826 - val_loss: 116480.5547 - val_mae: 230.5118\n",
      "Epoch 90/100\n",
      "198/198 [==============================] - 1s 5ms/step - loss: 181816.8438 - mae: 282.3293 - val_loss: 164550.4375 - val_mae: 271.3257\n",
      "Epoch 91/100\n",
      "198/198 [==============================] - 1s 5ms/step - loss: 178569.0469 - mae: 280.3210 - val_loss: 137753.8438 - val_mae: 246.4818\n",
      "Epoch 92/100\n",
      "198/198 [==============================] - 1s 5ms/step - loss: 194511.8438 - mae: 292.6706 - val_loss: 142420.5469 - val_mae: 257.6470\n",
      "Epoch 93/100\n",
      "198/198 [==============================] - 1s 5ms/step - loss: 181252.7031 - mae: 282.7691 - val_loss: 81099.3516 - val_mae: 186.7192\n",
      "Epoch 94/100\n",
      "198/198 [==============================] - 1s 5ms/step - loss: 175890.7500 - mae: 280.7264 - val_loss: 95737.2969 - val_mae: 203.4229\n",
      "Epoch 95/100\n",
      "198/198 [==============================] - 1s 6ms/step - loss: 187187.8906 - mae: 286.0920 - val_loss: 140520.6406 - val_mae: 257.2430\n",
      "Epoch 96/100\n",
      "198/198 [==============================] - 1s 5ms/step - loss: 175176.0000 - mae: 279.2127 - val_loss: 117067.4766 - val_mae: 230.3511\n",
      "Epoch 97/100\n",
      "198/198 [==============================] - 1s 6ms/step - loss: 182254.5938 - mae: 283.7762 - val_loss: 93671.6562 - val_mae: 214.8209\n",
      "Epoch 98/100\n",
      "198/198 [==============================] - 1s 5ms/step - loss: 184844.4844 - mae: 285.3406 - val_loss: 139813.9531 - val_mae: 256.2238\n",
      "Epoch 99/100\n",
      "198/198 [==============================] - 1s 5ms/step - loss: 187426.2656 - mae: 285.1467 - val_loss: 103076.4688 - val_mae: 212.2641\n",
      "Epoch 100/100\n",
      "198/198 [==============================] - 1s 5ms/step - loss: 181343.8906 - mae: 282.3941 - val_loss: 89366.5234 - val_mae: 202.6385\n",
      "80/80 [==============================] - 0s 2ms/step - loss: 89366.5547 - mae: 202.6385\n"
     ]
    },
    {
     "data": {
      "text/plain": [
       "[89366.5546875, 202.63851928710938]"
      ]
     },
     "execution_count": 42,
     "metadata": {},
     "output_type": "execute_result"
    }
   ],
   "source": [
    "tensorboard_callback = tf.keras.callbacks.TensorBoard(log_dir=\"./logs\")\n",
    "history = model.fit(X_train, y_train, epochs=num_epochs, validation_data=(\n",
    "    X_test, y_test), batch_size=30, verbose=True, callbacks=[tensorboard_callback])\n",
    "model.evaluate(X_test, y_test)"
   ]
  },
  {
   "cell_type": "code",
   "execution_count": 43,
   "id": "3ce30b06",
   "metadata": {},
   "outputs": [
    {
     "data": {
      "image/png": "[encoded data removed]",
      "text/plain": [
       "<Figure size 432x288 with 1 Axes>"
      ]
     },
     "metadata": {
      "needs_background": "light"
     },
     "output_type": "display_data"
    }
   ],
   "source": [
    "loss = history.history['loss']\n",
    "val_loss = history.history['val_loss']\n",
    "\n",
    "epochs = range(1, len(loss) + 1)\n",
    "\n",
    "plt.plot(epochs, loss, 'bo', label='Training loss')\n",
    "plt.plot(epochs, val_loss, 'b', label='Validation loss')\n",
    "plt.title('Training and validation loss for model 12')\n",
    "plt.xlabel('Epochs')\n",
    "plt.ylabel('Loss')\n",
    "plt.legend()\n",
    "\n",
    "plt.savefig('images/model12.png', dpi=1200, bbox_inches=\"tight\")\n",
    "\n",
    "plt.show()"
   ]
  },
  {
   "cell_type": "markdown",
   "id": "6cdb336f",
   "metadata": {},
   "source": [
    "## Model 13"
   ]
  },
  {
   "cell_type": "code",
   "execution_count": 44,
   "id": "2cbe2f76",
   "metadata": {},
   "outputs": [
    {
     "name": "stdout",
     "output_type": "stream",
     "text": [
      "Model: \"sequential_12\"\n",
      "_________________________________________________________________\n",
      " Layer (type)                Output Shape              Param #   \n",
      "=================================================================\n",
      " dense_54 (Dense)            (None, 64)                2304      \n",
      "                                                                 \n",
      " dropout_42 (Dropout)        (None, 64)                0         \n",
      "                                                                 \n",
      " dense_55 (Dense)            (None, 32)                2080      \n",
      "                                                                 \n",
      " dropout_43 (Dropout)        (None, 32)                0         \n",
      "                                                                 \n",
      " dense_56 (Dense)            (None, 16)                528       \n",
      "                                                                 \n",
      " dropout_44 (Dropout)        (None, 16)                0         \n",
      "                                                                 \n",
      " dense_57 (Dense)            (None, 8)                 136       \n",
      "                                                                 \n",
      " dropout_45 (Dropout)        (None, 8)                 0         \n",
      "                                                                 \n",
      " dense_58 (Dense)            (None, 1)                 9         \n",
      "                                                                 \n",
      "=================================================================\n",
      "Total params: 5,057\n",
      "Trainable params: 5,057\n",
      "Non-trainable params: 0\n",
      "_________________________________________________________________\n"
     ]
    }
   ],
   "source": [
    "model = models.Sequential()\n",
    "model.add(layers.Dense(64, input_shape=(X_train.shape[1],)))\n",
    "model.add(layers.Dropout(0.2, seed=22))\n",
    "model.add(layers.Dense(32, activation='relu'))\n",
    "model.add(layers.Dropout(0.2, seed=22))\n",
    "model.add(layers.Dense(16, activation='relu'))\n",
    "model.add(layers.Dropout(0.2, seed=22))\n",
    "model.add(layers.Dense(8, activation='relu'))\n",
    "model.add(layers.Dropout(0.2, seed=22))\n",
    "model.add(layers.Dense(1))\n",
    "model.summary()\n",
    "model.compile(optimizer='adam', loss='mse', metrics=['mae'])"
   ]
  },
  {
   "cell_type": "code",
   "execution_count": 45,
   "id": "e5463a12",
   "metadata": {},
   "outputs": [
    {
     "name": "stdout",
     "output_type": "stream",
     "text": [
      "Epoch 1/100\n",
      "60/60 [==============================] - 2s 10ms/step - loss: 569521.6875 - mae: 557.0575 - val_loss: 490831.9688 - val_mae: 502.7907\n",
      "Epoch 2/100\n",
      "60/60 [==============================] - 0s 7ms/step - loss: 518975.5000 - mae: 540.4214 - val_loss: 488857.0312 - val_mae: 499.5963\n",
      "Epoch 3/100\n",
      "60/60 [==============================] - 0s 6ms/step - loss: 497640.9375 - mae: 527.2963 - val_loss: 440548.8438 - val_mae: 489.6681\n",
      "Epoch 4/100\n",
      "60/60 [==============================] - 0s 5ms/step - loss: 463302.3125 - mae: 511.0401 - val_loss: 456515.2812 - val_mae: 483.4012\n",
      "Epoch 5/100\n",
      "60/60 [==============================] - 0s 5ms/step - loss: 460869.2188 - mae: 507.9683 - val_loss: 444673.3750 - val_mae: 471.7825\n",
      "Epoch 6/100\n",
      "60/60 [==============================] - 0s 5ms/step - loss: 425439.1250 - mae: 487.5388 - val_loss: 386675.9688 - val_mae: 455.0298\n",
      "Epoch 7/100\n",
      "60/60 [==============================] - 0s 6ms/step - loss: 417132.8750 - mae: 485.8939 - val_loss: 374587.3125 - val_mae: 439.1808\n",
      "Epoch 8/100\n",
      "60/60 [==============================] - 0s 8ms/step - loss: 404228.5938 - mae: 474.4323 - val_loss: 365535.7812 - val_mae: 427.9286\n",
      "Epoch 9/100\n",
      "60/60 [==============================] - 0s 7ms/step - loss: 378110.7500 - mae: 456.4940 - val_loss: 357887.0312 - val_mae: 417.2858\n",
      "Epoch 10/100\n",
      "60/60 [==============================] - 0s 5ms/step - loss: 374908.9688 - mae: 452.6996 - val_loss: 357783.2812 - val_mae: 412.5566\n",
      "Epoch 11/100\n",
      "60/60 [==============================] - 0s 5ms/step - loss: 353702.3438 - mae: 434.6362 - val_loss: 326611.7188 - val_mae: 399.5981\n",
      "Epoch 12/100\n",
      "60/60 [==============================] - 0s 5ms/step - loss: 355724.7500 - mae: 434.1312 - val_loss: 337262.3125 - val_mae: 401.3801\n",
      "Epoch 13/100\n",
      "60/60 [==============================] - 0s 5ms/step - loss: 344910.3125 - mae: 426.4325 - val_loss: 307513.8125 - val_mae: 389.1152\n",
      "Epoch 14/100\n",
      "60/60 [==============================] - 0s 5ms/step - loss: 338111.3750 - mae: 419.4300 - val_loss: 336345.6875 - val_mae: 400.0941\n",
      "Epoch 15/100\n",
      "60/60 [==============================] - 0s 7ms/step - loss: 327431.4688 - mae: 410.8559 - val_loss: 305245.6562 - val_mae: 384.9805\n",
      "Epoch 16/100\n",
      "60/60 [==============================] - 0s 6ms/step - loss: 327514.6562 - mae: 413.6462 - val_loss: 304989.5625 - val_mae: 383.5843\n",
      "Epoch 17/100\n",
      "60/60 [==============================] - 0s 5ms/step - loss: 321606.0625 - mae: 406.8997 - val_loss: 296841.1562 - val_mae: 378.7252\n",
      "Epoch 18/100\n",
      "60/60 [==============================] - 0s 5ms/step - loss: 319664.9688 - mae: 405.3475 - val_loss: 290239.1875 - val_mae: 374.5417\n",
      "Epoch 19/100\n",
      "60/60 [==============================] - 0s 5ms/step - loss: 317727.2500 - mae: 401.9776 - val_loss: 303935.1250 - val_mae: 379.0081\n",
      "Epoch 20/100\n",
      "60/60 [==============================] - 0s 5ms/step - loss: 313810.9062 - mae: 398.7006 - val_loss: 304098.6250 - val_mae: 378.4725\n",
      "Epoch 21/100\n",
      "60/60 [==============================] - 0s 5ms/step - loss: 308759.9062 - mae: 394.2971 - val_loss: 289096.0000 - val_mae: 370.6217\n",
      "Epoch 22/100\n",
      "60/60 [==============================] - 0s 6ms/step - loss: 307319.2188 - mae: 391.3152 - val_loss: 288121.9688 - val_mae: 368.9911\n",
      "Epoch 23/100\n",
      "60/60 [==============================] - 0s 7ms/step - loss: 305377.4375 - mae: 391.3648 - val_loss: 299448.7812 - val_mae: 373.0113\n",
      "Epoch 24/100\n",
      "60/60 [==============================] - 0s 6ms/step - loss: 305624.0312 - mae: 392.3959 - val_loss: 277070.1250 - val_mae: 361.8498\n",
      "Epoch 25/100\n",
      "60/60 [==============================] - 0s 5ms/step - loss: 298233.8125 - mae: 384.3505 - val_loss: 267749.7812 - val_mae: 355.4110\n",
      "Epoch 26/100\n",
      "60/60 [==============================] - 0s 5ms/step - loss: 293356.5312 - mae: 380.1866 - val_loss: 267563.9375 - val_mae: 352.5067\n",
      "Epoch 27/100\n",
      "60/60 [==============================] - 0s 5ms/step - loss: 297475.1562 - mae: 381.6823 - val_loss: 266234.6250 - val_mae: 351.7243\n",
      "Epoch 28/100\n",
      "60/60 [==============================] - 0s 5ms/step - loss: 291919.2812 - mae: 375.9847 - val_loss: 272309.1875 - val_mae: 354.0828\n",
      "Epoch 29/100\n",
      "60/60 [==============================] - 0s 5ms/step - loss: 287126.0312 - mae: 374.6877 - val_loss: 253287.3125 - val_mae: 340.8086\n",
      "Epoch 30/100\n",
      "60/60 [==============================] - 0s 7ms/step - loss: 281274.6250 - mae: 368.6204 - val_loss: 253242.0781 - val_mae: 340.0151\n",
      "Epoch 31/100\n",
      "60/60 [==============================] - 0s 5ms/step - loss: 279439.8750 - mae: 369.4930 - val_loss: 236393.3281 - val_mae: 331.0670\n",
      "Epoch 32/100\n",
      "60/60 [==============================] - 0s 5ms/step - loss: 262860.3750 - mae: 357.9901 - val_loss: 216770.4375 - val_mae: 323.3258\n",
      "Epoch 33/100\n",
      "60/60 [==============================] - 0s 5ms/step - loss: 274411.3125 - mae: 364.2292 - val_loss: 246006.6562 - val_mae: 331.5580\n",
      "Epoch 34/100\n",
      "60/60 [==============================] - 0s 5ms/step - loss: 267790.2812 - mae: 359.7209 - val_loss: 241268.6562 - val_mae: 327.6649\n",
      "Epoch 35/100\n",
      "60/60 [==============================] - 0s 5ms/step - loss: 255511.6094 - mae: 352.5262 - val_loss: 203868.5156 - val_mae: 312.0035\n",
      "Epoch 36/100\n",
      "60/60 [==============================] - 0s 6ms/step - loss: 264858.6250 - mae: 353.9353 - val_loss: 224148.1250 - val_mae: 316.0689\n",
      "Epoch 37/100\n",
      "60/60 [==============================] - 0s 7ms/step - loss: 259767.2031 - mae: 351.5466 - val_loss: 191427.4844 - val_mae: 305.0659\n",
      "Epoch 38/100\n",
      "60/60 [==============================] - 0s 6ms/step - loss: 249555.5156 - mae: 342.2135 - val_loss: 206550.3125 - val_mae: 302.9478\n",
      "Epoch 39/100\n",
      "60/60 [==============================] - 0s 5ms/step - loss: 250570.8594 - mae: 349.1738 - val_loss: 214000.2500 - val_mae: 306.5492\n",
      "Epoch 40/100\n",
      "60/60 [==============================] - 0s 5ms/step - loss: 243965.7812 - mae: 337.0498 - val_loss: 174837.0938 - val_mae: 299.0384\n",
      "Epoch 41/100\n",
      "60/60 [==============================] - 0s 5ms/step - loss: 238172.7188 - mae: 339.1489 - val_loss: 180616.5625 - val_mae: 285.2106\n",
      "Epoch 42/100\n",
      "60/60 [==============================] - 0s 5ms/step - loss: 227401.6875 - mae: 327.0335 - val_loss: 171824.1562 - val_mae: 280.6876\n",
      "Epoch 43/100\n",
      "60/60 [==============================] - 0s 6ms/step - loss: 213483.6875 - mae: 319.7746 - val_loss: 223239.8906 - val_mae: 312.7885\n",
      "Epoch 44/100\n",
      "60/60 [==============================] - 0s 7ms/step - loss: 223391.6250 - mae: 324.6642 - val_loss: 155277.7656 - val_mae: 270.9860\n",
      "Epoch 45/100\n",
      "60/60 [==============================] - 0s 7ms/step - loss: 227428.7812 - mae: 328.8830 - val_loss: 164584.9062 - val_mae: 271.4738\n",
      "Epoch 46/100\n",
      "60/60 [==============================] - 0s 6ms/step - loss: 211193.8281 - mae: 315.8067 - val_loss: 163889.1875 - val_mae: 270.3566\n",
      "Epoch 47/100\n",
      "60/60 [==============================] - 0s 5ms/step - loss: 210928.6562 - mae: 314.2730 - val_loss: 137666.7656 - val_mae: 265.8817\n",
      "Epoch 48/100\n",
      "60/60 [==============================] - 0s 5ms/step - loss: 211925.3281 - mae: 316.9957 - val_loss: 134336.0156 - val_mae: 256.3083\n",
      "Epoch 49/100\n",
      "60/60 [==============================] - 0s 5ms/step - loss: 213845.2500 - mae: 317.1637 - val_loss: 166967.1719 - val_mae: 271.3371\n",
      "Epoch 50/100\n",
      "60/60 [==============================] - 0s 5ms/step - loss: 208434.5781 - mae: 312.1618 - val_loss: 135984.5312 - val_mae: 258.4096\n",
      "Epoch 51/100\n",
      "60/60 [==============================] - 0s 5ms/step - loss: 196473.9531 - mae: 304.7485 - val_loss: 136669.2969 - val_mae: 250.1386\n",
      "Epoch 52/100\n",
      "60/60 [==============================] - 0s 7ms/step - loss: 204411.4844 - mae: 308.6696 - val_loss: 144697.1875 - val_mae: 255.8149\n",
      "Epoch 53/100\n",
      "60/60 [==============================] - 0s 7ms/step - loss: 195120.9062 - mae: 302.8236 - val_loss: 117694.7422 - val_mae: 238.7059\n",
      "Epoch 54/100\n",
      "60/60 [==============================] - 0s 5ms/step - loss: 189795.7188 - mae: 297.3622 - val_loss: 115738.7188 - val_mae: 239.6905\n",
      "Epoch 55/100\n",
      "60/60 [==============================] - 0s 5ms/step - loss: 196059.6875 - mae: 303.4808 - val_loss: 118273.6641 - val_mae: 239.3799\n",
      "Epoch 56/100\n",
      "60/60 [==============================] - 0s 5ms/step - loss: 191433.8906 - mae: 297.9560 - val_loss: 119565.6953 - val_mae: 238.5209\n",
      "Epoch 57/100\n"
     ]
    },
    {
     "name": "stdout",
     "output_type": "stream",
     "text": [
      "60/60 [==============================] - 0s 5ms/step - loss: 188135.5469 - mae: 295.8886 - val_loss: 114555.2891 - val_mae: 230.1632\n",
      "Epoch 58/100\n",
      "60/60 [==============================] - 0s 5ms/step - loss: 187913.6719 - mae: 296.8964 - val_loss: 114009.8750 - val_mae: 238.1526\n",
      "Epoch 59/100\n",
      "60/60 [==============================] - 0s 6ms/step - loss: 177560.7188 - mae: 287.9519 - val_loss: 113866.7969 - val_mae: 228.7383\n",
      "Epoch 60/100\n",
      "60/60 [==============================] - 0s 7ms/step - loss: 187628.9219 - mae: 294.3420 - val_loss: 108140.3203 - val_mae: 227.8087\n",
      "Epoch 61/100\n",
      "60/60 [==============================] - 0s 5ms/step - loss: 188657.7188 - mae: 297.8353 - val_loss: 138861.1719 - val_mae: 248.5047\n",
      "Epoch 62/100\n",
      "60/60 [==============================] - 0s 5ms/step - loss: 189650.8281 - mae: 298.2858 - val_loss: 110881.4219 - val_mae: 232.7577\n",
      "Epoch 63/100\n",
      "60/60 [==============================] - 0s 5ms/step - loss: 178188.4531 - mae: 292.4773 - val_loss: 133821.0938 - val_mae: 244.5137\n",
      "Epoch 64/100\n",
      "60/60 [==============================] - 0s 5ms/step - loss: 174885.4844 - mae: 285.7492 - val_loss: 108054.3281 - val_mae: 226.0449\n",
      "Epoch 65/100\n",
      "60/60 [==============================] - 0s 5ms/step - loss: 178299.0938 - mae: 288.7617 - val_loss: 118917.6328 - val_mae: 232.0231\n",
      "Epoch 66/100\n",
      "60/60 [==============================] - 0s 6ms/step - loss: 177708.9219 - mae: 287.2526 - val_loss: 126136.0469 - val_mae: 236.0491\n",
      "Epoch 67/100\n",
      "60/60 [==============================] - 0s 8ms/step - loss: 184731.3438 - mae: 292.3636 - val_loss: 111781.4922 - val_mae: 222.6909\n",
      "Epoch 68/100\n",
      "60/60 [==============================] - 0s 6ms/step - loss: 174311.6250 - mae: 284.4153 - val_loss: 109631.3438 - val_mae: 222.6016\n",
      "Epoch 69/100\n",
      "60/60 [==============================] - 0s 5ms/step - loss: 180469.7188 - mae: 288.9395 - val_loss: 109464.2109 - val_mae: 222.6520\n",
      "Epoch 70/100\n",
      "60/60 [==============================] - 0s 5ms/step - loss: 181449.4688 - mae: 287.2286 - val_loss: 106600.6953 - val_mae: 219.8289\n",
      "Epoch 71/100\n",
      "60/60 [==============================] - 0s 6ms/step - loss: 176430.7188 - mae: 286.0962 - val_loss: 165016.5469 - val_mae: 275.2447\n",
      "Epoch 72/100\n",
      "60/60 [==============================] - 0s 5ms/step - loss: 173249.8438 - mae: 282.2262 - val_loss: 106640.7656 - val_mae: 218.4618\n",
      "Epoch 73/100\n",
      "60/60 [==============================] - 0s 6ms/step - loss: 175851.8125 - mae: 282.8808 - val_loss: 139128.6875 - val_mae: 253.5275\n",
      "Epoch 74/100\n",
      "60/60 [==============================] - 0s 8ms/step - loss: 174900.0625 - mae: 283.1431 - val_loss: 99368.4531 - val_mae: 212.5080\n",
      "Epoch 75/100\n",
      "60/60 [==============================] - 0s 6ms/step - loss: 173857.6406 - mae: 284.3444 - val_loss: 99657.0391 - val_mae: 213.3456\n",
      "Epoch 76/100\n",
      "60/60 [==============================] - 0s 6ms/step - loss: 172626.9531 - mae: 280.7901 - val_loss: 116336.0234 - val_mae: 228.1628\n",
      "Epoch 77/100\n",
      "60/60 [==============================] - 0s 6ms/step - loss: 169987.6875 - mae: 279.5531 - val_loss: 93455.9141 - val_mae: 211.6779\n",
      "Epoch 78/100\n",
      "60/60 [==============================] - 0s 5ms/step - loss: 169526.3594 - mae: 277.8271 - val_loss: 95763.1875 - val_mae: 209.9079\n",
      "Epoch 79/100\n",
      "60/60 [==============================] - 0s 6ms/step - loss: 174365.3281 - mae: 280.3500 - val_loss: 97546.7109 - val_mae: 207.8076\n",
      "Epoch 80/100\n",
      "60/60 [==============================] - 0s 6ms/step - loss: 171966.2344 - mae: 283.7336 - val_loss: 99774.9297 - val_mae: 212.6438\n",
      "Epoch 81/100\n",
      "60/60 [==============================] - 0s 5ms/step - loss: 167265.4062 - mae: 275.7662 - val_loss: 94886.1641 - val_mae: 205.6555\n",
      "Epoch 82/100\n",
      "60/60 [==============================] - 0s 5ms/step - loss: 173012.5625 - mae: 280.7720 - val_loss: 96562.8438 - val_mae: 212.5594\n",
      "Epoch 83/100\n",
      "60/60 [==============================] - 0s 5ms/step - loss: 170393.4219 - mae: 279.8124 - val_loss: 101823.7188 - val_mae: 211.6065\n",
      "Epoch 84/100\n",
      "60/60 [==============================] - 0s 5ms/step - loss: 162767.3125 - mae: 273.1815 - val_loss: 114460.4609 - val_mae: 226.4030\n",
      "Epoch 85/100\n",
      "60/60 [==============================] - 0s 6ms/step - loss: 165623.4375 - mae: 275.4188 - val_loss: 92218.2344 - val_mae: 207.1397\n",
      "Epoch 86/100\n",
      "60/60 [==============================] - 0s 6ms/step - loss: 169955.1250 - mae: 278.6421 - val_loss: 90088.0781 - val_mae: 202.5052\n",
      "Epoch 87/100\n",
      "60/60 [==============================] - 0s 7ms/step - loss: 165180.8125 - mae: 276.4537 - val_loss: 128602.4062 - val_mae: 237.9888\n",
      "Epoch 88/100\n",
      "60/60 [==============================] - 0s 5ms/step - loss: 174034.2031 - mae: 279.1493 - val_loss: 122666.8438 - val_mae: 237.5125\n",
      "Epoch 89/100\n",
      "60/60 [==============================] - 0s 6ms/step - loss: 162978.2344 - mae: 274.4441 - val_loss: 99132.3359 - val_mae: 208.5366\n",
      "Epoch 90/100\n",
      "60/60 [==============================] - 0s 5ms/step - loss: 163115.5156 - mae: 272.7293 - val_loss: 133212.1250 - val_mae: 247.2471\n",
      "Epoch 91/100\n",
      "60/60 [==============================] - 0s 5ms/step - loss: 165063.3281 - mae: 274.2383 - val_loss: 100574.6484 - val_mae: 210.9516\n",
      "Epoch 92/100\n",
      "60/60 [==============================] - 0s 5ms/step - loss: 164650.1094 - mae: 270.9770 - val_loss: 106232.6562 - val_mae: 216.7385\n",
      "Epoch 93/100\n",
      "60/60 [==============================] - 0s 5ms/step - loss: 166020.4062 - mae: 273.1635 - val_loss: 136494.2812 - val_mae: 252.3466\n",
      "Epoch 94/100\n",
      "60/60 [==============================] - 0s 5ms/step - loss: 164321.1562 - mae: 274.8131 - val_loss: 90511.6094 - val_mae: 201.2827\n",
      "Epoch 95/100\n",
      "60/60 [==============================] - 0s 5ms/step - loss: 168710.3125 - mae: 275.9843 - val_loss: 90994.3594 - val_mae: 211.2609\n",
      "Epoch 96/100\n",
      "60/60 [==============================] - 0s 5ms/step - loss: 160357.3906 - mae: 270.0497 - val_loss: 104835.2578 - val_mae: 216.1455\n",
      "Epoch 97/100\n",
      "60/60 [==============================] - 0s 6ms/step - loss: 154587.2188 - mae: 265.7379 - val_loss: 97893.9844 - val_mae: 208.8232\n",
      "Epoch 98/100\n",
      "60/60 [==============================] - 0s 8ms/step - loss: 164254.4375 - mae: 271.7665 - val_loss: 97642.8594 - val_mae: 206.1920\n",
      "Epoch 99/100\n",
      "60/60 [==============================] - 0s 5ms/step - loss: 160748.4844 - mae: 269.1137 - val_loss: 132941.4688 - val_mae: 244.5349\n",
      "Epoch 100/100\n",
      "60/60 [==============================] - 0s 5ms/step - loss: 166137.1250 - mae: 272.5725 - val_loss: 128929.3516 - val_mae: 244.7588\n",
      "80/80 [==============================] - 0s 2ms/step - loss: 128911.2578 - mae: 244.7422\n"
     ]
    },
    {
     "data": {
      "text/plain": [
       "[128911.2578125, 244.74220275878906]"
      ]
     },
     "execution_count": 45,
     "metadata": {},
     "output_type": "execute_result"
    }
   ],
   "source": [
    "tensorboard_callback = tf.keras.callbacks.TensorBoard(log_dir=\"./logs\")\n",
    "history = model.fit(X_train, y_train, epochs=num_epochs, validation_data=(\n",
    "    X_test, y_test), batch_size=100, verbose=True, callbacks=[tensorboard_callback])\n",
    "model.evaluate(X_test, y_test)"
   ]
  },
  {
   "cell_type": "code",
   "execution_count": 46,
   "id": "379988a1",
   "metadata": {},
   "outputs": [
    {
     "data": {
      "image/png": "[encoded data removed]",
      "text/plain": [
       "<Figure size 432x288 with 1 Axes>"
      ]
     },
     "metadata": {
      "needs_background": "light"
     },
     "output_type": "display_data"
    }
   ],
   "source": [
    "loss = history.history['loss']\n",
    "val_loss = history.history['val_loss']\n",
    "\n",
    "epochs = range(1, len(loss) + 1)\n",
    "\n",
    "plt.plot(epochs, loss, 'bo', label='Training loss')\n",
    "plt.plot(epochs, val_loss, 'b', label='Validation loss')\n",
    "plt.title('Training and validation loss for model 12')\n",
    "plt.xlabel('Epochs')\n",
    "plt.ylabel('Loss')\n",
    "plt.legend()\n",
    "\n",
    "plt.savefig('images/model13.png', dpi=1200, bbox_inches=\"tight\")\n",
    "\n",
    "plt.show()"
   ]
  },
  {
   "cell_type": "markdown",
   "id": "e54afc8a",
   "metadata": {},
   "source": [
    "## Model 14 (Back to Model 12)"
   ]
  },
  {
   "cell_type": "code",
   "execution_count": 47,
   "id": "67cf8cbd",
   "metadata": {},
   "outputs": [
    {
     "name": "stdout",
     "output_type": "stream",
     "text": [
      "Model: \"sequential_13\"\n",
      "_________________________________________________________________\n",
      " Layer (type)                Output Shape              Param #   \n",
      "=================================================================\n",
      " dense_59 (Dense)            (None, 64)                2304      \n",
      "                                                                 \n",
      " dropout_46 (Dropout)        (None, 64)                0         \n",
      "                                                                 \n",
      " dense_60 (Dense)            (None, 32)                2080      \n",
      "                                                                 \n",
      " dropout_47 (Dropout)        (None, 32)                0         \n",
      "                                                                 \n",
      " dense_61 (Dense)            (None, 16)                528       \n",
      "                                                                 \n",
      " dropout_48 (Dropout)        (None, 16)                0         \n",
      "                                                                 \n",
      " dense_62 (Dense)            (None, 8)                 136       \n",
      "                                                                 \n",
      " dropout_49 (Dropout)        (None, 8)                 0         \n",
      "                                                                 \n",
      " dense_63 (Dense)            (None, 1)                 9         \n",
      "                                                                 \n",
      "=================================================================\n",
      "Total params: 5,057\n",
      "Trainable params: 5,057\n",
      "Non-trainable params: 0\n",
      "_________________________________________________________________\n"
     ]
    }
   ],
   "source": [
    "model = models.Sequential()\n",
    "model.add(layers.Dense(64, input_shape=(X_train.shape[1],), kernel_regularizer='l1_l2'))\n",
    "model.add(layers.Dropout(0.2, seed=22))\n",
    "model.add(layers.Dense(32, activation='relu', kernel_regularizer='l1_l2'))\n",
    "model.add(layers.Dropout(0.2, seed=22))\n",
    "model.add(layers.Dense(16, activation='relu', kernel_regularizer='l1_l2'))\n",
    "model.add(layers.Dropout(0.2, seed=22))\n",
    "model.add(layers.Dense(8, activation='relu', kernel_regularizer='l1_l2'))\n",
    "model.add(layers.Dropout(0.2, seed=22))\n",
    "model.add(layers.Dense(1))\n",
    "model.summary()\n",
    "model.compile(optimizer='adam', loss='mse', metrics=['mae'])"
   ]
  },
  {
   "cell_type": "code",
   "execution_count": 48,
   "id": "afe585cc",
   "metadata": {},
   "outputs": [
    {
     "name": "stdout",
     "output_type": "stream",
     "text": [
      "Epoch 1/100\n",
      "198/198 [==============================] - 2s 8ms/step - loss: 606185.2500 - mae: 578.3929 - val_loss: 462978.4688 - val_mae: 492.7571\n",
      "Epoch 2/100\n",
      "198/198 [==============================] - 1s 6ms/step - loss: 474589.0312 - mae: 509.6453 - val_loss: 411221.2812 - val_mae: 465.8006\n",
      "Epoch 3/100\n",
      "198/198 [==============================] - 1s 7ms/step - loss: 428724.5938 - mae: 485.6826 - val_loss: 352558.3438 - val_mae: 422.9554\n",
      "Epoch 4/100\n",
      "198/198 [==============================] - 1s 7ms/step - loss: 399547.4688 - mae: 464.9831 - val_loss: 310618.7188 - val_mae: 404.6029\n",
      "Epoch 5/100\n",
      "198/198 [==============================] - 1s 7ms/step - loss: 372022.7500 - mae: 441.9196 - val_loss: 301471.6562 - val_mae: 388.5638\n",
      "Epoch 6/100\n",
      "198/198 [==============================] - 1s 6ms/step - loss: 361594.5625 - mae: 428.9716 - val_loss: 315581.8438 - val_mae: 389.7782\n",
      "Epoch 7/100\n",
      "198/198 [==============================] - 1s 7ms/step - loss: 361172.2500 - mae: 430.7903 - val_loss: 307846.1250 - val_mae: 384.2762\n",
      "Epoch 8/100\n",
      "198/198 [==============================] - 1s 6ms/step - loss: 353586.3438 - mae: 424.2058 - val_loss: 285521.6250 - val_mae: 375.6468\n",
      "Epoch 9/100\n",
      "198/198 [==============================] - 1s 7ms/step - loss: 340581.3750 - mae: 414.7525 - val_loss: 285682.2812 - val_mae: 370.7101\n",
      "Epoch 10/100\n",
      "198/198 [==============================] - 1s 7ms/step - loss: 336064.5625 - mae: 410.4356 - val_loss: 289161.9062 - val_mae: 368.8667\n",
      "Epoch 11/100\n",
      "198/198 [==============================] - 1s 7ms/step - loss: 326009.1562 - mae: 402.1962 - val_loss: 271124.7500 - val_mae: 359.2599\n",
      "Epoch 12/100\n",
      "198/198 [==============================] - 1s 7ms/step - loss: 321512.3438 - mae: 398.4253 - val_loss: 264969.8750 - val_mae: 354.4443\n",
      "Epoch 13/100\n",
      "198/198 [==============================] - 1s 6ms/step - loss: 314103.8438 - mae: 391.4642 - val_loss: 267024.9688 - val_mae: 353.1039\n",
      "Epoch 14/100\n",
      "198/198 [==============================] - 1s 7ms/step - loss: 312747.4062 - mae: 388.1224 - val_loss: 239587.7344 - val_mae: 338.2316\n",
      "Epoch 15/100\n",
      "198/198 [==============================] - 1s 6ms/step - loss: 293610.2812 - mae: 378.6981 - val_loss: 235164.1406 - val_mae: 332.3275\n",
      "Epoch 16/100\n",
      "198/198 [==============================] - 1s 7ms/step - loss: 294741.1250 - mae: 375.7782 - val_loss: 221441.1094 - val_mae: 325.7538\n",
      "Epoch 17/100\n",
      "198/198 [==============================] - 1s 6ms/step - loss: 281732.2812 - mae: 367.4659 - val_loss: 216524.7500 - val_mae: 318.1923\n",
      "Epoch 18/100\n",
      "198/198 [==============================] - 1s 7ms/step - loss: 281032.7500 - mae: 366.5052 - val_loss: 206824.2344 - val_mae: 311.2839\n",
      "Epoch 19/100\n",
      "198/198 [==============================] - 1s 7ms/step - loss: 273375.3438 - mae: 361.8713 - val_loss: 194449.8594 - val_mae: 302.1873\n",
      "Epoch 20/100\n",
      "198/198 [==============================] - 1s 6ms/step - loss: 265207.2812 - mae: 350.3343 - val_loss: 198499.8750 - val_mae: 298.0598\n",
      "Epoch 21/100\n",
      "198/198 [==============================] - 1s 7ms/step - loss: 254390.3281 - mae: 345.6138 - val_loss: 175957.0469 - val_mae: 287.4197\n",
      "Epoch 22/100\n",
      "198/198 [==============================] - 1s 6ms/step - loss: 247251.3750 - mae: 343.8024 - val_loss: 196757.9062 - val_mae: 294.5784\n",
      "Epoch 23/100\n",
      "198/198 [==============================] - 1s 7ms/step - loss: 248666.0000 - mae: 340.7457 - val_loss: 231765.1719 - val_mae: 320.1187\n",
      "Epoch 24/100\n",
      "198/198 [==============================] - 1s 6ms/step - loss: 229161.1562 - mae: 328.6318 - val_loss: 146329.9531 - val_mae: 271.6355\n",
      "Epoch 25/100\n",
      "198/198 [==============================] - 1s 6ms/step - loss: 238669.2344 - mae: 333.7274 - val_loss: 145554.5625 - val_mae: 261.2270\n",
      "Epoch 26/100\n",
      "198/198 [==============================] - 1s 7ms/step - loss: 224519.6719 - mae: 323.2285 - val_loss: 189517.8438 - val_mae: 291.0914\n",
      "Epoch 27/100\n",
      "198/198 [==============================] - 1s 7ms/step - loss: 225415.0625 - mae: 323.6296 - val_loss: 133992.4844 - val_mae: 257.3330\n",
      "Epoch 28/100\n",
      "198/198 [==============================] - 1s 7ms/step - loss: 225612.7812 - mae: 321.1068 - val_loss: 156113.9844 - val_mae: 263.8995\n",
      "Epoch 29/100\n",
      "198/198 [==============================] - 1s 6ms/step - loss: 221362.7500 - mae: 321.6028 - val_loss: 176645.3281 - val_mae: 281.6927\n",
      "Epoch 30/100\n",
      "198/198 [==============================] - 1s 6ms/step - loss: 224826.8281 - mae: 325.3227 - val_loss: 187743.6094 - val_mae: 290.2733\n",
      "Epoch 31/100\n",
      "198/198 [==============================] - 1s 7ms/step - loss: 218029.8281 - mae: 318.2420 - val_loss: 143401.7969 - val_mae: 257.3148\n",
      "Epoch 32/100\n",
      "198/198 [==============================] - 1s 6ms/step - loss: 216023.6875 - mae: 317.6329 - val_loss: 129859.6172 - val_mae: 243.8266\n",
      "Epoch 33/100\n",
      "198/198 [==============================] - 1s 6ms/step - loss: 210436.0469 - mae: 312.3003 - val_loss: 127679.3594 - val_mae: 241.4975\n",
      "Epoch 34/100\n",
      "198/198 [==============================] - 1s 6ms/step - loss: 220898.8750 - mae: 318.8092 - val_loss: 149838.7969 - val_mae: 260.4173\n",
      "Epoch 35/100\n",
      "198/198 [==============================] - 1s 7ms/step - loss: 218304.5938 - mae: 313.0603 - val_loss: 132369.4531 - val_mae: 242.4248\n",
      "Epoch 36/100\n",
      "198/198 [==============================] - 1s 7ms/step - loss: 206500.3125 - mae: 307.0057 - val_loss: 147836.6250 - val_mae: 257.2757\n",
      "Epoch 37/100\n",
      "198/198 [==============================] - 1s 6ms/step - loss: 203287.9531 - mae: 304.0466 - val_loss: 130439.6484 - val_mae: 240.0876\n",
      "Epoch 38/100\n",
      "198/198 [==============================] - 1s 7ms/step - loss: 208322.1562 - mae: 308.8374 - val_loss: 105446.9922 - val_mae: 223.2064\n",
      "Epoch 39/100\n",
      "198/198 [==============================] - 1s 6ms/step - loss: 209199.3281 - mae: 308.9721 - val_loss: 120018.5078 - val_mae: 232.8259\n",
      "Epoch 40/100\n",
      "198/198 [==============================] - 1s 7ms/step - loss: 202937.1250 - mae: 304.8416 - val_loss: 106561.1328 - val_mae: 221.1481\n",
      "Epoch 41/100\n",
      "198/198 [==============================] - 1s 6ms/step - loss: 201057.1719 - mae: 307.8452 - val_loss: 115859.6172 - val_mae: 225.8745\n",
      "Epoch 42/100\n",
      "198/198 [==============================] - 1s 6ms/step - loss: 206707.4531 - mae: 307.5375 - val_loss: 105984.4141 - val_mae: 220.8839\n",
      "Epoch 43/100\n",
      "198/198 [==============================] - 1s 6ms/step - loss: 194550.9062 - mae: 295.5727 - val_loss: 104576.6875 - val_mae: 217.2882\n",
      "Epoch 44/100\n",
      "198/198 [==============================] - 1s 6ms/step - loss: 186888.7031 - mae: 290.1770 - val_loss: 157666.0469 - val_mae: 266.4033\n",
      "Epoch 45/100\n",
      "198/198 [==============================] - 1s 7ms/step - loss: 209213.2812 - mae: 306.6556 - val_loss: 107855.1797 - val_mae: 229.5728\n",
      "Epoch 46/100\n",
      "198/198 [==============================] - 1s 6ms/step - loss: 196965.4062 - mae: 296.4095 - val_loss: 114557.7422 - val_mae: 225.1259\n",
      "Epoch 47/100\n",
      "198/198 [==============================] - 1s 6ms/step - loss: 191924.4688 - mae: 295.7809 - val_loss: 126962.3828 - val_mae: 237.8585\n",
      "Epoch 48/100\n",
      "198/198 [==============================] - 1s 6ms/step - loss: 195834.2969 - mae: 297.1984 - val_loss: 98252.3594 - val_mae: 209.1736\n",
      "Epoch 49/100\n",
      "198/198 [==============================] - 1s 6ms/step - loss: 198881.7188 - mae: 299.1143 - val_loss: 98362.7500 - val_mae: 207.4515\n",
      "Epoch 50/100\n",
      "198/198 [==============================] - 1s 6ms/step - loss: 190302.0469 - mae: 294.6091 - val_loss: 143641.5781 - val_mae: 256.3087\n",
      "Epoch 51/100\n",
      "198/198 [==============================] - 1s 6ms/step - loss: 197417.5938 - mae: 298.7192 - val_loss: 99753.2422 - val_mae: 212.4340\n",
      "Epoch 52/100\n",
      "198/198 [==============================] - 1s 7ms/step - loss: 193127.3750 - mae: 293.2820 - val_loss: 105494.0703 - val_mae: 217.6276\n",
      "Epoch 53/100\n",
      "198/198 [==============================] - 1s 6ms/step - loss: 195848.1719 - mae: 298.5433 - val_loss: 120701.7969 - val_mae: 227.7373\n",
      "Epoch 54/100\n",
      "198/198 [==============================] - 1s 6ms/step - loss: 193396.0312 - mae: 296.3272 - val_loss: 95039.1094 - val_mae: 204.4011\n",
      "Epoch 55/100\n",
      "198/198 [==============================] - 1s 6ms/step - loss: 199585.0938 - mae: 298.2650 - val_loss: 125193.5859 - val_mae: 232.5110\n",
      "Epoch 56/100\n"
     ]
    },
    {
     "name": "stdout",
     "output_type": "stream",
     "text": [
      "198/198 [==============================] - 1s 7ms/step - loss: 198409.7656 - mae: 295.0941 - val_loss: 98879.4766 - val_mae: 207.4694\n",
      "Epoch 57/100\n",
      "198/198 [==============================] - 1s 7ms/step - loss: 190789.4531 - mae: 291.7395 - val_loss: 107862.4375 - val_mae: 218.2866\n",
      "Epoch 58/100\n",
      "198/198 [==============================] - 1s 6ms/step - loss: 189825.7969 - mae: 292.5332 - val_loss: 94413.6094 - val_mae: 214.1235\n",
      "Epoch 59/100\n",
      "198/198 [==============================] - 1s 7ms/step - loss: 204602.5312 - mae: 300.6315 - val_loss: 119499.7812 - val_mae: 228.8236\n",
      "Epoch 60/100\n",
      "198/198 [==============================] - 1s 6ms/step - loss: 190653.1562 - mae: 293.1837 - val_loss: 102858.2266 - val_mae: 212.0028\n",
      "Epoch 61/100\n",
      "198/198 [==============================] - 2s 9ms/step - loss: 192179.1719 - mae: 294.4177 - val_loss: 112920.3281 - val_mae: 222.1171\n",
      "Epoch 62/100\n",
      "198/198 [==============================] - 1s 7ms/step - loss: 186689.3281 - mae: 288.9983 - val_loss: 105630.5469 - val_mae: 222.9405\n",
      "Epoch 63/100\n",
      "198/198 [==============================] - 1s 6ms/step - loss: 188261.8594 - mae: 289.9395 - val_loss: 93142.0078 - val_mae: 202.6170\n",
      "Epoch 64/100\n",
      "198/198 [==============================] - 1s 8ms/step - loss: 197014.9844 - mae: 297.9805 - val_loss: 100657.0391 - val_mae: 207.9734\n",
      "Epoch 65/100\n",
      "198/198 [==============================] - 1s 6ms/step - loss: 194392.5938 - mae: 290.9811 - val_loss: 118181.9844 - val_mae: 227.6524\n",
      "Epoch 66/100\n",
      "198/198 [==============================] - 1s 7ms/step - loss: 183088.0000 - mae: 284.8176 - val_loss: 111992.6172 - val_mae: 222.5156\n",
      "Epoch 67/100\n",
      "198/198 [==============================] - 1s 7ms/step - loss: 183092.0625 - mae: 286.7251 - val_loss: 88054.1328 - val_mae: 199.9507\n",
      "Epoch 68/100\n",
      "198/198 [==============================] - 2s 8ms/step - loss: 191300.9531 - mae: 295.7759 - val_loss: 90932.8594 - val_mae: 198.0051\n",
      "Epoch 69/100\n",
      "198/198 [==============================] - 1s 7ms/step - loss: 192861.0469 - mae: 291.2106 - val_loss: 94980.5156 - val_mae: 200.9915\n",
      "Epoch 70/100\n",
      "198/198 [==============================] - 1s 6ms/step - loss: 182010.9375 - mae: 284.4697 - val_loss: 101791.5625 - val_mae: 212.0493\n",
      "Epoch 71/100\n",
      "198/198 [==============================] - 1s 7ms/step - loss: 191146.1094 - mae: 291.0687 - val_loss: 96404.7656 - val_mae: 206.0566\n",
      "Epoch 72/100\n",
      "198/198 [==============================] - 1s 7ms/step - loss: 189061.4688 - mae: 288.4384 - val_loss: 91826.0000 - val_mae: 212.1422\n",
      "Epoch 73/100\n",
      "198/198 [==============================] - 1s 6ms/step - loss: 193074.1562 - mae: 296.8152 - val_loss: 132436.1250 - val_mae: 240.3392\n",
      "Epoch 74/100\n",
      "198/198 [==============================] - 1s 7ms/step - loss: 182216.3750 - mae: 284.6887 - val_loss: 93605.7812 - val_mae: 200.4008\n",
      "Epoch 75/100\n",
      "198/198 [==============================] - 1s 6ms/step - loss: 186972.8281 - mae: 288.4216 - val_loss: 127861.0625 - val_mae: 241.5629\n",
      "Epoch 76/100\n",
      "198/198 [==============================] - 1s 7ms/step - loss: 180379.3438 - mae: 283.5053 - val_loss: 104676.8203 - val_mae: 215.4414\n",
      "Epoch 77/100\n",
      "198/198 [==============================] - 1s 6ms/step - loss: 182600.8906 - mae: 283.9153 - val_loss: 117169.1250 - val_mae: 234.5546\n",
      "Epoch 78/100\n",
      "198/198 [==============================] - 1s 7ms/step - loss: 189018.8906 - mae: 288.9443 - val_loss: 93977.7969 - val_mae: 202.7574\n",
      "Epoch 79/100\n",
      "198/198 [==============================] - 1s 7ms/step - loss: 189635.7031 - mae: 289.2899 - val_loss: 125490.0547 - val_mae: 237.4516\n",
      "Epoch 80/100\n",
      "198/198 [==============================] - 1s 7ms/step - loss: 194096.3750 - mae: 292.8760 - val_loss: 130987.5391 - val_mae: 242.7516\n",
      "Epoch 81/100\n",
      "198/198 [==============================] - 1s 6ms/step - loss: 176672.6250 - mae: 283.2060 - val_loss: 123960.4062 - val_mae: 238.8624\n",
      "Epoch 82/100\n",
      "198/198 [==============================] - 1s 7ms/step - loss: 184416.2031 - mae: 285.5216 - val_loss: 117112.3281 - val_mae: 226.6817\n",
      "Epoch 83/100\n",
      "198/198 [==============================] - 1s 6ms/step - loss: 188293.6875 - mae: 288.5398 - val_loss: 210973.7031 - val_mae: 316.4870\n",
      "Epoch 84/100\n",
      "198/198 [==============================] - 1s 6ms/step - loss: 180591.2188 - mae: 284.0553 - val_loss: 83791.4453 - val_mae: 189.3553\n",
      "Epoch 85/100\n",
      "198/198 [==============================] - 2s 8ms/step - loss: 187049.6562 - mae: 287.2671 - val_loss: 82551.3359 - val_mae: 188.9048\n",
      "Epoch 86/100\n",
      "198/198 [==============================] - 1s 7ms/step - loss: 187763.9219 - mae: 286.8704 - val_loss: 86040.7734 - val_mae: 193.0978\n",
      "Epoch 87/100\n",
      "198/198 [==============================] - 2s 8ms/step - loss: 172075.9219 - mae: 276.8968 - val_loss: 87620.2891 - val_mae: 192.1035\n",
      "Epoch 88/100\n",
      "198/198 [==============================] - 2s 8ms/step - loss: 190706.5156 - mae: 291.2150 - val_loss: 120990.5781 - val_mae: 226.6487\n",
      "Epoch 89/100\n",
      "198/198 [==============================] - 1s 7ms/step - loss: 173478.6094 - mae: 276.2023 - val_loss: 122306.6953 - val_mae: 232.5600\n",
      "Epoch 90/100\n",
      "198/198 [==============================] - 1s 6ms/step - loss: 185556.9688 - mae: 285.2418 - val_loss: 136087.9375 - val_mae: 244.9396\n",
      "Epoch 91/100\n",
      "198/198 [==============================] - 1s 7ms/step - loss: 182859.1406 - mae: 283.8893 - val_loss: 100938.1094 - val_mae: 212.2893\n",
      "Epoch 92/100\n",
      "198/198 [==============================] - 1s 6ms/step - loss: 176435.5312 - mae: 277.7554 - val_loss: 84091.7578 - val_mae: 193.5388\n",
      "Epoch 93/100\n",
      "198/198 [==============================] - 1s 7ms/step - loss: 192329.5312 - mae: 290.2027 - val_loss: 89554.0234 - val_mae: 198.8541\n",
      "Epoch 94/100\n",
      "198/198 [==============================] - 1s 7ms/step - loss: 187114.5000 - mae: 287.3433 - val_loss: 93084.9688 - val_mae: 200.4934\n",
      "Epoch 95/100\n",
      "198/198 [==============================] - 1s 7ms/step - loss: 182953.4375 - mae: 283.9396 - val_loss: 108634.4453 - val_mae: 216.3982\n",
      "Epoch 96/100\n",
      "198/198 [==============================] - 1s 7ms/step - loss: 176948.6875 - mae: 280.7233 - val_loss: 86416.8672 - val_mae: 193.5191\n",
      "Epoch 97/100\n",
      "198/198 [==============================] - 1s 6ms/step - loss: 186827.0312 - mae: 285.5381 - val_loss: 102500.4375 - val_mae: 209.5079\n",
      "Epoch 98/100\n",
      "198/198 [==============================] - 1s 7ms/step - loss: 178339.8750 - mae: 279.1762 - val_loss: 136477.6875 - val_mae: 247.4910\n",
      "Epoch 99/100\n",
      "198/198 [==============================] - 1s 7ms/step - loss: 181567.8594 - mae: 283.8850 - val_loss: 126078.2578 - val_mae: 245.5923\n",
      "Epoch 100/100\n",
      "198/198 [==============================] - 1s 7ms/step - loss: 184541.8594 - mae: 285.5264 - val_loss: 81229.8047 - val_mae: 188.3809\n",
      "80/80 [==============================] - 0s 3ms/step - loss: 81229.8438 - mae: 188.3810\n"
     ]
    },
    {
     "data": {
      "text/plain": [
       "[81229.84375, 188.3810272216797]"
      ]
     },
     "execution_count": 48,
     "metadata": {},
     "output_type": "execute_result"
    }
   ],
   "source": [
    "tensorboard_callback = tf.keras.callbacks.TensorBoard(log_dir=\"./logs\")\n",
    "history = model.fit(X_train, y_train, epochs=num_epochs, validation_data=(\n",
    "    X_test, y_test), batch_size=30, verbose=True, callbacks=[tensorboard_callback])\n",
    "model.evaluate(X_test, y_test)"
   ]
  },
  {
   "cell_type": "code",
   "execution_count": 49,
   "id": "5da63431",
   "metadata": {},
   "outputs": [
    {
     "data": {
      "image/png": "[encoded data removed]",
      "text/plain": [
       "<Figure size 432x288 with 1 Axes>"
      ]
     },
     "metadata": {
      "needs_background": "light"
     },
     "output_type": "display_data"
    }
   ],
   "source": [
    "loss = history.history['loss']\n",
    "val_loss = history.history['val_loss']\n",
    "\n",
    "epochs = range(1, len(loss) + 1)\n",
    "\n",
    "plt.plot(epochs, loss, 'bo', label='Training loss')\n",
    "plt.plot(epochs, val_loss, 'b', label='Validation loss')\n",
    "plt.title('Training and validation loss for model 13')\n",
    "plt.xlabel('Epochs')\n",
    "plt.ylabel('Loss')\n",
    "plt.legend()\n",
    "\n",
    "plt.savefig('images/model14.png', dpi=1200, bbox_inches=\"tight\")\n",
    "\n",
    "plt.show()"
   ]
  },
  {
   "cell_type": "markdown",
   "id": "be0e9911",
   "metadata": {},
   "source": [
    "## Model 15 (Reset to Model 12)"
   ]
  },
  {
   "cell_type": "code",
   "execution_count": 50,
   "id": "0aae3fef",
   "metadata": {},
   "outputs": [
    {
     "name": "stdout",
     "output_type": "stream",
     "text": [
      "Model: \"sequential_14\"\n",
      "_________________________________________________________________\n",
      " Layer (type)                Output Shape              Param #   \n",
      "=================================================================\n",
      " dense_64 (Dense)            (None, 64)                2304      \n",
      "                                                                 \n",
      " dropout_50 (Dropout)        (None, 64)                0         \n",
      "                                                                 \n",
      " dense_65 (Dense)            (None, 32)                2080      \n",
      "                                                                 \n",
      " dropout_51 (Dropout)        (None, 32)                0         \n",
      "                                                                 \n",
      " dense_66 (Dense)            (None, 16)                528       \n",
      "                                                                 \n",
      " dropout_52 (Dropout)        (None, 16)                0         \n",
      "                                                                 \n",
      " dense_67 (Dense)            (None, 8)                 136       \n",
      "                                                                 \n",
      " dropout_53 (Dropout)        (None, 8)                 0         \n",
      "                                                                 \n",
      " dense_68 (Dense)            (None, 1)                 9         \n",
      "                                                                 \n",
      "=================================================================\n",
      "Total params: 5,057\n",
      "Trainable params: 5,057\n",
      "Non-trainable params: 0\n",
      "_________________________________________________________________\n"
     ]
    }
   ],
   "source": [
    "model = models.Sequential()\n",
    "model.add(layers.Dense(64, input_shape=(X_train.shape[1],)))\n",
    "model.add(layers.Dropout(0.2, seed=22))\n",
    "model.add(layers.Dense(32, activation='relu'))\n",
    "model.add(layers.Dropout(0.2, seed=22))\n",
    "model.add(layers.Dense(16, activation='relu'))\n",
    "model.add(layers.Dropout(0.2, seed=22))\n",
    "model.add(layers.Dense(8, activation='relu'))\n",
    "model.add(layers.Dropout(0.2, seed=22))\n",
    "model.add(layers.Dense(1))\n",
    "model.summary()\n",
    "model.compile(optimizer='adam', loss='mse', metrics=['mae'])"
   ]
  },
  {
   "cell_type": "code",
   "execution_count": 51,
   "id": "a7fbe334",
   "metadata": {},
   "outputs": [
    {
     "name": "stdout",
     "output_type": "stream",
     "text": [
      "Epoch 1/100\n",
      "149/149 [==============================] - 2s 7ms/step - loss: 527465.6875 - mae: 540.6633 - val_loss: 459236.6250 - val_mae: 492.7249\n",
      "Epoch 2/100\n",
      "149/149 [==============================] - 1s 9ms/step - loss: 472589.0938 - mae: 515.5250 - val_loss: 428354.9688 - val_mae: 476.1784\n",
      "Epoch 3/100\n",
      "149/149 [==============================] - 1s 6ms/step - loss: 437609.0312 - mae: 498.0625 - val_loss: 383228.4062 - val_mae: 443.7376\n",
      "Epoch 4/100\n",
      "149/149 [==============================] - 1s 6ms/step - loss: 391227.3125 - mae: 466.8452 - val_loss: 379566.8438 - val_mae: 427.5253\n",
      "Epoch 5/100\n",
      "149/149 [==============================] - 1s 5ms/step - loss: 368600.5000 - mae: 447.7231 - val_loss: 320202.5625 - val_mae: 399.5886\n",
      "Epoch 6/100\n",
      "149/149 [==============================] - 1s 5ms/step - loss: 353797.4688 - mae: 435.7429 - val_loss: 297158.2188 - val_mae: 394.2704\n",
      "Epoch 7/100\n",
      "149/149 [==============================] - 1s 5ms/step - loss: 349115.0938 - mae: 428.3988 - val_loss: 297298.4375 - val_mae: 385.6808\n",
      "Epoch 8/100\n",
      "149/149 [==============================] - 1s 5ms/step - loss: 340266.4375 - mae: 422.7007 - val_loss: 299569.2500 - val_mae: 384.6197\n",
      "Epoch 9/100\n",
      "149/149 [==============================] - 1s 5ms/step - loss: 336004.8438 - mae: 415.2544 - val_loss: 287821.0625 - val_mae: 379.2903\n",
      "Epoch 10/100\n",
      "149/149 [==============================] - 1s 5ms/step - loss: 329793.0938 - mae: 410.0891 - val_loss: 296493.8438 - val_mae: 379.9573\n",
      "Epoch 11/100\n",
      "149/149 [==============================] - 1s 5ms/step - loss: 328701.7812 - mae: 408.3249 - val_loss: 287254.5312 - val_mae: 374.4110\n",
      "Epoch 12/100\n",
      "149/149 [==============================] - 1s 5ms/step - loss: 331110.3438 - mae: 409.8531 - val_loss: 291511.5625 - val_mae: 374.0287\n",
      "Epoch 13/100\n",
      "149/149 [==============================] - 1s 6ms/step - loss: 315186.3438 - mae: 401.9089 - val_loss: 268139.5000 - val_mae: 365.4141\n",
      "Epoch 14/100\n",
      "149/149 [==============================] - 1s 5ms/step - loss: 310139.0312 - mae: 393.9722 - val_loss: 260030.3125 - val_mae: 359.1648\n",
      "Epoch 15/100\n",
      "149/149 [==============================] - 1s 6ms/step - loss: 306124.0938 - mae: 391.6273 - val_loss: 291132.3125 - val_mae: 371.3771\n",
      "Epoch 16/100\n",
      "149/149 [==============================] - 1s 6ms/step - loss: 300548.7188 - mae: 384.1019 - val_loss: 269993.9062 - val_mae: 356.4480\n",
      "Epoch 17/100\n",
      "149/149 [==============================] - 1s 5ms/step - loss: 291562.4375 - mae: 379.1755 - val_loss: 256796.9531 - val_mae: 347.6686\n",
      "Epoch 18/100\n",
      "149/149 [==============================] - 1s 6ms/step - loss: 298889.0625 - mae: 380.2835 - val_loss: 259532.7031 - val_mae: 347.1768\n",
      "Epoch 19/100\n",
      "149/149 [==============================] - 1s 5ms/step - loss: 282905.8125 - mae: 372.1721 - val_loss: 220180.3906 - val_mae: 333.4023\n",
      "Epoch 20/100\n",
      "149/149 [==============================] - 1s 5ms/step - loss: 272529.4062 - mae: 365.3867 - val_loss: 275011.6875 - val_mae: 351.9773\n",
      "Epoch 21/100\n",
      "149/149 [==============================] - 1s 6ms/step - loss: 270347.1250 - mae: 362.2190 - val_loss: 240563.7031 - val_mae: 328.8642\n",
      "Epoch 22/100\n",
      "149/149 [==============================] - 1s 5ms/step - loss: 257302.5312 - mae: 351.9361 - val_loss: 237975.3281 - val_mae: 323.4879\n",
      "Epoch 23/100\n",
      "149/149 [==============================] - 1s 6ms/step - loss: 258702.3906 - mae: 352.9419 - val_loss: 211294.6562 - val_mae: 307.9631\n",
      "Epoch 24/100\n",
      "149/149 [==============================] - 1s 6ms/step - loss: 254054.4062 - mae: 349.8716 - val_loss: 207672.9844 - val_mae: 304.7519\n",
      "Epoch 25/100\n",
      "149/149 [==============================] - 1s 5ms/step - loss: 235998.5156 - mae: 333.8622 - val_loss: 216195.2031 - val_mae: 307.4985\n",
      "Epoch 26/100\n",
      "149/149 [==============================] - 1s 6ms/step - loss: 238417.5781 - mae: 335.2946 - val_loss: 175844.6562 - val_mae: 288.6186\n",
      "Epoch 27/100\n",
      "149/149 [==============================] - 1s 5ms/step - loss: 222147.4062 - mae: 326.9366 - val_loss: 159630.6562 - val_mae: 284.0916\n",
      "Epoch 28/100\n",
      "149/149 [==============================] - 1s 6ms/step - loss: 217593.1719 - mae: 323.2588 - val_loss: 195125.0469 - val_mae: 293.0226\n",
      "Epoch 29/100\n",
      "149/149 [==============================] - 1s 5ms/step - loss: 220676.8438 - mae: 326.5414 - val_loss: 152022.2656 - val_mae: 272.9543\n",
      "Epoch 30/100\n",
      "149/149 [==============================] - 1s 5ms/step - loss: 208539.3906 - mae: 313.4929 - val_loss: 148850.0000 - val_mae: 266.7525\n",
      "Epoch 31/100\n",
      "149/149 [==============================] - 1s 4ms/step - loss: 201785.4062 - mae: 309.9121 - val_loss: 145964.4531 - val_mae: 275.5411\n",
      "Epoch 32/100\n",
      "149/149 [==============================] - 1s 5ms/step - loss: 198009.3438 - mae: 305.5509 - val_loss: 162690.1406 - val_mae: 272.4031\n",
      "Epoch 33/100\n",
      "149/149 [==============================] - 1s 6ms/step - loss: 204017.2188 - mae: 311.8975 - val_loss: 131631.6406 - val_mae: 251.6237\n",
      "Epoch 34/100\n",
      "149/149 [==============================] - 1s 5ms/step - loss: 195410.1562 - mae: 304.0065 - val_loss: 139884.5625 - val_mae: 256.1685\n",
      "Epoch 35/100\n",
      "149/149 [==============================] - 1s 5ms/step - loss: 192874.7500 - mae: 303.6919 - val_loss: 205733.8906 - val_mae: 306.1557\n",
      "Epoch 36/100\n",
      "149/149 [==============================] - 1s 5ms/step - loss: 192810.0781 - mae: 299.7188 - val_loss: 173847.0625 - val_mae: 282.6392\n",
      "Epoch 37/100\n",
      "149/149 [==============================] - 1s 5ms/step - loss: 183000.5156 - mae: 294.2502 - val_loss: 123972.2812 - val_mae: 246.8520\n",
      "Epoch 38/100\n",
      "149/149 [==============================] - 1s 6ms/step - loss: 186020.4844 - mae: 295.9904 - val_loss: 129271.9609 - val_mae: 256.4247\n",
      "Epoch 39/100\n",
      "149/149 [==============================] - 1s 5ms/step - loss: 184001.2031 - mae: 293.4492 - val_loss: 129338.8203 - val_mae: 244.4504\n",
      "Epoch 40/100\n",
      "149/149 [==============================] - 1s 6ms/step - loss: 176067.4844 - mae: 289.2627 - val_loss: 166846.9844 - val_mae: 277.4584\n",
      "Epoch 41/100\n",
      "149/149 [==============================] - 1s 6ms/step - loss: 179618.4844 - mae: 291.9446 - val_loss: 117319.4453 - val_mae: 238.8980\n",
      "Epoch 42/100\n",
      "149/149 [==============================] - 1s 7ms/step - loss: 179133.8438 - mae: 290.8784 - val_loss: 117805.6562 - val_mae: 237.2838\n",
      "Epoch 43/100\n",
      "149/149 [==============================] - 1s 6ms/step - loss: 175100.6875 - mae: 285.5536 - val_loss: 118769.5781 - val_mae: 233.7464\n",
      "Epoch 44/100\n",
      "149/149 [==============================] - 1s 6ms/step - loss: 172363.9219 - mae: 286.6182 - val_loss: 129569.1328 - val_mae: 242.7704\n",
      "Epoch 45/100\n",
      "149/149 [==============================] - 1s 6ms/step - loss: 166410.0000 - mae: 279.6672 - val_loss: 111526.7656 - val_mae: 228.6879\n",
      "Epoch 46/100\n",
      "149/149 [==============================] - 1s 8ms/step - loss: 174074.9375 - mae: 284.6906 - val_loss: 130682.0625 - val_mae: 243.0435\n",
      "Epoch 47/100\n",
      "149/149 [==============================] - 1s 7ms/step - loss: 180428.5469 - mae: 291.0003 - val_loss: 108886.6641 - val_mae: 226.8153\n",
      "Epoch 48/100\n",
      "149/149 [==============================] - 1s 7ms/step - loss: 167587.6875 - mae: 279.8398 - val_loss: 120417.7031 - val_mae: 233.5253\n",
      "Epoch 49/100\n",
      "149/149 [==============================] - 1s 6ms/step - loss: 168867.2188 - mae: 279.8202 - val_loss: 164053.7500 - val_mae: 277.3133\n",
      "Epoch 50/100\n",
      "149/149 [==============================] - 1s 5ms/step - loss: 168356.2031 - mae: 280.2245 - val_loss: 111899.8281 - val_mae: 235.1212\n",
      "Epoch 51/100\n",
      "149/149 [==============================] - 1s 5ms/step - loss: 171582.7500 - mae: 282.0056 - val_loss: 134954.7969 - val_mae: 245.8397\n",
      "Epoch 52/100\n",
      "149/149 [==============================] - 1s 7ms/step - loss: 166564.0781 - mae: 277.4792 - val_loss: 111515.9062 - val_mae: 226.4167\n",
      "Epoch 53/100\n",
      "149/149 [==============================] - 1s 7ms/step - loss: 167819.1562 - mae: 280.7591 - val_loss: 104456.1172 - val_mae: 219.2742\n",
      "Epoch 54/100\n",
      "149/149 [==============================] - 1s 6ms/step - loss: 171449.8125 - mae: 282.1073 - val_loss: 103820.5703 - val_mae: 219.8556\n",
      "Epoch 55/100\n",
      "149/149 [==============================] - 1s 6ms/step - loss: 171212.2188 - mae: 280.7406 - val_loss: 151336.2812 - val_mae: 261.1416\n",
      "Epoch 56/100\n"
     ]
    },
    {
     "name": "stdout",
     "output_type": "stream",
     "text": [
      "149/149 [==============================] - 1s 5ms/step - loss: 166764.8906 - mae: 276.8660 - val_loss: 101637.9062 - val_mae: 215.1109\n",
      "Epoch 57/100\n",
      "149/149 [==============================] - 1s 5ms/step - loss: 161562.0312 - mae: 272.0520 - val_loss: 150931.3125 - val_mae: 266.9099\n",
      "Epoch 58/100\n",
      "149/149 [==============================] - 1s 6ms/step - loss: 169063.1094 - mae: 279.4445 - val_loss: 119928.7188 - val_mae: 238.4877\n",
      "Epoch 59/100\n",
      "149/149 [==============================] - 1s 5ms/step - loss: 162524.7812 - mae: 273.8185 - val_loss: 121531.7422 - val_mae: 236.6584\n",
      "Epoch 60/100\n",
      "149/149 [==============================] - 1s 5ms/step - loss: 166685.9688 - mae: 276.9201 - val_loss: 142707.8906 - val_mae: 255.1094\n",
      "Epoch 61/100\n",
      "149/149 [==============================] - 1s 6ms/step - loss: 158181.7188 - mae: 273.3431 - val_loss: 159056.7031 - val_mae: 275.5990\n",
      "Epoch 62/100\n",
      "149/149 [==============================] - 1s 6ms/step - loss: 169124.3750 - mae: 280.7159 - val_loss: 127239.2344 - val_mae: 239.5584\n",
      "Epoch 63/100\n",
      "149/149 [==============================] - 1s 5ms/step - loss: 166204.3750 - mae: 273.9723 - val_loss: 97043.5391 - val_mae: 214.5244\n",
      "Epoch 64/100\n",
      "149/149 [==============================] - 1s 5ms/step - loss: 161706.3906 - mae: 274.2943 - val_loss: 93773.5078 - val_mae: 209.2642\n",
      "Epoch 65/100\n",
      "149/149 [==============================] - 1s 6ms/step - loss: 151152.3750 - mae: 265.4454 - val_loss: 94717.1797 - val_mae: 208.5916\n",
      "Epoch 66/100\n",
      "149/149 [==============================] - 1s 5ms/step - loss: 157314.4062 - mae: 269.3913 - val_loss: 123703.5938 - val_mae: 239.7563\n",
      "Epoch 67/100\n",
      "149/149 [==============================] - 1s 5ms/step - loss: 161696.0312 - mae: 272.3672 - val_loss: 99177.9922 - val_mae: 214.1873\n",
      "Epoch 68/100\n",
      "149/149 [==============================] - 1s 6ms/step - loss: 152966.8906 - mae: 265.4174 - val_loss: 91693.3516 - val_mae: 206.2590\n",
      "Epoch 69/100\n",
      "149/149 [==============================] - 1s 6ms/step - loss: 157856.4219 - mae: 268.8766 - val_loss: 92684.1953 - val_mae: 206.1631\n",
      "Epoch 70/100\n",
      "149/149 [==============================] - 1s 6ms/step - loss: 159729.1875 - mae: 272.1801 - val_loss: 101473.1719 - val_mae: 223.5322\n",
      "Epoch 71/100\n",
      "149/149 [==============================] - 1s 5ms/step - loss: 159780.9062 - mae: 270.5362 - val_loss: 116026.7188 - val_mae: 226.9638\n",
      "Epoch 72/100\n",
      "149/149 [==============================] - 1s 6ms/step - loss: 159812.5000 - mae: 270.8896 - val_loss: 94315.0938 - val_mae: 206.3451\n",
      "Epoch 73/100\n",
      "149/149 [==============================] - 1s 6ms/step - loss: 157473.5469 - mae: 271.2998 - val_loss: 104865.4922 - val_mae: 217.9803\n",
      "Epoch 74/100\n",
      "149/149 [==============================] - 1s 6ms/step - loss: 152866.8281 - mae: 265.3933 - val_loss: 105723.8672 - val_mae: 221.6530\n",
      "Epoch 75/100\n",
      "149/149 [==============================] - 1s 6ms/step - loss: 157894.6406 - mae: 269.0880 - val_loss: 106673.6484 - val_mae: 219.8497\n",
      "Epoch 76/100\n",
      "149/149 [==============================] - 1s 5ms/step - loss: 156020.8281 - mae: 265.2971 - val_loss: 89339.8203 - val_mae: 202.5268\n",
      "Epoch 77/100\n",
      "149/149 [==============================] - 1s 5ms/step - loss: 160351.7188 - mae: 269.8012 - val_loss: 89754.4609 - val_mae: 205.7521\n",
      "Epoch 78/100\n",
      "149/149 [==============================] - 1s 6ms/step - loss: 150123.7188 - mae: 260.8660 - val_loss: 137529.3281 - val_mae: 252.9234\n",
      "Epoch 79/100\n",
      "149/149 [==============================] - 1s 6ms/step - loss: 153215.9844 - mae: 265.6847 - val_loss: 88944.0000 - val_mae: 201.8802\n",
      "Epoch 80/100\n",
      "149/149 [==============================] - 1s 5ms/step - loss: 158316.5625 - mae: 267.5459 - val_loss: 119448.4062 - val_mae: 232.6093\n",
      "Epoch 81/100\n",
      "149/149 [==============================] - 1s 5ms/step - loss: 149946.3594 - mae: 259.6266 - val_loss: 137207.8906 - val_mae: 255.0562\n",
      "Epoch 82/100\n",
      "149/149 [==============================] - 1s 6ms/step - loss: 145815.3750 - mae: 260.4065 - val_loss: 96346.0078 - val_mae: 209.4567\n",
      "Epoch 83/100\n",
      "149/149 [==============================] - 1s 6ms/step - loss: 151933.9688 - mae: 261.1862 - val_loss: 142764.6562 - val_mae: 265.0546\n",
      "Epoch 84/100\n",
      "149/149 [==============================] - 1s 6ms/step - loss: 157994.7812 - mae: 269.1395 - val_loss: 87744.1172 - val_mae: 201.1141\n",
      "Epoch 85/100\n",
      "149/149 [==============================] - 1s 6ms/step - loss: 156591.9844 - mae: 265.0758 - val_loss: 103892.6406 - val_mae: 216.8804\n",
      "Epoch 86/100\n",
      "149/149 [==============================] - 1s 6ms/step - loss: 165327.2031 - mae: 272.0644 - val_loss: 130100.2812 - val_mae: 243.4764\n",
      "Epoch 87/100\n",
      "149/149 [==============================] - 1s 6ms/step - loss: 154509.7656 - mae: 263.5730 - val_loss: 87342.2578 - val_mae: 200.8601\n",
      "Epoch 88/100\n",
      "149/149 [==============================] - 1s 6ms/step - loss: 157927.7969 - mae: 269.4059 - val_loss: 98813.1562 - val_mae: 213.5142\n",
      "Epoch 89/100\n",
      "149/149 [==============================] - 1s 6ms/step - loss: 153595.3281 - mae: 262.2530 - val_loss: 148283.3281 - val_mae: 264.4690\n",
      "Epoch 90/100\n",
      "149/149 [==============================] - 1s 6ms/step - loss: 153711.3750 - mae: 263.2771 - val_loss: 95788.1328 - val_mae: 206.8701\n",
      "Epoch 91/100\n",
      "149/149 [==============================] - 1s 6ms/step - loss: 153673.1094 - mae: 265.4899 - val_loss: 91550.9297 - val_mae: 206.3196\n",
      "Epoch 92/100\n",
      "149/149 [==============================] - 1s 5ms/step - loss: 156805.6094 - mae: 267.0700 - val_loss: 105086.8672 - val_mae: 215.9562\n",
      "Epoch 93/100\n",
      "149/149 [==============================] - 1s 5ms/step - loss: 145829.9062 - mae: 258.5743 - val_loss: 106741.5781 - val_mae: 220.9030\n",
      "Epoch 94/100\n",
      "149/149 [==============================] - 1s 6ms/step - loss: 145105.6250 - mae: 255.4182 - val_loss: 92917.1875 - val_mae: 206.3932\n",
      "Epoch 95/100\n",
      "149/149 [==============================] - 1s 5ms/step - loss: 152539.5156 - mae: 260.8151 - val_loss: 166128.5938 - val_mae: 284.1724\n",
      "Epoch 96/100\n",
      "149/149 [==============================] - 1s 5ms/step - loss: 150615.2188 - mae: 261.0316 - val_loss: 93319.4375 - val_mae: 204.3167\n",
      "Epoch 97/100\n",
      "149/149 [==============================] - 1s 5ms/step - loss: 145641.4844 - mae: 257.0158 - val_loss: 83386.0781 - val_mae: 197.3737\n",
      "Epoch 98/100\n",
      "149/149 [==============================] - 1s 5ms/step - loss: 156441.6562 - mae: 265.5879 - val_loss: 99049.8047 - val_mae: 209.7737\n",
      "Epoch 99/100\n",
      "149/149 [==============================] - 1s 6ms/step - loss: 156382.1719 - mae: 267.0620 - val_loss: 84415.7500 - val_mae: 196.8918\n",
      "Epoch 100/100\n",
      "149/149 [==============================] - 1s 5ms/step - loss: 154540.3281 - mae: 263.6057 - val_loss: 144304.9531 - val_mae: 254.8964\n",
      "80/80 [==============================] - 0s 3ms/step - loss: 144304.9844 - mae: 254.8963\n"
     ]
    },
    {
     "data": {
      "text/plain": [
       "[144304.984375, 254.89633178710938]"
      ]
     },
     "execution_count": 51,
     "metadata": {},
     "output_type": "execute_result"
    }
   ],
   "source": [
    "tensorboard_callback = tf.keras.callbacks.TensorBoard(log_dir=\"./logs\")\n",
    "history = model.fit(X_train, y_train, epochs=num_epochs, validation_data=(\n",
    "    X_test, y_test), batch_size=40, verbose=True, callbacks=[tensorboard_callback])\n",
    "model.evaluate(X_test, y_test)"
   ]
  },
  {
   "cell_type": "code",
   "execution_count": 52,
   "id": "44c395b9",
   "metadata": {},
   "outputs": [
    {
     "data": {
      "image/png": "[encoded data removed]",
      "text/plain": [
       "<Figure size 432x288 with 1 Axes>"
      ]
     },
     "metadata": {
      "needs_background": "light"
     },
     "output_type": "display_data"
    }
   ],
   "source": [
    "loss = history.history['loss']\n",
    "val_loss = history.history['val_loss']\n",
    "\n",
    "epochs = range(1, len(loss) + 1)\n",
    "\n",
    "plt.plot(epochs, loss, 'bo', label='Training loss')\n",
    "plt.plot(epochs, val_loss, 'b', label='Validation loss')\n",
    "plt.title('Training and validation loss for model 14')\n",
    "plt.xlabel('Epochs')\n",
    "plt.ylabel('Loss')\n",
    "plt.legend()\n",
    "\n",
    "plt.savefig('images/model15.png', dpi=1200, bbox_inches=\"tight\")\n",
    "\n",
    "plt.show()"
   ]
  },
  {
   "cell_type": "markdown",
   "id": "bde643ea",
   "metadata": {},
   "source": [
    "## Model 16 (Reset to Model 12)"
   ]
  },
  {
   "cell_type": "code",
   "execution_count": 53,
   "id": "4cc3247d",
   "metadata": {},
   "outputs": [
    {
     "name": "stdout",
     "output_type": "stream",
     "text": [
      "Model: \"sequential_15\"\n",
      "_________________________________________________________________\n",
      " Layer (type)                Output Shape              Param #   \n",
      "=================================================================\n",
      " dense_69 (Dense)            (None, 64)                2304      \n",
      "                                                                 \n",
      " dropout_54 (Dropout)        (None, 64)                0         \n",
      "                                                                 \n",
      " dense_70 (Dense)            (None, 32)                2080      \n",
      "                                                                 \n",
      " dropout_55 (Dropout)        (None, 32)                0         \n",
      "                                                                 \n",
      " dense_71 (Dense)            (None, 16)                528       \n",
      "                                                                 \n",
      " dropout_56 (Dropout)        (None, 16)                0         \n",
      "                                                                 \n",
      " dense_72 (Dense)            (None, 8)                 136       \n",
      "                                                                 \n",
      " dropout_57 (Dropout)        (None, 8)                 0         \n",
      "                                                                 \n",
      " dense_73 (Dense)            (None, 4)                 36        \n",
      "                                                                 \n",
      " dropout_58 (Dropout)        (None, 4)                 0         \n",
      "                                                                 \n",
      " dense_74 (Dense)            (None, 1)                 5         \n",
      "                                                                 \n",
      "=================================================================\n",
      "Total params: 5,089\n",
      "Trainable params: 5,089\n",
      "Non-trainable params: 0\n",
      "_________________________________________________________________\n"
     ]
    }
   ],
   "source": [
    "model = models.Sequential()\n",
    "model.add(layers.Dense(64, input_shape=(X_train.shape[1],)))\n",
    "model.add(layers.Dropout(0.2, seed=22))\n",
    "model.add(layers.Dense(32, activation='relu'))\n",
    "model.add(layers.Dropout(0.2, seed=22))\n",
    "model.add(layers.Dense(16, activation='relu'))\n",
    "model.add(layers.Dropout(0.2, seed=22))\n",
    "model.add(layers.Dense(8, activation='relu'))\n",
    "model.add(layers.Dropout(0.2, seed=22))\n",
    "model.add(layers.Dense(4, activation='relu'))\n",
    "model.add(layers.Dropout(0.2, seed=22))\n",
    "model.add(layers.Dense(1))\n",
    "model.summary()\n",
    "model.compile(optimizer='adam', loss='mse', metrics=['mae'])"
   ]
  },
  {
   "cell_type": "code",
   "execution_count": 54,
   "id": "83554e71",
   "metadata": {},
   "outputs": [
    {
     "name": "stdout",
     "output_type": "stream",
     "text": [
      "Epoch 1/100\n",
      "198/198 [==============================] - 2s 6ms/step - loss: 557469.0000 - mae: 552.1284 - val_loss: 506234.7188 - val_mae: 503.1486\n",
      "Epoch 2/100\n",
      "198/198 [==============================] - 1s 5ms/step - loss: 511233.0000 - mae: 533.9349 - val_loss: 506616.8438 - val_mae: 495.1884\n",
      "Epoch 3/100\n",
      "198/198 [==============================] - 1s 5ms/step - loss: 493142.4688 - mae: 519.0392 - val_loss: 440163.3750 - val_mae: 461.7601\n",
      "Epoch 4/100\n",
      "198/198 [==============================] - 1s 5ms/step - loss: 448387.5312 - mae: 493.2529 - val_loss: 454363.1562 - val_mae: 454.1580\n",
      "Epoch 5/100\n",
      "198/198 [==============================] - 1s 6ms/step - loss: 431227.0625 - mae: 474.0203 - val_loss: 427885.5000 - val_mae: 440.7765\n",
      "Epoch 6/100\n",
      "198/198 [==============================] - 1s 7ms/step - loss: 402064.7500 - mae: 461.1763 - val_loss: 419796.6250 - val_mae: 436.8420\n",
      "Epoch 7/100\n",
      "198/198 [==============================] - 1s 6ms/step - loss: 420279.5938 - mae: 460.0583 - val_loss: 361877.9375 - val_mae: 408.9897\n",
      "Epoch 8/100\n",
      "198/198 [==============================] - 1s 6ms/step - loss: 393158.5938 - mae: 446.4588 - val_loss: 379374.8750 - val_mae: 417.4886\n",
      "Epoch 9/100\n",
      "198/198 [==============================] - 1s 5ms/step - loss: 371655.8750 - mae: 434.8972 - val_loss: 356907.8125 - val_mae: 405.7327\n",
      "Epoch 10/100\n",
      "198/198 [==============================] - 1s 6ms/step - loss: 380400.0938 - mae: 435.6858 - val_loss: 379294.1250 - val_mae: 419.1086\n",
      "Epoch 11/100\n",
      "198/198 [==============================] - 1s 5ms/step - loss: 365258.0625 - mae: 430.5863 - val_loss: 348077.4375 - val_mae: 399.2018\n",
      "Epoch 12/100\n",
      "198/198 [==============================] - 1s 6ms/step - loss: 372108.8125 - mae: 428.6291 - val_loss: 368559.2188 - val_mae: 408.9128\n",
      "Epoch 13/100\n",
      "198/198 [==============================] - 1s 6ms/step - loss: 372769.9688 - mae: 427.4522 - val_loss: 324804.9062 - val_mae: 385.1072\n",
      "Epoch 14/100\n",
      "198/198 [==============================] - 1s 6ms/step - loss: 355699.0938 - mae: 417.8195 - val_loss: 369794.2500 - val_mae: 407.7418\n",
      "Epoch 15/100\n",
      "198/198 [==============================] - 1s 5ms/step - loss: 353980.8750 - mae: 415.8905 - val_loss: 370671.2812 - val_mae: 408.6252\n",
      "Epoch 16/100\n",
      "198/198 [==============================] - 1s 6ms/step - loss: 357581.5938 - mae: 413.0933 - val_loss: 308124.6562 - val_mae: 372.0636\n",
      "Epoch 17/100\n",
      "198/198 [==============================] - 1s 6ms/step - loss: 348914.7188 - mae: 409.8763 - val_loss: 353995.2812 - val_mae: 399.4903\n",
      "Epoch 18/100\n",
      "198/198 [==============================] - 1s 7ms/step - loss: 337394.0000 - mae: 402.2499 - val_loss: 323855.9375 - val_mae: 375.7935\n",
      "Epoch 19/100\n",
      "198/198 [==============================] - 1s 6ms/step - loss: 331781.0938 - mae: 399.1539 - val_loss: 323633.8750 - val_mae: 374.9966\n",
      "Epoch 20/100\n",
      "198/198 [==============================] - 1s 5ms/step - loss: 330396.8438 - mae: 396.3939 - val_loss: 314045.0625 - val_mae: 368.6037\n",
      "Epoch 21/100\n",
      "198/198 [==============================] - 1s 6ms/step - loss: 320576.5000 - mae: 389.8641 - val_loss: 318106.5625 - val_mae: 368.3184\n",
      "Epoch 22/100\n",
      "198/198 [==============================] - 1s 5ms/step - loss: 308031.6875 - mae: 386.4296 - val_loss: 290398.7812 - val_mae: 351.9320\n",
      "Epoch 23/100\n",
      "198/198 [==============================] - 1s 7ms/step - loss: 306775.9688 - mae: 376.0428 - val_loss: 295257.7812 - val_mae: 354.1133\n",
      "Epoch 24/100\n",
      "198/198 [==============================] - 1s 6ms/step - loss: 295342.5625 - mae: 375.5053 - val_loss: 338344.5625 - val_mae: 380.7395\n",
      "Epoch 25/100\n",
      "198/198 [==============================] - 1s 5ms/step - loss: 290315.3438 - mae: 368.6050 - val_loss: 306725.4375 - val_mae: 359.9118\n",
      "Epoch 26/100\n",
      "198/198 [==============================] - 1s 5ms/step - loss: 292915.0938 - mae: 368.1139 - val_loss: 268246.1562 - val_mae: 336.1667\n",
      "Epoch 27/100\n",
      "198/198 [==============================] - 1s 6ms/step - loss: 278387.3125 - mae: 362.4132 - val_loss: 292570.9062 - val_mae: 351.3637\n",
      "Epoch 28/100\n",
      "198/198 [==============================] - 1s 6ms/step - loss: 281044.6562 - mae: 361.4650 - val_loss: 297042.4062 - val_mae: 356.3205\n",
      "Epoch 29/100\n",
      "198/198 [==============================] - 1s 6ms/step - loss: 269624.5938 - mae: 351.3329 - val_loss: 314979.5312 - val_mae: 366.7610\n",
      "Epoch 30/100\n",
      "198/198 [==============================] - 1s 6ms/step - loss: 264462.3438 - mae: 350.1258 - val_loss: 358177.9062 - val_mae: 400.7395\n",
      "Epoch 31/100\n",
      "198/198 [==============================] - 1s 5ms/step - loss: 261160.5312 - mae: 349.5651 - val_loss: 317849.2500 - val_mae: 372.4859\n",
      "Epoch 32/100\n",
      "198/198 [==============================] - 1s 6ms/step - loss: 258846.2656 - mae: 346.9282 - val_loss: 373119.2812 - val_mae: 415.7037\n",
      "Epoch 33/100\n",
      "198/198 [==============================] - 1s 6ms/step - loss: 244484.6250 - mae: 336.2346 - val_loss: 299818.6562 - val_mae: 361.7096\n",
      "Epoch 34/100\n",
      "198/198 [==============================] - 1s 6ms/step - loss: 241734.0156 - mae: 334.6640 - val_loss: 270714.7188 - val_mae: 342.6670\n",
      "Epoch 35/100\n",
      "198/198 [==============================] - 1s 6ms/step - loss: 246620.5938 - mae: 336.4964 - val_loss: 210966.1406 - val_mae: 298.6482\n",
      "Epoch 36/100\n",
      "198/198 [==============================] - 1s 5ms/step - loss: 241080.5625 - mae: 334.2737 - val_loss: 278640.3125 - val_mae: 353.2667\n",
      "Epoch 37/100\n",
      "198/198 [==============================] - 1s 7ms/step - loss: 226456.7344 - mae: 323.2251 - val_loss: 274164.6875 - val_mae: 344.8326\n",
      "Epoch 38/100\n",
      "198/198 [==============================] - 1s 6ms/step - loss: 233413.0156 - mae: 327.1606 - val_loss: 249373.6562 - val_mae: 330.5008\n",
      "Epoch 39/100\n",
      "198/198 [==============================] - 1s 7ms/step - loss: 237232.2188 - mae: 330.1053 - val_loss: 252539.1562 - val_mae: 331.4682\n",
      "Epoch 40/100\n",
      "198/198 [==============================] - 2s 11ms/step - loss: 225599.3125 - mae: 320.7625 - val_loss: 264282.3125 - val_mae: 339.8634\n",
      "Epoch 41/100\n",
      "198/198 [==============================] - 1s 6ms/step - loss: 228538.8438 - mae: 321.5209 - val_loss: 256488.3594 - val_mae: 334.8435\n",
      "Epoch 42/100\n",
      "198/198 [==============================] - 1s 6ms/step - loss: 222827.7812 - mae: 316.4885 - val_loss: 247795.8125 - val_mae: 331.4120\n",
      "Epoch 43/100\n",
      "198/198 [==============================] - 1s 6ms/step - loss: 225924.4531 - mae: 320.0293 - val_loss: 257615.9688 - val_mae: 336.4126\n",
      "Epoch 44/100\n",
      "198/198 [==============================] - 1s 5ms/step - loss: 210855.4688 - mae: 313.4497 - val_loss: 249010.7969 - val_mae: 331.9078\n",
      "Epoch 45/100\n",
      "198/198 [==============================] - 1s 6ms/step - loss: 215309.8750 - mae: 315.6186 - val_loss: 242568.1094 - val_mae: 325.9799\n",
      "Epoch 46/100\n",
      "198/198 [==============================] - 1s 5ms/step - loss: 212889.6250 - mae: 311.1827 - val_loss: 277935.3438 - val_mae: 361.3922\n",
      "Epoch 47/100\n",
      "198/198 [==============================] - 1s 6ms/step - loss: 213582.4219 - mae: 315.1959 - val_loss: 209362.5312 - val_mae: 300.6356\n",
      "Epoch 48/100\n",
      "198/198 [==============================] - 1s 5ms/step - loss: 205801.7969 - mae: 305.6423 - val_loss: 230716.4219 - val_mae: 320.2302\n",
      "Epoch 49/100\n",
      "198/198 [==============================] - 1s 6ms/step - loss: 211114.2344 - mae: 306.6338 - val_loss: 215157.5938 - val_mae: 305.5354\n",
      "Epoch 50/100\n",
      "198/198 [==============================] - 2s 11ms/step - loss: 207040.3125 - mae: 307.7556 - val_loss: 219442.1875 - val_mae: 309.4076\n",
      "Epoch 51/100\n",
      "198/198 [==============================] - 3s 13ms/step - loss: 211394.0000 - mae: 307.9745 - val_loss: 282517.3438 - val_mae: 359.9826\n",
      "Epoch 52/100\n",
      "198/198 [==============================] - 1s 5ms/step - loss: 209601.0625 - mae: 308.0691 - val_loss: 234670.9844 - val_mae: 323.8423\n",
      "Epoch 53/100\n",
      "198/198 [==============================] - 1s 6ms/step - loss: 202035.4219 - mae: 302.7213 - val_loss: 258339.5312 - val_mae: 343.9586\n",
      "Epoch 54/100\n",
      "198/198 [==============================] - 1s 6ms/step - loss: 204277.6562 - mae: 302.4007 - val_loss: 175130.6875 - val_mae: 270.9318\n",
      "Epoch 55/100\n",
      "198/198 [==============================] - 1s 5ms/step - loss: 216074.8906 - mae: 309.8401 - val_loss: 208932.7656 - val_mae: 298.7281\n",
      "Epoch 56/100\n"
     ]
    },
    {
     "name": "stdout",
     "output_type": "stream",
     "text": [
      "198/198 [==============================] - 1s 6ms/step - loss: 211723.8750 - mae: 307.9970 - val_loss: 178809.3906 - val_mae: 275.7336\n",
      "Epoch 57/100\n",
      "198/198 [==============================] - 1s 6ms/step - loss: 201553.7969 - mae: 303.0413 - val_loss: 232007.9375 - val_mae: 319.4989\n",
      "Epoch 58/100\n",
      "198/198 [==============================] - 1s 5ms/step - loss: 196084.8906 - mae: 296.5653 - val_loss: 172173.3750 - val_mae: 269.9886\n",
      "Epoch 59/100\n",
      "198/198 [==============================] - 1s 6ms/step - loss: 208804.6406 - mae: 304.6622 - val_loss: 262851.5938 - val_mae: 349.8362\n",
      "Epoch 60/100\n",
      "198/198 [==============================] - 1s 5ms/step - loss: 196408.5625 - mae: 295.8817 - val_loss: 248242.3906 - val_mae: 332.4643\n",
      "Epoch 61/100\n",
      "198/198 [==============================] - 1s 6ms/step - loss: 194006.7969 - mae: 292.0724 - val_loss: 157525.4688 - val_mae: 258.1308\n",
      "Epoch 62/100\n",
      "198/198 [==============================] - 1s 5ms/step - loss: 196566.5156 - mae: 295.4657 - val_loss: 288216.9062 - val_mae: 369.2989\n",
      "Epoch 63/100\n",
      "198/198 [==============================] - 1s 6ms/step - loss: 195383.1094 - mae: 292.3715 - val_loss: 212434.0938 - val_mae: 301.3112\n",
      "Epoch 64/100\n",
      "198/198 [==============================] - 1s 5ms/step - loss: 193348.1875 - mae: 292.3931 - val_loss: 250987.7969 - val_mae: 338.6133\n",
      "Epoch 65/100\n",
      "198/198 [==============================] - 2s 11ms/step - loss: 200320.5156 - mae: 298.3642 - val_loss: 252426.7656 - val_mae: 338.1773\n",
      "Epoch 66/100\n",
      "198/198 [==============================] - 1s 5ms/step - loss: 189108.1250 - mae: 292.8360 - val_loss: 229693.4062 - val_mae: 319.6300\n",
      "Epoch 67/100\n",
      "198/198 [==============================] - 18s 93ms/step - loss: 203159.9844 - mae: 297.8497 - val_loss: 271972.0938 - val_mae: 354.9792\n",
      "Epoch 68/100\n",
      "198/198 [==============================] - 38s 191ms/step - loss: 191410.0156 - mae: 292.2296 - val_loss: 175199.1875 - val_mae: 270.8412\n",
      "Epoch 69/100\n",
      "198/198 [==============================] - 55s 276ms/step - loss: 181902.1562 - mae: 286.8763 - val_loss: 229476.8438 - val_mae: 323.6310\n",
      "Epoch 70/100\n",
      "198/198 [==============================] - 31s 159ms/step - loss: 188521.0312 - mae: 290.4098 - val_loss: 211940.2812 - val_mae: 307.6880\n",
      "Epoch 71/100\n",
      "198/198 [==============================] - 28s 142ms/step - loss: 186780.2344 - mae: 288.8741 - val_loss: 218202.6562 - val_mae: 315.7316\n",
      "Epoch 72/100\n",
      "198/198 [==============================] - 30s 152ms/step - loss: 193977.8281 - mae: 292.3521 - val_loss: 142956.2500 - val_mae: 244.6414\n",
      "Epoch 73/100\n",
      "198/198 [==============================] - 32s 162ms/step - loss: 191411.5469 - mae: 289.0095 - val_loss: 198027.7188 - val_mae: 294.8969\n",
      "Epoch 74/100\n",
      "198/198 [==============================] - 33s 164ms/step - loss: 184491.4375 - mae: 285.1240 - val_loss: 286929.0312 - val_mae: 373.5039\n",
      "Epoch 75/100\n",
      "198/198 [==============================] - 36s 180ms/step - loss: 196546.1719 - mae: 294.5508 - val_loss: 281329.8125 - val_mae: 371.0263\n",
      "Epoch 76/100\n",
      "198/198 [==============================] - 34s 174ms/step - loss: 187976.1094 - mae: 286.1772 - val_loss: 228165.7188 - val_mae: 327.6761\n",
      "Epoch 77/100\n",
      "198/198 [==============================] - 39s 197ms/step - loss: 184084.0938 - mae: 284.6399 - val_loss: 174665.5000 - val_mae: 276.4496\n",
      "Epoch 78/100\n",
      "198/198 [==============================] - 39s 200ms/step - loss: 192855.9844 - mae: 292.6702 - val_loss: 213649.0156 - val_mae: 307.2704\n",
      "Epoch 79/100\n",
      "198/198 [==============================] - 39s 197ms/step - loss: 188290.2031 - mae: 286.6774 - val_loss: 265541.9688 - val_mae: 351.2924\n",
      "Epoch 80/100\n",
      "198/198 [==============================] - 38s 193ms/step - loss: 180252.3594 - mae: 278.8711 - val_loss: 240923.2812 - val_mae: 332.9343\n",
      "Epoch 81/100\n",
      "198/198 [==============================] - 40s 201ms/step - loss: 192356.6250 - mae: 288.8218 - val_loss: 273502.1875 - val_mae: 357.1472\n",
      "Epoch 82/100\n",
      "198/198 [==============================] - 39s 198ms/step - loss: 190277.1719 - mae: 288.7458 - val_loss: 205924.2656 - val_mae: 299.0228\n",
      "Epoch 83/100\n",
      "198/198 [==============================] - 34s 173ms/step - loss: 185223.1562 - mae: 283.9617 - val_loss: 223121.0312 - val_mae: 318.5721\n",
      "Epoch 84/100\n",
      "198/198 [==============================] - 1s 6ms/step - loss: 183420.3438 - mae: 285.9252 - val_loss: 333806.7500 - val_mae: 407.2965\n",
      "Epoch 85/100\n",
      "198/198 [==============================] - 1s 5ms/step - loss: 179194.8125 - mae: 280.6149 - val_loss: 231520.0938 - val_mae: 324.8964\n",
      "Epoch 86/100\n",
      "198/198 [==============================] - 1s 6ms/step - loss: 187643.2031 - mae: 286.3013 - val_loss: 277860.3125 - val_mae: 364.3855\n",
      "Epoch 87/100\n",
      "198/198 [==============================] - 1s 5ms/step - loss: 179165.2656 - mae: 281.2973 - val_loss: 231254.6562 - val_mae: 321.9849\n",
      "Epoch 88/100\n",
      "198/198 [==============================] - 1s 5ms/step - loss: 190898.0312 - mae: 288.6351 - val_loss: 218763.0625 - val_mae: 312.0429\n",
      "Epoch 89/100\n",
      "198/198 [==============================] - 1s 5ms/step - loss: 180084.2344 - mae: 281.6378 - val_loss: 248768.0000 - val_mae: 337.3229\n",
      "Epoch 90/100\n",
      "198/198 [==============================] - 1s 5ms/step - loss: 174293.6719 - mae: 275.2016 - val_loss: 281805.6875 - val_mae: 362.2914\n",
      "Epoch 91/100\n",
      "198/198 [==============================] - 1s 6ms/step - loss: 187152.5312 - mae: 286.9563 - val_loss: 271182.6875 - val_mae: 346.8330\n",
      "Epoch 92/100\n",
      "198/198 [==============================] - 1s 6ms/step - loss: 181445.5469 - mae: 282.5761 - val_loss: 261496.1562 - val_mae: 346.8770\n",
      "Epoch 93/100\n",
      "198/198 [==============================] - 1s 6ms/step - loss: 179973.2500 - mae: 278.8197 - val_loss: 264614.2500 - val_mae: 354.0952\n",
      "Epoch 94/100\n",
      "198/198 [==============================] - 1s 6ms/step - loss: 172288.4375 - mae: 274.6348 - val_loss: 317186.3750 - val_mae: 391.9963\n",
      "Epoch 95/100\n",
      "198/198 [==============================] - 1s 6ms/step - loss: 179392.3594 - mae: 279.4615 - val_loss: 296051.2812 - val_mae: 374.1160\n",
      "Epoch 96/100\n",
      "198/198 [==============================] - 1s 5ms/step - loss: 176828.8906 - mae: 274.9731 - val_loss: 197709.0625 - val_mae: 288.6597\n",
      "Epoch 97/100\n",
      "198/198 [==============================] - 1s 6ms/step - loss: 181560.3906 - mae: 281.6496 - val_loss: 260172.0938 - val_mae: 344.8633\n",
      "Epoch 98/100\n",
      "198/198 [==============================] - 1s 6ms/step - loss: 172698.2500 - mae: 270.9947 - val_loss: 219085.1250 - val_mae: 317.8147\n",
      "Epoch 99/100\n",
      "198/198 [==============================] - 1s 6ms/step - loss: 178721.5312 - mae: 277.6546 - val_loss: 204940.7812 - val_mae: 306.5682\n",
      "Epoch 100/100\n",
      "198/198 [==============================] - 1s 6ms/step - loss: 171335.1406 - mae: 273.5135 - val_loss: 218261.3438 - val_mae: 311.9936\n",
      "80/80 [==============================] - 0s 2ms/step - loss: 218261.2344 - mae: 311.9936\n"
     ]
    },
    {
     "data": {
      "text/plain": [
       "[218261.234375, 311.99359130859375]"
      ]
     },
     "execution_count": 54,
     "metadata": {},
     "output_type": "execute_result"
    }
   ],
   "source": [
    "tensorboard_callback = tf.keras.callbacks.TensorBoard(log_dir=\"./logs\")\n",
    "history = model.fit(X_train, y_train, epochs=num_epochs, validation_data=(\n",
    "    X_test, y_test), batch_size=30, verbose=True, callbacks=[tensorboard_callback])\n",
    "model.evaluate(X_test, y_test)"
   ]
  },
  {
   "cell_type": "code",
   "execution_count": 55,
   "id": "a39e3df0",
   "metadata": {},
   "outputs": [
    {
     "data": {
      "image/png": "[encoded data removed]",
      "text/plain": [
       "<Figure size 432x288 with 1 Axes>"
      ]
     },
     "metadata": {
      "needs_background": "light"
     },
     "output_type": "display_data"
    }
   ],
   "source": [
    "loss = history.history['loss']\n",
    "val_loss = history.history['val_loss']\n",
    "\n",
    "epochs = range(1, len(loss) + 1)\n",
    "\n",
    "plt.plot(epochs, loss, 'bo', label='Training loss')\n",
    "plt.plot(epochs, val_loss, 'b', label='Validation loss')\n",
    "plt.title('Training and validation loss for model 15')\n",
    "plt.xlabel('Epochs')\n",
    "plt.ylabel('Loss')\n",
    "plt.legend()\n",
    "\n",
    "plt.savefig('images/model16.png', dpi=1200, bbox_inches=\"tight\")\n",
    "\n",
    "plt.show()"
   ]
  },
  {
   "cell_type": "markdown",
   "id": "e6742843",
   "metadata": {},
   "source": [
    "## Plotting Predicted vs Actual values using Model 12"
   ]
  },
  {
   "cell_type": "code",
   "execution_count": 56,
   "id": "a0eb0a81",
   "metadata": {},
   "outputs": [
    {
     "name": "stdout",
     "output_type": "stream",
     "text": [
      "Model: \"sequential_16\"\n",
      "_________________________________________________________________\n",
      " Layer (type)                Output Shape              Param #   \n",
      "=================================================================\n",
      " dense_75 (Dense)            (None, 64)                2304      \n",
      "                                                                 \n",
      " dropout_59 (Dropout)        (None, 64)                0         \n",
      "                                                                 \n",
      " dense_76 (Dense)            (None, 32)                2080      \n",
      "                                                                 \n",
      " dropout_60 (Dropout)        (None, 32)                0         \n",
      "                                                                 \n",
      " dense_77 (Dense)            (None, 16)                528       \n",
      "                                                                 \n",
      " dropout_61 (Dropout)        (None, 16)                0         \n",
      "                                                                 \n",
      " dense_78 (Dense)            (None, 8)                 136       \n",
      "                                                                 \n",
      " dropout_62 (Dropout)        (None, 8)                 0         \n",
      "                                                                 \n",
      " dense_79 (Dense)            (None, 1)                 9         \n",
      "                                                                 \n",
      "=================================================================\n",
      "Total params: 5,057\n",
      "Trainable params: 5,057\n",
      "Non-trainable params: 0\n",
      "_________________________________________________________________\n"
     ]
    }
   ],
   "source": [
    "# recreate model 12\n",
    "model = models.Sequential()\n",
    "model.add(layers.Dense(64, input_shape=(X_train.shape[1],)))\n",
    "model.add(layers.Dropout(0.2, seed=22))\n",
    "model.add(layers.Dense(32, activation='relu'))\n",
    "model.add(layers.Dropout(0.2, seed=22))\n",
    "model.add(layers.Dense(16, activation='relu'))\n",
    "model.add(layers.Dropout(0.2, seed=22))\n",
    "model.add(layers.Dense(8, activation='relu'))\n",
    "model.add(layers.Dropout(0.2, seed=22))\n",
    "model.add(layers.Dense(1))\n",
    "model.summary()\n",
    "model.compile(optimizer='adam', loss='mse', metrics=['mae'])"
   ]
  },
  {
   "cell_type": "code",
   "execution_count": 57,
   "id": "d45be3b6",
   "metadata": {},
   "outputs": [
    {
     "name": "stdout",
     "output_type": "stream",
     "text": [
      "Epoch 1/100\n",
      "198/198 [==============================] - 3s 7ms/step - loss: 558258.5000 - mae: 552.2510 - val_loss: 451702.0625 - val_mae: 487.8148\n",
      "Epoch 2/100\n",
      "198/198 [==============================] - 1s 5ms/step - loss: 470013.1875 - mae: 512.9542 - val_loss: 431003.1250 - val_mae: 462.7656\n",
      "Epoch 3/100\n",
      "198/198 [==============================] - 1s 5ms/step - loss: 425465.3750 - mae: 483.1052 - val_loss: 370976.7812 - val_mae: 423.2768\n",
      "Epoch 4/100\n",
      "198/198 [==============================] - 1s 5ms/step - loss: 396163.4375 - mae: 459.4781 - val_loss: 397611.7812 - val_mae: 431.1485\n",
      "Epoch 5/100\n",
      "198/198 [==============================] - 1s 5ms/step - loss: 369216.3750 - mae: 435.9872 - val_loss: 298996.1875 - val_mae: 386.1995\n",
      "Epoch 6/100\n",
      "198/198 [==============================] - 1s 5ms/step - loss: 358063.4688 - mae: 427.8593 - val_loss: 324420.1875 - val_mae: 396.5673\n",
      "Epoch 7/100\n",
      "198/198 [==============================] - 1s 5ms/step - loss: 348897.5000 - mae: 423.2594 - val_loss: 294460.5000 - val_mae: 379.3481\n",
      "Epoch 8/100\n",
      "198/198 [==============================] - 1s 5ms/step - loss: 342760.1562 - mae: 417.3050 - val_loss: 286249.9688 - val_mae: 373.0035\n",
      "Epoch 9/100\n",
      "198/198 [==============================] - 1s 5ms/step - loss: 338943.1250 - mae: 413.1687 - val_loss: 266466.6562 - val_mae: 366.2943\n",
      "Epoch 10/100\n",
      "198/198 [==============================] - 1s 5ms/step - loss: 329169.4062 - mae: 406.7757 - val_loss: 261706.6094 - val_mae: 360.3736\n",
      "Epoch 11/100\n",
      "198/198 [==============================] - 1s 5ms/step - loss: 324054.4062 - mae: 401.9200 - val_loss: 259812.0000 - val_mae: 355.7816\n",
      "Epoch 12/100\n",
      "198/198 [==============================] - 1s 5ms/step - loss: 316173.1250 - mae: 396.2618 - val_loss: 266786.0312 - val_mae: 354.4386\n",
      "Epoch 13/100\n",
      "198/198 [==============================] - 1s 5ms/step - loss: 315020.1562 - mae: 392.9932 - val_loss: 253690.6562 - val_mae: 345.4344\n",
      "Epoch 14/100\n",
      "198/198 [==============================] - 1s 5ms/step - loss: 295345.3750 - mae: 379.5281 - val_loss: 236498.9531 - val_mae: 336.4232\n",
      "Epoch 15/100\n",
      "198/198 [==============================] - 1s 5ms/step - loss: 293919.0625 - mae: 377.5910 - val_loss: 237736.5625 - val_mae: 330.7274\n",
      "Epoch 16/100\n",
      "198/198 [==============================] - 1s 5ms/step - loss: 288103.1875 - mae: 373.9702 - val_loss: 259447.4062 - val_mae: 339.7761\n",
      "Epoch 17/100\n",
      "198/198 [==============================] - 1s 5ms/step - loss: 276160.5312 - mae: 365.3603 - val_loss: 225057.7344 - val_mae: 317.7913\n",
      "Epoch 18/100\n",
      "198/198 [==============================] - 1s 5ms/step - loss: 269429.0938 - mae: 357.1829 - val_loss: 210781.5469 - val_mae: 308.0966\n",
      "Epoch 19/100\n",
      "198/198 [==============================] - 1s 5ms/step - loss: 275869.2188 - mae: 362.5969 - val_loss: 196009.3281 - val_mae: 299.6296\n",
      "Epoch 20/100\n",
      "198/198 [==============================] - 1s 5ms/step - loss: 267408.3750 - mae: 355.6455 - val_loss: 183279.3281 - val_mae: 291.9539\n",
      "Epoch 21/100\n",
      "198/198 [==============================] - 1s 5ms/step - loss: 250635.7500 - mae: 342.7219 - val_loss: 176465.5781 - val_mae: 283.2249\n",
      "Epoch 22/100\n",
      "198/198 [==============================] - 1s 5ms/step - loss: 243371.2344 - mae: 336.4261 - val_loss: 194650.8281 - val_mae: 290.4738\n",
      "Epoch 23/100\n",
      "198/198 [==============================] - 1s 5ms/step - loss: 242416.5469 - mae: 336.1464 - val_loss: 190447.2188 - val_mae: 287.3508\n",
      "Epoch 24/100\n",
      "198/198 [==============================] - 1s 5ms/step - loss: 235380.5000 - mae: 331.5665 - val_loss: 156420.7812 - val_mae: 268.6602\n",
      "Epoch 25/100\n",
      "198/198 [==============================] - 1s 5ms/step - loss: 229512.5938 - mae: 328.9698 - val_loss: 142097.4688 - val_mae: 261.8978\n",
      "Epoch 26/100\n",
      "198/198 [==============================] - 1s 5ms/step - loss: 227410.5469 - mae: 325.3338 - val_loss: 156794.0156 - val_mae: 265.9632\n",
      "Epoch 27/100\n",
      "198/198 [==============================] - 1s 5ms/step - loss: 227329.0000 - mae: 326.0326 - val_loss: 163790.0312 - val_mae: 271.9787\n",
      "Epoch 28/100\n",
      "198/198 [==============================] - 1s 5ms/step - loss: 224799.5156 - mae: 323.3829 - val_loss: 139152.8750 - val_mae: 253.7023\n",
      "Epoch 29/100\n",
      "198/198 [==============================] - 1s 5ms/step - loss: 223043.0625 - mae: 322.7377 - val_loss: 180096.4531 - val_mae: 281.1314\n",
      "Epoch 30/100\n",
      "198/198 [==============================] - 1s 5ms/step - loss: 227501.7344 - mae: 320.1886 - val_loss: 131999.6875 - val_mae: 246.3642\n",
      "Epoch 31/100\n",
      "198/198 [==============================] - 1s 5ms/step - loss: 205014.8906 - mae: 308.5087 - val_loss: 133767.6406 - val_mae: 248.7872\n",
      "Epoch 32/100\n",
      "198/198 [==============================] - 1s 5ms/step - loss: 220001.6719 - mae: 319.2830 - val_loss: 119750.8438 - val_mae: 245.3907\n",
      "Epoch 33/100\n",
      "198/198 [==============================] - 1s 5ms/step - loss: 205635.1875 - mae: 311.0300 - val_loss: 142431.2344 - val_mae: 253.1473\n",
      "Epoch 34/100\n",
      "198/198 [==============================] - 1s 5ms/step - loss: 202450.4219 - mae: 307.2327 - val_loss: 117270.3984 - val_mae: 232.7518\n",
      "Epoch 35/100\n",
      "198/198 [==============================] - 1s 5ms/step - loss: 204297.6719 - mae: 308.2576 - val_loss: 133192.2344 - val_mae: 245.8019\n",
      "Epoch 36/100\n",
      "198/198 [==============================] - 1s 5ms/step - loss: 200497.2344 - mae: 302.2065 - val_loss: 112920.5547 - val_mae: 227.8149\n",
      "Epoch 37/100\n",
      "198/198 [==============================] - 1s 5ms/step - loss: 199317.4531 - mae: 302.6244 - val_loss: 160955.5938 - val_mae: 268.9101\n",
      "Epoch 38/100\n",
      "198/198 [==============================] - 1s 5ms/step - loss: 200670.9219 - mae: 302.6231 - val_loss: 128780.6016 - val_mae: 260.8735\n",
      "Epoch 39/100\n",
      "198/198 [==============================] - 1s 5ms/step - loss: 196186.1094 - mae: 301.7318 - val_loss: 116831.3828 - val_mae: 229.8300\n",
      "Epoch 40/100\n",
      "198/198 [==============================] - 1s 5ms/step - loss: 206623.4062 - mae: 307.7392 - val_loss: 112228.3828 - val_mae: 230.4497\n",
      "Epoch 41/100\n",
      "198/198 [==============================] - 1s 5ms/step - loss: 200575.3906 - mae: 302.2594 - val_loss: 116449.9141 - val_mae: 227.5923\n",
      "Epoch 42/100\n",
      "198/198 [==============================] - 1s 5ms/step - loss: 202502.8906 - mae: 302.5828 - val_loss: 122959.8359 - val_mae: 233.7061\n",
      "Epoch 43/100\n",
      "198/198 [==============================] - 1s 5ms/step - loss: 202876.7188 - mae: 301.9914 - val_loss: 135564.3750 - val_mae: 246.3362\n",
      "Epoch 44/100\n",
      "198/198 [==============================] - 1s 5ms/step - loss: 200394.4688 - mae: 301.1242 - val_loss: 144684.4375 - val_mae: 254.5425\n",
      "Epoch 45/100\n",
      "198/198 [==============================] - 1s 5ms/step - loss: 191260.2188 - mae: 294.1961 - val_loss: 136047.2188 - val_mae: 244.8687\n",
      "Epoch 46/100\n",
      "198/198 [==============================] - 1s 5ms/step - loss: 199928.4375 - mae: 301.4523 - val_loss: 105159.6719 - val_mae: 216.5014\n",
      "Epoch 47/100\n",
      "198/198 [==============================] - 1s 5ms/step - loss: 193028.5938 - mae: 295.7560 - val_loss: 150004.7812 - val_mae: 258.7991\n",
      "Epoch 48/100\n",
      "198/198 [==============================] - 1s 5ms/step - loss: 186037.9219 - mae: 291.2902 - val_loss: 97007.5625 - val_mae: 211.3768\n",
      "Epoch 49/100\n",
      "198/198 [==============================] - 1s 5ms/step - loss: 196020.6875 - mae: 298.8643 - val_loss: 101760.9766 - val_mae: 218.1080\n",
      "Epoch 50/100\n",
      "198/198 [==============================] - 1s 5ms/step - loss: 195281.1250 - mae: 297.8710 - val_loss: 132862.7031 - val_mae: 242.8546\n",
      "Epoch 51/100\n",
      "198/198 [==============================] - 1s 5ms/step - loss: 189934.8438 - mae: 294.7825 - val_loss: 115408.9219 - val_mae: 225.6417\n",
      "Epoch 52/100\n",
      "198/198 [==============================] - 1s 5ms/step - loss: 193426.6719 - mae: 297.1921 - val_loss: 98356.2344 - val_mae: 212.4456\n",
      "Epoch 53/100\n",
      "198/198 [==============================] - 1s 5ms/step - loss: 184928.5938 - mae: 290.9050 - val_loss: 105288.4062 - val_mae: 217.7320\n",
      "Epoch 54/100\n",
      "198/198 [==============================] - 1s 5ms/step - loss: 180265.8906 - mae: 287.1718 - val_loss: 121972.4062 - val_mae: 231.4433\n",
      "Epoch 55/100\n",
      "198/198 [==============================] - 1s 5ms/step - loss: 180990.0938 - mae: 286.6225 - val_loss: 114372.2422 - val_mae: 244.8265\n",
      "Epoch 56/100\n"
     ]
    },
    {
     "name": "stdout",
     "output_type": "stream",
     "text": [
      "198/198 [==============================] - 1s 5ms/step - loss: 185386.8125 - mae: 291.9909 - val_loss: 97201.2812 - val_mae: 206.6119\n",
      "Epoch 57/100\n",
      "198/198 [==============================] - 1s 5ms/step - loss: 180206.9375 - mae: 285.1092 - val_loss: 89393.8047 - val_mae: 200.2267\n",
      "Epoch 58/100\n",
      "198/198 [==============================] - 1s 5ms/step - loss: 174951.4688 - mae: 285.2022 - val_loss: 96553.7422 - val_mae: 209.6415\n",
      "Epoch 59/100\n",
      "198/198 [==============================] - 1s 5ms/step - loss: 178111.2500 - mae: 283.5092 - val_loss: 98483.7266 - val_mae: 206.9753\n",
      "Epoch 60/100\n",
      "198/198 [==============================] - 1s 5ms/step - loss: 182805.5781 - mae: 288.2516 - val_loss: 97609.9688 - val_mae: 209.5888\n",
      "Epoch 61/100\n",
      "198/198 [==============================] - 1s 5ms/step - loss: 162790.3906 - mae: 274.0070 - val_loss: 126546.3906 - val_mae: 236.9939\n",
      "Epoch 62/100\n",
      "198/198 [==============================] - 1s 5ms/step - loss: 180147.4219 - mae: 283.5089 - val_loss: 92673.4844 - val_mae: 207.7784\n",
      "Epoch 63/100\n",
      "198/198 [==============================] - 1s 5ms/step - loss: 176792.6875 - mae: 280.8028 - val_loss: 92686.2734 - val_mae: 202.4358\n",
      "Epoch 64/100\n",
      "198/198 [==============================] - 1s 5ms/step - loss: 180875.1719 - mae: 286.7178 - val_loss: 88513.6562 - val_mae: 198.6440\n",
      "Epoch 65/100\n",
      "198/198 [==============================] - 1s 5ms/step - loss: 176198.6719 - mae: 279.5602 - val_loss: 85261.5000 - val_mae: 194.4420\n",
      "Epoch 66/100\n",
      "198/198 [==============================] - 1s 5ms/step - loss: 177482.4844 - mae: 280.0726 - val_loss: 92444.5703 - val_mae: 202.9941\n",
      "Epoch 67/100\n",
      "198/198 [==============================] - 1s 5ms/step - loss: 179426.2812 - mae: 280.4756 - val_loss: 93112.4688 - val_mae: 210.6745\n",
      "Epoch 68/100\n",
      "198/198 [==============================] - 1s 5ms/step - loss: 173232.8125 - mae: 277.3507 - val_loss: 91003.2422 - val_mae: 199.6969\n",
      "Epoch 69/100\n",
      "198/198 [==============================] - 1s 5ms/step - loss: 174051.0156 - mae: 280.4292 - val_loss: 88726.9453 - val_mae: 199.6823\n",
      "Epoch 70/100\n",
      "198/198 [==============================] - 1s 5ms/step - loss: 166532.0938 - mae: 273.0764 - val_loss: 108181.6328 - val_mae: 217.7110\n",
      "Epoch 71/100\n",
      "198/198 [==============================] - 1s 5ms/step - loss: 172299.4844 - mae: 277.5549 - val_loss: 145927.2656 - val_mae: 260.3508\n",
      "Epoch 72/100\n",
      "198/198 [==============================] - 1s 5ms/step - loss: 173669.5000 - mae: 277.1388 - val_loss: 131425.7969 - val_mae: 239.9845\n",
      "Epoch 73/100\n",
      "198/198 [==============================] - 1s 5ms/step - loss: 172895.5781 - mae: 275.9795 - val_loss: 131223.2500 - val_mae: 246.6311\n",
      "Epoch 74/100\n",
      "198/198 [==============================] - 1s 5ms/step - loss: 172473.1719 - mae: 276.3880 - val_loss: 98535.3516 - val_mae: 209.9195\n",
      "Epoch 75/100\n",
      "198/198 [==============================] - 1s 5ms/step - loss: 169246.5156 - mae: 273.3864 - val_loss: 160441.2656 - val_mae: 284.8861\n",
      "Epoch 76/100\n",
      "198/198 [==============================] - 1s 5ms/step - loss: 166870.0469 - mae: 274.9817 - val_loss: 86002.7266 - val_mae: 192.2425\n",
      "Epoch 77/100\n",
      "198/198 [==============================] - 1s 5ms/step - loss: 165268.8594 - mae: 271.5844 - val_loss: 83361.6953 - val_mae: 190.9095\n",
      "Epoch 78/100\n",
      "198/198 [==============================] - 1s 5ms/step - loss: 155008.4375 - mae: 263.9115 - val_loss: 84798.8047 - val_mae: 191.3948\n",
      "Epoch 79/100\n",
      "198/198 [==============================] - 2s 10ms/step - loss: 157776.3906 - mae: 267.0044 - val_loss: 94104.9844 - val_mae: 208.5144\n",
      "Epoch 80/100\n",
      "198/198 [==============================] - 26s 133ms/step - loss: 163122.4375 - mae: 271.7081 - val_loss: 84362.2578 - val_mae: 193.7376\n",
      "Epoch 81/100\n",
      "198/198 [==============================] - 33s 168ms/step - loss: 155702.9531 - mae: 262.8837 - val_loss: 119271.8828 - val_mae: 229.8207\n",
      "Epoch 82/100\n",
      "198/198 [==============================] - 34s 170ms/step - loss: 164236.5781 - mae: 270.5153 - val_loss: 86791.5234 - val_mae: 200.8381\n",
      "Epoch 83/100\n",
      "198/198 [==============================] - 29s 145ms/step - loss: 167911.1406 - mae: 273.2598 - val_loss: 283134.6250 - val_mae: 375.6363\n",
      "Epoch 84/100\n",
      "198/198 [==============================] - 22s 114ms/step - loss: 165293.3594 - mae: 270.8043 - val_loss: 113037.9844 - val_mae: 223.2570\n",
      "Epoch 85/100\n",
      "198/198 [==============================] - 23s 115ms/step - loss: 160790.3594 - mae: 266.7521 - val_loss: 84524.0703 - val_mae: 193.7375\n",
      "Epoch 86/100\n",
      "198/198 [==============================] - 22s 109ms/step - loss: 160587.3125 - mae: 267.9874 - val_loss: 117844.7734 - val_mae: 234.1677\n",
      "Epoch 87/100\n",
      "198/198 [==============================] - 21s 107ms/step - loss: 153344.1875 - mae: 261.9796 - val_loss: 103549.7812 - val_mae: 214.2400\n",
      "Epoch 88/100\n",
      "198/198 [==============================] - 19s 98ms/step - loss: 159634.1094 - mae: 268.7902 - val_loss: 84241.2969 - val_mae: 194.4448\n",
      "Epoch 89/100\n",
      "198/198 [==============================] - 21s 106ms/step - loss: 157654.9688 - mae: 266.3687 - val_loss: 88004.3516 - val_mae: 196.0703\n",
      "Epoch 90/100\n",
      "198/198 [==============================] - 20s 99ms/step - loss: 155282.3906 - mae: 261.8256 - val_loss: 114805.0000 - val_mae: 228.0945\n",
      "Epoch 91/100\n",
      "198/198 [==============================] - 21s 104ms/step - loss: 170393.1875 - mae: 272.9389 - val_loss: 104965.7734 - val_mae: 213.5754\n",
      "Epoch 92/100\n",
      "198/198 [==============================] - 21s 107ms/step - loss: 156100.4531 - mae: 263.1259 - val_loss: 81637.8750 - val_mae: 190.6617\n",
      "Epoch 93/100\n",
      "198/198 [==============================] - 20s 101ms/step - loss: 162571.4219 - mae: 269.4925 - val_loss: 135101.1562 - val_mae: 244.8813\n",
      "Epoch 94/100\n",
      "198/198 [==============================] - 25s 127ms/step - loss: 160180.4062 - mae: 268.4708 - val_loss: 116444.7969 - val_mae: 227.5938\n",
      "Epoch 95/100\n",
      "198/198 [==============================] - 27s 136ms/step - loss: 156036.5938 - mae: 263.1384 - val_loss: 132692.1719 - val_mae: 239.4759\n",
      "Epoch 96/100\n",
      "198/198 [==============================] - 21s 105ms/step - loss: 154842.2188 - mae: 263.7898 - val_loss: 101132.5234 - val_mae: 210.3890\n",
      "Epoch 97/100\n",
      "198/198 [==============================] - 26s 133ms/step - loss: 151323.0625 - mae: 257.1216 - val_loss: 128363.7812 - val_mae: 237.7812\n",
      "Epoch 98/100\n",
      "198/198 [==============================] - 18s 93ms/step - loss: 161289.6719 - mae: 266.0901 - val_loss: 84229.4766 - val_mae: 193.0310\n",
      "Epoch 99/100\n",
      "198/198 [==============================] - 14s 72ms/step - loss: 146626.0156 - mae: 256.5927 - val_loss: 82094.4297 - val_mae: 191.1063\n",
      "Epoch 100/100\n",
      "198/198 [==============================] - 33s 169ms/step - loss: 149091.9219 - mae: 256.4435 - val_loss: 97321.1875 - val_mae: 209.5001\n"
     ]
    }
   ],
   "source": [
    "tensorboard_callback = tf.keras.callbacks.TensorBoard(log_dir=\"./logs\")\n",
    "history = model.fit(X_train, y_train, epochs=num_epochs, validation_data=(\n",
    "    X_test, y_test), batch_size=30, verbose=True, callbacks=[tensorboard_callback])"
   ]
  },
  {
   "cell_type": "code",
   "execution_count": 58,
   "id": "7e414f31",
   "metadata": {},
   "outputs": [
    {
     "name": "stdout",
     "output_type": "stream",
     "text": [
      "85/85 [==============================] - 4s 51ms/step\n",
      "80/80 [==============================] - 8s 102ms/step - loss: 97321.2656 - mae: 209.5003\n"
     ]
    },
    {
     "data": {
      "text/plain": [
       "[97321.265625, 209.5002899169922]"
      ]
     },
     "execution_count": 58,
     "metadata": {},
     "output_type": "execute_result"
    }
   ],
   "source": [
    "prediction = model.predict(X_test, batch_size=30, verbose=True)\n",
    "model.evaluate(X_test,y_test)"
   ]
  },
  {
   "cell_type": "code",
   "execution_count": 59,
   "id": "5ac3e7f9",
   "metadata": {},
   "outputs": [
    {
     "data": {
      "image/png": "[encoded data removed]",
      "text/plain": [
       "<Figure size 432x288 with 1 Axes>"
      ]
     },
     "metadata": {
      "needs_background": "light"
     },
     "output_type": "display_data"
    }
   ],
   "source": [
    "plt.plot(prediction, y_test, 'bo', alpha = 0.4)\n",
    "plt.axline((0,0), slope=1, color='red')\n",
    "plt.title('Predicted vs Actual for validation data using Model 12')\n",
    "plt.xlabel('Predicted Values (# of Bicycles)')\n",
    "plt.ylabel('Actual Values (# of Bicycles)')\n",
    "plt.xlim(right=3700)\n",
    "plt.gca().set_aspect(1.0)\n",
    "\n",
    "plt.savefig('images/predictactual.png', dpi=1200, bbox_inches=\"tight\")\n",
    "\n",
    "plt.show()"
   ]
  },
  {
   "cell_type": "code",
   "execution_count": 60,
   "id": "1206d8d7",
   "metadata": {},
   "outputs": [
    {
     "data": {
      "image/png": "[encoded data removed]",
      "text/plain": [
       "<Figure size 432x288 with 1 Axes>"
      ]
     },
     "metadata": {
      "needs_background": "light"
     },
     "output_type": "display_data"
    }
   ],
   "source": [
    "plt.hist(y_test, ec=\"black\")\n",
    "plt.title('Distribution of Actual Values for validation data')\n",
    "plt.xlabel('Actual Values (# of Bicycles)')\n",
    "plt.ylabel('Frequency')\n",
    "\n",
    "plt.savefig('images/histo.png', dpi=1200, bbox_inches=\"tight\")\n",
    "\n",
    "plt.show()"
   ]
  },
  {
   "cell_type": "code",
   "execution_count": 61,
   "id": "c8b97c8f",
   "metadata": {},
   "outputs": [
    {
     "data": {
      "image/png": "[encoded data removed]",
      "text/plain": [
       "<Figure size 432x288 with 1 Axes>"
      ]
     },
     "metadata": {
      "needs_background": "light"
     },
     "output_type": "display_data"
    }
   ],
   "source": [
    "val_mae = history.history['val_mae']\n",
    "\n",
    "epochs = range(1, len(val_mae) + 1)\n",
    "\n",
    "plt.plot(epochs, val_mae, 'b')\n",
    "plt.title('Mean Absolute Error per Epoch for validation data using Model 12')\n",
    "plt.xlabel('Epochs')\n",
    "plt.ylabel('Mean Absolute Error')\n",
    "\n",
    "plt.savefig('images/mae.png', dpi=1200, bbox_inches=\"tight\")\n",
    "\n",
    "plt.show()"
   ]
  }
 ],
 "metadata": {
  "kernelspec": {
   "display_name": "Python 3 (ipykernel)",
   "language": "python",
   "name": "python3"
  },
  "language_info": {
   "codemirror_mode": {
    "name": "ipython",
    "version": 3
   },
   "file_extension": ".py",
   "mimetype": "text/x-python",
   "name": "python",
   "nbconvert_exporter": "python",
   "pygments_lexer": "ipython3",
   "version": "3.8.10"
  }
 },
 "nbformat": 4,
 "nbformat_minor": 5
}
